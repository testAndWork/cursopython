{
 "cells": [
  {
   "cell_type": "markdown",
   "id": "9c8c537c",
   "metadata": {},
   "source": [
    "\n",
    "\n",
    "# <span style=\"color:darkblue\">Módulo 1 - Introducción a la programación con Python </span>\n",
    "\n",
    "## <span style=\"color:darkblue\">Sesión: 5 - Estructuras de Decisión</span>\n",
    "\n",
    "### <span style=\"color:darkblue\">Duración estimada:\t4 horas</span>\n",
    "\n",
    "#### <span style=\"color:darkblue\">En marco del proyecto: “EMPLEO JOVEN ES”</span>"
   ]
  },
  {
   "cell_type": "markdown",
   "id": "42a8be22",
   "metadata": {},
   "source": [
    "## <span style=\"color:darkblue\"> Tabla de contenidos:\n",
    " \n",
    "    1- Bienvenida\n",
    "    \n",
    "    2- Asistencia\n",
    "    \n",
    "    3- Dudas de la Clase anterior\n",
    "    \n",
    "    4- Control de Lectura\n",
    "    \n",
    "    5- Objetivo\n",
    "    \n",
    "    6- Introducción\n",
    "    \n",
    "    7- Sentencia `if`\n",
    "    \n",
    "    8- Sangria\n",
    "    \n",
    "    9- Sentencia `elif`\n",
    "    \n",
    "    10-Sentencia `else`\n",
    "    \n",
    "    12-Sentencia `if` corta o abreviada\n",
    "    \n",
    "    13-Sentencia `else if` abreviada\n",
    "    \n",
    "    14- Operador Lógico AND\n",
    "    \n",
    "    15- Operador Lógico OR\n",
    "    \n",
    "    16- Operador Lógico NOT\n",
    "    \n",
    "    17- Sentencia `if` anidados\n",
    "    \n",
    "    18- Declaracion pass\n",
    "    \n",
    "    19- Asistencia\n",
    "    \n",
    "    20 - Tarea\n",
    "</span>"
   ]
  },
  {
   "cell_type": "markdown",
   "id": "51ae1b4d",
   "metadata": {},
   "source": [
    "### <span style=\"color:darkred\">Objetivo:</span>\n",
    "\n",
    "Poder crear programas que puedan tomar decisiones basadas en condiciones. Las estructuras de decisión son herramientas fundamentales en la programación, ya que permiten que los programas realicen tareas diferentes según las condiciones que se cumplan. \n",
    "\n",
    "### <span style=\"color:darkred\">Recursos</span>\n",
    "\n",
    "•\tSesión 5 de Curso de Python\n",
    "\n",
    "•\tAcceso a internet\n",
    "\n",
    "•\tPython Instalado en computadora\n",
    "\n",
    "•\tVisual Studio Code\n",
    "\n",
    "### <span style=\"color:darkred\">Introducción:</span>\n",
    "\n",
    "Python es un lenguaje de programación de alto nivel, diseñado para ser fácil de aprender y entender. Una de las características más importantes de Python son las estructuras de decisión, que permiten que los programas tomen decisiones basadas en condiciones específicas. \n",
    "\n",
    "Estas estructuras de decisión son herramientas fundamentales en Python y son utilizadas por programadores de todo el mundo.\n",
    "\n",
    "Aprender a utilizar las estructuras de decisión en Python puede ser muy útil para una amplia gama de aplicaciones. \n",
    "\n",
    "Desde la automatización de tareas cotidianas hasta el análisis de datos y la inteligencia artificial, las estructuras de decisión en Python pueden ayudarte a crear programas más eficientes y efectivos. \n",
    "\n",
    "###  <span style=\"color:darkred\">Sentencias `If`</span>\n",
    "\n",
    "Python admite las condiciones lógicas habituales de las matemáticas:\n",
    "\n",
    "\n",
    "<table> <thead> <tr> <th>Operador</th> <th>Significado</th> </tr> </thead> <tbody> <tr> <td>a == b</td> <td>Es igual a</td> </tr> <tr> <td>a != b</td> <td>No es igual a</td> </tr> <tr> <td>a < b</td> <td>Menos que</td> </tr> <tr> <td>a <= b</td> <td>Menor o igual que</td> </tr> <tr> <td>a > b</td> <td>Mayor que</td> </tr> <tr> <td>a >= b</td> <td>Mayor o igual que</td> </tr> </tbody> </table>\n",
    "\n",
    "\n",
    "Estas condiciones se pueden usar de varias maneras, más comúnmente en \"sentencias if\" y bucles.\n",
    "\n",
    "Una \"sentencia if\" se escribe utilizando la palabra clave if .\n",
    "\n",
    "<img src=\"./images/05.png\">\n",
    "\n"
   ]
  },
  {
   "cell_type": "code",
   "execution_count": 3,
   "id": "1d5d17e5",
   "metadata": {},
   "outputs": [
    {
     "name": "stdout",
     "output_type": "stream",
     "text": [
      "Inserte el número a verificar6\n",
      "El numero es par 6\n"
     ]
    }
   ],
   "source": [
    "# Verificar si el numero dado es un número par.\n",
    "\n",
    "numero = int(input('Inserte el número a verificar')) \n",
    "\n",
    "if numero % 2  == 0:\n",
    "    \n",
    "    print(f'El numero es par {numero}')"
   ]
  },
  {
   "cell_type": "code",
   "execution_count": 5,
   "id": "46330a39",
   "metadata": {},
   "outputs": [
    {
     "name": "stdout",
     "output_type": "stream",
     "text": [
      "Ingrese la contraseña: entrada123\n",
      "COntraseña Correcta\n"
     ]
    }
   ],
   "source": [
    "# Verficar una contraseña\n",
    "\n",
    "contrasenia = input('Ingrese la contraseña: ')\n",
    "\n",
    "if contrasenia == 'entrada123':\n",
    "    print('COntraseña Correcta')\n",
    "    "
   ]
  },
  {
   "cell_type": "markdown",
   "id": "52ef36f4",
   "metadata": {},
   "source": []
  },
  {
   "cell_type": "markdown",
   "id": "832fb1da",
   "metadata": {},
   "source": [
    "### <span style=\"color:darkred\">Sangría</span>\n",
    "\n",
    "Python se basa en la sangría (espacio en blanco al comienzo de una línea) para definir el alcance en el código. Otros lenguajes de programación a menudo usan corchetes para este propósito.\n"
   ]
  },
  {
   "cell_type": "code",
   "execution_count": 6,
   "id": "75079ca5",
   "metadata": {},
   "outputs": [
    {
     "ename": "IndentationError",
     "evalue": "expected an indented block (3685196530.py, line 4)",
     "output_type": "error",
     "traceback": [
      "\u001b[0;36m  Input \u001b[0;32mIn [6]\u001b[0;36m\u001b[0m\n\u001b[0;31m    print('COntraseña Correcta')\u001b[0m\n\u001b[0m    ^\u001b[0m\n\u001b[0;31mIndentationError\u001b[0m\u001b[0;31m:\u001b[0m expected an indented block\n"
     ]
    }
   ],
   "source": [
    "contrasenia = input('Ingrese la contraseña: ')\n",
    "\n",
    "if contrasenia == 'entrada123':\n",
    "print('COntraseña Correcta')"
   ]
  },
  {
   "cell_type": "markdown",
   "id": "d242ac26",
   "metadata": {},
   "source": [
    "###   <span style=\"color:darkred\">Sentencia `elif`</span>\n",
    "\n",
    "La palabra clave elif es la forma en que Python dice `\"si las condiciones anteriores no fueron ciertas, intente con esta condición\".`"
   ]
  },
  {
   "cell_type": "code",
   "execution_count": 9,
   "id": "3105d320",
   "metadata": {},
   "outputs": [
    {
     "name": "stdout",
     "output_type": "stream",
     "text": [
      "Los números son iguales \n"
     ]
    }
   ],
   "source": [
    "x = 3\n",
    "y = 3\n",
    "\n",
    "if x > y :\n",
    "    print(f'El numero mayor es x = {x} ')\n",
    "\n",
    "elif x == y :\n",
    "    \n",
    "    print(f'Los números son iguales ')"
   ]
  },
  {
   "cell_type": "markdown",
   "id": "fefee5e6",
   "metadata": {},
   "source": [
    "###   <span style=\"color:darkred\">Sentencia `else`</span>\n",
    "También puede tener un else sin el elif:"
   ]
  },
  {
   "cell_type": "code",
   "execution_count": 14,
   "id": "b6c90cf0",
   "metadata": {},
   "outputs": [
    {
     "name": "stdout",
     "output_type": "stream",
     "text": [
      "El numero mayor es x = 7 \n"
     ]
    }
   ],
   "source": [
    "x = 7\n",
    "y = 3\n",
    "\n",
    "if x > y :\n",
    "    print(f'El numero mayor es x = {x} ')\n",
    "\n",
    "elif x == y :\n",
    "    \n",
    "    print(f'Los números son iguales ')\n",
    "    \n",
    "else: \n",
    "    print(f'EL numero mayor es y = {y}')"
   ]
  },
  {
   "cell_type": "code",
   "execution_count": 15,
   "id": "bb9c2927",
   "metadata": {},
   "outputs": [
    {
     "name": "stdout",
     "output_type": "stream",
     "text": [
      "El numero mayor es x = 7 \n"
     ]
    }
   ],
   "source": [
    "if x > y :\n",
    "    print(f'El numero mayor es x = {x} ')\n",
    "    \n",
    "else: \n",
    "    print(f'EL numero mayor es y = {y}')"
   ]
  },
  {
   "cell_type": "code",
   "execution_count": 20,
   "id": "b198ed24",
   "metadata": {},
   "outputs": [
    {
     "data": {
      "text/plain": [
       "'Elaborar una solucion la cual , dado un valor , verifique si \\n   es Positivo , Negativo o es cero\\n'"
      ]
     },
     "execution_count": 20,
     "metadata": {},
     "output_type": "execute_result"
    }
   ],
   "source": [
    "#nombreApellidoSesion5.py (3min)\n",
    "\"\"\"Elaborar una solucion la cual , dado un valor , verifique si \n",
    "   es Positivo , Negativo o es cero\n",
    "\"\"\"\n"
   ]
  },
  {
   "cell_type": "code",
   "execution_count": 25,
   "id": "30f6d245",
   "metadata": {},
   "outputs": [
    {
     "name": "stdout",
     "output_type": "stream",
     "text": [
      "Ingrese un numero0.15\n",
      "El numero es POSITIVO\n"
     ]
    }
   ],
   "source": [
    "numero = float(input(\"Ingrese un numero\"))\n",
    "\n",
    "if numero > 0:\n",
    "    print(\"El numero es POSITIVO\")\n",
    "elif numero < 0:\n",
    "    print(\"El numero es NEGATIVO\")\n",
    "else:\n",
    "    print(\"Numero es igual a cero\")"
   ]
  },
  {
   "cell_type": "code",
   "execution_count": 26,
   "id": "cbd3e964",
   "metadata": {},
   "outputs": [
    {
     "name": "stdout",
     "output_type": "stream",
     "text": [
      "Ingrese un numero: 0.15\n"
     ]
    },
    {
     "ename": "ValueError",
     "evalue": "invalid literal for int() with base 10: '0.15'",
     "output_type": "error",
     "traceback": [
      "\u001b[0;31m---------------------------------------------------------------------------\u001b[0m",
      "\u001b[0;31mValueError\u001b[0m                                Traceback (most recent call last)",
      "Input \u001b[0;32mIn [26]\u001b[0m, in \u001b[0;36m<cell line: 1>\u001b[0;34m()\u001b[0m\n\u001b[0;32m----> 1\u001b[0m number \u001b[38;5;241m=\u001b[39m \u001b[38;5;28;43mint\u001b[39;49m\u001b[43m(\u001b[49m\u001b[38;5;28;43minput\u001b[39;49m\u001b[43m(\u001b[49m\u001b[38;5;124;43m\"\u001b[39;49m\u001b[38;5;124;43mIngrese un numero: \u001b[39;49m\u001b[38;5;124;43m\"\u001b[39;49m\u001b[43m)\u001b[49m\u001b[43m)\u001b[49m\n\u001b[1;32m      3\u001b[0m \u001b[38;5;28;01mif\u001b[39;00m number \u001b[38;5;241m>\u001b[39m\u001b[38;5;241m0\u001b[39m:\n\u001b[1;32m      4\u001b[0m     \u001b[38;5;28mprint\u001b[39m(\u001b[38;5;124mf\u001b[39m\u001b[38;5;124m'\u001b[39m\u001b[38;5;124mEl numero es positivo: \u001b[39m\u001b[38;5;132;01m{\u001b[39;00mnumber\u001b[38;5;132;01m}\u001b[39;00m\u001b[38;5;124m'\u001b[39m)\n",
      "\u001b[0;31mValueError\u001b[0m: invalid literal for int() with base 10: '0.15'"
     ]
    }
   ],
   "source": [
    "number = int(input(\"Ingrese un numero: \"))\n",
    "\n",
    "if number >0:\n",
    "    print(f'El numero es positivo: {number}')\n",
    "elif number < 0:\n",
    "    print(f'El numero es negativo: {number}')\n",
    "elif number == 0:\n",
    "    print(f'El numero es 0: {number}')\n",
    "else:\n",
    "    print(\"Ingrese un numero\")"
   ]
  },
  {
   "cell_type": "code",
   "execution_count": 27,
   "id": "6be16493",
   "metadata": {},
   "outputs": [
    {
     "name": "stdout",
     "output_type": "stream",
     "text": [
      "Ingrese un numero: 0.15\n"
     ]
    },
    {
     "ename": "ValueError",
     "evalue": "invalid literal for int() with base 10: '0.15'",
     "output_type": "error",
     "traceback": [
      "\u001b[0;31m---------------------------------------------------------------------------\u001b[0m",
      "\u001b[0;31mValueError\u001b[0m                                Traceback (most recent call last)",
      "Input \u001b[0;32mIn [27]\u001b[0m, in \u001b[0;36m<cell line: 1>\u001b[0;34m()\u001b[0m\n\u001b[0;32m----> 1\u001b[0m valor \u001b[38;5;241m=\u001b[39m \u001b[38;5;28;43mint\u001b[39;49m\u001b[43m(\u001b[49m\u001b[38;5;28;43minput\u001b[39;49m\u001b[43m(\u001b[49m\u001b[38;5;124;43m\"\u001b[39;49m\u001b[38;5;124;43mIngrese un numero: \u001b[39;49m\u001b[38;5;124;43m\"\u001b[39;49m\u001b[43m)\u001b[49m\u001b[43m)\u001b[49m\n\u001b[1;32m      3\u001b[0m \u001b[38;5;28;01mif\u001b[39;00m valor \u001b[38;5;241m>\u001b[39m\u001b[38;5;241m=\u001b[39m \u001b[38;5;241m1\u001b[39m :\n\u001b[1;32m      4\u001b[0m     \u001b[38;5;28mprint\u001b[39m(\u001b[38;5;124mf\u001b[39m\u001b[38;5;124m\"\u001b[39m\u001b[38;5;124mEl numero es positivo \u001b[39m\u001b[38;5;132;01m{\u001b[39;00mvalor\u001b[38;5;132;01m}\u001b[39;00m\u001b[38;5;124m\"\u001b[39m)\n",
      "\u001b[0;31mValueError\u001b[0m: invalid literal for int() with base 10: '0.15'"
     ]
    }
   ],
   "source": [
    "valor = int(input(\"Ingrese un numero: \"))\n",
    "\n",
    "if valor >= 1 :\n",
    "    print(f\"El numero es positivo {valor}\")\n",
    "\n",
    "elif valor == 0 :\n",
    "    print(f\"El valor es cero {valor}\")\n",
    "\n",
    "else:\n",
    "    print(f\"El valor es negativo {valor}\")"
   ]
  },
  {
   "cell_type": "markdown",
   "id": "06b6a1c6",
   "metadata": {},
   "source": [
    "### <span style=\"color:darkred\">Resumen del uso de `if`, `elif` y `else`</span>\n",
    "\n",
    "\n",
    "#### `if`: \n",
    "La sentencia `if` se utiliza para ejecutar un bloque de código si una condición dada es verdadera (True). Si la condición es cierta, el bloque de código indentado después del if se ejecutará. Si la condición es falsa (False), el bloque no se ejecutará.\n",
    "\n",
    "#### `elif`: \n",
    "La sentencia `elif` (abreviatura de \"else if\") se utiliza para evaluar condiciones adicionales si la condición anterior al `if` o al `elif` resulta falsa.\n",
    "\n",
    "<span style=\"color:darkgreen\">_Puedes tener múltiples bloques `elif` después de un `if` y antes de un posible `else`_.</span>\n",
    "\n",
    "#### `else`: \n",
    "La sentencia else se utiliza para ejecutar un bloque de código si ninguna de las condiciones anteriores (en el `if` y `elif`) es verdadera. \n",
    "\n",
    "<span style=\"color:darkgreen\">_Es una especie de \"opción por defecto\" en caso de que ninguna de las condiciones anteriores se cumpla_.</span>"
   ]
  },
  {
   "cell_type": "markdown",
   "id": "1d98f19a",
   "metadata": {},
   "source": [
    "## <span style=\"color:darkorange\">Abreviaciones de las Sentencias</span>\n",
    "\n",
    "### <span style=\"color:darkblue\">Sentencia `if` corta o abreviada</span>\n",
    "\n",
    "Si solo tiene una declaración para ejecutar, puede colocarla en la misma línea que la declaración `if`."
   ]
  },
  {
   "cell_type": "code",
   "execution_count": 29,
   "id": "2e9756e7",
   "metadata": {},
   "outputs": [
    {
     "name": "stdout",
     "output_type": "stream",
     "text": [
      "a is greater than b\n"
     ]
    }
   ],
   "source": [
    "a = 6\n",
    "b = 3\n",
    "\n",
    "if a > b: print(\"a is greater than b\")"
   ]
  },
  {
   "cell_type": "code",
   "execution_count": 30,
   "id": "f14756fc",
   "metadata": {},
   "outputs": [
    {
     "name": "stdout",
     "output_type": "stream",
     "text": [
      "Ingrese la contraseña: entrada123\n",
      "COntraseña Correcta\n"
     ]
    }
   ],
   "source": [
    "contrasenia = input('Ingrese la contraseña: ')\n",
    "\n",
    "if contrasenia == 'entrada123': print('COntraseña Correcta')"
   ]
  },
  {
   "cell_type": "markdown",
   "id": "a5ffaee7",
   "metadata": {},
   "source": [
    "### <span style=\"color:darkblue\">Sentencia `else` `if` abreviada</span>\n",
    "\n",
    "Si solo tiene una declaración para ejecutar, una para `if` y otra para `else`, puede ponerlas todas en la misma línea:\n",
    "\n",
    "### syntax\n",
    "\n",
    "code `if` condition `else` code\n"
   ]
  },
  {
   "cell_type": "code",
   "execution_count": 31,
   "id": "08cddc42",
   "metadata": {},
   "outputs": [
    {
     "name": "stdout",
     "output_type": "stream",
     "text": [
      "A es positivo\n"
     ]
    }
   ],
   "source": [
    "a = 3\n",
    "\n",
    "print('A es positivo') if a > 0 else print('A es negativo')"
   ]
  },
  {
   "cell_type": "code",
   "execution_count": 32,
   "id": "8be19d4c",
   "metadata": {},
   "outputs": [
    {
     "name": "stdout",
     "output_type": "stream",
     "text": [
      "A es positivo\n"
     ]
    }
   ],
   "source": [
    "if a > 0:\n",
    "    print('A es positivo')\n",
    "else:\n",
    "    print('A negativo')"
   ]
  },
  {
   "cell_type": "code",
   "execution_count": 38,
   "id": "b326bf17",
   "metadata": {},
   "outputs": [
    {
     "name": "stdout",
     "output_type": "stream",
     "text": [
      "El mayor es B\n"
     ]
    }
   ],
   "source": [
    "# imprimir el mayor de los número A y B\n",
    "\n",
    "a = 5\n",
    "b = 8\n",
    "\n",
    "print('El mayor es A') if a > b else print('El mayor es B')"
   ]
  },
  {
   "cell_type": "markdown",
   "id": "e8e896a1",
   "metadata": {},
   "source": [
    "Esta técnica se conoce como **Operadores Ternarios** o **Expresiones Condicionales.**\n",
    "\n",
    "También puede tener varias declaraciones `else` en la misma línea:"
   ]
  },
  {
   "cell_type": "code",
   "execution_count": 39,
   "id": "b729988e",
   "metadata": {},
   "outputs": [
    {
     "name": "stdout",
     "output_type": "stream",
     "text": [
      "El mayor es B\n"
     ]
    }
   ],
   "source": [
    "\n",
    "print('El mayor es A') if a > b else print('A y B son iguales') if a == b else print('El mayor es B')"
   ]
  },
  {
   "cell_type": "code",
   "execution_count": 41,
   "id": "c6b81d14",
   "metadata": {},
   "outputs": [
    {
     "name": "stdout",
     "output_type": "stream",
     "text": [
      "El numero 5 es IMPAR\n"
     ]
    }
   ],
   "source": [
    "\"\"\"\n",
    "VErificar si un numero es par , si es par que imprime \"El numero es par\"\n",
    "en caso contrario que imprima que el numero es impar\n",
    "\"\"\"\n",
    "num = 5\n",
    "\n",
    "print(f\"El numero {num} es PAR\") if num %2 == 0 else print(f\"El numero {num} es IMPAR\")"
   ]
  },
  {
   "cell_type": "code",
   "execution_count": 43,
   "id": "a928dba2",
   "metadata": {},
   "outputs": [
    {
     "name": "stdout",
     "output_type": "stream",
     "text": [
      "Ingrese un numero: 2\n",
      "El numero es par: 2\n"
     ]
    }
   ],
   "source": [
    "number = int(input('Ingrese un numero: '))\n",
    "\n",
    "print(f'El numero es par: {number}') if number % 2 == 0 else print(f'El numero es impar: {number}')"
   ]
  },
  {
   "cell_type": "code",
   "execution_count": 44,
   "id": "98cd6701",
   "metadata": {},
   "outputs": [
    {
     "name": "stdout",
     "output_type": "stream",
     "text": [
      "ingrese un numero:3\n",
      "el numero es impar\n"
     ]
    }
   ],
   "source": [
    "n1 = int(input('ingrese un numero:'))\n",
    "\n",
    "print('el numero es par') if n1 %2 == 0 else print('el numero es impar')"
   ]
  },
  {
   "cell_type": "code",
   "execution_count": 53,
   "id": "d1828c68",
   "metadata": {},
   "outputs": [
    {
     "name": "stdout",
     "output_type": "stream",
     "text": [
      "El precio FInal es: 85.765\n"
     ]
    }
   ],
   "source": [
    "\"\"\"# Calcular el descuento de una , si el precio es mayor que \n",
    "100 recibe un  descuento del 15% sino del 10 %\"\"\"\n",
    "\n",
    "valorCompra = 100.9\n",
    "\n",
    "if valorCompra >=  100:\n",
    "    descuento = 0.15\n",
    "    precioFinal = valorCompra - valorCompra*descuento \n",
    "    print(f'El precio FInal es: {precioFinal}') \n",
    "else:\n",
    "    descuento = 0.10\n",
    "    precioFinal = valorCompra - valorCompra*descuento \n",
    "    print(f'El precio FInal es: {precioFinal}') "
   ]
  },
  {
   "cell_type": "code",
   "execution_count": 54,
   "id": "847a2e8d",
   "metadata": {},
   "outputs": [
    {
     "name": "stdout",
     "output_type": "stream",
     "text": [
      "El precio FInal es: 85.765\n"
     ]
    }
   ],
   "source": [
    "\n",
    "if valorCompra >=  100:\n",
    "    descuento = 0.15\n",
    "else:\n",
    "    descuento = 0.10\n",
    "\n",
    "precioFinal = valorCompra - valorCompra*descuento \n",
    "print(f'El precio FInal es: {precioFinal}') "
   ]
  },
  {
   "cell_type": "code",
   "execution_count": 55,
   "id": "e4fa0733",
   "metadata": {},
   "outputs": [
    {
     "name": "stdout",
     "output_type": "stream",
     "text": [
      "El precio FInal es: 85.765\n"
     ]
    }
   ],
   "source": [
    "#valorCompra = 85\n",
    "\n",
    "descuento = 0.15 if valorCompra >= 100 else 0.10\n",
    "precioFinal = valorCompra - valorCompra*descuento \n",
    "print(f'El precio FInal es: {precioFinal}') "
   ]
  },
  {
   "cell_type": "code",
   "execution_count": 62,
   "id": "a542cbc7",
   "metadata": {},
   "outputs": [
    {
     "name": "stdout",
     "output_type": "stream",
     "text": [
      "El salario del empleado es: 6300.0\n"
     ]
    }
   ],
   "source": [
    "# Calculo del salario de un empleado\n",
    "# $ 10,000 -> 30%. de impuestos\n",
    "# $  5,000 -> 20% de impuestos\n",
    "# menos de lo anterior 10%\n",
    "\n",
    "ingreso = 9000\n",
    "impuesto = 0.30 if ingreso > 1000 else 0.2 if ingreso > 5000 else 0.1\n",
    "\n",
    "impuestoAPagar = ingreso * impuesto\n",
    "\n",
    "salario = ingreso - impuestoAPagar\n",
    "\n",
    "print(f'El salario del empleado es: {salario}')\n",
    "\n"
   ]
  },
  {
   "cell_type": "markdown",
   "id": "3e55f747",
   "metadata": {},
   "source": [
    "### <span style=\"color:darkred\">Operador Lógico AND</span>\n",
    "\n",
    "La palabra clave and es un operador lógico y se usa para combinar sentencias condicionales:\n",
    "\n",
    "Prueba si a es mayor que b, Y si c es mayor que a:"
   ]
  },
  {
   "cell_type": "code",
   "execution_count": 65,
   "id": "f79aed0c",
   "metadata": {},
   "outputs": [],
   "source": [
    "a = 200\n",
    "b = 33\n",
    "c = 500\n",
    "\n",
    "if a > b and c > a :\n",
    "    \n",
    "    print(\"Both conditions are True\")"
   ]
  },
  {
   "cell_type": "code",
   "execution_count": 67,
   "id": "b498d0df",
   "metadata": {},
   "outputs": [
    {
     "name": "stdout",
     "output_type": "stream",
     "text": [
      "No cumples los requisitos\n"
     ]
    }
   ],
   "source": [
    "# verificacion de edad y estatura\n",
    "\n",
    "edad =7\n",
    "estatura = 160\n",
    "\n",
    "if edad >= 18 and estatura >=160:\n",
    "    print('Eres apto para escalar una montaña')\n",
    "else:\n",
    "    print('No cumples los requisitos')"
   ]
  },
  {
   "cell_type": "code",
   "execution_count": 71,
   "id": "3fcec26b",
   "metadata": {},
   "outputs": [
    {
     "name": "stdout",
     "output_type": "stream",
     "text": [
      "Bienvenidos a nuestros programas\n"
     ]
    }
   ],
   "source": [
    "# Servicio de Nekfli o disnei\n",
    "pago      = True\n",
    "membresia = True\n",
    "\n",
    "acceso_a_contenido = membresia and pago \n",
    "\n",
    "if acceso_a_contenido:\n",
    "    print('Bienvenidos a nuestros programas')\n",
    "else:\n",
    "    print('Pago o membresia invalida')\n"
   ]
  },
  {
   "cell_type": "code",
   "execution_count": 75,
   "id": "39367fb2",
   "metadata": {},
   "outputs": [
    {
     "name": "stdout",
     "output_type": "stream",
     "text": [
      "Nota es cero\n"
     ]
    }
   ],
   "source": [
    "# Calculo de nota Final\n",
    "\n",
    "nota = 0\n",
    "\n",
    "if nota > 0 and nota <= 10:\n",
    "    print('Nota valida')\n",
    "elif nota == 0:\n",
    "    print('Nota es cero' )\n",
    "else:\n",
    "    print('Nota invalida fuera de rango')"
   ]
  },
  {
   "cell_type": "code",
   "execution_count": 80,
   "id": "31729916",
   "metadata": {},
   "outputs": [
    {
     "name": "stdout",
     "output_type": "stream",
     "text": [
      "es un numero positivo y par\n"
     ]
    }
   ],
   "source": [
    "# verificar si el valor dado es un numero par y entero positivo,\n",
    "# impar y entero positivo,\n",
    "# valor es cero \n",
    "# valor es negativo\n",
    "\n",
    "valor = 6\n",
    "\n",
    "if valor > 0 and valor % 2 == 0:\n",
    "    print('es un numero positivo y par')\n",
    "elif valor > 0 and valor% 2 != 0:\n",
    "    print('es un impar postivo')\n",
    "elif valor == 0:\n",
    "    print('el número es cero')\n",
    "else:\n",
    "    print('el numero es negativo')\n"
   ]
  },
  {
   "cell_type": "code",
   "execution_count": 87,
   "id": "1e36ddbc",
   "metadata": {},
   "outputs": [
    {
     "ename": "SyntaxError",
     "evalue": "invalid syntax (1185188100.py, line 3)",
     "output_type": "error",
     "traceback": [
      "\u001b[0;36m  Input \u001b[0;32mIn [87]\u001b[0;36m\u001b[0m\n\u001b[0;31m    print('es un numero positivo y par') if valor > 0 and valor % 2 == 0 else print('es un impar postivo') else valor > 0 and valor% 2 != 0 else print('el número es cero')\u001b[0m\n\u001b[0m                                                                                                           ^\u001b[0m\n\u001b[0;31mSyntaxError\u001b[0m\u001b[0;31m:\u001b[0m invalid syntax\n"
     ]
    }
   ],
   "source": [
    "# REVISAR \n",
    "\n",
    "valor = 7\n",
    "\n",
    "print('es un numero positivo y par') if valor > 0 and valor % 2 == 0 else print('es un impar postivo') else valor > 0 and valor% 2 != 0 else print('el número es cero')  "
   ]
  },
  {
   "cell_type": "markdown",
   "id": "43513380",
   "metadata": {},
   "source": [
    "### <span style=\"color:darkred\">Operador Lógico OR</span>\n",
    "\n",
    "La palabra clave or es un operador lógico y se usa para combinar declaraciones condicionales:\n",
    "\n",
    "Prueba si a es mayor que b, O si a es mayor que c:\n"
   ]
  },
  {
   "cell_type": "code",
   "execution_count": 88,
   "id": "5af1e587",
   "metadata": {},
   "outputs": [
    {
     "name": "stdout",
     "output_type": "stream",
     "text": [
      "At least one of the conditions is True\n"
     ]
    }
   ],
   "source": [
    "a = 200\n",
    "b = 33\n",
    "C = 500\n",
    "if a > b or a > c:\n",
    "    print(\"At least one of the conditions is True\")"
   ]
  },
  {
   "cell_type": "code",
   "execution_count": 93,
   "id": "0c5836f6",
   "metadata": {},
   "outputs": [
    {
     "name": "stdout",
     "output_type": "stream",
     "text": [
      "True\n"
     ]
    }
   ],
   "source": [
    "# verificar si un año es biciesto\n",
    "\n",
    "anio = 2012\n",
    "\n",
    "anioBisiesto = True if (anio % 4 == 0 and anio % 100 != 0) or anio % 400 == 0 else False\n",
    "\n",
    "print(anioBisiesto)"
   ]
  },
  {
   "cell_type": "code",
   "execution_count": 100,
   "id": "0567dee9",
   "metadata": {},
   "outputs": [
    {
     "name": "stdout",
     "output_type": "stream",
     "text": [
      "Triangulo es escaleno\n"
     ]
    }
   ],
   "source": [
    "# Clasificar un triángulo \n",
    "#( Equilatero -> tres lados iguales)\n",
    "#(Isosceles -> dos lados iguales )\n",
    "#(Escaleno -> no tiene lados iguales)\n",
    "\n",
    "lado1 = 5\n",
    "lado2 = 3\n",
    "lado3 = 4\n",
    "\n",
    "if lado1 == lado2 == lado3:\n",
    "    print('Triangulo es equilatero')\n",
    "elif lado1 == lado2 or lado1 == lado3 or lado2 == lado3:\n",
    "    print('Triangulo es isósceles')\n",
    "else:\n",
    "    print('Triangulo es escaleno')\n"
   ]
  },
  {
   "cell_type": "markdown",
   "id": "5aadb476",
   "metadata": {},
   "source": [
    "### <span style=\"color:darkred\">Operador Lógico NOT</span>\n",
    "\n",
    "La palabra clave not es un operador lógico y se utiliza para invertir el resultado de la declaración condicional:\n",
    "\n",
    "Prueba si a NO es mayor que b:\n"
   ]
  },
  {
   "cell_type": "code",
   "execution_count": 14,
   "id": "246a35b7",
   "metadata": {},
   "outputs": [
    {
     "name": "stdout",
     "output_type": "stream",
     "text": [
      "a is NOT greater than b\n"
     ]
    }
   ],
   "source": [
    "a = 33\n",
    "b = 200\n",
    "if not a > b:\n",
    "    print (\"a is NOT greater than b\")"
   ]
  },
  {
   "cell_type": "code",
   "execution_count": 104,
   "id": "051e94a9",
   "metadata": {},
   "outputs": [],
   "source": [
    "b = 45\n",
    "a = 4\n",
    "if not b > a :\n",
    "    print('b > a ')"
   ]
  },
  {
   "cell_type": "markdown",
   "id": "c4efffe7",
   "metadata": {},
   "source": [
    "### <span style=\"color:darkgreen\">Sentencia if anidados</span>\n",
    "\n",
    "Puede tener declaraciones if dentro declaraciones if de, esto se llama declaraciones anidadas if."
   ]
  },
  {
   "cell_type": "code",
   "execution_count": 109,
   "id": "b6358757",
   "metadata": {},
   "outputs": [
    {
     "name": "stdout",
     "output_type": "stream",
     "text": [
      "es negativo\n"
     ]
    }
   ],
   "source": [
    "\n",
    "a = -1\n",
    "\n",
    "if a > 0:\n",
    "    if a % 2 == 0:\n",
    "        print('Es par y positivo')\n",
    "    else:\n",
    "        print('impar y positivo')\n",
    "elif a == 0:\n",
    "    print('el numero es cero')\n",
    "else:\n",
    "    print('es negativo')"
   ]
  },
  {
   "cell_type": "code",
   "execution_count": 115,
   "id": "101b8497",
   "metadata": {},
   "outputs": [
    {
     "name": "stdout",
     "output_type": "stream",
     "text": [
      "tienes derecho a un descuento\n"
     ]
    }
   ],
   "source": [
    "#validación de un ticket\n",
    "\n",
    "validacion_entrada = True\n",
    "validacion_pelicula = False\n",
    "\n",
    "if validacion_entrada and validacion_pelicula:\n",
    "    print('tienes derecho al descuento de parque')\n",
    "elif validacion_entrada or validacion_pelicula:\n",
    "    print('tienes derecho a un descuento')\n",
    "else:\n",
    "    print('te toca pagar las 4 horas de parqueo')"
   ]
  },
  {
   "cell_type": "markdown",
   "id": "b58c9dbc",
   "metadata": {},
   "source": [
    "### <span style=\"color:darkgreen\">Declaración Pass</span>\n",
    "\n",
    "Las declaraciones `if` no pueden estar vacías, pero si por alguna razón tiene una declaración `if` sin contenido, introdúzcala pass para evitar errores. \n",
    "\n",
    "La declaración `pass` se utiliza como un marcador de posición cuando necesitas tener una estructura sintáctica válida en un bloque de código, pero no deseas ejecutar ninguna acción en ese momento. \n",
    "\n",
    "Es especialmente útil en situaciones como cuando estás diseñando una función, clase o bucle y aún no has implementado el contenido, pero deseas evitar errores de sintaxis."
   ]
  },
  {
   "cell_type": "code",
   "execution_count": 120,
   "id": "988d4e23",
   "metadata": {},
   "outputs": [],
   "source": [
    "condicion_principal = False\n",
    "condicion_alternativa = False\n",
    "\n",
    "if condicion_principal:\n",
    "    # Bloque de código principal\n",
    " \n",
    "    pass\n",
    "elif condicion_alternativa:\n",
    "    # Bloque de código alternativo\n",
    "    pass\n",
    "else:\n",
    "    # Bloque de código por defecto\n",
    "    pass"
   ]
  },
  {
   "cell_type": "code",
   "execution_count": 125,
   "id": "60e15cb0",
   "metadata": {},
   "outputs": [
    {
     "name": "stdout",
     "output_type": "stream",
     "text": [
      "seguimos\n"
     ]
    }
   ],
   "source": [
    "condicion = True\n",
    "if condicion:\n",
    "    pass  # No hace nada, simplemente actúa como marcador de posición\n",
    "else:\n",
    "    print(\"La condición no se cumple.\")\n",
    "    \n",
    "print('seguimos')"
   ]
  },
  {
   "cell_type": "markdown",
   "id": "4aef0c22",
   "metadata": {},
   "source": [
    "### Práctica:\n",
    "\n",
    "Compara los valores de mi_edad y tu_edad usando if ... else. ¿Quién es mayor (yo o tú)? Utiliza input(\"Ingresa tu edad: \") para obtener la edad como entrada. Puedes usar una condición anidada para imprimir 'año' para una diferencia de edad de 1 año, 'años' para diferencias mayores, y un texto personalizado si mi_edad = tu_edad."
   ]
  },
  {
   "cell_type": "code",
   "execution_count": 128,
   "id": "51d5a3cc",
   "metadata": {},
   "outputs": [
    {
     "name": "stdout",
     "output_type": "stream",
     "text": [
      "Ingresa mi edad: 23\n",
      "Ingresa tu edad50\n",
      "tu tienes 27 años mas que yo\n"
     ]
    }
   ],
   "source": [
    "mi_edad = int(input('Ingresa mi edad: '))\n",
    "tu_edad = int(input(\"Ingresa tu edad\"))\n",
    "\n",
    "if mi_edad > tu_edad:\n",
    "    resultado = mi_edad-tu_edad\n",
    "    print(f'tengo {resultado} años mas que tu')\n",
    "    if mi_edad != tu_edad + 1:\n",
    "        print('tienes un anio mas que yo')\n",
    "elif mi_edad < tu_edad:\n",
    "    resultado = tu_edad - mi_edad\n",
    "    print(f'tu tienes {resultado} años mas que yo')\n",
    "\n",
    "else:\n",
    "    print('Tenemos la misma edad')"
   ]
  },
  {
   "cell_type": "code",
   "execution_count": 129,
   "id": "51ac338a",
   "metadata": {},
   "outputs": [
    {
     "name": "stdout",
     "output_type": "stream",
     "text": [
      "Ingrese tu edad: 23\n",
      "cual es mi edad?: 49\n",
      "Yo soy mayor que tu\n",
      "La diferencia de años es: 26\n"
     ]
    }
   ],
   "source": [
    "EdadPorDefecto = int(input('Ingrese tu edad: '))\n",
    "miEdad = int(input(\"cual es mi edad?: \"))\n",
    "\n",
    "if miEdad > EdadPorDefecto:\n",
    "    print('Yo soy mayor que tu')\n",
    "    edad = miEdad - EdadPorDefecto\n",
    "    if edad == 1:\n",
    "        print(f'La diferencia de años es: {edad}')\n",
    "    elif edad > 1:\n",
    "        print(f'La diferencia de años es: {edad}')\n",
    "\n",
    "elif miEdad < EdadPorDefecto:\n",
    "    print('Es mayor que yo')\n",
    "elif miEdad == EdadPorDefecto:\n",
    "    print('Tenemos la misma edad')"
   ]
  },
  {
   "cell_type": "markdown",
   "id": "1b2befc6",
   "metadata": {},
   "source": [
    "### <span style=\"color:darkorange\">Aplicando Conocimientos</span>\n",
    "\n",
    "1.\tEscribe un programa en Python que solicite al usuario ingresar un número entero y determine si es positivo, negativo o cero utilizando una estructura de decisión if-elif-else.\n",
    "\n",
    "2.\tEscribe un programa en Python que solicite al usuario ingresar un número entero y determine si es par, impar y si es divisible por 3 utilizando estructuras de decisión anidadas.\n",
    "\n",
    "3.\tEscribe un programa en Python que solicite al usuario ingresar una letra y determine si es una vocal o una consonante.\n",
    "\n",
    "4. Obtener la entrada del usuario usando input(\"Ingresa tu edad: \"). Si el usuario tiene 18 años o más, dar el siguiente mensaje: Eres lo suficientemente mayor para conducir. Si es menor de 18, dar el siguiente mensaje indicando cuántos años faltan. \n",
    "\n",
    "5. Compara los valores de mi_edad y tu_edad usando if ... else. ¿Quién es mayor (yo o tú)? Utiliza input(\"Ingresa tu edad: \") para obtener la edad como entrada. Puedes usar una condición anidada para imprimir 'año' para una diferencia de edad de 1 año, 'años' para diferencias mayores, y un texto personalizado si mi_edad = tu_edad.\n",
    "\n",
    "### Soluciones:"
   ]
  },
  {
   "cell_type": "code",
   "execution_count": null,
   "id": "6e03f226",
   "metadata": {},
   "outputs": [],
   "source": []
  }
 ],
 "metadata": {
  "kernelspec": {
   "display_name": "Python 3 (ipykernel)",
   "language": "python",
   "name": "python3"
  },
  "language_info": {
   "codemirror_mode": {
    "name": "ipython",
    "version": 3
   },
   "file_extension": ".py",
   "mimetype": "text/x-python",
   "name": "python",
   "nbconvert_exporter": "python",
   "pygments_lexer": "ipython3",
   "version": "3.9.12"
  }
 },
 "nbformat": 4,
 "nbformat_minor": 5
}
