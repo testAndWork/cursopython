{
 "cells": [
  {
   "cell_type": "markdown",
   "id": "9c8c537c",
   "metadata": {},
   "source": [
    "\n",
    "\n",
    "# <span style=\"color:darkblue\">Introducción a la programación con Python </span>\n",
    "\n",
    "## <span style=\"color:darkblue\">Sesión:\tSesión 2 - Características generales de Python Sintaxis</span>\n",
    "\n",
    "### <span style=\"color:darkblue\">Duración estimada:\t4 horas</span>"
   ]
  },
  {
   "cell_type": "markdown",
   "id": "42a8be22",
   "metadata": {},
   "source": [
    "## <span style=\"color:darkblue\"> Tabla de contenidos:\n",
    " \n",
    "    1- Bienvenida\n",
    "    \n",
    "    2- Asistencia\n",
    "    \n",
    "    3- Dudas de la Clase anterior\n",
    "    \n",
    "    4- Control de Lectura\n",
    "    \n",
    "    5- Objetivo\n",
    "    \n",
    "    6- Introducción\n",
    "    \n",
    "    7- Funciones Integradas\n",
    "    \n",
    "    8- Variables \n",
    "    \n",
    "    9- Control de lectura\n",
    "    \n",
    "    10-Función Print()\n",
    "    \n",
    "    12-Control de lectura\n",
    "    \n",
    "    13- Comentarios\n",
    "    \n",
    "    14-Asistencia\n",
    "    \n",
    "    15 - Tarea\n",
    "</span>"
   ]
  },
  {
   "cell_type": "markdown",
   "id": "51ae1b4d",
   "metadata": {},
   "source": [
    "## Objetivo:\n",
    "Comprender las reglas y convenciones que se utilizan para escribir programas del lenguaje de programación de Python, aprender estas características generales de Python te ayudará a escribir código Python de manera más efectiva y a comprender mejor los programas Python escritos por otros programadores.\n",
    "\n",
    "### Recursos\n",
    "\n",
    "•\tSesión 2 de Curso de Python\n",
    "\n",
    "•\tAcceso a internet\n",
    "\n",
    "•\tPython Instalado en computadora\n",
    "\n",
    "•\tVisual Studio Code\n",
    "\n",
    "### Introducción:\n",
    "Es importante comprender algunas de las características generales de la sintaxis de Python para poder dominarlo en primer lugar, Python utiliza la indentación para definir bloques de código, lo que significa que la forma en que se estructura el código es crucial para su correcta ejecución. \n",
    "\n",
    "Además, Python tiene una gran cantidad de tipos de datos incorporados, como números, cadenas de texto y listas, lo que lo hace versátil y adecuado para una amplia variedad de aplicaciones.\n",
    "\n",
    "Otras características importantes incluyen el uso de estructuras de control de flujo como if/else y bucles for/while, el uso de funciones para organizar y reutilizar el código, y el uso de módulos para importar funcionalidad de otros archivos de Python. \n",
    "\n",
    "Por último, Python tiene una sólida gestión de excepciones, lo que permite manejar errores y problemas de manera efectiva en tiempo de ejecución.\n",
    "\n",
    "### La línea de comandos de Python\n",
    "\n",
    "Para probar una pequeña cantidad de código en python, a veces es más rápido y fácil no escribir el código en un archivo. Esto es posible porque Python se puede ejecutar como una línea de comando.\n",
    "\n",
    "Escriba lo siguiente en la línea de comandos:\n",
    "\n",
    "<img src=\"./images/01.png\" alt=\"\">\n",
    "\n",
    "Que escribirá \"¡Hola, mundo!\" en la línea de comando:\n",
    "\n",
    "<img src=\"./images/02.png\" alt=\"\">\n",
    "\n",
    "Esa es una forma fácil de trabajar código rápido de Python desde la consola. Recordemos que en nuestro curso trabajaremos con Visual Studio Code y debido a ello tendremos en cuenta el tener una carpeta donde almacenaremos nuestro código. \n"
   ]
  },
  {
   "cell_type": "code",
   "execution_count": 1,
   "id": "84e3c1e6",
   "metadata": {},
   "outputs": [
    {
     "name": "stdout",
     "output_type": "stream",
     "text": [
      "10\n"
     ]
    }
   ],
   "source": [
    "# Ejercicio 1\n",
    "resultado = max(5, 10, 3, 8)\n",
    "print(resultado) "
   ]
  },
  {
   "cell_type": "code",
   "execution_count": 2,
   "id": "b08f3d43",
   "metadata": {},
   "outputs": [
    {
     "name": "stdout",
     "output_type": "stream",
     "text": [
      "3.14\n"
     ]
    }
   ],
   "source": [
    "#Ejercicio 2\n",
    "resultado = round(3.14159, 2)\n",
    "print(resultado)  # Resultado"
   ]
  },
  {
   "cell_type": "code",
   "execution_count": 3,
   "id": "66356c3b",
   "metadata": {},
   "outputs": [
    {
     "name": "stdout",
     "output_type": "stream",
     "text": [
      "3\n"
     ]
    }
   ],
   "source": [
    "#Ejercicio 3\n",
    "resultado = min(5, 10, 3, 8)\n",
    "print(resultado) "
   ]
  },
  {
   "cell_type": "markdown",
   "id": "a50ce0e9",
   "metadata": {},
   "source": [
    "### <span style=\"color:darkred\">Python como calculadora</span>"
   ]
  },
  {
   "cell_type": "markdown",
   "id": "832fb1da",
   "metadata": {},
   "source": [
    "### <span style=\"color:darkred\">Built-in Functions - Funciones Integradas</span>\n",
    "\n",
    "En Python tenemos muchas funciones integradas. Las funciones integradas están disponibles globalmente para que las uses sin importar módulos ni ninguna configuración adicional. Algunas de las funciones integradas más comunes son:\n",
    "\n",
    "```print(), len(), type(), int(), float(), str(), input(), list(), dict(), min(), max(), sum(), sorted(), open(), file(), help(), and dir().```\n",
    "\n",
    "<img src=\"./images/04.png\" alt=\"\">"
   ]
  },
  {
   "cell_type": "markdown",
   "id": "5a95528e",
   "metadata": {},
   "source": [
    "## Print(  )"
   ]
  },
  {
   "cell_type": "code",
   "execution_count": 4,
   "id": "3bfbc133",
   "metadata": {},
   "outputs": [
    {
     "name": "stdout",
     "output_type": "stream",
     "text": [
      "Hola Mundo\n"
     ]
    }
   ],
   "source": [
    "# Uso de la Función print()-> imprimir un mensaje en la consola \n",
    "\n",
    "print('Hola Mundo')"
   ]
  },
  {
   "cell_type": "code",
   "execution_count": 5,
   "id": "0c2f9d08",
   "metadata": {},
   "outputs": [
    {
     "name": "stdout",
     "output_type": "stream",
     "text": [
      "Mi nombre es Juan y mi edad es : 23\n"
     ]
    }
   ],
   "source": [
    "nombre = 'Juan'\n",
    "\n",
    "edad = 23\n",
    "\n",
    "print('Mi nombre es', nombre, 'y mi edad es :',edad)"
   ]
  },
  {
   "cell_type": "markdown",
   "id": "e708f603",
   "metadata": {},
   "source": [
    "## len( )"
   ]
  },
  {
   "cell_type": "code",
   "execution_count": 6,
   "id": "43260b9a",
   "metadata": {},
   "outputs": [
    {
     "name": "stdout",
     "output_type": "stream",
     "text": [
      "La longitud del mensaje es: 36\n"
     ]
    }
   ],
   "source": [
    "# len()-> nos muestra la longitud de una cadena de caracteres\n",
    "mensaje = 'Buenas tardes, este es un Hola mundo'\n",
    "longitud = len(mensaje)\n",
    "print('La longitud del mensaje es:', longitud)"
   ]
  },
  {
   "cell_type": "markdown",
   "id": "065d6c15",
   "metadata": {},
   "source": [
    "### Práctica: (3 minutos)\n",
    "\n",
    "1- Definir una variable `nombre` que guarde el nombre de ustedes, `edad` que almacene la edad.\n",
    "\n",
    "2- Imprimir `print('Mi nombre es', nombre, 'y mi edad es :',edad)`\n",
    "\n",
    "3- encuentre la longitud de la variable `nombre`.\n"
   ]
  },
  {
   "cell_type": "markdown",
   "id": "7f83203a",
   "metadata": {},
   "source": [
    "## type( )"
   ]
  },
  {
   "cell_type": "code",
   "execution_count": 7,
   "id": "67432578",
   "metadata": {},
   "outputs": [
    {
     "name": "stdout",
     "output_type": "stream",
     "text": [
      "El tipo de dato de la variable valor es: <class 'int'>\n",
      "El tipo de dato de la variable mensaje es <class 'str'>\n"
     ]
    }
   ],
   "source": [
    "valor = 23\n",
    "\n",
    "mensaje = 'Buenas tardes, este es un Hola mundo'\n",
    "\n",
    "print('El tipo de dato de la variable valor es:',type(valor))\n",
    "\n",
    "print('El tipo de dato de la variable mensaje es' ,type(mensaje))"
   ]
  },
  {
   "cell_type": "markdown",
   "id": "e174d446",
   "metadata": {},
   "source": [
    "## float( ) , int( ), str( )"
   ]
  },
  {
   "cell_type": "code",
   "execution_count": 8,
   "id": "571d8679",
   "metadata": {},
   "outputs": [
    {
     "name": "stdout",
     "output_type": "stream",
     "text": [
      "El tipo de datos de la variable cadena es: <class 'str'>\n",
      "El tipo de datos de la variable cadena es: <class 'int'>\n"
     ]
    },
    {
     "data": {
      "text/plain": [
       "246"
      ]
     },
     "execution_count": 8,
     "metadata": {},
     "output_type": "execute_result"
    }
   ],
   "source": [
    "cadena = '123'\n",
    "print('El tipo de datos de la variable cadena es:',type(cadena))\n",
    "\n",
    "cadena = int(cadena)\n",
    "print('El tipo de datos de la variable cadena es:',type(cadena))\n",
    "\n",
    "cadena + cadena"
   ]
  },
  {
   "cell_type": "code",
   "execution_count": 9,
   "id": "dbe4b5c8",
   "metadata": {},
   "outputs": [
    {
     "name": "stdout",
     "output_type": "stream",
     "text": [
      "El tipo de datos de la variable valor es: <class 'int'>\n",
      "El tipo de datos de la variable valor es: <class 'float'> 14.0\n"
     ]
    }
   ],
   "source": [
    "valor = 14\n",
    "print('El tipo de datos de la variable valor es:',type(valor))\n",
    "\n",
    "valor = float(valor)\n",
    "print('El tipo de datos de la variable valor es:',type(valor),valor)\n",
    "\n"
   ]
  },
  {
   "cell_type": "markdown",
   "id": "5269b73c",
   "metadata": {},
   "source": [
    "Las características principales que Python tiene son las siguientes: \n",
    "\n",
    "<img src=\"./images/03.png\" alt=\"\">"
   ]
  },
  {
   "cell_type": "markdown",
   "id": "28920e03",
   "metadata": {},
   "source": [
    "\n",
    "\n"
   ]
  },
  {
   "cell_type": "code",
   "execution_count": 10,
   "id": "e3e1ea87",
   "metadata": {},
   "outputs": [
    {
     "name": "stdout",
     "output_type": "stream",
     "text": [
      "Esta es una prueba de indentacion: 7\n"
     ]
    }
   ],
   "source": [
    "if True:\n",
    "    print('Esta es una prueba de indentacion:', 3 + 4)"
   ]
  },
  {
   "cell_type": "code",
   "execution_count": 11,
   "id": "e6115fb7",
   "metadata": {},
   "outputs": [
    {
     "ename": "IndentationError",
     "evalue": "expected an indented block (1135244341.py, line 2)",
     "output_type": "error",
     "traceback": [
      "\u001b[0;36m  Input \u001b[0;32mIn [11]\u001b[0;36m\u001b[0m\n\u001b[0;31m    print('Esta es una prueba de indentacion:', 3 + 4)\u001b[0m\n\u001b[0m    ^\u001b[0m\n\u001b[0;31mIndentationError\u001b[0m\u001b[0;31m:\u001b[0m expected an indented block\n"
     ]
    }
   ],
   "source": [
    "if True:\n",
    "print('Esta es una prueba de indentacion:', 3 + 4)"
   ]
  },
  {
   "cell_type": "code",
   "execution_count": null,
   "id": "18645b91",
   "metadata": {},
   "outputs": [],
   "source": [
    "valor = 7\n",
    "\n",
    "if valor > 5:\n",
    "    print('el numero es mayor que 5')\n",
    "    \n",
    "    if valor % 2 == 0:\n",
    "        print('El numero es par')\n",
    "    else: \n",
    "        print('el numero es impar')\n",
    "else:\n",
    "    print('el numero no es mayor que 5')"
   ]
  },
  {
   "cell_type": "markdown",
   "id": "d242ac26",
   "metadata": {},
   "source": [
    "###   <span style=\"color:darkred\">Comentarios</span>\n",
    "\n",
    "Se pueden añadir comentarios en el código de Python utilizando el símbolo \"#\" al comienzo de una línea. Los comentarios son útiles para explicar el propósito de un código y hacerlo más fácil de entender.\n",
    "\n",
    "Los objetivos principales de los comentarios son los siguientes:\n",
    "\n",
    "   * Los comentarios se pueden usar para explicar el código de Python.\n",
    "   * Los comentarios se pueden utilizar para hacer que el código sea más legible.\n",
    "   * Los comentarios se pueden usar para evitar la ejecución al probar el código\n",
    "\n",
    "Los comentarios comienzan con un # y Python representará el resto de la línea como un comentario:\n",
    "\n",
    "### <span style=\"color:darkblue\">Comentarios por línea</span>"
   ]
  },
  {
   "cell_type": "code",
   "execution_count": null,
   "id": "a3be2895",
   "metadata": {},
   "outputs": [],
   "source": [
    "# this is comment\n",
    "# este es un comentario\n",
    "print('Buenas tardes a todos')"
   ]
  },
  {
   "cell_type": "code",
   "execution_count": null,
   "id": "3d4349b9",
   "metadata": {},
   "outputs": [],
   "source": [
    "print('Buenas tardes a todos') # este es un comentario"
   ]
  },
  {
   "cell_type": "code",
   "execution_count": null,
   "id": "2a9c1d6e",
   "metadata": {},
   "outputs": [],
   "source": [
    "print('Buenas tardes a todos') \n",
    "# este es un comentario"
   ]
  },
  {
   "cell_type": "markdown",
   "id": "5a9020c0",
   "metadata": {},
   "source": [
    "En este caso el texto “This is a comment” se traducirá como comentario y no se tomará en cuenta para la ejecución de código de Python. \n",
    "\n",
    "Los comentarios se pueden colocar al final de una línea y Python ignorará el resto de la línea:\n"
   ]
  },
  {
   "cell_type": "code",
   "execution_count": null,
   "id": "303c8bea",
   "metadata": {},
   "outputs": [],
   "source": [
    "print('Buenas tardes a todos') # este es un comentario"
   ]
  },
  {
   "cell_type": "markdown",
   "id": "fefee5e6",
   "metadata": {},
   "source": [
    "Un comentario no tiene que ser texto que explique el código, también se puede usar para evitar que Python ejecute código:"
   ]
  },
  {
   "cell_type": "code",
   "execution_count": null,
   "id": "540f42aa",
   "metadata": {},
   "outputs": [],
   "source": [
    "# Función que recibe un nombre y al ejecutarla nos da como resultado ¡Hola, nombre!\n",
    "def saludar(nombre):\n",
    "    mensaje = \"¡Hola, \" + nombre + \"!\"\n",
    "    print(mensaje)\n",
    "\n",
    "saludar(\"Alice\")"
   ]
  },
  {
   "cell_type": "markdown",
   "id": "1d98f19a",
   "metadata": {},
   "source": [
    "### <span style=\"color:darkblue\">Comentarios multilínea</span>\n",
    "\n",
    "Python realmente no tiene una sintaxis para comentarios de varias líneas.\n",
    "\n",
    "Para agregar un comentario de varias líneas, puede insertar un #para cada línea:"
   ]
  },
  {
   "cell_type": "code",
   "execution_count": null,
   "id": "0d3b304f",
   "metadata": {},
   "outputs": [],
   "source": [
    "#Esta funcion depende de mucha informacion para explicarla\n",
    "#Linea 2 de comentarios y explicacion\n",
    "#linea 3 de explicacion\n",
    "print('Hola Mundo')"
   ]
  },
  {
   "cell_type": "markdown",
   "id": "32f0c20e",
   "metadata": {},
   "source": [
    "O, no del todo como se pretendía, puede usar una cadena de varias líneas.\n",
    "\n",
    "Dado que Python ignorará los literales de cadena que no están asignados a una variable, puede agregar una cadena de varias líneas (comillas triples) en su código y colocar su comentario dentro de ella:\n"
   ]
  },
  {
   "cell_type": "code",
   "execution_count": null,
   "id": "51cd0aad",
   "metadata": {},
   "outputs": [],
   "source": [
    "\"\"\" Este es un comentario de multilineas, \n",
    "aca yo escribo todo lo que quiera \n",
    "Python ignorará los literales de cadena que \n",
    "no están asignados a una variable, \n",
    "puede agregar una cadena de varias líneas (comillas triples)\n",
    "\"\"\"\n",
    "print('Hola Mundo')"
   ]
  },
  {
   "cell_type": "code",
   "execution_count": null,
   "id": "c5085cab",
   "metadata": {},
   "outputs": [],
   "source": [
    "def saludos(nombre):\n",
    "    \"\"\"Esta funcion toma el nombre de una persona e \n",
    "    imprime un saludo dirigido a la persona\"\"\"\n",
    "    print('Hola!'+nombre+'!')\n",
    "\n",
    "saludos('Jose')"
   ]
  },
  {
   "cell_type": "markdown",
   "id": "032d7cae",
   "metadata": {},
   "source": [
    "### <span style=\"color:darkred\">Variables</span>\n",
    "\n",
    "Python no requiere declaraciones de variables. \n",
    "\n",
    "Una variable se crea simplemente asignando un valor a un nombre. \n",
    "\n",
    "Las variables pueden contener cualquier tipo de datos, incluyendo **números, cadenas de texto y objetos complejos.**\n",
    "\n",
    "<span style=\"color:darkgreen\">Una variable se crea en el momento en que le asigna un valor por primera vez. </span>"
   ]
  },
  {
   "cell_type": "code",
   "execution_count": null,
   "id": "968bc2c1",
   "metadata": {},
   "outputs": [],
   "source": [
    "# Definiendo la variable x = 5\n",
    "x = 5 \n",
    "\n",
    "print(x)"
   ]
  },
  {
   "cell_type": "code",
   "execution_count": null,
   "id": "946f2928",
   "metadata": {},
   "outputs": [],
   "source": [
    "y = 'Jhon'\n",
    "\n",
    "print(y)"
   ]
  },
  {
   "cell_type": "code",
   "execution_count": null,
   "id": "cb255f4d",
   "metadata": {},
   "outputs": [],
   "source": [
    "x*y"
   ]
  },
  {
   "cell_type": "code",
   "execution_count": null,
   "id": "d699ca8b",
   "metadata": {},
   "outputs": [],
   "source": [
    "3*x"
   ]
  },
  {
   "cell_type": "code",
   "execution_count": null,
   "id": "925f2246",
   "metadata": {},
   "outputs": [],
   "source": [
    "3*y"
   ]
  },
  {
   "cell_type": "code",
   "execution_count": null,
   "id": "21752939",
   "metadata": {},
   "outputs": [],
   "source": [
    "x = 'jhon'\n",
    "\n",
    "3*x\n",
    "\n",
    "x = 3\n",
    "\n",
    "3*x"
   ]
  },
  {
   "cell_type": "markdown",
   "id": "a5ffaee7",
   "metadata": {},
   "source": [
    "### <span style=\"color:darkblue\">Nombres de variables</span>\n",
    "\n",
    "Una variable puede tener un nombre corto (como x e y) o un nombre más descriptivo (edad, nombre del coche, volumen_total). Reglas para las variables de Python:\n",
    "\n",
    "* Un nombre de variable debe comenzar con una letra o el carácter de subrayado\n",
    "\n",
    "* Un nombre de variable no puede comenzar con un número\n",
    "\n",
    "* Un nombre de variable solo puede contener caracteres alfanuméricos y guiones bajos (Az, 0-9 y _)\n",
    "\n",
    "* Los nombres de las variables distinguen entre mayúsculas y minúsculas (edad, Edad y EDAD son tres variables diferentes)\n",
    "\n",
    "* Un nombre de variable no puede ser ninguna de las palabras clave de Python.\n",
    "\n",
    "Ejemplos de nombres de variables aceptables: "
   ]
  },
  {
   "cell_type": "markdown",
   "id": "e8e896a1",
   "metadata": {},
   "source": [
    "Imprimamos algunas para verificar:"
   ]
  },
  {
   "cell_type": "code",
   "execution_count": null,
   "id": "a55c4c3e",
   "metadata": {},
   "outputs": [],
   "source": [
    "myvar = 3\n",
    "myvar"
   ]
  },
  {
   "cell_type": "code",
   "execution_count": null,
   "id": "4adfd06f",
   "metadata": {},
   "outputs": [],
   "source": [
    "MYVAR = 4\n",
    "MYVAR"
   ]
  },
  {
   "cell_type": "code",
   "execution_count": null,
   "id": "ebbcf96c",
   "metadata": {},
   "outputs": [],
   "source": [
    "myVar = 'estilo camelCase'\n",
    "myVar"
   ]
  },
  {
   "cell_type": "code",
   "execution_count": null,
   "id": "f6ee4e96",
   "metadata": {},
   "outputs": [],
   "source": [
    "myVar2 = 'Ojalá se pueda'\n",
    "myVar2"
   ]
  },
  {
   "cell_type": "code",
   "execution_count": null,
   "id": "a45aa080",
   "metadata": {},
   "outputs": [],
   "source": [
    "my____var = 4\n",
    "my____var"
   ]
  },
  {
   "cell_type": "markdown",
   "id": "d77d3a5f",
   "metadata": {},
   "source": [
    "Ejemplos de nombres de variables no aceptados:"
   ]
  },
  {
   "cell_type": "code",
   "execution_count": null,
   "id": "9ecbd97d",
   "metadata": {},
   "outputs": [],
   "source": [
    "my var = 4"
   ]
  },
  {
   "cell_type": "code",
   "execution_count": null,
   "id": "62808f3a",
   "metadata": {},
   "outputs": [],
   "source": [
    "2myVar = 5"
   ]
  },
  {
   "cell_type": "code",
   "execution_count": null,
   "id": "4a716fb0",
   "metadata": {},
   "outputs": [],
   "source": [
    "my-Var = 7"
   ]
  },
  {
   "cell_type": "markdown",
   "id": "3e55f747",
   "metadata": {},
   "source": [
    "### <span style=\"color:darkblue\">Nombres de variables de varias palabras</span>\n",
    "\n",
    "Los nombres de variables con más de una palabra pueden ser difíciles de leer.\n",
    "Hay varias técnicas que puede utilizar para hacerlos más legibles:\n"
   ]
  },
  {
   "cell_type": "markdown",
   "id": "c4efffe7",
   "metadata": {},
   "source": [
    "### <span style=\"color:darkgreen\">Camel Case:</span>\n",
    "\n",
    "Se utiliza para nombrar variables en la programación donde las palabras deben estar conectadas pero aún se desea distinguir claramente las palabras individuales. \n",
    "\n",
    "Por ejemplo, en variables de programación en lenguajes como Java y JavaScript.\n",
    "\n",
    "### Definición: \n",
    "    \n",
    "        En Camel Case, cada palabra comienza con una letra mayúscula, excepto la primera palabra que comienza en minúscula. No se utilizan espacios ni caracteres especiales entre palabras.\n",
    "        \n",
    "### Ejemplo: \n",
    "\n",
    "```\n",
    "    miVariableEjemplo\n",
    "\n",
    "    nombreUsuario\n",
    "    \n",
    "    calcularImpuesto\n",
    "```"
   ]
  },
  {
   "cell_type": "markdown",
   "id": "b58c9dbc",
   "metadata": {},
   "source": [
    "### <span style=\"color:darkgreen\">Pascal Case:</span>\n",
    "\n",
    " En nombres de clases y tipos de datos, como en la programación orientada a objetos. Se utiliza para nombrar clases, estructuras y tipos de datos en lenguajes como C# y Python.\n",
    "\n",
    "### Definición: \n",
    "    \n",
    "         Similar a Camel Case, pero la primera letra de cada palabra se coloca en mayúscula.\n",
    "        \n",
    "### Ejemplo: \n",
    "\n",
    "```\n",
    "    MiVariableEjemplo\n",
    "\n",
    "    NombreUsuario\n",
    "    \n",
    "    CrearUsuario\n",
    "```"
   ]
  },
  {
   "cell_type": "markdown",
   "id": "1b2befc6",
   "metadata": {},
   "source": [
    "### <span style=\"color:darkgreen\">Snake Case:</span>\n",
    "\n",
    "Se utiliza para nombrar variables o funciones en lenguajes que son sensibles a las mayúsculas y minúsculas y que no admiten espacios en los nombres, como Python y Ruby.\n",
    "\n",
    "### Definición: \n",
    "    \n",
    "          Las palabras están separadas por guiones bajos (subrayados). Se usan solo letras minúsculas.\n",
    "        \n",
    "### Ejemplo: \n",
    "\n",
    "```\n",
    "    numero_de_telefono\n",
    "\n",
    "    cantidad_de_productos\n",
    "    \n",
    "    mi_variable_ejemplo\n",
    "```"
   ]
  },
  {
   "cell_type": "markdown",
   "id": "55457900",
   "metadata": {},
   "source": [
    "### <span style=\"color:darkgreen\">Lower Case:</span>\n",
    "\n",
    " Se usa para nombrar variables o identificadores generales en muchos lenguajes de programación.\n",
    "\n",
    "### Definición: \n",
    "    \n",
    "          Todas las letras están en minúscula.\n",
    "        \n",
    "### Ejemplo: \n",
    "\n",
    "```\n",
    "    mivariableejemplo\n",
    "\n",
    "    cantidaddeproductos\n",
    "    \n",
    "    nombre\n",
    "```"
   ]
  },
  {
   "cell_type": "markdown",
   "id": "343c4d14",
   "metadata": {},
   "source": [
    "### <span style=\"color:darkgreen\">Upper Case:</span>\n",
    "\n",
    "Se usa para nombrar constantes en mayúsculas. Por ejemplo, en matemáticas, el número Pi se representa en mayúsculas para indicar que es una constante.\n",
    "\n",
    "### Definición: \n",
    "    \n",
    "          Todas las letras están en mayúscula.\n",
    "        \n",
    "### Ejemplo: \n",
    "\n",
    "```\n",
    "    PI\n",
    "\n",
    "    MAXIMO_VALOR\n",
    "    \n",
    "    MIVARIABLEEJEMPLO\n",
    "```"
   ]
  },
  {
   "cell_type": "markdown",
   "id": "1b04711a",
   "metadata": {},
   "source": [
    "### <span style=\"color:darkblue\">Muchos valores para múltiples variables</span>\n",
    "\n",
    "Python le permite asignar valores a múltiples variables en una línea:"
   ]
  },
  {
   "cell_type": "code",
   "execution_count": 12,
   "id": "661a1886",
   "metadata": {},
   "outputs": [
    {
     "name": "stdout",
     "output_type": "stream",
     "text": [
      "2\n",
      "Naranja\n",
      "14.6\n"
     ]
    }
   ],
   "source": [
    "m = 2\n",
    "y = 'Naranja'\n",
    "z = 14.6\n",
    "\n",
    "print(m)\n",
    "print(y)\n",
    "print(z)"
   ]
  },
  {
   "cell_type": "code",
   "execution_count": 13,
   "id": "3b1a915b",
   "metadata": {},
   "outputs": [
    {
     "name": "stdout",
     "output_type": "stream",
     "text": [
      "2\n",
      "Sandía\n",
      "23.7\n"
     ]
    }
   ],
   "source": [
    "x, y, z = 2 ,'Sandía', 23.7\n",
    "\n",
    "print(x)\n",
    "print(y)\n",
    "print(z)"
   ]
  },
  {
   "cell_type": "code",
   "execution_count": 19,
   "id": "43538868",
   "metadata": {},
   "outputs": [
    {
     "name": "stdout",
     "output_type": "stream",
     "text": [
      "2 Sandía 23.7\n",
      "2 \n",
      "\n",
      " Sandía \n",
      " 23.7\n"
     ]
    }
   ],
   "source": [
    "x, y, z = 2 ,'Sandía', 23.7\n",
    "\n",
    "print(x, y, z) # Sin Salto de línea\n",
    "print(x,'\\n\\n', y,'\\n', z) # \\n salto de línea en la funcion print()\n"
   ]
  },
  {
   "cell_type": "markdown",
   "id": "c7320906",
   "metadata": {},
   "source": [
    "### <span style=\"color:darkblue\">Un valor para múltiples variables</span>\n",
    "\n",
    "Y puede asignar el mismo valor a múltiples variables en una línea:"
   ]
  },
  {
   "cell_type": "code",
   "execution_count": 22,
   "id": "db193845",
   "metadata": {},
   "outputs": [
    {
     "name": "stdout",
     "output_type": "stream",
     "text": [
      "esto es una cadena,  esto es una cadena,  esto es una cadena, \n"
     ]
    }
   ],
   "source": [
    "x = y =z = 'esto es una cadena, '\n",
    "\n",
    "print(x, y, z)"
   ]
  },
  {
   "cell_type": "markdown",
   "id": "12e17087",
   "metadata": {},
   "source": [
    "### <span style=\"color:darkblue\">Salida de una variable</span>\n",
    "\n",
    "La función `print()` de Python se usa a menudo para generar variables.\n"
   ]
  },
  {
   "cell_type": "code",
   "execution_count": 23,
   "id": "0eff902a",
   "metadata": {},
   "outputs": [
    {
     "name": "stdout",
     "output_type": "stream",
     "text": [
      "Python is awesome! : Python es asombroso!\n"
     ]
    }
   ],
   "source": [
    "x = 'Python is awesome! : Python es asombroso!' \n",
    "\n",
    "print(x)"
   ]
  },
  {
   "cell_type": "markdown",
   "id": "edd55714",
   "metadata": {},
   "source": [
    "En la función `print()`, genera múltiples variables, separadas por una coma:"
   ]
  },
  {
   "cell_type": "code",
   "execution_count": 26,
   "id": "655e6570",
   "metadata": {},
   "outputs": [
    {
     "name": "stdout",
     "output_type": "stream",
     "text": [
      "Python is awesome! : Python es asombroso!\n"
     ]
    }
   ],
   "source": [
    "x = 'Python is awesome!'\n",
    "y = ':' \n",
    "z = 'Python es asombroso!' \n",
    "\n",
    "print(x,y,z)"
   ]
  },
  {
   "cell_type": "markdown",
   "id": "cb8f88ce",
   "metadata": {},
   "source": [
    "También puede usar el **operador +** para generar múltiples variables:"
   ]
  },
  {
   "cell_type": "code",
   "execution_count": 27,
   "id": "3d5de754",
   "metadata": {},
   "outputs": [
    {
     "name": "stdout",
     "output_type": "stream",
     "text": [
      "Python is awesome!:Python es asombroso!\n"
     ]
    }
   ],
   "source": [
    "x = 'Python is awesome!'\n",
    "y = ':' \n",
    "z = 'Python es asombroso!' \n",
    "\n",
    "print(x + y + z)"
   ]
  },
  {
   "cell_type": "markdown",
   "id": "141b343a",
   "metadata": {},
   "source": [
    "Para números, el carácter **+** funciona como un operador matemático:"
   ]
  },
  {
   "cell_type": "code",
   "execution_count": 35,
   "id": "00f61fa3",
   "metadata": {},
   "outputs": [
    {
     "name": "stdout",
     "output_type": "stream",
     "text": [
      "1 2 3\n",
      "6\n",
      "LA suma es 10 y la multiplicación es: 20\n"
     ]
    }
   ],
   "source": [
    "a, b, c = 1,2,3\n",
    "\n",
    "print(a,b,c)\n",
    "\n",
    "print(a + b + c) # actua como una suma\n",
    "\n",
    "print('LA suma es', 2+3+5,'y la multiplicación es:', 4*5)"
   ]
  },
  {
   "cell_type": "markdown",
   "id": "dea44968",
   "metadata": {},
   "source": [
    "En la función `print()`, cuando intenta combinar una cadena y un número con el operador +, Python le dará un error:"
   ]
  },
  {
   "cell_type": "code",
   "execution_count": null,
   "id": "a5102386",
   "metadata": {},
   "outputs": [],
   "source": []
  },
  {
   "cell_type": "markdown",
   "id": "ce242acd",
   "metadata": {},
   "source": [
    "La mejor manera de generar múltiples variables en la función `print()` es separarlas con comas, que incluso admiten diferentes tipos de datos:"
   ]
  },
  {
   "cell_type": "code",
   "execution_count": 36,
   "id": "dce8ec39",
   "metadata": {},
   "outputs": [
    {
     "ename": "TypeError",
     "evalue": "unsupported operand type(s) for +: 'int' and 'str'",
     "output_type": "error",
     "traceback": [
      "\u001b[0;31m---------------------------------------------------------------------------\u001b[0m",
      "\u001b[0;31mTypeError\u001b[0m                                 Traceback (most recent call last)",
      "Input \u001b[0;32mIn [36]\u001b[0m, in \u001b[0;36m<cell line: 3>\u001b[0;34m()\u001b[0m\n\u001b[1;32m      1\u001b[0m x, y, z \u001b[38;5;241m=\u001b[39m \u001b[38;5;241m2\u001b[39m ,\u001b[38;5;124m'\u001b[39m\u001b[38;5;124mSandía\u001b[39m\u001b[38;5;124m'\u001b[39m, \u001b[38;5;241m23.7\u001b[39m\n\u001b[0;32m----> 3\u001b[0m \u001b[38;5;28mprint\u001b[39m(\u001b[43mx\u001b[49m\u001b[43m \u001b[49m\u001b[38;5;241;43m+\u001b[39;49m\u001b[43m \u001b[49m\u001b[43my\u001b[49m \u001b[38;5;241m+\u001b[39m z)\n",
      "\u001b[0;31mTypeError\u001b[0m: unsupported operand type(s) for +: 'int' and 'str'"
     ]
    }
   ],
   "source": [
    "x, y, z = 2 ,'Sandía', 23.7\n",
    "\n",
    "print(x + y + z)"
   ]
  },
  {
   "cell_type": "code",
   "execution_count": 37,
   "id": "9399c4c0",
   "metadata": {},
   "outputs": [
    {
     "name": "stdout",
     "output_type": "stream",
     "text": [
      "30.2\n"
     ]
    }
   ],
   "source": [
    "x, y, z = 2 ,4.5, 23.7\n",
    "\n",
    "print(x + y + z)"
   ]
  },
  {
   "cell_type": "code",
   "execution_count": 38,
   "id": "6f173a93",
   "metadata": {},
   "outputs": [
    {
     "name": "stdout",
     "output_type": "stream",
     "text": [
      "Hola Mundo\n"
     ]
    }
   ],
   "source": [
    "# Enviar nombreApellido.py\n",
    "\n",
    "#Impresión de string básica\n",
    "print('Hola Mundo')"
   ]
  },
  {
   "cell_type": "code",
   "execution_count": 40,
   "id": "96a14200",
   "metadata": {},
   "outputs": [
    {
     "name": "stdout",
     "output_type": "stream",
     "text": [
      "Mi nombre es: José Fuentes y tengo 37 años.\n"
     ]
    }
   ],
   "source": [
    "# Imprimir varias variables en una línea\n",
    "\n",
    "nombre = 'José Fuentes'\n",
    "edad   = 37\n",
    "\n",
    "print('Mi nombre es:', nombre, \"y tengo\", edad, \"años.\")"
   ]
  },
  {
   "cell_type": "code",
   "execution_count": 44,
   "id": "66696421",
   "metadata": {},
   "outputs": [
    {
     "name": "stdout",
     "output_type": "stream",
     "text": [
      "Nombre Empleado: José Fuentes \n",
      " El precio por hora trabajada: 17.5 \n",
      " y el sueldo diario es: 140.0\n"
     ]
    }
   ],
   "source": [
    "valorHora = 17.5\n",
    "totalHoras = 8\n",
    "\n",
    "sueldoDiario = valorHora*totalHoras\n",
    "\n",
    "print('Nombre Empleado:', nombre,'\\n', \n",
    "      'El precio por hora trabajada:', valorHora,'\\n', \n",
    "      'y el sueldo diario es:',sueldoDiario )\n"
   ]
  },
  {
   "cell_type": "markdown",
   "id": "fe9b6ed1",
   "metadata": {},
   "source": [
    "### Formato de cadena f-string"
   ]
  },
  {
   "cell_type": "code",
   "execution_count": 52,
   "id": "838397eb",
   "metadata": {},
   "outputs": [
    {
     "name": "stdout",
     "output_type": "stream",
     "text": [
      "Mi nombre es José Fuentes y tengo 37 años.\n",
      "\n",
      "\n",
      "Nombre Empleado: José Fuentes\n",
      " El precio por hora trabajada: 17.5\n",
      " y el sueldo diario es:140.0\n"
     ]
    }
   ],
   "source": [
    "print(f'Mi nombre es {nombre} y tengo {edad} años.\\n\\n')\n",
    "\n",
    "print(f'Nombre Empleado: {nombre}\\n El precio por hora trabajada: {valorHora}\\n y el sueldo diario es:{sueldoDiario}' )"
   ]
  },
  {
   "cell_type": "code",
   "execution_count": 53,
   "id": "a8c04a37",
   "metadata": {},
   "outputs": [
    {
     "name": "stdout",
     "output_type": "stream",
     "text": [
      "Mi nombre es José Fuentes y tengo 37 años.\n",
      "\n",
      "\n"
     ]
    }
   ],
   "source": [
    "#imprimir por tipo de variable (%)\n",
    "#print('Mi nombre es %tipodevariable1 y tengo %tipodevariable2 años.\\n\\n'%(variable1,variable2)\n",
    "\n",
    "print('Mi nombre es %s y tengo %d años.\\n\\n'%(nombre,edad))"
   ]
  },
  {
   "cell_type": "code",
   "execution_count": 54,
   "id": "a3f0dae9",
   "metadata": {},
   "outputs": [
    {
     "ename": "TypeError",
     "evalue": "%d format: a number is required, not str",
     "output_type": "error",
     "traceback": [
      "\u001b[0;31m---------------------------------------------------------------------------\u001b[0m",
      "\u001b[0;31mTypeError\u001b[0m                                 Traceback (most recent call last)",
      "Input \u001b[0;32mIn [54]\u001b[0m, in \u001b[0;36m<cell line: 1>\u001b[0;34m()\u001b[0m\n\u001b[0;32m----> 1\u001b[0m \u001b[38;5;28mprint\u001b[39m(\u001b[38;5;124;43m'\u001b[39;49m\u001b[38;5;124;43mMi nombre es \u001b[39;49m\u001b[38;5;132;43;01m%s\u001b[39;49;00m\u001b[38;5;124;43m y tengo \u001b[39;49m\u001b[38;5;132;43;01m%d\u001b[39;49;00m\u001b[38;5;124;43m años.\u001b[39;49m\u001b[38;5;130;43;01m\\n\u001b[39;49;00m\u001b[38;5;130;43;01m\\n\u001b[39;49;00m\u001b[38;5;124;43m'\u001b[39;49m\u001b[38;5;241;43m%\u001b[39;49m\u001b[43m(\u001b[49m\u001b[43medad\u001b[49m\u001b[43m,\u001b[49m\u001b[43mnombre\u001b[49m\u001b[43m)\u001b[49m)\n",
      "\u001b[0;31mTypeError\u001b[0m: %d format: a number is required, not str"
     ]
    }
   ],
   "source": [
    "print('Mi nombre es %s y tengo %d años.\\n\\n'%(edad,nombre))"
   ]
  },
  {
   "cell_type": "code",
   "execution_count": 56,
   "id": "5d0a07f7",
   "metadata": {},
   "outputs": [
    {
     "name": "stdout",
     "output_type": "stream",
     "text": [
      "Mi nombre es Alice , tengo 120 años y peso 30.\n",
      "\n",
      "\n"
     ]
    }
   ],
   "source": [
    "nombre = \"Alice\"\n",
    "edad = 30\n",
    "peso = 120\n",
    "\n",
    "print('Mi nombre es %s , tengo %d años y peso %d.\\n\\n'%(nombre,peso,edad))"
   ]
  },
  {
   "cell_type": "code",
   "execution_count": 62,
   "id": "c3a63369",
   "metadata": {},
   "outputs": [
    {
     "name": "stdout",
     "output_type": "stream",
     "text": [
      "Mi nombre es Alice ,cobro: 44 por hora y trabaje 17.50\n",
      "\n",
      "\n"
     ]
    }
   ],
   "source": [
    "nombre = \"Alice\"\n",
    "precioHora = 17.5\n",
    "horasTrabajadas = 44\n",
    "\n",
    "print('Mi nombre es %s ,cobro: %d por hora y trabaje %.2f\\n\\n'%(nombre,horasTrabajadas,precioHora))"
   ]
  },
  {
   "cell_type": "code",
   "execution_count": 80,
   "id": "b890af60",
   "metadata": {},
   "outputs": [
    {
     "name": "stdout",
     "output_type": "stream",
     "text": [
      "Mi nombre es Alice y tengo 30 años y peso 120 \n",
      "\n",
      "\n"
     ]
    }
   ],
   "source": [
    "print ('Mi nombre es %s y tengo %d años y peso %d \\n\\n' %(nombre,edad,peso))"
   ]
  },
  {
   "cell_type": "code",
   "execution_count": 64,
   "id": "464b20d1",
   "metadata": {},
   "outputs": [
    {
     "name": "stdout",
     "output_type": "stream",
     "text": [
      "Mi nombre es Alice ,cobro: 44 por hora y trabaje 17.500000\n",
      "\n",
      "\n"
     ]
    }
   ],
   "source": [
    "print('Mi nombre es %s ,cobro: %d por hora y trabaje %2f\\n\\n'%(nombre,horasTrabajadas,precioHora))"
   ]
  },
  {
   "cell_type": "code",
   "execution_count": 63,
   "id": "ed7f4c51",
   "metadata": {},
   "outputs": [
    {
     "name": "stdout",
     "output_type": "stream",
     "text": [
      "Mi nombre es Alice ,cobro: 44 por hora y trabaje 17.500\n",
      "\n",
      "\n"
     ]
    }
   ],
   "source": [
    "print('Mi nombre es %s ,cobro: %d por hora y trabaje %.3f\\n\\n'%(nombre,horasTrabajadas,precioHora))"
   ]
  },
  {
   "cell_type": "code",
   "execution_count": 65,
   "id": "3d02eca1",
   "metadata": {},
   "outputs": [
    {
     "name": "stdout",
     "output_type": "stream",
     "text": [
      "Nombre: \t José \n",
      " Edad: \t 37\n"
     ]
    }
   ],
   "source": [
    "# tabulación en la impresión y salto de linea\n",
    "\n",
    "print('Nombre: \\t José \\n Edad: \\t 37')"
   ]
  },
  {
   "cell_type": "code",
   "execution_count": 66,
   "id": "ba743690",
   "metadata": {},
   "outputs": [
    {
     "name": "stdout",
     "output_type": "stream",
     "text": [
      "Nombre: \n",
      "\t José \n",
      "  Edad: \n",
      "\t 37\n"
     ]
    }
   ],
   "source": [
    "print('Nombre: \\n\\t José \\n  Edad: \\n\\t 37')"
   ]
  },
  {
   "cell_type": "code",
   "execution_count": 68,
   "id": "5486e27e",
   "metadata": {},
   "outputs": [
    {
     "name": "stdout",
     "output_type": "stream",
     "text": [
      "Hola\n",
      "Mundo\n",
      "HolaMundo\n"
     ]
    }
   ],
   "source": [
    "print('Hola')\n",
    "print('Mundo')"
   ]
  },
  {
   "cell_type": "code",
   "execution_count": 69,
   "id": "ca22305a",
   "metadata": {},
   "outputs": [
    {
     "name": "stdout",
     "output_type": "stream",
     "text": [
      "HolaMundo\n"
     ]
    }
   ],
   "source": [
    "print('Hola', end = '')\n",
    "print('Mundo')"
   ]
  },
  {
   "cell_type": "code",
   "execution_count": 79,
   "id": "3e0f79ee",
   "metadata": {},
   "outputs": [
    {
     "name": "stdout",
     "output_type": "stream",
     "text": [
      "verde\n",
      "\n",
      "\n",
      "amarillo\n",
      "\n",
      "\n",
      "rojo\n",
      "\n",
      "\n",
      "amarillo\n",
      "\n",
      "\n",
      "['verde', 'amarillo', 'rojo']\n",
      "\n",
      "\n",
      "verde amarillo rojo\n",
      "\n",
      "\n",
      "verde,amarillo,rojo\n"
     ]
    }
   ],
   "source": [
    "colores = ['verde', 'amarillo', 'rojo']\n",
    "\n",
    "print(colores[0])\n",
    "print('\\n')\n",
    "print(colores[1])\n",
    "print('\\n')\n",
    "print(colores[2])\n",
    "print('\\n')\n",
    "print(colores[-2])\n",
    "print('\\n')\n",
    "print(colores)\n",
    "print('\\n')\n",
    "print(*colores)\n",
    "print('\\n')\n",
    "print(*colores, sep = ',')"
   ]
  },
  {
   "cell_type": "code",
   "execution_count": 82,
   "id": "f87ae024",
   "metadata": {},
   "outputs": [
    {
     "name": "stdout",
     "output_type": "stream",
     "text": [
      "tenemos que hacer tarea\n",
      "TENEMOS QUE HACER TAREA\n"
     ]
    }
   ],
   "source": [
    "mensaje = 'TeneMos qUe HAcer tareA'\n",
    "\n",
    "mensajeMinuscula = mensaje.lower()\n",
    "mensajeMayuscula = mensaje.upper()\n",
    "\n",
    "print(mensajeMinuscula )\n",
    "\n",
    "print(mensajeMayuscula )"
   ]
  },
  {
   "cell_type": "code",
   "execution_count": 88,
   "id": "330ab5eb",
   "metadata": {},
   "outputs": [
    {
     "name": "stdout",
     "output_type": "stream",
     "text": [
      "jose antonio fuentes velasquez\n",
      "jose antonio fuentes velasquez\n"
     ]
    }
   ],
   "source": [
    "nombreEmpleado1 = 'Jose antonio fuentes Velasquez'\n",
    "\n",
    "nombreEmpleado2 = 'jose antonio fuentes velasquez'\n",
    "\n",
    "nombreEmpleado1 == nombreEmpleado2\n",
    "\n",
    "nombreEmpleado1.lower() == nombreEmpleado2.lower()\n",
    "\n",
    "print(nombreEmpleado1.lower())\n",
    "print(nombreEmpleado2.lower())"
   ]
  },
  {
   "cell_type": "markdown",
   "id": "facf92ba",
   "metadata": {},
   "source": [
    "### <span style=\"color:darkred\">Tipos de datos</span>\n",
    "\n",
    "Python es un lenguaje de programación orientado a objetos, lo que significa que todo en Python es un objeto se convierte en tipos de datos. \n",
    "\n",
    "Existen varios tipos de datos incorporados que se utilizan para almacenar diferentes tipos de información. Algunos de los tipos de datos más comunes en Python son los siguientes:\n",
    "\n",
    "#### Números\n",
    "\n",
    "En Python, hay tres tipos de números: enteros (int), números de punto flotante (float) y números complejos (complex). Los enteros son números enteros sin decimales, como 42. \n",
    "\n",
    "Los números de punto flotante son números con decimales, como 3.14. \n",
    "\n",
    "Los números complejos son números con una parte real y una parte imaginaria, como 2 + 3j.\n",
    "\n",
    "#### Cadenas de texto\n",
    "\n",
    "Las cadenas de texto (str) se utilizan para almacenar texto y se definen entre comillas simples o dobles. Por ejemplo, “Hola, ¡mundo!\" es una cadena de texto en Python.\n",
    "\n",
    "#### Listas\n",
    "\n",
    "Las listas (list) se utilizan para almacenar una colección ordenada de elementos y se definen entre corchetes. Por ejemplo, [1, 2, 3, 4] es una lista en Python.\n",
    "\n",
    "#### Tuplas\n",
    "\n",
    "Las tuplas (tuple) son similares a las listas, pero son inmutables, lo que significa que no se pueden modificar después de su creación. \n",
    "\n",
    "Las tuplas se definen entre paréntesis. Por ejemplo, (1, 2, 3, 4) es una tupla en Python.\n",
    "\n",
    "#### Diccionarios\n",
    "\n",
    "Los diccionarios (dict) se utilizan para almacenar una colección de pares clave-valor y se definen entre llaves. Por ejemplo, {\"nombre\": \"Juan\", \"edad\": 30} es un diccionario en Python.\n",
    "\n",
    "#### Conjuntos\n",
    "\n",
    "Los conjuntos (set) se utilizan para almacenar una colección de elementos únicos y se definen entre llaves. Por ejemplo, {1, 2, 3, 4} es un conjunto en Python.\n",
    "\n",
    "\n",
    "### Tipos de datos al declarar\n",
    "\n",
    "AL declarar una variable no es necesario indicar ningún tipo en particular, e incluso pueden cambiar de tipo después de que se hayan establecido."
   ]
  },
  {
   "cell_type": "code",
   "execution_count": 94,
   "id": "397b4bb4",
   "metadata": {},
   "outputs": [
    {
     "name": "stdout",
     "output_type": "stream",
     "text": [
      "3333\n",
      "3 3 3.0\n"
     ]
    }
   ],
   "source": [
    "x = str(3)\n",
    "\n",
    "y = int(3)\n",
    "\n",
    "z = float(3)\n",
    "\n",
    "print(4*x)\n",
    "\n",
    "print(x,y,z)"
   ]
  },
  {
   "cell_type": "markdown",
   "id": "50c32700",
   "metadata": {},
   "source": [
    "Los tipos de variable también pueden indicarse por medio de funciones que y así especificar literalmente el tipo de variable que queremos almacenar esto podrá generar una conversión de ser necesario."
   ]
  },
  {
   "cell_type": "code",
   "execution_count": null,
   "id": "a5049e47",
   "metadata": {},
   "outputs": [],
   "source": []
  },
  {
   "cell_type": "markdown",
   "id": "cd86e518",
   "metadata": {},
   "source": [
    "Si el valor no coincide con una conversión correcta generará un error por ejemplo cambiar letras a enteras que no pueden ser cambiados. "
   ]
  },
  {
   "cell_type": "markdown",
   "id": "55ba11a8",
   "metadata": {},
   "source": [
    "## Aplicando Conocimientos\n",
    "\n",
    "### Ejercicio de aplicación:\n",
    "\n",
    "-\tCrea un archivo de Python en donde almacenaremos información personal, esta información debe ir con el tipo de dato correspondiente. \n",
    "Variables a crear:\n",
    "    \n",
    "o\tNombres\n",
    "\n",
    "o\tPrimerApellido\n",
    "\n",
    "o\tSegundoApellido\n",
    "\n",
    "o\tEdad\n",
    "\n",
    "o\tNacionalidad\n",
    "\n",
    "o\tSexo\n"
   ]
  },
  {
   "cell_type": "code",
   "execution_count": null,
   "id": "e95266b8",
   "metadata": {},
   "outputs": [],
   "source": []
  }
 ],
 "metadata": {
  "kernelspec": {
   "display_name": "Python 3 (ipykernel)",
   "language": "python",
   "name": "python3"
  },
  "language_info": {
   "codemirror_mode": {
    "name": "ipython",
    "version": 3
   },
   "file_extension": ".py",
   "mimetype": "text/x-python",
   "name": "python",
   "nbconvert_exporter": "python",
   "pygments_lexer": "ipython3",
   "version": "3.9.12"
  }
 },
 "nbformat": 4,
 "nbformat_minor": 5
}
