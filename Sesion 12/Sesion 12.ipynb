{
 "cells": [
  {
   "cell_type": "markdown",
   "id": "9c8c537c",
   "metadata": {},
   "source": [
    "# <span style=\"color:darkblue\">Módulo 1 - Introducción a la programación con Python </span>\n",
    "\n",
    "## <span style=\"color:darkblue\">Sesión 12 - Manejo de archivos en Python</span>\n",
    "\n",
    "### <span style=\"color:darkblue\">Duración estimada:\t4 horas</span>\n",
    "\n",
    "#### <span style=\"color:darkblue\">En marco del proyecto: “EMPLEO JOVEN ES”</span>"
   ]
  },
  {
   "cell_type": "markdown",
   "id": "42a8be22",
   "metadata": {},
   "source": [
    "## <span style=\"color:darkblue\"> Tabla de contenidos:</span>\n",
    " \n",
    "    1- Bienvenida\n",
    "    \n",
    "    2- Asistencia\n",
    "    \n",
    "    3- Dudas de la Clase anterior\n",
    "    \n",
    "    4- Control de Lectura\n",
    "    \n",
    "    5- Objetivo\n",
    "    \n",
    "    6- Introducción\n",
    "    \n",
    "    7- Aprendamos\n",
    "\n",
    "    8- Manejo de archivos\t\n",
    "    \n",
    "    9- Sintaxis\t\n",
    "    \n",
    "    10- Abrir un archivo para lectura\t\n",
    "    \n",
    "    11- Solo lectura de partes del archivo\t\n",
    "\n",
    "    12- Leer líneas\t\n",
    "\n",
    "    13- Cerrar archivos\t\n",
    "   \n",
    "    14- Escritura de archivo de Python\t\n",
    "    \n",
    "    15- Crear un nuevo archivo\t\n",
    "    \n",
    "    16- Eliminar un archivo\t\n",
    "    \n",
    "    17- Compruebe si existe el archivo\t\n",
    "    \n",
    "    20- Eliminar carpeta\n",
    "    \n",
    "    21- Aplicando Conocimientos\t\n",
    "\n",
    "    22- Retroalimentación\n",
    "    \n",
    "    23- Asistencia\n"
   ]
  },
  {
   "cell_type": "markdown",
   "id": "51ae1b4d",
   "metadata": {},
   "source": [
    "## <span style=\"color:darkred\">Objetivo:</span>\n",
    "\n",
    "Aprender a manejar archivos en Python para poder leer, escribir y manipular datos almacenados en archivos en el sistema de archivos de la computadora.\n",
    "\n",
    "### <span style=\"color:darkred\">Recursos</span>\n",
    "\n",
    "•\tSesión 12 excepciones\n",
    "\n",
    "•\tComputadora con Python instalado\n",
    "\n",
    "•\tVisual Studio Code instalado\n",
    "\n",
    "\n",
    "\n",
    "\n",
    "### <span style=\"color:darkred\">Introducción:</span>\n",
    "\n",
    "Los archivos son una forma común de almacenar información, y aprender a manipularlos en Python es fundamental para muchos tipos de aplicaciones, como la lectura de datos de entrada, el procesamiento de archivos de texto, la escritura de archivos de salida, el acceso a bases de datos y mucho más.\n",
    "\n",
    "En Python, puedes manejar diferentes tipos de archivos, como archivos de texto, archivos binarios, archivos CSV (valores separados por comas), archivos JSON, archivos XML, y más. \n",
    "\n",
    "El manejo de archivos en Python también implica abrir y cerrar archivos, leer y escribir datos en los archivos, trabajar con diferentes modos de archivo y utilizar los diferentes métodos disponibles en Python para manipular archivos.\n",
    "\n",
    "\n",
    "\n",
    "### <span style=\"color:darkred\">Aprendamos </span>\n",
    "\n",
    "El manejo de archivos es una parte importante de cualquier aplicación de Python, este tiene varias funciones para crear, leer, actualizar y eliminar archivos.\n",
    "\n",
    "\n",
    "•\tLeer datos desde archivos de entrada y procesarlos: Puedes abrir y leer archivos de entrada para obtener información que luego puedes utilizar en tu programa.\n",
    "\n",
    "•\tEscribir datos en archivos de salida: Puedes crear archivos de salida y escribir información en ellos. Esto puede ser útil para generar informes o archivos que contengan datos de salida de tu programa.\n",
    "\n",
    "•\tManipular datos en archivos existentes: Puedes abrir un archivo existente y manipular su contenido, como buscar y reemplazar texto, agregar o eliminar contenido, y reorganizar información.\n",
    "\n",
    "•\tAcceder a datos en bases de datos: Puedes conectarte a bases de datos y leer o escribir datos en ellas.\n",
    "\n",
    "Esto es importante en muchos contextos empresariales.\n",
    "\n",
    "\n",
    "\n",
    "### <span style=\"color:darkred\">Manejo de Archivos </span>\n",
    "\n",
    "La función clave para trabajar con archivos en Python es la función `open( )`.\n",
    "\n",
    "La función `open( )` toma dos parámetros; nombre de archivo y modo .\n",
    "\n",
    "<table>\n",
    "    <tr>\n",
    "        <th>Modo</th>\n",
    "        <th>Descripción</th>\n",
    "    </tr>\n",
    "    <tr>\n",
    "        <td>'r'</td>\n",
    "        <td>Modo de lectura (por defecto). Abre un archivo para leerlo. Genera un error si el archivo no existe.</td>\n",
    "    </tr>\n",
    "    <tr>\n",
    "        <td>'w'</td>\n",
    "        <td>Modo de escritura. Abre un archivo para escribir en él. Si el archivo no existe, se crea. Si el archivo ya existe, se sobrescribe.</td>\n",
    "    </tr>\n",
    "    <tr>\n",
    "        <td>'a'</td>\n",
    "        <td>Modo de agregado. Abre un archivo para agregar datos al final del archivo. Si el archivo no existe, se crea.</td>\n",
    "    </tr>\n",
    "    <tr>\n",
    "        <td>'x'</td>\n",
    "        <td>Modo de creación exclusiva. Abre un archivo para escritura, pero solo si el archivo no existe.</td>\n",
    "    </tr>\n",
    "    <tr>\n",
    "        <td>'b'</td>\n",
    "        <td>Modo binario. Abre un archivo en modo binario.</td>\n",
    "    </tr>\n",
    "    <tr>\n",
    "        <td>'t'</td>\n",
    "        <td>Modo de texto (por defecto). Abre un archivo en modo de texto.</td>\n",
    "    </tr>\n",
    "    <tr>\n",
    "        <td>'+'</td>\n",
    "        <td>Modo de actualización. Abre un archivo para actualización (lectura y escritura).</td>\n",
    "    </tr>\n",
    "</table>\n",
    "\n",
    "\n",
    "En Python, estos modos se combinan entre sí para obtener diferentes opciones de apertura de archivos. \n",
    "\n",
    "Por ejemplo, el modo `\"rb\"` se utiliza para abrir un archivo en modo binario de solo lectura, mientras que el modo `\"w+\"` se utiliza para abrir un archivo en modo de escritura y lectura simultáneamente, creando el archivo si no existe.\n",
    "\n",
    "\n",
    "### <span style=\"color:darkred\">Sintaxis</span>\n",
    "    \n",
    "Para abrir un archivo para leerlo, basta con especificar el nombre del archivo:\n",
    "\n"
   ]
  },
  {
   "cell_type": "code",
   "execution_count": 53,
   "id": "fd895b99",
   "metadata": {},
   "outputs": [],
   "source": [
    "f = open('lorem.txt')"
   ]
  },
  {
   "cell_type": "markdown",
   "id": "c858c6b6",
   "metadata": {},
   "source": [
    "El código anterior es el mismo que:"
   ]
  },
  {
   "cell_type": "code",
   "execution_count": 58,
   "id": "cb180ed2",
   "metadata": {},
   "outputs": [],
   "source": [
    "f = open('lorem.txt', 'rt')"
   ]
  },
  {
   "cell_type": "markdown",
   "id": "ff03c0e8",
   "metadata": {},
   "source": [
    "Debido `\"r\"` a que para leer y `\"t\"` para texto son los valores predeterminados, no necesita especificarlos. \n",
    "\n",
    "#### Nota: \n",
    "asegúrese de que el archivo exista, de lo contrario obtendrá un error.\n",
    "\n",
    "### <span style=\"color:darkred\">Abrir un archivo para lectura</span>\n",
    "\n",
    "Supongamos que tenemos el siguiente archivo, ubicado en la misma carpeta que Python:\n",
    "`lorem.txt`\n",
    "\n",
    "Para abrir el archivo, use la función incorporada `open().`\n",
    "\n",
    "La función `open()` devuelve un objeto de archivo, que tiene un método `read()` para leer el contenido del archivo:\n"
   ]
  },
  {
   "cell_type": "markdown",
   "id": "81a2712c",
   "metadata": {},
   "source": [
    "Como puedes ver en el ejemplo anterior, imprimí el archivo abierto y proporcionó información sobre él. \n",
    "\n",
    "El archivo abierto tiene diferentes métodos de lectura:` read()`, readline y readlines. \n",
    "\n",
    "Un archivo abierto debe cerrarse con el método `close()`.\n",
    "\n",
    "`read()`: lee todo el texto como una cadena de caracteres. Si queremos limitar el número de caracteres que queremos leer, podemos hacerlo pasando un valor entero al método `read(numero)`."
   ]
  },
  {
   "cell_type": "code",
   "execution_count": 56,
   "id": "999e7ede",
   "metadata": {},
   "outputs": [
    {
     "name": "stdout",
     "output_type": "stream",
     "text": [
      "<_io.TextIOWrapper name='lorem.txt' mode='r' encoding='UTF-8'>\n"
     ]
    }
   ],
   "source": [
    "print(f)"
   ]
  },
  {
   "cell_type": "code",
   "execution_count": 59,
   "id": "20a29cde",
   "metadata": {},
   "outputs": [
    {
     "name": "stdout",
     "output_type": "stream",
     "text": [
      " Leer datos desde archivos de\n",
      " entrada y procesarlos: Puedes abrir y leer archivos de \n",
      "entrada para obtener informacion que luego puedes utilizar en tu programa.This text has to be appended at the end\n",
      "hola hola hola desde un archivo\n"
     ]
    }
   ],
   "source": [
    "print(f.read())"
   ]
  },
  {
   "cell_type": "markdown",
   "id": "e0415651",
   "metadata": {},
   "source": [
    "### <span style=\"color:darkred\">Solo lectura de partes del archivo</span>\n",
    "    \n",
    "De forma predeterminada, el método read() devuelve el texto completo, pero también puede especificar cuántos caracteres desea devolver:\n",
    "\n",
    "Ejemplo: Devuelve los 5 primeros caracteres del archivo:\n"
   ]
  },
  {
   "cell_type": "code",
   "execution_count": 62,
   "id": "4b171e42",
   "metadata": {},
   "outputs": [
    {
     "name": "stdout",
     "output_type": "stream",
     "text": [
      " Leer datos desde archivos de\n",
      " entrada y procesarlos: Puedes abrir y leer archivos de \n",
      "entrada para obtener informacion que luego puedes utilizar en tu programa.This text has to be appended at the end\n",
      "hola hola hola desde un archivo\n",
      "<class 'str'>\n"
     ]
    }
   ],
   "source": [
    "f = open('lorem.txt')\n",
    "\n",
    "txt = f.read()\n",
    "\n",
    "print(txt)\n",
    "\n",
    "print(type(txt))\n",
    "\n",
    "f.close()"
   ]
  },
  {
   "cell_type": "code",
   "execution_count": 63,
   "id": "1f9c1756",
   "metadata": {},
   "outputs": [
    {
     "ename": "ValueError",
     "evalue": "I/O operation on closed file.",
     "output_type": "error",
     "traceback": [
      "\u001b[0;31m---------------------------------------------------------------------------\u001b[0m",
      "\u001b[0;31mValueError\u001b[0m                                Traceback (most recent call last)",
      "Input \u001b[0;32mIn [63]\u001b[0m, in \u001b[0;36m<cell line: 1>\u001b[0;34m()\u001b[0m\n\u001b[0;32m----> 1\u001b[0m \u001b[43mf\u001b[49m\u001b[38;5;241;43m.\u001b[39;49m\u001b[43mread\u001b[49m\u001b[43m(\u001b[49m\u001b[43m)\u001b[49m\n",
      "\u001b[0;31mValueError\u001b[0m: I/O operation on closed file."
     ]
    }
   ],
   "source": [
    "f.read()"
   ]
  },
  {
   "cell_type": "markdown",
   "id": "bd6078fb",
   "metadata": {},
   "source": [
    "En lugar de imprimir todo el texto, vamos a imprimir los primeros 10 caracteres del archivo de texto."
   ]
  },
  {
   "cell_type": "code",
   "execution_count": 68,
   "id": "ee505843",
   "metadata": {},
   "outputs": [
    {
     "name": "stdout",
     "output_type": "stream",
     "text": [
      " Leer dato\n",
      "s des\n",
      "de archi\n",
      "vos de\n",
      " entrada y pr\n"
     ]
    }
   ],
   "source": [
    "f = open('lorem.txt')\n",
    "print(f.read(10))\n",
    "\n",
    "print(f.read(5))\n",
    "\n",
    "print(f.read(8))\n",
    "\n",
    "print(f.read(20))\n",
    "\n",
    "f.close()"
   ]
  },
  {
   "cell_type": "markdown",
   "id": "ef41f9e0",
   "metadata": {},
   "source": [
    "### <span style=\"color:darkred\">Leer Líneas</span>\n",
    "    \n",
    "Puede devolver una línea usando el método `readline()`:\n",
    "Ejemplo: Lea una línea del archivo:\n"
   ]
  },
  {
   "cell_type": "code",
   "execution_count": 78,
   "id": "5ff01b36",
   "metadata": {},
   "outputs": [
    {
     "name": "stdout",
     "output_type": "stream",
     "text": [
      "<class 'str'>\n",
      "Leer datos desde archivos de\n",
      "\n"
     ]
    }
   ],
   "source": [
    "f = open('lorem.txt')\n",
    "\n",
    "line = f.readline()\n",
    "\n",
    "print(type(line))\n",
    "\n",
    "print(line)"
   ]
  },
  {
   "cell_type": "code",
   "execution_count": 79,
   "id": "d4ba8c5b",
   "metadata": {},
   "outputs": [
    {
     "name": "stdout",
     "output_type": "stream",
     "text": [
      "entrada y procesarlos: Puedes abrir y leer archivos de \n",
      "\n",
      "entrada para obtener informacion que luego puedes utilizar en tu programa.\n",
      "\n",
      "This text has to be appended at the end\n",
      "\n"
     ]
    }
   ],
   "source": [
    "print(f.readline())\n",
    "print(f.readline())\n",
    "print(f.readline())\n",
    "f.close()"
   ]
  },
  {
   "cell_type": "markdown",
   "id": "e22869ae",
   "metadata": {},
   "source": [
    "`readlines()`: Lee todo el texto línea por línea y devuelve una lista de líneas."
   ]
  },
  {
   "cell_type": "code",
   "execution_count": 80,
   "id": "84bf737b",
   "metadata": {},
   "outputs": [
    {
     "name": "stdout",
     "output_type": "stream",
     "text": [
      "['Leer datos desde archivos de\\n', 'entrada y procesarlos: Puedes abrir y leer archivos de \\n', 'entrada para obtener informacion que luego puedes utilizar en tu programa.\\n', 'This text has to be appended at the end\\n', 'hola hola hola desde un archivo']\n"
     ]
    }
   ],
   "source": [
    "f = open('lorem.txt')\n",
    "lines = f.readlines()\n",
    "print(lines)"
   ]
  },
  {
   "cell_type": "code",
   "execution_count": 81,
   "id": "025ff675",
   "metadata": {},
   "outputs": [],
   "source": [
    "f.close()"
   ]
  },
  {
   "cell_type": "markdown",
   "id": "abb3551c",
   "metadata": {},
   "source": [
    "### <span style=\"color:darkred\">Cerrar archivos</span>\n",
    "    \n",
    "Puede devolver una línea usando el método `readline()`:\n",
    "Ejemplo: Lea una línea del archivo:"
   ]
  },
  {
   "cell_type": "code",
   "execution_count": 83,
   "id": "d31b1c92",
   "metadata": {},
   "outputs": [
    {
     "name": "stdout",
     "output_type": "stream",
     "text": [
      "['Leer datos desde archivos de\\n', 'entrada y procesarlos: Puedes abrir y leer archivos de \\n', 'entrada para obtener informacion que luego puedes utilizar en tu programa.\\n', 'This text has to be appended at the end\\n', 'hola hola hola desde un archivo']\n"
     ]
    }
   ],
   "source": [
    "file = 'lorem.txt'\n",
    "f = open(archivo)\n",
    "lines = f.readlines()\n",
    "print(lines)\n",
    "f.close()"
   ]
  },
  {
   "cell_type": "markdown",
   "id": "1c5c8a2c",
   "metadata": {},
   "source": [
    "Otra forma de obtener todas las líneas como una lista es utilizando `splitlines()`:"
   ]
  },
  {
   "cell_type": "code",
   "execution_count": 85,
   "id": "1f749cf7",
   "metadata": {},
   "outputs": [
    {
     "name": "stdout",
     "output_type": "stream",
     "text": [
      "['Leer datos desde archivos de', 'entrada y procesarlos: Puedes abrir y leer archivos de ', 'entrada para obtener informacion que luego puedes utilizar en tu programa.', 'This text has to be appended at the end', 'hola hola hola desde un archivo']\n"
     ]
    }
   ],
   "source": [
    "f = open(file)\n",
    "lines = f.read().splitlines()\n",
    "print(lines)\n",
    "f.close()"
   ]
  },
  {
   "cell_type": "markdown",
   "id": "8d951c7c",
   "metadata": {},
   "source": [
    "Después de abrir un archivo, debemos cerrarlo. Existe una alta tendencia a olvidarse de cerrarlos.\n",
    "\n",
    "Existe una nueva forma de abrir archivos utilizando la instrucción `\"with\"`, que cierra los archivos automáticamente. \n",
    "\n",
    "Vamos a reescribir el ejemplo anterior utilizando el método `\"with\"`:"
   ]
  },
  {
   "cell_type": "code",
   "execution_count": 86,
   "id": "0da2b6cf",
   "metadata": {},
   "outputs": [
    {
     "name": "stdout",
     "output_type": "stream",
     "text": [
      "['Leer datos desde archivos de', 'entrada y procesarlos: Puedes abrir y leer archivos de ', 'entrada para obtener informacion que luego puedes utilizar en tu programa.', 'This text has to be appended at the end', 'hola hola hola desde un archivo']\n"
     ]
    }
   ],
   "source": [
    "with open(file) as f:\n",
    "    lines = f.read().splitlines()\n",
    "    print(lines)"
   ]
  },
  {
   "cell_type": "markdown",
   "id": "7f6cb560",
   "metadata": {},
   "source": [
    "### <span style=\"color:darkred\">Escritura de archivo de Python</span>\n",
    "    \n",
    "Para escribir en un archivo existente, debe agregar un parámetro a la función open():\n",
    "\n",
    "•\t\"a\"- Agregar: se agregará al final del archivo\n",
    "\n",
    "\n",
    "•\t\"w\"- Escribir: sobrescribirá cualquier contenido existente\n"
   ]
  },
  {
   "cell_type": "code",
   "execution_count": 91,
   "id": "a7f1ab82",
   "metadata": {},
   "outputs": [],
   "source": [
    "with open (file, 'a') as f:\n",
    "    f.write('\\n este texto debe ir al final de todo todo todito')"
   ]
  },
  {
   "cell_type": "code",
   "execution_count": 90,
   "id": "ffb4e096",
   "metadata": {},
   "outputs": [],
   "source": [
    "with open (file, 'w') as f:\n",
    "    f.write('\\n este texto debe ir al final de todo todo todito')"
   ]
  },
  {
   "cell_type": "markdown",
   "id": "b45fe361",
   "metadata": {},
   "source": [
    "### <span style=\"color:darkred\">Crear un nuevo archivo</span>\n",
    "\n",
    "Para crear un nuevo archivo en Python, use el método open(), con uno de los siguientes parámetros:\n",
    "\n",
    "•\t\"x\"- Create - creará un archivo, devuelve un error si el archivo existe\n",
    "\n",
    "•\t\"a\"- Agregar: creará un archivo si el archivo especificado no existe\n",
    "\n",
    "•\t\"w\"- Escribir: creará un archivo si el archivo especificado no existe\n",
    "\n",
    "\n",
    "Ejemplo: cree un archivo llamado \"myfile.txt\":\n"
   ]
  },
  {
   "cell_type": "code",
   "execution_count": 93,
   "id": "a0dae8d6",
   "metadata": {},
   "outputs": [
    {
     "ename": "FileExistsError",
     "evalue": "[Errno 17] File exists: 'lorem.txt'",
     "output_type": "error",
     "traceback": [
      "\u001b[0;31m---------------------------------------------------------------------------\u001b[0m",
      "\u001b[0;31mFileExistsError\u001b[0m                           Traceback (most recent call last)",
      "Input \u001b[0;32mIn [93]\u001b[0m, in \u001b[0;36m<cell line: 1>\u001b[0;34m()\u001b[0m\n\u001b[0;32m----> 1\u001b[0m \u001b[38;5;28;01mwith\u001b[39;00m \u001b[38;5;28;43mopen\u001b[39;49m\u001b[43m(\u001b[49m\u001b[43mfile\u001b[49m\u001b[43m,\u001b[49m\u001b[43m \u001b[49m\u001b[38;5;124;43m'\u001b[39;49m\u001b[38;5;124;43mx\u001b[39;49m\u001b[38;5;124;43m'\u001b[39;49m\u001b[43m)\u001b[49m:\n\u001b[1;32m      2\u001b[0m     \u001b[38;5;28;01mpass\u001b[39;00m\n",
      "\u001b[0;31mFileExistsError\u001b[0m: [Errno 17] File exists: 'lorem.txt'"
     ]
    }
   ],
   "source": [
    "with open(file, 'x'):\n",
    "    pass"
   ]
  },
  {
   "cell_type": "code",
   "execution_count": 94,
   "id": "24d3062c",
   "metadata": {},
   "outputs": [],
   "source": [
    "file2 = 'myfile.txt'\n",
    "\n",
    "with open(file2, 'x'):\n",
    "    pass"
   ]
  },
  {
   "cell_type": "code",
   "execution_count": 95,
   "id": "d9f17cf6",
   "metadata": {},
   "outputs": [
    {
     "name": "stdout",
     "output_type": "stream",
     "text": [
      "Sesion 12.ipynb  lorem-Copy1.txt  lorem.txt        myfile.txt\r\n"
     ]
    }
   ],
   "source": [
    "ls"
   ]
  },
  {
   "cell_type": "markdown",
   "id": "72fb98f6",
   "metadata": {},
   "source": [
    "Resultado: ¡se crea un nuevo archivo vacío!\n",
    "    \n",
    "Ejemplo: Cree un nuevo archivo si no existe:\n"
   ]
  },
  {
   "cell_type": "code",
   "execution_count": 98,
   "id": "3664d166",
   "metadata": {},
   "outputs": [],
   "source": [
    "with open('archivito.txt','w'):\n",
    "    pass"
   ]
  },
  {
   "cell_type": "code",
   "execution_count": 99,
   "id": "ffd5466f",
   "metadata": {},
   "outputs": [
    {
     "name": "stdout",
     "output_type": "stream",
     "text": [
      "Sesion 12.ipynb  lorem-Copy1.txt  myfile.txt\r\n",
      "archivito.txt    lorem.txt\r\n"
     ]
    }
   ],
   "source": [
    "ls"
   ]
  },
  {
   "cell_type": "code",
   "execution_count": 104,
   "id": "aa70a57b",
   "metadata": {},
   "outputs": [],
   "source": [
    "with open('prueba.txt','a') as f:\n",
    "    f.write('Crear un nuevo archivo Para crear un nuevo archivo en Python, use el método open(), con uno de los siguientes parámetros:Create - creará un archivo, devuelve un error si el archivo existeAgregar: creará un archivo si el archivo especificado no existeEscribir: creará un archivo si el archivo especificado no existe')"
   ]
  },
  {
   "cell_type": "markdown",
   "id": "d6c8f3b1",
   "metadata": {},
   "source": [
    "### <span style=\"color:darkred\">Eliminar un archivo</span>\n",
    "\n",
    "Para eliminar un archivo, debe importar el módulo del sistema operativo y ejecutar su función `os.remove( )`:\n",
    "\n",
    "Ejemplo: Elimina el archivo` \"demofile.txt\"`:\n"
   ]
  },
  {
   "cell_type": "code",
   "execution_count": 105,
   "id": "b23b1f8f",
   "metadata": {},
   "outputs": [],
   "source": [
    "import os\n",
    "\n",
    "os.remove('archivito.txt')"
   ]
  },
  {
   "cell_type": "code",
   "execution_count": 106,
   "id": "4ca9399d",
   "metadata": {},
   "outputs": [
    {
     "name": "stdout",
     "output_type": "stream",
     "text": [
      "Sesion 12.ipynb  lorem.txt        prueba.txt\r\n",
      "lorem-Copy1.txt  myfile.txt\r\n"
     ]
    }
   ],
   "source": [
    "ls"
   ]
  },
  {
   "cell_type": "markdown",
   "id": "3f39d49d",
   "metadata": {},
   "source": [
    "### <span style=\"color:darkred\">Compruebe si existe el archivos</span>\n",
    "Para evitar recibir un error, es posible que desee verificar si el archivo existe antes de intentar eliminarlo:\n",
    "\n",
    "Ejemplo: Verifique si el archivo existe, luego elimínelo:\n"
   ]
  },
  {
   "cell_type": "code",
   "execution_count": 107,
   "id": "388c2a21",
   "metadata": {},
   "outputs": [
    {
     "name": "stdout",
     "output_type": "stream",
     "text": [
      "No existe el archivo\n"
     ]
    }
   ],
   "source": [
    "if os.path.exists('myfil.txt'):\n",
    "    os.remove('myfile.txt')    \n",
    "else:\n",
    "    print('No existe el archivo')"
   ]
  },
  {
   "cell_type": "code",
   "execution_count": 109,
   "id": "6edea7c7",
   "metadata": {},
   "outputs": [
    {
     "name": "stdout",
     "output_type": "stream",
     "text": [
      "Archivo Eliminado\n",
      "Archivo ejecutado\n"
     ]
    }
   ],
   "source": [
    "try: \n",
    "    if os.path.exists('myfile.txt'):\n",
    "        os.remove('myfile.txt')  \n",
    "        print('Archivo Eliminado')\n",
    "    else:\n",
    "        raise FileNotFoundError('No existe el archivo')\n",
    "\n",
    "except FileNotFoundError as err:\n",
    "    print(err)\n",
    "    \n",
    "finally:\n",
    "    print('Fin del Programa')"
   ]
  },
  {
   "cell_type": "code",
   "execution_count": 111,
   "id": "6ab55d43",
   "metadata": {},
   "outputs": [
    {
     "name": "stdout",
     "output_type": "stream",
     "text": [
      "Sesion 12.ipynb  lorem-Copy1.txt  prueba.txt\r\n",
      "\u001b[1m\u001b[36mborrame\u001b[m\u001b[m/         lorem.txt\r\n"
     ]
    }
   ],
   "source": [
    "ls"
   ]
  },
  {
   "cell_type": "markdown",
   "id": "16d1f0fc",
   "metadata": {},
   "source": [
    "### <span style=\"color:darkred\">Eliminar carpeta</span>\n",
    "\n",
    "Para eliminar una carpeta completa, utilice el método `os.rmdir()`:\n",
    "\n",
    "Ejemplo: Eliminar la carpeta \"borrame\":\n"
   ]
  },
  {
   "cell_type": "code",
   "execution_count": 112,
   "id": "7982fbaa",
   "metadata": {},
   "outputs": [],
   "source": [
    "os.rmdir('borrame/')"
   ]
  },
  {
   "cell_type": "code",
   "execution_count": 113,
   "id": "61dfcf00",
   "metadata": {},
   "outputs": [
    {
     "name": "stdout",
     "output_type": "stream",
     "text": [
      "Sesion 12.ipynb  lorem-Copy1.txt  lorem.txt        prueba.txt\r\n"
     ]
    }
   ],
   "source": [
    "ls"
   ]
  },
  {
   "cell_type": "code",
   "execution_count": 114,
   "id": "13c25808",
   "metadata": {},
   "outputs": [],
   "source": [
    "mkdir prueba"
   ]
  },
  {
   "cell_type": "code",
   "execution_count": 115,
   "id": "65981c05",
   "metadata": {},
   "outputs": [
    {
     "name": "stdout",
     "output_type": "stream",
     "text": [
      "Sesion 12.ipynb  lorem-Copy1.txt  \u001b[1m\u001b[36mprueba\u001b[m\u001b[m/\r\n",
      "auto-mpg.csv     lorem.txt        prueba.txt\r\n"
     ]
    }
   ],
   "source": [
    "ls "
   ]
  },
  {
   "cell_type": "markdown",
   "id": "2ef05e9c",
   "metadata": {},
   "source": [
    "### Tipos de Archivos\n",
    "### Archivo con extensión txt\n",
    "\n",
    "El archivo con extensión txt es una forma muy común de datos y lo hemos mencionado en la sección anterior. Ahora pasemos al archivo JSON.\n",
    "Archivo con extensión json\n",
    "\n",
    "`JSON` significa JavaScript Object Notation (Notación de Objetos de JavaScript). En realidad, es un objeto JavaScript o un diccionario de Python convertido en una cadena de caracteres.\n",
    "\n",
    "Ejemplo:"
   ]
  },
  {
   "cell_type": "code",
   "execution_count": 137,
   "id": "ce8d4da6",
   "metadata": {},
   "outputs": [],
   "source": [
    "datos_dct = {\n",
    "    'nombre': 'john Doe',\n",
    "    'pais': 'Australia',\n",
    "    'ciudad': 'Sidney',\n",
    "    'Habilidades': ['JavaScript', 'React', 'Python']\n",
    "}\n",
    "\n",
    "\n",
    "datos_json =  \"\"\"{\n",
    "    \"nombre\": \"John dane\",\n",
    "    \"pais\": \"Australia\",\n",
    "    \"ciudad\": \"Sidney\",\n",
    "    \"habilidades\": [\"Javascrip\", \"React\", \"Python\"]\n",
    "}\"\"\"\n"
   ]
  },
  {
   "cell_type": "code",
   "execution_count": 134,
   "id": "bccb11aa",
   "metadata": {},
   "outputs": [
    {
     "data": {
      "text/plain": [
       "(dict, str)"
      ]
     },
     "execution_count": 134,
     "metadata": {},
     "output_type": "execute_result"
    }
   ],
   "source": [
    "type(datos_dct), type(datos_json)"
   ]
  },
  {
   "cell_type": "code",
   "execution_count": 138,
   "id": "63eefaf0",
   "metadata": {},
   "outputs": [
    {
     "name": "stdout",
     "output_type": "stream",
     "text": [
      "<class 'dict'>\n"
     ]
    }
   ],
   "source": [
    "import json\n",
    "\n",
    "#JSON\n",
    "\n",
    "#cambiando jason a diccionario\n",
    "datos_dct = json.loads(datos_json)\n",
    "\n",
    "print(type(datos_dct))"
   ]
  },
  {
   "cell_type": "markdown",
   "id": "4a508e90",
   "metadata": {},
   "source": [
    "### Convirtiendo un JSON a un diccionario\n",
    "\n",
    "Para convertir un JSON en un diccionario, primero importamos el módulo json y luego utilizamos el método loads."
   ]
  },
  {
   "cell_type": "markdown",
   "id": "89cf05bd",
   "metadata": {},
   "source": [
    "## Observacion !"
   ]
  },
  {
   "cell_type": "code",
   "execution_count": 130,
   "id": "00b64bf6",
   "metadata": {},
   "outputs": [
    {
     "name": "stdout",
     "output_type": "stream",
     "text": [
      "<class 'str'>\n"
     ]
    }
   ],
   "source": [
    "import json\n",
    "\n",
    "datos_json = {'nombre': 'john Doe', 'pais': 'Australia', 'ciudad': 'Sidney',    'Habilidades': ['JavaScript', 'React', 'Python']}\n",
    "\n",
    "#JSON\n",
    "\n",
    "#cambiando jason a diccionario\n",
    "datos_dct = json.dumps(datos_json)\n",
    "\n",
    "print(type(datos_dct))"
   ]
  },
  {
   "cell_type": "code",
   "execution_count": null,
   "id": "12cc7fe7",
   "metadata": {},
   "outputs": [],
   "source": []
  },
  {
   "cell_type": "markdown",
   "id": "7509ef0a",
   "metadata": {},
   "source": [
    "### Convertir un JSON a Diccionario"
   ]
  },
  {
   "cell_type": "markdown",
   "id": "4cd81b27",
   "metadata": {},
   "source": [
    "### Guardar un archivo JSON\n",
    "\n",
    "También podemos guardar nuestros datos como un archivo JSON. Vamos a guardarlo como un archivo JSON siguiendo los siguientes pasos. Para escribir un archivo JSON, utilizamos el método json.dump(). Este método puede recibir como argumentos un diccionario, el archivo de salida, ensure_ascii e indent.\n",
    "\n",
    "Aquí tienes un ejemplo de cómo guardar datos como un archivo JSON:"
   ]
  },
  {
   "cell_type": "markdown",
   "id": "e9d724e1",
   "metadata": {},
   "source": [
    "### Archivo con extensión csv\n",
    "\n",
    "CSV significa valores separados por comas (Comma Separated Values). CSV es un formato de archivo simple utilizado para almacenar datos tabulares, como una hoja de cálculo o una base de datos. CSV es un formato de datos muy común en ciencia de datos.\n",
    "\n",
    "Ejemplo:"
   ]
  },
  {
   "cell_type": "code",
   "execution_count": 144,
   "id": "7f892ca1",
   "metadata": {
    "scrolled": false
   },
   "outputs": [
    {
     "name": "stdout",
     "output_type": "stream",
     "text": [
      "El nombre de la columna es: mpg,cylinders,displacement,horsepower,weight,acceleration,model year,origin,car name\n",
      "chevrolet chevelle malibu \n",
      "buick skylark 320 \n",
      "plymouth satellite \n",
      "amc rebel sst \n",
      "ford torino \n",
      "ford galaxie 500 \n",
      "chevrolet impala \n",
      "plymouth fury iii \n",
      "pontiac catalina \n",
      "amc ambassador dpl \n",
      "citroen ds-21 pallas \n",
      "chevrolet chevelle concours (sw) \n",
      "ford torino (sw) \n",
      "plymouth satellite (sw) \n",
      "amc rebel sst (sw) \n",
      "dodge challenger se \n",
      "plymouth 'cuda 340 \n",
      "ford mustang boss 302 \n",
      "chevrolet monte carlo \n",
      "buick estate wagon (sw) \n",
      "toyota corona mark ii \n",
      "plymouth duster \n",
      "amc hornet \n",
      "ford maverick \n",
      "datsun pl510 \n",
      "volkswagen 1131 deluxe sedan \n",
      "peugeot 504 \n",
      "audi 100 ls \n",
      "saab 99e \n",
      "bmw 2002 \n",
      "amc gremlin \n",
      "ford f250 \n",
      "chevy c20 \n",
      "dodge d200 \n",
      "hi 1200d \n",
      "datsun pl510 \n",
      "chevrolet vega 2300 \n",
      "toyota corona \n",
      "ford pinto \n",
      "volkswagen super beetle 117 \n",
      "amc gremlin \n",
      "plymouth satellite custom \n",
      "chevrolet chevelle malibu \n",
      "ford torino 500 \n",
      "amc matador \n",
      "chevrolet impala \n",
      "pontiac catalina brougham \n",
      "ford galaxie 500 \n",
      "plymouth fury iii \n",
      "dodge monaco (sw) \n",
      "ford country squire (sw) \n",
      "pontiac safari (sw) \n",
      "amc hornet sportabout (sw) \n",
      "chevrolet vega (sw) \n",
      "pontiac firebird \n",
      "ford mustang \n",
      "mercury capri 2000 \n",
      "opel 1900 \n",
      "peugeot 304 \n",
      "fiat 124b \n",
      "toyota corolla 1200 \n",
      "datsun 1200 \n",
      "volkswagen model 111 \n",
      "plymouth cricket \n",
      "toyota corona hardtop \n",
      "dodge colt hardtop \n",
      "volkswagen type 3 \n",
      "chevrolet vega \n",
      "ford pinto runabout \n",
      "chevrolet impala \n",
      "pontiac catalina \n",
      "plymouth fury iii \n",
      "ford galaxie 500 \n",
      "amc ambassador sst \n",
      "mercury marquis \n",
      "buick lesabre custom \n",
      "oldsmobile delta 88 royale \n",
      "chrysler newport royal \n",
      "mazda rx2 coupe \n",
      "amc matador (sw) \n",
      "chevrolet chevelle concours (sw) \n",
      "ford gran torino (sw) \n",
      "plymouth satellite custom (sw) \n",
      "volvo 145e (sw) \n",
      "volkswagen 411 (sw) \n",
      "peugeot 504 (sw) \n",
      "renault 12 (sw) \n",
      "ford pinto (sw) \n",
      "datsun 510 (sw) \n",
      "toyouta corona mark ii (sw) \n",
      "dodge colt (sw) \n",
      "toyota corolla 1600 (sw) \n",
      "buick century 350 \n",
      "amc matador \n",
      "chevrolet malibu \n",
      "ford gran torino \n",
      "dodge coronet custom \n",
      "mercury marquis brougham \n",
      "chevrolet caprice classic \n",
      "ford ltd \n",
      "plymouth fury gran sedan \n",
      "chrysler new yorker brougham \n",
      "buick electra 225 custom \n",
      "amc ambassador brougham \n",
      "plymouth valiant \n",
      "chevrolet nova custom \n",
      "amc hornet \n",
      "ford maverick \n",
      "plymouth duster \n",
      "volkswagen super beetle \n",
      "chevrolet impala \n",
      "ford country \n",
      "plymouth custom suburb \n",
      "oldsmobile vista cruiser \n",
      "amc gremlin \n",
      "toyota carina \n",
      "chevrolet vega \n",
      "datsun 610 \n",
      "maxda rx3 \n",
      "ford pinto \n",
      "mercury capri v6 \n",
      "fiat 124 sport coupe \n",
      "chevrolet monte carlo s \n",
      "pontiac grand prix \n",
      "fiat 128 \n",
      "opel manta \n",
      "audi 100ls \n",
      "volvo 144ea \n",
      "dodge dart custom \n",
      "saab 99le \n",
      "toyota mark ii \n",
      "oldsmobile omega \n",
      "plymouth duster \n",
      "ford maverick \n",
      "amc hornet \n",
      "chevrolet nova \n",
      "datsun b210 \n",
      "ford pinto \n",
      "toyota corolla 1200 \n",
      "chevrolet vega \n",
      "chevrolet chevelle malibu classic \n",
      "amc matador \n",
      "plymouth satellite sebring \n",
      "ford gran torino \n",
      "buick century luxus (sw) \n",
      "dodge coronet custom (sw) \n",
      "ford gran torino (sw) \n",
      "amc matador (sw) \n",
      "audi fox \n",
      "volkswagen dasher \n",
      "opel manta \n",
      "toyota corona \n",
      "datsun 710 \n",
      "dodge colt \n",
      "fiat 128 \n",
      "fiat 124 tc \n",
      "honda civic \n",
      "subaru \n",
      "fiat x1.9 \n",
      "plymouth valiant custom \n",
      "chevrolet nova \n",
      "mercury monarch \n",
      "ford maverick \n",
      "pontiac catalina \n",
      "chevrolet bel air \n",
      "plymouth grand fury \n",
      "ford ltd \n",
      "buick century \n",
      "chevroelt chevelle malibu \n",
      "amc matador \n",
      "plymouth fury \n",
      "buick skyhawk \n",
      "chevrolet monza 2+2 \n",
      "ford mustang ii \n",
      "toyota corolla \n",
      "ford pinto \n",
      "amc gremlin \n",
      "pontiac astro \n",
      "toyota corona \n",
      "volkswagen dasher \n",
      "datsun 710 \n",
      "ford pinto \n",
      "volkswagen rabbit \n",
      "amc pacer \n",
      "audi 100ls \n",
      "peugeot 504 \n",
      "volvo 244dl \n",
      "saab 99le \n",
      "honda civic cvcc \n",
      "fiat 131 \n",
      "opel 1900 \n",
      "capri ii \n",
      "dodge colt \n",
      "renault 12tl \n",
      "chevrolet chevelle malibu classic \n",
      "dodge coronet brougham \n",
      "amc matador \n",
      "ford gran torino \n",
      "plymouth valiant \n",
      "chevrolet nova \n",
      "ford maverick \n",
      "amc hornet \n",
      "chevrolet chevette \n",
      "chevrolet woody \n",
      "vw rabbit \n",
      "honda civic \n",
      "dodge aspen se \n",
      "ford granada ghia \n",
      "pontiac ventura sj \n",
      "amc pacer d/l \n",
      "volkswagen rabbit \n",
      "datsun b-210 \n",
      "toyota corolla \n",
      "ford pinto \n",
      "volvo 245 \n",
      "plymouth volare premier v8 \n",
      "peugeot 504 \n",
      "toyota mark ii \n",
      "mercedes-benz 280s \n",
      "cadillac seville \n",
      "chevy c10 \n",
      "ford f108 \n",
      "dodge d100 \n",
      "honda accord cvcc \n",
      "buick opel isuzu deluxe \n",
      "renault 5 gtl \n",
      "plymouth arrow gs \n",
      "datsun f-10 hatchback \n",
      "chevrolet caprice classic \n",
      "oldsmobile cutlass supreme \n",
      "dodge monaco brougham \n",
      "mercury cougar brougham \n",
      "chevrolet concours \n",
      "buick skylark \n",
      "plymouth volare custom \n",
      "ford granada \n",
      "pontiac grand prix lj \n",
      "chevrolet monte carlo landau \n",
      "chrysler cordoba \n",
      "ford thunderbird \n",
      "volkswagen rabbit custom \n",
      "pontiac sunbird coupe \n",
      "toyota corolla liftback \n",
      "ford mustang ii 2+2 \n",
      "chevrolet chevette \n",
      "dodge colt m/m \n",
      "subaru dl \n",
      "volkswagen dasher \n",
      "datsun 810 \n",
      "bmw 320i \n",
      "mazda rx-4 \n",
      "volkswagen rabbit custom diesel \n",
      "ford fiesta \n",
      "mazda glc deluxe \n",
      "datsun b210 gx \n",
      "honda civic cvcc \n",
      "oldsmobile cutlass salon brougham \n",
      "dodge diplomat \n",
      "mercury monarch ghia \n",
      "pontiac phoenix lj \n",
      "chevrolet malibu \n",
      "ford fairmont (auto) \n",
      "ford fairmont (man) \n",
      "plymouth volare \n",
      "amc concord \n",
      "buick century special \n",
      "mercury zephyr \n",
      "dodge aspen \n",
      "amc concord d/l \n",
      "chevrolet monte carlo landau \n",
      "buick regal sport coupe (turbo) \n",
      "ford futura \n",
      "dodge magnum xe \n",
      "chevrolet chevette \n",
      "toyota corona \n",
      "datsun 510 \n",
      "dodge omni \n",
      "toyota celica gt liftback \n",
      "plymouth sapporo \n",
      "oldsmobile starfire sx \n",
      "datsun 200-sx \n",
      "audi 5000 \n",
      "volvo 264gl \n",
      "saab 99gle \n",
      "peugeot 604sl \n",
      "volkswagen scirocco \n",
      "honda accord lx \n",
      "pontiac lemans v6 \n",
      "mercury zephyr 6 \n",
      "ford fairmont 4 \n",
      "amc concord dl 6 \n",
      "dodge aspen 6 \n",
      "chevrolet caprice classic \n",
      "ford ltd landau \n",
      "mercury grand marquis \n",
      "dodge st. regis \n",
      "buick estate wagon (sw) \n",
      "ford country squire (sw) \n",
      "chevrolet malibu classic (sw) \n",
      "chrysler lebaron town @ country (sw) \n",
      "vw rabbit custom \n",
      "maxda glc deluxe \n",
      "dodge colt hatchback custom \n",
      "amc spirit dl \n",
      "mercedes benz 300d \n",
      "cadillac eldorado \n",
      "peugeot 504 \n",
      "oldsmobile cutlass salon brougham \n",
      "plymouth horizon \n",
      "plymouth horizon tc3 \n",
      "datsun 210 \n",
      "fiat strada custom \n",
      "buick skylark limited \n",
      "chevrolet citation \n",
      "oldsmobile omega brougham \n",
      "pontiac phoenix \n",
      "vw rabbit \n",
      "toyota corolla tercel \n",
      "chevrolet chevette \n",
      "datsun 310 \n",
      "chevrolet citation \n",
      "ford fairmont \n",
      "amc concord \n",
      "dodge aspen \n",
      "audi 4000 \n",
      "toyota corona liftback \n",
      "mazda 626 \n",
      "datsun 510 hatchback \n",
      "toyota corolla \n",
      "mazda glc \n",
      "dodge colt \n",
      "datsun 210 \n",
      "vw rabbit c (diesel) \n",
      "vw dasher (diesel) \n",
      "audi 5000s (diesel) \n",
      "mercedes-benz 240d \n",
      "honda civic 1500 gl \n",
      "renault lecar deluxe \n",
      "subaru dl \n",
      "vokswagen rabbit \n",
      "datsun 280-zx \n",
      "mazda rx-7 gs \n",
      "triumph tr7 coupe \n",
      "ford mustang cobra \n",
      "honda accord \n",
      "plymouth reliant \n",
      "buick skylark \n",
      "dodge aries wagon (sw) \n",
      "chevrolet citation \n",
      "plymouth reliant \n",
      "toyota starlet \n",
      "plymouth champ \n",
      "honda civic 1300 \n",
      "subaru \n",
      "datsun 210 mpg \n",
      "toyota tercel \n",
      "mazda glc 4 \n",
      "plymouth horizon 4 \n",
      "ford escort 4w \n",
      "ford escort 2h \n",
      "volkswagen jetta \n",
      "renault 18i \n",
      "honda prelude \n",
      "toyota corolla \n",
      "datsun 200sx \n",
      "mazda 626 \n",
      "peugeot 505s turbo diesel \n",
      "saab 900s \n",
      "volvo diesel \n",
      "toyota cressida \n",
      "datsun 810 maxima \n",
      "buick century \n",
      "oldsmobile cutlass ls \n",
      "ford granada gl \n",
      "chrysler lebaron salon \n",
      "chevrolet cavalier \n",
      "chevrolet cavalier wagon \n",
      "chevrolet cavalier 2-door \n",
      "pontiac j2000 se hatchback \n",
      "dodge aries se \n",
      "pontiac phoenix \n",
      "ford fairmont futura \n",
      "amc concord dl \n",
      "volkswagen rabbit l \n",
      "mazda glc custom l \n",
      "mazda glc custom \n",
      "plymouth horizon miser \n",
      "mercury lynx l \n",
      "nissan stanza xe \n",
      "honda accord \n",
      "toyota corolla \n",
      "honda civic \n",
      "honda civic (auto) \n",
      "datsun 310 gx \n",
      "buick century limited \n",
      "oldsmobile cutlass ciera (diesel) \n",
      "chrysler lebaron medallion \n",
      "ford granada l \n",
      "toyota celica gt \n",
      "dodge charger 2.2 \n",
      "chevrolet camaro \n",
      "ford mustang gl \n",
      "vw pickup \n",
      "dodge rampage \n",
      "ford ranger \n",
      "chevy s-10 \n"
     ]
    }
   ],
   "source": [
    "import csv\n",
    "\n",
    "with open('auto-mpg.csv') as f:\n",
    "    csv_reader = csv.reader(f, delimiter = ',')\n",
    "    line_count = 0\n",
    "    for fila in csv_reader:\n",
    "        if line_count == 0:\n",
    "            print(f'El nombre de la columna es: {\",\".join(fila)}')\n",
    "            line_count += 1\n",
    "        else:\n",
    "            print(f'{fila[8]} ')\n",
    "            line_count =+ 1"
   ]
  },
  {
   "cell_type": "code",
   "execution_count": 147,
   "id": "fbec6336",
   "metadata": {},
   "outputs": [
    {
     "data": {
      "text/html": [
       "<div>\n",
       "<style scoped>\n",
       "    .dataframe tbody tr th:only-of-type {\n",
       "        vertical-align: middle;\n",
       "    }\n",
       "\n",
       "    .dataframe tbody tr th {\n",
       "        vertical-align: top;\n",
       "    }\n",
       "\n",
       "    .dataframe thead th {\n",
       "        text-align: right;\n",
       "    }\n",
       "</style>\n",
       "<table border=\"1\" class=\"dataframe\">\n",
       "  <thead>\n",
       "    <tr style=\"text-align: right;\">\n",
       "      <th></th>\n",
       "      <th>mpg</th>\n",
       "      <th>cylinders</th>\n",
       "      <th>displacement</th>\n",
       "      <th>horsepower</th>\n",
       "      <th>weight</th>\n",
       "      <th>acceleration</th>\n",
       "      <th>model year</th>\n",
       "      <th>origin</th>\n",
       "      <th>car name</th>\n",
       "    </tr>\n",
       "  </thead>\n",
       "  <tbody>\n",
       "    <tr>\n",
       "      <th>0</th>\n",
       "      <td>18.0</td>\n",
       "      <td>8</td>\n",
       "      <td>307.0</td>\n",
       "      <td>130.0</td>\n",
       "      <td>3504</td>\n",
       "      <td>12.0</td>\n",
       "      <td>70</td>\n",
       "      <td>1</td>\n",
       "      <td>chevrolet chevelle malibu</td>\n",
       "    </tr>\n",
       "    <tr>\n",
       "      <th>1</th>\n",
       "      <td>15.0</td>\n",
       "      <td>8</td>\n",
       "      <td>350.0</td>\n",
       "      <td>165.0</td>\n",
       "      <td>3693</td>\n",
       "      <td>11.5</td>\n",
       "      <td>70</td>\n",
       "      <td>1</td>\n",
       "      <td>buick skylark 320</td>\n",
       "    </tr>\n",
       "    <tr>\n",
       "      <th>2</th>\n",
       "      <td>18.0</td>\n",
       "      <td>8</td>\n",
       "      <td>318.0</td>\n",
       "      <td>150.0</td>\n",
       "      <td>3436</td>\n",
       "      <td>11.0</td>\n",
       "      <td>70</td>\n",
       "      <td>1</td>\n",
       "      <td>plymouth satellite</td>\n",
       "    </tr>\n",
       "    <tr>\n",
       "      <th>3</th>\n",
       "      <td>16.0</td>\n",
       "      <td>8</td>\n",
       "      <td>304.0</td>\n",
       "      <td>150.0</td>\n",
       "      <td>3433</td>\n",
       "      <td>12.0</td>\n",
       "      <td>70</td>\n",
       "      <td>1</td>\n",
       "      <td>amc rebel sst</td>\n",
       "    </tr>\n",
       "    <tr>\n",
       "      <th>4</th>\n",
       "      <td>17.0</td>\n",
       "      <td>8</td>\n",
       "      <td>302.0</td>\n",
       "      <td>140.0</td>\n",
       "      <td>3449</td>\n",
       "      <td>10.5</td>\n",
       "      <td>70</td>\n",
       "      <td>1</td>\n",
       "      <td>ford torino</td>\n",
       "    </tr>\n",
       "    <tr>\n",
       "      <th>...</th>\n",
       "      <td>...</td>\n",
       "      <td>...</td>\n",
       "      <td>...</td>\n",
       "      <td>...</td>\n",
       "      <td>...</td>\n",
       "      <td>...</td>\n",
       "      <td>...</td>\n",
       "      <td>...</td>\n",
       "      <td>...</td>\n",
       "    </tr>\n",
       "    <tr>\n",
       "      <th>401</th>\n",
       "      <td>27.0</td>\n",
       "      <td>4</td>\n",
       "      <td>140.0</td>\n",
       "      <td>86.0</td>\n",
       "      <td>2790</td>\n",
       "      <td>15.6</td>\n",
       "      <td>82</td>\n",
       "      <td>1</td>\n",
       "      <td>ford mustang gl</td>\n",
       "    </tr>\n",
       "    <tr>\n",
       "      <th>402</th>\n",
       "      <td>44.0</td>\n",
       "      <td>4</td>\n",
       "      <td>97.0</td>\n",
       "      <td>52.0</td>\n",
       "      <td>2130</td>\n",
       "      <td>24.6</td>\n",
       "      <td>82</td>\n",
       "      <td>2</td>\n",
       "      <td>vw pickup</td>\n",
       "    </tr>\n",
       "    <tr>\n",
       "      <th>403</th>\n",
       "      <td>32.0</td>\n",
       "      <td>4</td>\n",
       "      <td>135.0</td>\n",
       "      <td>84.0</td>\n",
       "      <td>2295</td>\n",
       "      <td>11.6</td>\n",
       "      <td>82</td>\n",
       "      <td>1</td>\n",
       "      <td>dodge rampage</td>\n",
       "    </tr>\n",
       "    <tr>\n",
       "      <th>404</th>\n",
       "      <td>28.0</td>\n",
       "      <td>4</td>\n",
       "      <td>120.0</td>\n",
       "      <td>79.0</td>\n",
       "      <td>2625</td>\n",
       "      <td>18.6</td>\n",
       "      <td>82</td>\n",
       "      <td>1</td>\n",
       "      <td>ford ranger</td>\n",
       "    </tr>\n",
       "    <tr>\n",
       "      <th>405</th>\n",
       "      <td>31.0</td>\n",
       "      <td>4</td>\n",
       "      <td>119.0</td>\n",
       "      <td>82.0</td>\n",
       "      <td>2720</td>\n",
       "      <td>19.4</td>\n",
       "      <td>82</td>\n",
       "      <td>1</td>\n",
       "      <td>chevy s-10</td>\n",
       "    </tr>\n",
       "  </tbody>\n",
       "</table>\n",
       "<p>406 rows × 9 columns</p>\n",
       "</div>"
      ],
      "text/plain": [
       "      mpg  cylinders  displacement  horsepower  weight  acceleration  \\\n",
       "0    18.0          8         307.0       130.0    3504          12.0   \n",
       "1    15.0          8         350.0       165.0    3693          11.5   \n",
       "2    18.0          8         318.0       150.0    3436          11.0   \n",
       "3    16.0          8         304.0       150.0    3433          12.0   \n",
       "4    17.0          8         302.0       140.0    3449          10.5   \n",
       "..    ...        ...           ...         ...     ...           ...   \n",
       "401  27.0          4         140.0        86.0    2790          15.6   \n",
       "402  44.0          4          97.0        52.0    2130          24.6   \n",
       "403  32.0          4         135.0        84.0    2295          11.6   \n",
       "404  28.0          4         120.0        79.0    2625          18.6   \n",
       "405  31.0          4         119.0        82.0    2720          19.4   \n",
       "\n",
       "     model year  origin                   car name  \n",
       "0            70       1  chevrolet chevelle malibu  \n",
       "1            70       1          buick skylark 320  \n",
       "2            70       1         plymouth satellite  \n",
       "3            70       1              amc rebel sst  \n",
       "4            70       1                ford torino  \n",
       "..          ...     ...                        ...  \n",
       "401          82       1            ford mustang gl  \n",
       "402          82       2                  vw pickup  \n",
       "403          82       1              dodge rampage  \n",
       "404          82       1                ford ranger  \n",
       "405          82       1                 chevy s-10  \n",
       "\n",
       "[406 rows x 9 columns]"
      ]
     },
     "execution_count": 147,
     "metadata": {},
     "output_type": "execute_result"
    }
   ],
   "source": [
    "import pandas as pd\n",
    "\n",
    "data = pd.read_csv('auto-mpg.csv')\n",
    "\n",
    "data"
   ]
  },
  {
   "cell_type": "code",
   "execution_count": 148,
   "id": "45723449",
   "metadata": {},
   "outputs": [
    {
     "data": {
      "text/html": [
       "<div>\n",
       "<style scoped>\n",
       "    .dataframe tbody tr th:only-of-type {\n",
       "        vertical-align: middle;\n",
       "    }\n",
       "\n",
       "    .dataframe tbody tr th {\n",
       "        vertical-align: top;\n",
       "    }\n",
       "\n",
       "    .dataframe thead th {\n",
       "        text-align: right;\n",
       "    }\n",
       "</style>\n",
       "<table border=\"1\" class=\"dataframe\">\n",
       "  <thead>\n",
       "    <tr style=\"text-align: right;\">\n",
       "      <th></th>\n",
       "      <th>mpg</th>\n",
       "      <th>cylinders</th>\n",
       "      <th>displacement</th>\n",
       "      <th>horsepower</th>\n",
       "      <th>weight</th>\n",
       "      <th>acceleration</th>\n",
       "      <th>model year</th>\n",
       "      <th>origin</th>\n",
       "      <th>car name</th>\n",
       "    </tr>\n",
       "  </thead>\n",
       "  <tbody>\n",
       "    <tr>\n",
       "      <th>0</th>\n",
       "      <td>18.0</td>\n",
       "      <td>8</td>\n",
       "      <td>307.0</td>\n",
       "      <td>130.0</td>\n",
       "      <td>3504</td>\n",
       "      <td>12.0</td>\n",
       "      <td>70</td>\n",
       "      <td>1</td>\n",
       "      <td>chevrolet chevelle malibu</td>\n",
       "    </tr>\n",
       "    <tr>\n",
       "      <th>1</th>\n",
       "      <td>15.0</td>\n",
       "      <td>8</td>\n",
       "      <td>350.0</td>\n",
       "      <td>165.0</td>\n",
       "      <td>3693</td>\n",
       "      <td>11.5</td>\n",
       "      <td>70</td>\n",
       "      <td>1</td>\n",
       "      <td>buick skylark 320</td>\n",
       "    </tr>\n",
       "    <tr>\n",
       "      <th>2</th>\n",
       "      <td>18.0</td>\n",
       "      <td>8</td>\n",
       "      <td>318.0</td>\n",
       "      <td>150.0</td>\n",
       "      <td>3436</td>\n",
       "      <td>11.0</td>\n",
       "      <td>70</td>\n",
       "      <td>1</td>\n",
       "      <td>plymouth satellite</td>\n",
       "    </tr>\n",
       "    <tr>\n",
       "      <th>3</th>\n",
       "      <td>16.0</td>\n",
       "      <td>8</td>\n",
       "      <td>304.0</td>\n",
       "      <td>150.0</td>\n",
       "      <td>3433</td>\n",
       "      <td>12.0</td>\n",
       "      <td>70</td>\n",
       "      <td>1</td>\n",
       "      <td>amc rebel sst</td>\n",
       "    </tr>\n",
       "    <tr>\n",
       "      <th>4</th>\n",
       "      <td>17.0</td>\n",
       "      <td>8</td>\n",
       "      <td>302.0</td>\n",
       "      <td>140.0</td>\n",
       "      <td>3449</td>\n",
       "      <td>10.5</td>\n",
       "      <td>70</td>\n",
       "      <td>1</td>\n",
       "      <td>ford torino</td>\n",
       "    </tr>\n",
       "  </tbody>\n",
       "</table>\n",
       "</div>"
      ],
      "text/plain": [
       "    mpg  cylinders  displacement  horsepower  weight  acceleration  \\\n",
       "0  18.0          8         307.0       130.0    3504          12.0   \n",
       "1  15.0          8         350.0       165.0    3693          11.5   \n",
       "2  18.0          8         318.0       150.0    3436          11.0   \n",
       "3  16.0          8         304.0       150.0    3433          12.0   \n",
       "4  17.0          8         302.0       140.0    3449          10.5   \n",
       "\n",
       "   model year  origin                   car name  \n",
       "0          70       1  chevrolet chevelle malibu  \n",
       "1          70       1          buick skylark 320  \n",
       "2          70       1         plymouth satellite  \n",
       "3          70       1              amc rebel sst  \n",
       "4          70       1                ford torino  "
      ]
     },
     "execution_count": 148,
     "metadata": {},
     "output_type": "execute_result"
    }
   ],
   "source": [
    "data.head()"
   ]
  },
  {
   "cell_type": "code",
   "execution_count": 149,
   "id": "38c36f08",
   "metadata": {},
   "outputs": [
    {
     "data": {
      "text/html": [
       "<div>\n",
       "<style scoped>\n",
       "    .dataframe tbody tr th:only-of-type {\n",
       "        vertical-align: middle;\n",
       "    }\n",
       "\n",
       "    .dataframe tbody tr th {\n",
       "        vertical-align: top;\n",
       "    }\n",
       "\n",
       "    .dataframe thead th {\n",
       "        text-align: right;\n",
       "    }\n",
       "</style>\n",
       "<table border=\"1\" class=\"dataframe\">\n",
       "  <thead>\n",
       "    <tr style=\"text-align: right;\">\n",
       "      <th></th>\n",
       "      <th>mpg</th>\n",
       "      <th>cylinders</th>\n",
       "      <th>displacement</th>\n",
       "      <th>horsepower</th>\n",
       "      <th>weight</th>\n",
       "      <th>acceleration</th>\n",
       "      <th>model year</th>\n",
       "      <th>origin</th>\n",
       "      <th>car name</th>\n",
       "    </tr>\n",
       "  </thead>\n",
       "  <tbody>\n",
       "    <tr>\n",
       "      <th>401</th>\n",
       "      <td>27.0</td>\n",
       "      <td>4</td>\n",
       "      <td>140.0</td>\n",
       "      <td>86.0</td>\n",
       "      <td>2790</td>\n",
       "      <td>15.6</td>\n",
       "      <td>82</td>\n",
       "      <td>1</td>\n",
       "      <td>ford mustang gl</td>\n",
       "    </tr>\n",
       "    <tr>\n",
       "      <th>402</th>\n",
       "      <td>44.0</td>\n",
       "      <td>4</td>\n",
       "      <td>97.0</td>\n",
       "      <td>52.0</td>\n",
       "      <td>2130</td>\n",
       "      <td>24.6</td>\n",
       "      <td>82</td>\n",
       "      <td>2</td>\n",
       "      <td>vw pickup</td>\n",
       "    </tr>\n",
       "    <tr>\n",
       "      <th>403</th>\n",
       "      <td>32.0</td>\n",
       "      <td>4</td>\n",
       "      <td>135.0</td>\n",
       "      <td>84.0</td>\n",
       "      <td>2295</td>\n",
       "      <td>11.6</td>\n",
       "      <td>82</td>\n",
       "      <td>1</td>\n",
       "      <td>dodge rampage</td>\n",
       "    </tr>\n",
       "    <tr>\n",
       "      <th>404</th>\n",
       "      <td>28.0</td>\n",
       "      <td>4</td>\n",
       "      <td>120.0</td>\n",
       "      <td>79.0</td>\n",
       "      <td>2625</td>\n",
       "      <td>18.6</td>\n",
       "      <td>82</td>\n",
       "      <td>1</td>\n",
       "      <td>ford ranger</td>\n",
       "    </tr>\n",
       "    <tr>\n",
       "      <th>405</th>\n",
       "      <td>31.0</td>\n",
       "      <td>4</td>\n",
       "      <td>119.0</td>\n",
       "      <td>82.0</td>\n",
       "      <td>2720</td>\n",
       "      <td>19.4</td>\n",
       "      <td>82</td>\n",
       "      <td>1</td>\n",
       "      <td>chevy s-10</td>\n",
       "    </tr>\n",
       "  </tbody>\n",
       "</table>\n",
       "</div>"
      ],
      "text/plain": [
       "      mpg  cylinders  displacement  horsepower  weight  acceleration  \\\n",
       "401  27.0          4         140.0        86.0    2790          15.6   \n",
       "402  44.0          4          97.0        52.0    2130          24.6   \n",
       "403  32.0          4         135.0        84.0    2295          11.6   \n",
       "404  28.0          4         120.0        79.0    2625          18.6   \n",
       "405  31.0          4         119.0        82.0    2720          19.4   \n",
       "\n",
       "     model year  origin         car name  \n",
       "401          82       1  ford mustang gl  \n",
       "402          82       2        vw pickup  \n",
       "403          82       1    dodge rampage  \n",
       "404          82       1      ford ranger  \n",
       "405          82       1       chevy s-10  "
      ]
     },
     "execution_count": 149,
     "metadata": {},
     "output_type": "execute_result"
    }
   ],
   "source": [
    "data.tail()"
   ]
  },
  {
   "cell_type": "code",
   "execution_count": 150,
   "id": "fd0038f7",
   "metadata": {},
   "outputs": [
    {
     "data": {
      "text/plain": [
       "0      chevrolet chevelle malibu\n",
       "1              buick skylark 320\n",
       "2             plymouth satellite\n",
       "3                  amc rebel sst\n",
       "4                    ford torino\n",
       "                 ...            \n",
       "401              ford mustang gl\n",
       "402                    vw pickup\n",
       "403                dodge rampage\n",
       "404                  ford ranger\n",
       "405                   chevy s-10\n",
       "Name: car name, Length: 406, dtype: object"
      ]
     },
     "execution_count": 150,
     "metadata": {},
     "output_type": "execute_result"
    }
   ],
   "source": [
    "data['car name']"
   ]
  },
  {
   "cell_type": "code",
   "execution_count": 152,
   "id": "d0f79268",
   "metadata": {},
   "outputs": [
    {
     "data": {
      "text/plain": [
       "105.0825"
      ]
     },
     "execution_count": 152,
     "metadata": {},
     "output_type": "execute_result"
    }
   ],
   "source": [
    "data['horsepower'].mean()"
   ]
  },
  {
   "cell_type": "code",
   "execution_count": 153,
   "id": "e3983421",
   "metadata": {},
   "outputs": [
    {
     "data": {
      "text/plain": [
       "42033.0"
      ]
     },
     "execution_count": 153,
     "metadata": {},
     "output_type": "execute_result"
    }
   ],
   "source": [
    "data['horsepower'].sum()"
   ]
  },
  {
   "cell_type": "code",
   "execution_count": 154,
   "id": "7b00e47d",
   "metadata": {},
   "outputs": [
    {
     "data": {
      "text/plain": [
       "0      130.0\n",
       "1      165.0\n",
       "2      150.0\n",
       "3      150.0\n",
       "4      140.0\n",
       "       ...  \n",
       "401     86.0\n",
       "402     52.0\n",
       "403     84.0\n",
       "404     79.0\n",
       "405     82.0\n",
       "Name: horsepower, Length: 406, dtype: float64"
      ]
     },
     "execution_count": 154,
     "metadata": {},
     "output_type": "execute_result"
    }
   ],
   "source": [
    "data['horsepower'].round(1)"
   ]
  },
  {
   "cell_type": "code",
   "execution_count": 158,
   "id": "f90ae015",
   "metadata": {},
   "outputs": [
    {
     "data": {
      "text/plain": [
       "(array([ 28.,  95., 120.,  46.,  19.,  49.,  14.,  16.,   5.,   8.]),\n",
       " array([ 46. ,  64.4,  82.8, 101.2, 119.6, 138. , 156.4, 174.8, 193.2,\n",
       "        211.6, 230. ]),\n",
       " <BarContainer object of 10 artists>)"
      ]
     },
     "execution_count": 158,
     "metadata": {},
     "output_type": "execute_result"
    },
    {
     "data": {
      "image/png": "[encoded data removed]",
      "text/plain": [
       "<Figure size 432x288 with 1 Axes>"
      ]
     },
     "metadata": {
      "needs_background": "light"
     },
     "output_type": "display_data"
    }
   ],
   "source": [
    "import matplotlib.pyplot as plt\n",
    "\n",
    "plt.hist(data['horsepower'])"
   ]
  },
  {
   "cell_type": "markdown",
   "id": "2c06428b",
   "metadata": {},
   "source": [
    "## Ejemplo: Archivos Pickle\n",
    "\n"
   ]
  },
  {
   "cell_type": "code",
   "execution_count": 167,
   "id": "4a2b778c",
   "metadata": {},
   "outputs": [],
   "source": [
    "import pickle \n",
    "\n",
    "datos_dict = {'nombre': 'Doe', 'edad': 30}\n",
    "\n",
    "#datos_dict = 'asdasdf asdf as asdffdas'"
   ]
  },
  {
   "cell_type": "code",
   "execution_count": 168,
   "id": "719b8f3c",
   "metadata": {},
   "outputs": [
    {
     "name": "stdout",
     "output_type": "stream",
     "text": [
      "Los daots:  {'nombre': 'Doe', 'edad': 30}\n"
     ]
    }
   ],
   "source": [
    "# Creando archivo un archivo serializado\n",
    "\n",
    "with open('archivo.pkl','wb') as file:\n",
    "    pickle.dump(datos_dict, file)\n",
    "    \n",
    "with open('archivo.pkl','rb') as file:\n",
    "    datos_info = pickle.load(file)\n",
    "    print('Los datos: ', datos_info)"
   ]
  },
  {
   "cell_type": "markdown",
   "id": "9ed5ba7a",
   "metadata": {},
   "source": [
    "### Ejemplo : Leer y crear un archivo CSV"
   ]
  },
  {
   "cell_type": "code",
   "execution_count": 184,
   "id": "0d42e9a7",
   "metadata": {},
   "outputs": [
    {
     "name": "stdout",
     "output_type": "stream",
     "text": [
      "Este es un regitro de alumnos\n",
      "El alumno es: Doe con nota de 6.0\n",
      "El alumno es: Snow con nota de 9.0\n",
      "El alumno es: Harry con nota de 1.0\n"
     ]
    }
   ],
   "source": [
    "import csv\n",
    "\n",
    "alumnos =[\n",
    "    {'Nombre': 'Doe','Nota': 6.0},\n",
    "    {'Nombre': 'Snow','Nota': 9.0},\n",
    "    {'Nombre': 'Harry','Nota': 1.0}\n",
    "    ]\n",
    "\n",
    "with open('registro_alumnos.csv','w', newline = '' ) as file:\n",
    "    campos   = ['Nombre','Nota']\n",
    "    escribir = csv.DictWriter(file, fieldnames= campos)\n",
    "    escribir.writeheader()\n",
    "    for alumno in alumnos:\n",
    "        escribir.writerow(alumno)\n",
    "        \n",
    "    \n",
    "with open('registro_alumnos.csv','r') as file:\n",
    "    leer = csv.DictReader(file)\n",
    "    print('Este es un regitro de alumnos')\n",
    "    for alumno in leer:\n",
    "        print(f'El alumno es: {alumno[\"Nombre\"]} con nota de {alumno[\"Nota\"]}')\n"
   ]
  },
  {
   "cell_type": "code",
   "execution_count": null,
   "id": "37a8a7f9",
   "metadata": {},
   "outputs": [],
   "source": [
    "\n"
   ]
  },
  {
   "cell_type": "code",
   "execution_count": null,
   "id": "0b9e4477",
   "metadata": {},
   "outputs": [],
   "source": []
  }
 ],
 "metadata": {
  "kernelspec": {
   "display_name": "Python 3 (ipykernel)",
   "language": "python",
   "name": "python3"
  },
  "language_info": {
   "codemirror_mode": {
    "name": "ipython",
    "version": 3
   },
   "file_extension": ".py",
   "mimetype": "text/x-python",
   "name": "python",
   "nbconvert_exporter": "python",
   "pygments_lexer": "ipython3",
   "version": "3.9.12"
  }
 },
 "nbformat": 4,
 "nbformat_minor": 5
}
