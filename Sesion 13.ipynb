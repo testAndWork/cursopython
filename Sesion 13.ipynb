{
 "cells": [
  {
   "cell_type": "markdown",
   "id": "9c8c537c",
   "metadata": {},
   "source": [
    "# <span style=\"color:darkblue\">Módulo 1 - Introducción a la programación con Python </span>\n",
    "\n",
    "## <span style=\"color:darkblue\">Sesión 13- Clases en Python</span>\n",
    "\n",
    "### <span style=\"color:darkblue\">Duración estimada:\t4 horas</span>\n",
    "\n",
    "#### <span style=\"color:darkblue\">En marco del proyecto: “EMPLEO JOVEN ES”</span>"
   ]
  },
  {
   "cell_type": "markdown",
   "id": "42a8be22",
   "metadata": {},
   "source": [
    "## <span style=\"color:darkblue\"> Tabla de contenidos:</span>\n",
    " \n",
    "    1- Bienvenida\n",
    "    \n",
    "    2- Asistencia\n",
    "    \n",
    "    3- Dudas de la Clase anterior\n",
    "    \n",
    "    4- Control de Lectura\n",
    "    \n",
    "    5- Objetivo\n",
    "    \n",
    "    6- Introducción\n",
    "    \n",
    "    7- Aprendamos\n",
    "\n",
    "   \n",
    "    \n",
    "    8- Aplicando Conocimientos\t\n",
    "\n",
    "    9- Retroalimentación\n",
    "    \n",
    "    10- Asistencia\n"
   ]
  },
  {
   "cell_type": "markdown",
   "id": "51ae1b4d",
   "metadata": {},
   "source": [
    "## <span style=\"color:darkred\">Objetivo:</span>\n",
    "\n",
    "Comprender los conceptos de la programación orientada a objetos y utilizarlos para crear tus propias clases y objetos en Python. \n",
    "\n",
    "Esto te permitirá mejorar la modularidad y la reutilización de código de tus proyectos de Python, lo que puede ahorrarte tiempo y esfuerzo, así como también utilizar las clases predefinidas en Python y diseñar e implementar programas utilizando la programación orientada a objetos.\n",
    "\n",
    "### <span style=\"color:darkred\">Recursos</span>\n",
    "\n",
    "•\tSesión 13 excepciones\n",
    "\n",
    "•\tComputadora con Python instalado\n",
    "\n",
    "•\tVisual Studio Code instalado\n",
    "\n",
    "\n",
    "\n",
    "\n",
    "### <span style=\"color:darkred\">Introducción:</span>\n",
    "\n",
    "Una de las características más importantes de Python es su soporte para la programación orientada a objetos (POO), que te permite crear tus propios tipos de datos y funciones personalizadas.\n",
    "\n",
    "La programación orientada a objetos es un paradigma de programación que se basa en la creación de objetos que tienen atributos y métodos, los cuales pueden ser manipulados para resolver problemas específicos. En Python, los objetos se definen a través de las clases, que son plantillas que se utilizan para crear objetos. \n",
    "\n",
    "Las clases son un concepto fundamental de la programación orientada a objetos y se utilizan en muchas aplicaciones, desde el desarrollo de videojuegos hasta el análisis de datos.\n",
    "\n",
    "Aprender sobre clases y objetos en Python es esencial para cualquier persona que quiera dominar este lenguaje de programación y desarrollar aplicaciones avanzadas. En este sentido, la programación orientada a objetos en Python te permite crear programas más complejos, pero también más estructurados y modulares, lo que puede ahorrarte tiempo y esfuerzo. \n",
    "\n",
    "Además, el conocimiento de las clases y objetos en Python te permitirá trabajar con bibliotecas y marcos de trabajo populares que utilizan la programación orientada a objetos.\n",
    "\n",
    "### <span style=\"color:darkred\">Aprendamos </span>\n",
    "\n",
    "Python te permite crear tus propios tipos de datos y funciones personalizadas, lo que puede ayudarte a escribir código más legible, eficiente y reutilizable.\n",
    "\n",
    "Algunos de los objetivos específicos que puedes alcanzar al aprender clases y objetos en Python son:\n",
    "\n",
    "•\tEntender los conceptos fundamentales de la programación orientada a objetos (POO), como la encapsulación, la herencia y el polimorfismo.\n",
    "\n",
    "•\tCrear tus propias clases y objetos en Python y utilizarlos en tus programas.\n",
    "\n",
    "•\tComprender cómo funcionan los métodos, atributos y constructores en Python.\n",
    "\n",
    "•\tUtilizar las clases predefinidas en Python, como las clases de los módulos integrados y las clases de las bibliotecas externas.\n",
    "\n",
    "•\tAprender a diseñar e implementar programas utilizando la programación orientada a objetos.\n",
    "\n",
    "•\tMejorar la modularidad y la reutilización de código de tus proyectos de Python, lo que puede ahorrarte tiempo y esfuerzo.\n",
    "Una clase es como un constructor de objetos o un \"modelo\" para crear objetos.\n",
    "\n"
   ]
  },
  {
   "cell_type": "markdown",
   "id": "c33ac243",
   "metadata": {},
   "source": [
    "### Crear una clase\n",
    "\n",
    "Para crear una clase, utilice la palabra clave `class`:\n"
   ]
  },
  {
   "cell_type": "code",
   "execution_count": 4,
   "id": "006a07c6",
   "metadata": {},
   "outputs": [],
   "source": [
    "class Myclass:\n",
    "    x = 5\n",
    "    y = 10.1\n",
    "    z = 'Hola , estoy dentro de una Clase'"
   ]
  },
  {
   "cell_type": "markdown",
   "id": "e316850e",
   "metadata": {},
   "source": [
    "### Crear objeto\n",
    "Ahora podemos usar la clase llamada MyClass para crear objetos:\n",
    "Ejemplo: Cree un objeto llamado p1 e imprima el valor de x:\n"
   ]
  },
  {
   "cell_type": "code",
   "execution_count": 5,
   "id": "e298ec6c",
   "metadata": {},
   "outputs": [],
   "source": [
    "objeto_1 = Myclass()"
   ]
  },
  {
   "cell_type": "code",
   "execution_count": 9,
   "id": "6e8761bd",
   "metadata": {},
   "outputs": [
    {
     "data": {
      "text/plain": [
       "5"
      ]
     },
     "execution_count": 9,
     "metadata": {},
     "output_type": "execute_result"
    }
   ],
   "source": [
    "objeto_1.x"
   ]
  },
  {
   "cell_type": "code",
   "execution_count": 7,
   "id": "dfd9dc5b",
   "metadata": {},
   "outputs": [
    {
     "name": "stdout",
     "output_type": "stream",
     "text": [
      "10.1\n"
     ]
    }
   ],
   "source": [
    "print(objeto_1.y)"
   ]
  },
  {
   "cell_type": "code",
   "execution_count": 8,
   "id": "2c074c9a",
   "metadata": {},
   "outputs": [
    {
     "name": "stdout",
     "output_type": "stream",
     "text": [
      "Hola , estoy dentro de una Clase\n"
     ]
    }
   ],
   "source": [
    "print(objeto_1.z)"
   ]
  },
  {
   "cell_type": "markdown",
   "id": "68d6e1eb",
   "metadata": {},
   "source": [
    "### Constructor de la clase `init ( )`"
   ]
  },
  {
   "cell_type": "markdown",
   "id": "432ba06a",
   "metadata": {},
   "source": [
    "### La función `__init__()`\n",
    "\n",
    "Los ejemplos anteriores son clases y objetos en su forma más simple y no son realmente útiles en aplicaciones de la vida real. Para comprender el significado de las clases, debemos comprender la función `__init__()` incorporada. \n",
    "\n",
    "Todas las clases tienen una función llamada `__init__()`, que siempre se ejecuta cuando se inicia la clase. Use la función` __init__()` para asignar valores a las propiedades del objeto u otras operaciones que sean necesarias cuando se crea el objeto.\n",
    "\n",
    "#### Ejemplo: \n",
    "Cree una clase llamada Persona, use la función `__init__( )` para asignar valores para el nombre y la edad:\n"
   ]
  },
  {
   "cell_type": "code",
   "execution_count": 16,
   "id": "39ce5579",
   "metadata": {},
   "outputs": [
    {
     "data": {
      "text/plain": [
       "('john', 23)"
      ]
     },
     "execution_count": 16,
     "metadata": {},
     "output_type": "execute_result"
    }
   ],
   "source": [
    "class Person: \n",
    "    def __init__(self , name, age):\n",
    "        self.name = name\n",
    "        self.age  = age\n",
    "        \n",
    "x = Person('john', 23)\n",
    "y = Person('Maria',36)\n",
    "\n",
    "\n",
    "person_1 = Person('john', 23)\n",
    "\n",
    "person_1.name, person_1.age"
   ]
  },
  {
   "cell_type": "markdown",
   "id": "43ad7978",
   "metadata": {},
   "source": [
    "### El auto parámetro\n",
    "\n",
    "El parámetro `self` es una referencia a la instancia actual de la clase y se utiliza para acceder a las variables que pertenecen a la clase. No tiene que ser nombrado self, puedes llamarlo como quieras, pero tiene que ser el primer parámetro de cualquier función en la clase:\n",
    "Ejemplo: Usa las palabras mysillyobject y abc en lugar de `self`:\n"
   ]
  },
  {
   "cell_type": "markdown",
   "id": "9a9e6c60",
   "metadata": {},
   "source": [
    "### `self`\n",
    "En Python, `self` es una convención que se utiliza para referirse a la instancia actual de una clase. Cuando defines métodos dentro de una clase, el primer parámetro de esos métodos generalmente se llama `self`. \n",
    "\n",
    "Aunque puedes usar cualquier nombre para este primer parámetro, usar `self` es una convención común y ampliamente aceptada en la comunidad de programadores de Python.\n",
    "\n",
    "El parámetro `self` se refiere a la instancia actual de la clase en la que se está trabajando. \n",
    "\n",
    "Cuando creas un objeto basado en una clase, este objeto es una instancia de esa clase. `self` permite que los métodos de la clase accedan y manipulen los atributos y métodos de esa instancia específica.\n",
    "\n",
    "Por ejemplo, considera la siguiente clase Person:"
   ]
  },
  {
   "cell_type": "code",
   "execution_count": 17,
   "id": "5efd9379",
   "metadata": {},
   "outputs": [
    {
     "data": {
      "text/plain": [
       "('john', 23)"
      ]
     },
     "execution_count": 17,
     "metadata": {},
     "output_type": "execute_result"
    }
   ],
   "source": [
    "# cambiando self por p\n",
    "class Person: \n",
    "    def __init__(p , name, age):\n",
    "        p.name = name\n",
    "        p.age  = age\n",
    "        \n",
    "x = Person('john', 23)\n",
    "y = Person('Maria',36)\n",
    "\n",
    "\n",
    "person_1 = Person('john', 23)\n",
    "\n",
    "person_1.name, person_1.age"
   ]
  },
  {
   "cell_type": "code",
   "execution_count": null,
   "id": "1bec2996",
   "metadata": {},
   "outputs": [],
   "source": []
  },
  {
   "cell_type": "markdown",
   "id": "15512c03",
   "metadata": {},
   "source": [
    "### La función `__str__()`\n",
    "\n",
    "La función `__str__()` controla lo que se debe devolver cuando el objeto de clase se representa como una cadena.\n",
    "\n",
    "Si la función `__str__()` no está configurada, se devuelve la representación de cadena del objeto:\n",
    "\n",
    "Ejemplo: La representación de cadena de un objeto SIN la función `__str__()`:\n"
   ]
  },
  {
   "cell_type": "code",
   "execution_count": 18,
   "id": "fc644716",
   "metadata": {},
   "outputs": [
    {
     "name": "stdout",
     "output_type": "stream",
     "text": [
      "<__main__.Person object at 0x7f7daa1eda90>\n"
     ]
    }
   ],
   "source": [
    "class Person: \n",
    "    def __init__(self , name, age):\n",
    "        self.name = name\n",
    "        self.age  = age\n",
    "\n",
    "person_1 = Person('john',36)\n",
    "print(person_1)"
   ]
  },
  {
   "cell_type": "code",
   "execution_count": 23,
   "id": "b206532b",
   "metadata": {},
   "outputs": [
    {
     "name": "stdout",
     "output_type": "stream",
     "text": [
      "john has 36 years old\n"
     ]
    }
   ],
   "source": [
    "class Person: \n",
    "    def __init__(self , name, age):\n",
    "        self.name = name\n",
    "        self.age  = age\n",
    "    \n",
    "    def __str__(self):\n",
    "        return f'{self.name},{self.age}'\n",
    "\n",
    "        \n",
    "        \n",
    "person_1 = Person('john',36)\n",
    "print(person_1)"
   ]
  },
  {
   "cell_type": "markdown",
   "id": "0f6a329f",
   "metadata": {},
   "source": [
    "### Métodos de objeto\n",
    "Los objetos también pueden contener métodos. Los métodos en los objetos son funciones que pertenecen al objeto.\n",
    "\n",
    "Vamos a crear un método en la clase Person:\n",
    "\n",
    "Ejemplo: Inserte una función que imprima un saludo y ejecútela en el objeto p1:\n"
   ]
  },
  {
   "cell_type": "code",
   "execution_count": 25,
   "id": "54da2d3f",
   "metadata": {},
   "outputs": [
    {
     "name": "stdout",
     "output_type": "stream",
     "text": [
      "Hello!, my name is : john\n"
     ]
    }
   ],
   "source": [
    "class Person: \n",
    "    def __init__(self , name, age):\n",
    "        self.name = name\n",
    "        self.age  = age\n",
    "    \n",
    "    def __str__(self):\n",
    "        return f'{self.name},{self.age}'\n",
    "    \n",
    "    def myfunc(self):\n",
    "        print(f'Hello!, my name is : {self.name}')\n",
    "        \n",
    "        \n",
    "person_1 = Person('john', 36)\n",
    "\n",
    "person_1.myfunc()"
   ]
  },
  {
   "cell_type": "markdown",
   "id": "6cc5b3c5",
   "metadata": {},
   "source": [
    "**Nota:** El parámetro self es una referencia a la instancia actual de la clase y se utiliza para acceder a las variables que pertenecen a la clase."
   ]
  },
  {
   "cell_type": "markdown",
   "id": "b30e40d4",
   "metadata": {},
   "source": [
    "En este ejemplo, la clase Person tiene un atributo skills que es una lista vacía inicialmente. Luego, se agrega el método add_skill() que toma un parámetro skill y agrega ese skill a la lista de habilidades (self.skills) de la instancia actual.\n",
    "\n",
    "Al crear una instancia de la clase Person y llamar al método add_skill(), estamos utilizando el parámetro self para acceder al atributo skills de esa instancia específica y agregar una nueva habilidad a la lista.\n",
    "\n",
    "De esta manera, puedes agregar atributos y métodos a una clase en Python y luego manipularlos utilizando la instancia creada a partir de esa clase."
   ]
  },
  {
   "cell_type": "code",
   "execution_count": 37,
   "id": "d6955857",
   "metadata": {},
   "outputs": [
    {
     "name": "stdout",
     "output_type": "stream",
     "text": [
      "Nombre: john Doe, Edad: 34\n",
      "Habilidades:  ['Python', 'SQL', 'Java', 'JavaScript', 'TOmar cafe a toda hora']\n",
      "<__main__.Person object at 0x7f7daa272130>\n"
     ]
    }
   ],
   "source": [
    "class Person:\n",
    "    def __init__(self, name, age):\n",
    "        self.name   = name\n",
    "        self.age    = age\n",
    "        self.skills = []\n",
    "        \n",
    "    def get_info(self):\n",
    "        return f'Nombre: {self.name}, Edad: {self.age}'\n",
    "    \n",
    "    def add_skills(self, skill):\n",
    "        self.skills.append(skill)\n",
    "        \n",
    "# Crear un instancia de la clase persona\n",
    "person_1 = Person('john Doe', 34)\n",
    "\n",
    "# Agregar habilidades a la instancia\n",
    "person_1.add_skills('Python')\n",
    "\n",
    "lista = ['SQL', 'Java', 'JavaScript', 'TOmar cafe a toda hora']\n",
    "\n",
    "for skill in lista:\n",
    "    person_1.add_skills(skill)\n",
    "\n",
    "#obtener la Información de la persona\n",
    "print(person_1.get_info())\n",
    "print('Habilidades: ',person_1.skills)\n",
    "print(person_1)"
   ]
  },
  {
   "cell_type": "code",
   "execution_count": 43,
   "id": "b354c797",
   "metadata": {},
   "outputs": [
    {
     "name": "stdout",
     "output_type": "stream",
     "text": [
      "Nombre: john Doe, Edad: 34\n",
      "Habilidades:  ['Python', 'SQL', 'Java', 'JavaScript', 'TOmar cafe a toda hora']\n"
     ]
    }
   ],
   "source": [
    "class Person:\n",
    "    def __init__(self, name, age):\n",
    "        self.name   = name\n",
    "        self.age    = age\n",
    "        self.skills = []\n",
    "        \n",
    "    def __str__(self):\n",
    "        return f'Nombre: {self.name}, Edad: {self.age}'\n",
    "    \n",
    "    def add_skills(self, skill):\n",
    "        self.skills.append(skill)\n",
    "        \n",
    "# Crear un instancia de la clase persona\n",
    "person_1 = Person('john Doe', 34)\n",
    "\n",
    "# Agregar habilidades a la instancia\n",
    "person_1.add_skills('Python')\n",
    "\n",
    "lista = ['SQL', 'Java', 'JavaScript', 'TOmar cafe a toda hora']\n",
    "\n",
    "for skill in lista:\n",
    "    person_1.add_skills(skill)\n",
    "\n",
    "#obtener la Información de la persona\n",
    "print(person_1)\n",
    "print('Habilidades: ',person_1.skills)"
   ]
  },
  {
   "cell_type": "markdown",
   "id": "b90f9e14",
   "metadata": {},
   "source": [
    "### Modificar propiedades de objetos\n",
    "\n",
    "Puede modificar propiedades en objetos como este:\n",
    "    \n",
    "**Ejemplo:** \n",
    "\n",
    "Establezca la edad de `person_1` en 40:\n"
   ]
  },
  {
   "cell_type": "code",
   "execution_count": 44,
   "id": "2ab10c77",
   "metadata": {},
   "outputs": [
    {
     "name": "stdout",
     "output_type": "stream",
     "text": [
      "Nombre: john Doe, Edad: 34\n"
     ]
    }
   ],
   "source": [
    "print(person_1)"
   ]
  },
  {
   "cell_type": "code",
   "execution_count": 45,
   "id": "d9db71df",
   "metadata": {},
   "outputs": [
    {
     "name": "stdout",
     "output_type": "stream",
     "text": [
      "Nombre: john Doe, Edad: 25\n"
     ]
    }
   ],
   "source": [
    "person_1.age = 25\n",
    "\n",
    "print(person_1)"
   ]
  },
  {
   "cell_type": "code",
   "execution_count": 47,
   "id": "c7c49feb",
   "metadata": {},
   "outputs": [
    {
     "name": "stdout",
     "output_type": "stream",
     "text": [
      "Nombre: John Snow, Edad: 25\n"
     ]
    }
   ],
   "source": [
    "person_1.name = 'John Snow'\n",
    "print(person_1)"
   ]
  },
  {
   "cell_type": "markdown",
   "id": "2e87495d",
   "metadata": {},
   "source": [
    "### Eliminar propiedades de objetos\n",
    "\n",
    "Puede eliminar propiedades en objetos usando la palabra clave `del`:\n",
    "\n",
    "**Ejemplo:** Elimine la propiedad de edad `del objeto person_1`:\n"
   ]
  },
  {
   "cell_type": "code",
   "execution_count": 48,
   "id": "2b768360",
   "metadata": {},
   "outputs": [],
   "source": [
    "del person_1.age"
   ]
  },
  {
   "cell_type": "code",
   "execution_count": 50,
   "id": "4664fa7a",
   "metadata": {},
   "outputs": [
    {
     "ename": "AttributeError",
     "evalue": "'Person' object has no attribute 'age'",
     "output_type": "error",
     "traceback": [
      "\u001b[0;31m---------------------------------------------------------------------------\u001b[0m",
      "\u001b[0;31mAttributeError\u001b[0m                            Traceback (most recent call last)",
      "Input \u001b[0;32mIn [50]\u001b[0m, in \u001b[0;36m<cell line: 1>\u001b[0;34m()\u001b[0m\n\u001b[0;32m----> 1\u001b[0m \u001b[38;5;28;43mprint\u001b[39;49m\u001b[43m(\u001b[49m\u001b[43mperson_1\u001b[49m\u001b[43m)\u001b[49m\n",
      "Input \u001b[0;32mIn [43]\u001b[0m, in \u001b[0;36mPerson.__str__\u001b[0;34m(self)\u001b[0m\n\u001b[1;32m      7\u001b[0m \u001b[38;5;28;01mdef\u001b[39;00m \u001b[38;5;21m__str__\u001b[39m(\u001b[38;5;28mself\u001b[39m):\n\u001b[0;32m----> 8\u001b[0m     \u001b[38;5;28;01mreturn\u001b[39;00m \u001b[38;5;124mf\u001b[39m\u001b[38;5;124m'\u001b[39m\u001b[38;5;124mNombre: \u001b[39m\u001b[38;5;132;01m{\u001b[39;00m\u001b[38;5;28mself\u001b[39m\u001b[38;5;241m.\u001b[39mname\u001b[38;5;132;01m}\u001b[39;00m\u001b[38;5;124m, Edad: \u001b[39m\u001b[38;5;132;01m{\u001b[39;00m\u001b[38;5;28mself\u001b[39m\u001b[38;5;241m.\u001b[39mage\u001b[38;5;132;01m}\u001b[39;00m\u001b[38;5;124m'\u001b[39m\n",
      "\u001b[0;31mAttributeError\u001b[0m: 'Person' object has no attribute 'age'"
     ]
    }
   ],
   "source": [
    "print(person_1.)"
   ]
  },
  {
   "cell_type": "markdown",
   "id": "d1a5db01",
   "metadata": {},
   "source": [
    "### Eliminar objetos\n",
    "\n",
    "Puede eliminar objetos utilizando la palabra clave `del`:\n",
    "    \n",
    "Ejemplo: Eliminar el objeto p1:\n"
   ]
  },
  {
   "cell_type": "code",
   "execution_count": 52,
   "id": "fe116d7c",
   "metadata": {},
   "outputs": [],
   "source": [
    "del person_1"
   ]
  },
  {
   "cell_type": "markdown",
   "id": "1660c391",
   "metadata": {},
   "source": [
    "### La declaración de `pass`\n",
    "\n",
    "Las definiciones `class` no pueden estar vacías, pero si por algún motivo tiene una definición class sin contenido, introdúzcala en la declaración pass para evitar que se produzca un error.\n"
   ]
  },
  {
   "cell_type": "code",
   "execution_count": 53,
   "id": "aef72175",
   "metadata": {},
   "outputs": [],
   "source": [
    "class Person:\n",
    "    pass"
   ]
  },
  {
   "cell_type": "markdown",
   "id": "89a1dfcc",
   "metadata": {},
   "source": [
    "### Ejemplos y Ejercicios"
   ]
  },
  {
   "cell_type": "markdown",
   "id": "9afc2411",
   "metadata": {},
   "source": [
    "### Ejemplo 1 :   Crear una Clase de Carro\n",
    "\n",
    "Crea una clase llamada `Car` que tenga los atributos `brand` (marca), `model` (modelo) y `year` (año). Luego, crea una instancia de la clase y muestra la información del coche."
   ]
  },
  {
   "cell_type": "code",
   "execution_count": 56,
   "id": "cfe3af3c",
   "metadata": {},
   "outputs": [
    {
     "name": "stdout",
     "output_type": "stream",
     "text": [
      "Descripcion del Carro: tollota, korrola , 2023 \n"
     ]
    }
   ],
   "source": [
    "class Car:\n",
    "    def __init__(self, brand, model, year):\n",
    "        self.brand = brand\n",
    "        self.model = model\n",
    "        self.year  = year\n",
    "        \n",
    "# Instanciando la Clase 'Car' y creando un objeto de ese tipo\n",
    "\n",
    "carro = Car('tollota', 'korrola ', '2023')\n",
    "\n",
    "print(f'Descripcion del Carro: {carro.brand}, {carro.model}, {carro.year} ')"
   ]
  },
  {
   "cell_type": "markdown",
   "id": "758da6ff",
   "metadata": {},
   "source": [
    "### Ejemplo 2:  Clase de Estudiante\n",
    "\n",
    "Crea una clase llamada `Student` que tenga los atributos `name `(nombre), `age` (edad) y `grades` (calificaciones como una lista). \n",
    "\n",
    "Agrega un método `add_grade()` para permitir que se agreguen calificaciones a la lista. \n",
    "\n",
    "Luego, muestra el nombre, edad y calificaciones del estudiante."
   ]
  },
  {
   "cell_type": "code",
   "execution_count": 59,
   "id": "7a4185ad",
   "metadata": {},
   "outputs": [],
   "source": [
    "class Student: \n",
    "    def __init__(self, name, age):\n",
    "        self.name   = name\n",
    "        self.age    = age\n",
    "        self.grades = [] \n",
    "    \n",
    "    def __str__(self):\n",
    "        return f'{self.name},{self.age}'\n",
    "    \n",
    "    def add_grade(self,grade):\n",
    "        self.grades.append(grade)\n",
    "        \n",
    "    def print_info(self):\n",
    "        print(f'Estudiante: {self.name}, Edad: {self.age}, Calificaciones: {self.grades} ')"
   ]
  },
  {
   "cell_type": "code",
   "execution_count": 63,
   "id": "93724272",
   "metadata": {},
   "outputs": [
    {
     "name": "stdout",
     "output_type": "stream",
     "text": [
      "Luigi,23\n",
      "Estudiante: Luigi, Edad: 23, Calificaciones: [10, 5, 7, 8, 9] \n"
     ]
    }
   ],
   "source": [
    "#instanciando la clase\n",
    "estudiante = Student('Luigi', 23)\n",
    "\n",
    "print(estudiante)\n",
    "\n",
    "estudiante.add_grade(10)\n",
    "estudiante.add_grade(5)\n",
    "estudiante.add_grade(7)\n",
    "estudiante.add_grade(8)\n",
    "estudiante.add_grade(9)\n",
    "\n",
    "estudiante.print_info()"
   ]
  },
  {
   "cell_type": "markdown",
   "id": "612d21ac",
   "metadata": {},
   "source": [
    "### Ejercicio 3: Clase de Círculo\n",
    "\n",
    "Crea una clase llamada `Circle` que tenga el atributo `radius` (radio). \n",
    "\n",
    "Agrega métodos para calcular el área y el perímetro del círculo. \n",
    "\n",
    "Luego, crea una instancia de la clase y muestra el área y el perímetro."
   ]
  },
  {
   "cell_type": "code",
   "execution_count": 64,
   "id": "092c7810",
   "metadata": {},
   "outputs": [],
   "source": [
    "import math \n",
    "\n",
    "class Circle:\n",
    "    def __init__(self,radius):\n",
    "        self.radius = radius\n",
    "    \n",
    "    def calculate_area(self):\n",
    "        return math.pi * self.radius**2\n",
    "    \n",
    "    def calculate_perimeter(self):\n",
    "        return 2*math.pi*self.radius"
   ]
  },
  {
   "cell_type": "code",
   "execution_count": 68,
   "id": "41e09f7d",
   "metadata": {},
   "outputs": [
    {
     "name": "stdout",
     "output_type": "stream",
     "text": [
      "El perimetro es: 18.85 \n",
      "El área es:  28.27 \n"
     ]
    }
   ],
   "source": [
    "#Instanciando la Clase Circle\n",
    "\n",
    "circulo = Circle(3)\n",
    "\n",
    "print(f'El perimetro es: {circulo.calculate_perimeter() :.2f} ')\n",
    "print(f'El área es: {circulo.calculate_area() : .2f} ')"
   ]
  },
  {
   "cell_type": "markdown",
   "id": "515db9d8",
   "metadata": {},
   "source": [
    "### Ejercicio 4: Clase de Libro\n",
    "Crea una clase llamada `Book` que tenga los atributos `title` (título), `author` (autor) y `year` (año de publicación). \n",
    "\n",
    "Agrega un método `get_info()` para mostrar la información del libro. \n",
    "\n",
    "Luego, crea una instancia de la clase y muestra la información del libro."
   ]
  },
  {
   "cell_type": "code",
   "execution_count": 75,
   "id": "3b2f58f7",
   "metadata": {},
   "outputs": [
    {
     "name": "stdout",
     "output_type": "stream",
     "text": [
      "El título es: Que frio hace, autor: Yo, año de publicación: 2023\n"
     ]
    }
   ],
   "source": [
    "class Book:\n",
    "    def __init__(self, title, author, year):\n",
    "        self.title  = title\n",
    "        self.author = author\n",
    "        self.year   = year\n",
    "        \n",
    "    def get_info(self):\n",
    "        print(f'El título es: {self.title}, autor: {self.author}, año de publicación: {self.year}')\n",
    "        \n",
    "librito = Book('Que frio hace', 'Yo', '2023')\n",
    "\n",
    "\n",
    "librito.get_info()"
   ]
  },
  {
   "cell_type": "markdown",
   "id": "30a1efb8",
   "metadata": {},
   "source": [
    "### Ejercicio:"
   ]
  },
  {
   "cell_type": "markdown",
   "id": "0c813b60",
   "metadata": {},
   "source": [
    "### Ejercicio 1: Clase de Banco\n",
    "\n",
    "Crea una clase llamada `Bank` que permita a los usuarios realizar transacciones bancarias como depósitos y retiros. \n",
    "\n",
    "La clase debe llevar un registro de los saldos de las cuentas y debe tener métodos para realizar `depósitos`, `retiros` y `mostrar el saldo`."
   ]
  },
  {
   "cell_type": "code",
   "execution_count": 80,
   "id": "a4bd3866",
   "metadata": {},
   "outputs": [],
   "source": [
    "class Bank:\n",
    "    \n",
    "    def __init__(self):\n",
    "        self.accounts = {}\n",
    "    \n",
    "    def deposit(self, account_number, amount):\n",
    "        if account_number in self.accounts:\n",
    "            self.accounts[account_number] += amount\n",
    "        else:\n",
    "            self.accounts[account_number] = amount\n",
    "            \n",
    "            \n",
    "    def withdraw(self, account_number, amount ):\n",
    "        if account_number in self.accounts:\n",
    "            if self.accounts[account_number]>= amount:\n",
    "                self.accounts[account_number] -= amount\n",
    "            else:\n",
    "                print('Fondos insuficientes')\n",
    "        else:\n",
    "            print('Cuenta inválida o no encontrada')\n",
    "            \n",
    "    \n",
    "    def get_balance(self, account_number):\n",
    "        return self.accounts.get(account_number,0)\n",
    "    \n",
    "\n",
    "banco = Bank() \n",
    "\n",
    "banco.get_balance('C1234')"
   ]
  },
  {
   "cell_type": "code",
   "execution_count": 88,
   "id": "2911c0e8",
   "metadata": {},
   "outputs": [
    {
     "data": {
      "text/plain": [
       "500"
      ]
     },
     "execution_count": 88,
     "metadata": {},
     "output_type": "execute_result"
    }
   ],
   "source": [
    "banco.deposit('C007', 200)\n",
    "banco.get_balance('C007')"
   ]
  },
  {
   "cell_type": "code",
   "execution_count": 89,
   "id": "ec37c550",
   "metadata": {},
   "outputs": [
    {
     "name": "stdout",
     "output_type": "stream",
     "text": [
      "Fondos insuficientes\n"
     ]
    }
   ],
   "source": [
    "banco.withdraw('C007', 5000)"
   ]
  },
  {
   "cell_type": "code",
   "execution_count": 90,
   "id": "640c0e50",
   "metadata": {},
   "outputs": [
    {
     "data": {
      "text/plain": [
       "500"
      ]
     },
     "execution_count": 90,
     "metadata": {},
     "output_type": "execute_result"
    }
   ],
   "source": [
    "banco.get_balance('C007')"
   ]
  },
  {
   "cell_type": "code",
   "execution_count": 92,
   "id": "de199ad6",
   "metadata": {},
   "outputs": [
    {
     "data": {
      "text/plain": [
       "1000"
      ]
     },
     "execution_count": 92,
     "metadata": {},
     "output_type": "execute_result"
    }
   ],
   "source": [
    "banco.deposit('C006', 500)\n",
    "banco.get_balance('C006')"
   ]
  },
  {
   "cell_type": "code",
   "execution_count": 94,
   "id": "2465f95c",
   "metadata": {},
   "outputs": [
    {
     "data": {
      "text/plain": [
       "1000"
      ]
     },
     "execution_count": 94,
     "metadata": {},
     "output_type": "execute_result"
    }
   ],
   "source": [
    "banco.get_balance('C006')"
   ]
  },
  {
   "cell_type": "code",
   "execution_count": 95,
   "id": "7516ab15",
   "metadata": {},
   "outputs": [
    {
     "data": {
      "text/plain": [
       "500"
      ]
     },
     "execution_count": 95,
     "metadata": {},
     "output_type": "execute_result"
    }
   ],
   "source": [
    "banco.get_balance('C007')"
   ]
  },
  {
   "cell_type": "markdown",
   "id": "7cff69e8",
   "metadata": {},
   "source": [
    "### Ejercicio 2: Clase de Tienda en Línea\n",
    "\n",
    "Crea una clase llamada `OnlineStore` que represente una tienda en línea. \n",
    "\n",
    "La clase debe tener métodos para agregar productos al inventario, realizar compras y mostrar el total de ventas. \n",
    "\n",
    "Implementa la capacidad de realizar descuentos en ciertos productos y de aplicar impuestos a las compras."
   ]
  },
  {
   "cell_type": "code",
   "execution_count": 96,
   "id": "86e07d89",
   "metadata": {},
   "outputs": [],
   "source": [
    "class OnlineStore:\n",
    "    \n",
    "    def __init__(self):\n",
    "        self.invetory    = {}\n",
    "        self.total_sales = 0\n",
    "    \n",
    "    def add_product(self, product_name, price):\n",
    "        pass\n",
    "    \n",
    "    def purchase(self, product_name):\n",
    "        pass\n",
    "    \n",
    "    def show_sales(self):\n",
    "        pass\n",
    "    \n",
    "\n",
    "    "
   ]
  },
  {
   "cell_type": "markdown",
   "id": "d28e030f",
   "metadata": {},
   "source": [
    "### Ejercicio 3: Clase de Figuras Geométricas\n",
    "\n",
    "Crea una clase abstracta `Shape` con métodos para calcular el área y el perímetro.\n",
    "\n",
    "Luego, crea subclases para representar diferentes figuras geométricas como cuadrados, rectángulos y círculos. \n",
    "\n",
    "Implementa los cálculos de área y perímetro para cada subclase."
   ]
  },
  {
   "cell_type": "code",
   "execution_count": null,
   "id": "a8df35fe",
   "metadata": {},
   "outputs": [],
   "source": []
  },
  {
   "cell_type": "markdown",
   "id": "0b8a1abb",
   "metadata": {},
   "source": [
    "## Ejercicios de Tarea:"
   ]
  },
  {
   "cell_type": "markdown",
   "id": "02332bd1",
   "metadata": {},
   "source": [
    "### Ejercicio 1: Sistema de Biblioteca\n",
    "\n",
    "Crea una clase llamada `Library` que simule un sistema de biblioteca. La clase debe tener métodos para agregar libros, prestar libros y mostrar la lista de libros disponibles.\n"
   ]
  },
  {
   "cell_type": "markdown",
   "id": "7af88a79",
   "metadata": {},
   "source": [
    "### Ejercicio 2: Registro de Empleados\n",
    "\n",
    "Crea una clase llamada `Employee` que represente a un empleado en una empresa. La clase debe tener métodos para registrar la asistencia diaria, registrar horas trabajadas y calcular el salario basado en las horas trabajadas."
   ]
  },
  {
   "cell_type": "markdown",
   "id": "b99d801d",
   "metadata": {},
   "source": [
    "### Ejercicio 3: Calculadora Avanzada\n",
    "\n",
    "Crea una clase llamada `Calculator` que sea capaz de realizar operaciones matemáticas avanzadas como exponentes y raíces cuadradas. La clase debe tener métodos para realizar estas operaciones."
   ]
  },
  {
   "cell_type": "markdown",
   "id": "0b5aa873",
   "metadata": {},
   "source": [
    "### Ejercicio 4: Juego de Adivinanza\n",
    "\n",
    "Crea una clase llamada `GuessingGame` que simule un juego de adivinanzas. La clase debe generar un número aleatorio y permitir que el jugador adivine el número. Debe proporcionar pistas si el número es mayor o menor que el número a adivinar."
   ]
  },
  {
   "cell_type": "markdown",
   "id": "58a5372b",
   "metadata": {},
   "source": [
    "### Un simulador de banco utilizando clases\n",
    "Simulador de Banco - Ejercicio Práctico\n",
    "\n",
    "Objetivo:\n",
    "Crear un programa en Python que simule un banco y permita realizar operaciones bancarias para diferentes clientes utilizando clases.\n",
    "\n",
    "Instrucciones:\n",
    "\n",
    "Crear la Clase Cliente:\n",
    "\n",
    "Define una clase llamada Cliente. Cada cliente debe tener los siguientes atributos:\n",
    "\n",
    "nombre (cadena): Nombre del cliente.\n",
    "saldo (flotante): Saldo inicial del cliente.\n",
    "\n",
    "Además, implementa los siguientes métodos dentro de la clase Cliente:\n",
    "\n",
    "depositar(cantidad): Recibe una cantidad y agrega ese valor al saldo del cliente. Si la cantidad es positiva, muestra un mensaje de depósito exitoso y el nuevo saldo. Si es negativa, muestra un mensaje de cantidad inválida.\n",
    " \n",
    "retirar(cantidad): Recibe una cantidad y resta ese valor del saldo del cliente. Si la cantidad es mayor que cero y menor o igual al saldo, muestra un mensaje de retiro exitoso y el nuevo saldo. Si es negativa o mayor al saldo, muestra un mensaje de cantidad inválida.\n",
    "\n",
    "consultar_saldo(): Muestra el saldo actual del cliente.\n",
    "\n",
    "Crear la Clase Banco:\n",
    "Define una clase llamada Banco. Cada banco debe tener los siguientes atributos:\n",
    "\n",
    "nombre (cadena): Nombre del banco.\n",
    "\n",
    "clientes (lista): Lista que almacenará los objetos Cliente.\n",
    "\n",
    "\n",
    "Además, implementa los siguientes métodos dentro de la clase Banco:\n",
    "\n",
    "agregar_cliente(cliente): Recibe un objeto Cliente y lo agrega a la lista de clientes del banco. \n",
    "\n",
    "Muestra un mensaje de cliente agregado.\n",
    "\n",
    "mostrar_clientes(): Muestra la lista de nombres de los clientes del banco.\n",
    "\n",
    "Crear el Programa Principal:\n",
    "\n",
    "Crea una instancia de la clase Banco con un nombre específico, por ejemplo, \"Banco XYZ\". \n",
    "\n",
    "Luego, crea instancias de la clase Cliente con diferentes nombres y saldos iniciales. \n",
    "\n",
    "Agrega estos clientes al banco utilizando el método agregar_cliente.\n",
    "\n",
    "Luego, permite realizar operaciones bancarias para cada cliente. Pide al usuario que elija entre depósito, retiro o consulta de saldo, y solicita la cantidad correspondiente. Realiza las operaciones utilizando los métodos de la clase Cliente.\n",
    "\n",
    "Finalmente, muestra la lista de clientes del banco utilizando el método mostrar_clientes.\n",
    "\n",
    "Nota:\n",
    "Asegúrate de utilizar el concepto de encapsulación y métodos para realizar las operaciones dentro de las clases."
   ]
  },
  {
   "cell_type": "markdown",
   "id": "8aea96ff",
   "metadata": {},
   "source": [
    "Bienvenido al Simulador de Banco - Banco XYZ\n",
    "\n",
    "1. Agregar Cliente\n",
    "2. Realizar Operaciones Bancarias\n",
    "3. Mostrar Clientes\n",
    "4. Salir\n",
    "\n",
    "Elige una opción: 1\n",
    "\n",
    "Ingresa el nombre del cliente: Juan Pérez\n",
    "Ingresa el saldo inicial: 5000\n",
    "Cliente Juan Pérez agregado al Banco XYZ.\n",
    "\n",
    "Elige una opción: 1\n",
    "\n",
    "Ingresa el nombre del cliente: María González\n",
    "Ingresa el saldo inicial: 10000\n",
    "Cliente María González agregado al Banco XYZ.\n",
    "\n",
    "Elige una opción: 2\n",
    "\n",
    "Elige un cliente (1: Juan Pérez, 2: María González): 1\n",
    "\n",
    "1. Depositar\n",
    "2. Retirar\n",
    "3. Consultar Saldo\n",
    "\n",
    "Elige una operación: 1\n",
    "\n",
    "Ingresa la cantidad a depositar: 2000\n",
    "Depósito de $2000 realizado. Nuevo saldo: $7000\n",
    "\n",
    "Elige una opción: 2\n",
    "\n",
    "Ingresa la cantidad a retirar: 1500\n",
    "Retiro de $1500 realizado. Nuevo saldo: $5500\n",
    "\n",
    "Elige una opción: 3\n",
    "\n",
    "Saldo actual de Juan Pérez: $5500\n",
    "\n",
    "Elige una opción: 2\n",
    "\n",
    "Elige un cliente (1: Juan Pérez, 2: María González): 2\n",
    "\n",
    "1. Depositar\n",
    "2. Retirar\n",
    "3. Consultar Saldo\n",
    "\n",
    "Elige una operación: 1\n",
    "\n",
    "Ingresa la cantidad a depositar: 500\n",
    "Depósito de $500 realizado. Nuevo saldo: $10500\n",
    "\n",
    "Elige una opción: 2\n",
    "\n",
    "Ingresa la cantidad a retirar: 7000\n",
    "Retiro de $7000 realizado. Nuevo saldo: $3500\n",
    "\n",
    "Elige una opción: 3\n",
    "\n",
    "Saldo actual de María González: $3500\n",
    "\n",
    "Elige una opción: 3\n",
    "\n",
    "Clientes del Banco XYZ:\n",
    "- Juan Pérez\n",
    "- María González\n"
   ]
  },
  {
   "cell_type": "code",
   "execution_count": null,
   "id": "67966d31",
   "metadata": {},
   "outputs": [],
   "source": []
  }
 ],
 "metadata": {
  "kernelspec": {
   "display_name": "Python 3 (ipykernel)",
   "language": "python",
   "name": "python3"
  },
  "language_info": {
   "codemirror_mode": {
    "name": "ipython",
    "version": 3
   },
   "file_extension": ".py",
   "mimetype": "text/x-python",
   "name": "python",
   "nbconvert_exporter": "python",
   "pygments_lexer": "ipython3",
   "version": "3.9.12"
  }
 },
 "nbformat": 4,
 "nbformat_minor": 5
}
