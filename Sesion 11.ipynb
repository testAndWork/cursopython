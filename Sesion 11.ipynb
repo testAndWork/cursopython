{
 "cells": [
  {
   "cell_type": "markdown",
   "id": "9c8c537c",
   "metadata": {},
   "source": [
    "# <span style=\"color:darkblue\">Módulo 1 - Introducción a la programación con Python </span>\n",
    "\n",
    "## <span style=\"color:darkblue\">Sesión 11 - Excepciones en Python</span>\n",
    "\n",
    "### <span style=\"color:darkblue\">Duración estimada:\t4 horas</span>\n",
    "\n",
    "#### <span style=\"color:darkblue\">En marco del proyecto: “EMPLEO JOVEN ES”</span>"
   ]
  },
  {
   "cell_type": "markdown",
   "id": "42a8be22",
   "metadata": {},
   "source": [
    "## <span style=\"color:darkblue\"> Tabla de contenidos:</span>\n",
    " \n",
    "    1- Bienvenida\n",
    "    \n",
    "    2- Asistencia\n",
    "    \n",
    "    3- Dudas de la Clase anterior\n",
    "    \n",
    "    4- Control de Lectura\n",
    "    \n",
    "    5- Objetivo\n",
    "    \n",
    "    6- Introducción\n",
    "    \n",
    "    7- Aprendamos\n",
    "\n",
    "    \n",
    "    \n",
    "    \n",
    "    8- Aplicando Conocimientos\t\n",
    "\n",
    "    9- Retroalimentación\n",
    "    \n",
    "    10- Asistencia\n"
   ]
  },
  {
   "attachments": {},
   "cell_type": "markdown",
   "id": "51ae1b4d",
   "metadata": {},
   "source": [
    "## <span style=\"color:darkred\">Objetivo:</span>\n",
    "\n",
    "Aprender el manejo de excepciones en Python para ser capaz de identificar y manejar errores en el código, lo que permitirá desarrollar programas más robustos y fiables. Al finalizar el aprendizaje, podrás escribir código que maneje excepciones de manera eficiente, y evitar que los errores causen la terminación inesperada del programa. También podrás entender los tipos de excepciones que pueden ocurrir en Python, y cómo manejarlos para mejorar la calidad y seguridad de tus programas.\n",
    "\n",
    "### <span style=\"color:darkred\">Recursos</span>\n",
    "\n",
    "•\tSesión 11 excepciones\n",
    "\n",
    "•\tComputadora con Python instalado\n",
    "\n",
    "•\tVisual Studio Code instalado\n",
    "\n",
    "\n",
    "\n",
    "\n",
    "### <span style=\"color:darkred\">Introducción:</span>\n",
    "\n",
    "La programación es una tarea compleja que implica la creación y el mantenimiento de software para realizar tareas específicas. A menudo, los programas deben interactuar con fuentes de datos externas o dispositivos, lo que puede dar lugar a situaciones inesperadas o errores. El manejo de excepciones es una técnica fundamental en la programación para manejar estos casos y garantizar que el programa continúe funcionando de manera adecuada.\n",
    "\n",
    "En términos simples, una excepción es un evento que ocurre durante la ejecución del programa que interrumpe su flujo normal. Puede ser causada por diversos factores, como entradas de datos incorrectas, fallos en la conexión de red o problemas de memoria insuficiente. Si no se manejan adecuadamente, estas excepciones pueden hacer que el programa falle o genere resultados incorrectos.\n",
    "\n",
    "El manejo de excepciones es un mecanismo que permite a los programadores anticipar y manejar las excepciones que puedan ocurrir durante la ejecución del programa. Al hacerlo, pueden asegurarse de que el programa siga funcionando correctamente y eviten la interrupción del flujo normal del programa.\n",
    "\n",
    "El bloque **try** le permite probar un bloque de código en busca de errores.\n",
    "\n",
    "El bloque **except** le permite manejar el error.\n",
    "\n",
    "El bloque **else** te permite ejecutar código cuando no hay ningún error.\n",
    "\n",
    "El bloque **finally** le permite ejecutar código, independientemente del resultado de los bloques de prueba y excepción.\n",
    "\n",
    "\n",
    "### <span style=\"color:darkred\">Aprendamos </span>\n"
   ]
  },
  {
   "cell_type": "code",
   "execution_count": 9,
   "id": "209bfc27",
   "metadata": {},
   "outputs": [
    {
     "name": "stdout",
     "output_type": "stream",
     "text": [
      "Digite numerador: 1\n",
      "Digite denominador: 0-\n"
     ]
    },
    {
     "ename": "ValueError",
     "evalue": "invalid literal for int() with base 10: '0-'",
     "output_type": "error",
     "traceback": [
      "\u001b[0;31m---------------------------------------------------------------------------\u001b[0m",
      "\u001b[0;31mValueError\u001b[0m                                Traceback (most recent call last)",
      "Input \u001b[0;32mIn [9]\u001b[0m, in \u001b[0;36m<cell line: 2>\u001b[0;34m()\u001b[0m\n\u001b[1;32m      1\u001b[0m x \u001b[38;5;241m=\u001b[39m \u001b[38;5;28mint\u001b[39m(\u001b[38;5;28minput\u001b[39m(\u001b[38;5;124m'\u001b[39m\u001b[38;5;124mDigite numerador: \u001b[39m\u001b[38;5;124m'\u001b[39m))\n\u001b[0;32m----> 2\u001b[0m y \u001b[38;5;241m=\u001b[39m \u001b[38;5;28;43mint\u001b[39;49m\u001b[43m(\u001b[49m\u001b[38;5;28;43minput\u001b[39;49m\u001b[43m(\u001b[49m\u001b[38;5;124;43m'\u001b[39;49m\u001b[38;5;124;43mDigite denominador: \u001b[39;49m\u001b[38;5;124;43m'\u001b[39;49m\u001b[43m)\u001b[49m\u001b[43m)\u001b[49m\n\u001b[1;32m      5\u001b[0m \u001b[38;5;28mprint\u001b[39m(x\u001b[38;5;241m/\u001b[39my)\n",
      "\u001b[0;31mValueError\u001b[0m: invalid literal for int() with base 10: '0-'"
     ]
    }
   ],
   "source": [
    "x = int(input('Digite numerador: '))\n",
    "y = int(input('Digite denominador: '))\n",
    "\n",
    "\n",
    "print(x/y)"
   ]
  },
  {
   "attachments": {},
   "cell_type": "markdown",
   "id": "0460e94a",
   "metadata": {},
   "source": [
    "### Manejo de Excepciones\n",
    "\n",
    "Cuando ocurre un error, o una excepción como lo llamamos, Python normalmente se detendrá y generará un mensaje de error. Estas excepciones se pueden manejar usando la declaración `try`:\n"
   ]
  },
  {
   "cell_type": "code",
   "execution_count": 10,
   "id": "5e778bbf",
   "metadata": {},
   "outputs": [
    {
     "name": "stdout",
     "output_type": "stream",
     "text": [
      "1\n"
     ]
    }
   ],
   "source": [
    "try: \n",
    "    print(x) # Generador o donde ocurre el error\n",
    "except:\n",
    "    print('An exception occurred') # Nos dice que tipo fue el error"
   ]
  },
  {
   "cell_type": "markdown",
   "id": "677b46cf",
   "metadata": {},
   "source": [
    "### Muchas excepciones \n",
    "\n",
    "Podemos definicuantos bloques de excepciones necesitemos."
   ]
  },
  {
   "cell_type": "code",
   "execution_count": 12,
   "id": "f10aab09",
   "metadata": {},
   "outputs": [
    {
     "name": "stdout",
     "output_type": "stream",
     "text": [
      "1\n"
     ]
    }
   ],
   "source": [
    "try:\n",
    "    print(x)\n",
    "except NameError:\n",
    "    print('Variable is not defined')\n",
    "except:\n",
    "    print('Anything else')"
   ]
  },
  {
   "cell_type": "markdown",
   "id": "ee03b2e5",
   "metadata": {},
   "source": [
    "\n",
    "<html>\n",
    "\n",
    "\n",
    "<body>\n",
    "\n",
    "<h2>Excepciones y Descripciones de Manejo de Errores</h2>\n",
    "\n",
    "<table>\n",
    "    <tr>\n",
    "        <th>Excepción</th>\n",
    "        <th>Descripción sobre el manejo del Error</th>\n",
    "    </tr>\n",
    "    <tr>\n",
    "        <td>Exception</td>\n",
    "        <td>La excepción base de la que heredan todas las demás excepciones</td>\n",
    "    </tr>\n",
    "    <tr>\n",
    "        <td>TypeError</td>\n",
    "        <td>Se produce cuando se intenta realizar una operación con un tipo de datos no compatible</td>\n",
    "    </tr>\n",
    "    <tr>\n",
    "        <td>ValueError</td>\n",
    "        <td>Se produce cuando se intenta realizar una operación con un valor no válido</td>\n",
    "    </tr>\n",
    "    <tr>\n",
    "        <td>IndexError</td>\n",
    "        <td>Se produce cuando se intenta acceder a un índice fuera de los límites de una secuencia</td>\n",
    "    </tr>\n",
    "    <tr>\n",
    "        <td>KeyError</td>\n",
    "        <td>Se produce cuando se intenta acceder a una clave inexistente en un diccionario</td>\n",
    "    </tr>\n",
    "    <tr>\n",
    "        <td>AttributeError</td>\n",
    "        <td>Se produce cuando se intenta acceder a un atributo inexistente en un objeto</td>\n",
    "    </tr>\n",
    "    <tr>\n",
    "        <td>NameError</td>\n",
    "        <td>Se produce cuando se intenta acceder a una variable no definida</td>\n",
    "    </tr>\n",
    "    <tr>\n",
    "        <td>IOError</td>\n",
    "        <td>Se produce cuando se produce un error de entrada/salida</td>\n",
    "    </tr>\n",
    "    <tr>\n",
    "        <td>ZeroDivisionError</td>\n",
    "        <td>Se produce cuando se intenta dividir un número por cero</td>\n",
    "    </tr>\n",
    "    <tr>\n",
    "        <td>SyntaxError</td>\n",
    "        <td>Se produce cuando se encuentra un error de sintaxis en el código fuente</td>\n",
    "    </tr>\n",
    "    <tr>\n",
    "        <td>IndentationError</td>\n",
    "        <td>Se produce cuando se encuentra un error de indentación en el código fuente</td>\n",
    "    </tr>\n",
    "    <tr>\n",
    "        <td>FileNotFoundError</td>\n",
    "        <td>Se produce cuando se intenta abrir un archivo que no existe</td>\n",
    "    </tr>\n",
    "    <tr>\n",
    "        <td>ModuleNotFoundError</td>\n",
    "        <td>Se produce cuando se intenta importar un módulo que no existe</td>\n",
    "    </tr>\n",
    "    <tr>\n",
    "        <td>KeyboardInterrupt</td>\n",
    "        <td>Se produce cuando se interrumpe la ejecución con la combinación de teclas Ctrl+C</td>\n",
    "    </tr>\n",
    "    <tr>\n",
    "        <td>SystemExit</td>\n",
    "        <td>Se produce cuando se llama a la función sys.exit() para salir del programa</td>\n",
    "    </tr>\n",
    "</table>\n",
    "\n",
    "</body>"
   ]
  },
  {
   "cell_type": "markdown",
   "id": "db7d1341",
   "metadata": {},
   "source": [
    "### Ejercicio 1: División Segura\n",
    "\n",
    "**Objetivo:** Crear una función que divida dos números de manera segura, manejando excepciones si es necesario."
   ]
  },
  {
   "cell_type": "code",
   "execution_count": 34,
   "id": "3ff37f5f",
   "metadata": {},
   "outputs": [
    {
     "name": "stdout",
     "output_type": "stream",
     "text": [
      "DIgite numerador 1\n",
      "DIgite denominador 2\n"
     ]
    },
    {
     "data": {
      "text/plain": [
       "0.5"
      ]
     },
     "execution_count": 34,
     "metadata": {},
     "output_type": "execute_result"
    }
   ],
   "source": [
    "def division_segura(numerador, denominador):\n",
    "    \n",
    "    try:\n",
    "        resultado = numerador / denominador\n",
    "        return resultado\n",
    "    \n",
    "    except ZeroDivisionError:\n",
    "        print('Error: No se puede divir entre cero')\n",
    "\n",
    "    except ValueError:\n",
    "        print('Error: Ha ocurrido algun problema')\n",
    "\n",
    "    \n",
    "    \n",
    "x = float(input('DIgite numerador '))\n",
    "y = float(input('DIgite denominador '))\n",
    "\n",
    "division_segura(x, y)"
   ]
  },
  {
   "cell_type": "code",
   "execution_count": 37,
   "id": "740fe462",
   "metadata": {},
   "outputs": [
    {
     "name": "stdout",
     "output_type": "stream",
     "text": [
      "Digite numerador: 1\n",
      "Digite denominador: 0\n",
      "no se puede dividir entre 0\n"
     ]
    }
   ],
   "source": [
    "def definicion_segura(Numerador, denominador):\n",
    "    try:\n",
    "        resultado = Numerador / denominador\n",
    "        return resultado\n",
    "    except ZeroDivisionError:\n",
    "          print('no se puede dividir entre 0')\n",
    "    except ValueError:\n",
    "          print('ha ocrruido un problema')\n",
    "    except:\n",
    "        print('Ha ocurrido un problema')\n",
    "try:\n",
    "      x = int(input('Digite numerador: '))\n",
    "      y = int(input('Digite denominador: '))\n",
    "      definicion_segura(x,y)\n",
    "except ValueError:\n",
    "      print('Debe ingresar numeros enteros')"
   ]
  },
  {
   "cell_type": "markdown",
   "id": "e2d359b0",
   "metadata": {},
   "source": [
    "### Ejercicio 2: Conversión de Número Entero\n",
    "\n",
    "### Objetivo: \n",
    "Crear una función que convierta una cadena en un número entero, manejando excepciones si la conversión falla."
   ]
  },
  {
   "cell_type": "code",
   "execution_count": 36,
   "id": "5fd627d0",
   "metadata": {},
   "outputs": [
    {
     "data": {
      "text/plain": [
       "int"
      ]
     },
     "execution_count": 36,
     "metadata": {},
     "output_type": "execute_result"
    }
   ],
   "source": [
    "def convert_2_int(cadena):\n",
    "    \n",
    "    try:\n",
    "        entero = int(cadena)\n",
    "        return entero\n",
    "    except ValueError:\n",
    "        print(\"Error: la cadena no es válida\")\n",
    "\n",
    "cad =  '233423423'#'fgh'\n",
    "\n",
    "intCad = convert_2_int(cad)\n",
    "\n",
    "type(intCad)"
   ]
  },
  {
   "cell_type": "markdown",
   "id": "742a1682",
   "metadata": {},
   "source": [
    "### Ejercicio 3: Validación de Entrada (5 min)\n",
    "\n",
    "#### Objetivo: \n",
    "Crear un programa que solicite al usuario ingresar un número positivo y maneje excepciones en caso de entrada inválida."
   ]
  },
  {
   "cell_type": "code",
   "execution_count": 52,
   "id": "0e67331f",
   "metadata": {},
   "outputs": [
    {
     "name": "stdout",
     "output_type": "stream",
     "text": [
      "Ingrese un numero: 1\n",
      "El numero es positivo\n"
     ]
    },
    {
     "data": {
      "text/plain": [
       "1"
      ]
     },
     "execution_count": 52,
     "metadata": {},
     "output_type": "execute_result"
    }
   ],
   "source": [
    "def validar(num):\n",
    "    try:\n",
    "        if num >0:\n",
    "            print('El numero es positivo')\n",
    "            return num\n",
    "        elif num == 0:\n",
    "            print('El numero es cero')\n",
    "            \n",
    "    except ValueError:\n",
    "        print('El numero es negativo')\n",
    "\n",
    "    except TypeError:\n",
    "        print('Error: ha ocurrido un problema')\n",
    "\n",
    "num = int(input('Ingrese un numero: '))\n",
    "validar(num)"
   ]
  },
  {
   "cell_type": "code",
   "execution_count": 53,
   "id": "633be6a5",
   "metadata": {},
   "outputs": [
    {
     "name": "stdout",
     "output_type": "stream",
     "text": [
      "Ingresa un número positivo: 7\n",
      "Has ingresado el número positivo: 7.0\n"
     ]
    }
   ],
   "source": [
    "def numero_positivo():\n",
    "    while True:\n",
    "        try:\n",
    "            numero = float(input(\"Ingresa un número positivo: \"))\n",
    "            if numero < 0:\n",
    "                print(\"El número debe ser positivo.\")\n",
    "            else:\n",
    "                return numero\n",
    "        except ValueError:\n",
    "            print(\"Entrada inválida. Ingresa un número válido.\")\n",
    "\n",
    "\n",
    "numero = numero_positivo()\n",
    "print(\"Has ingresado el número positivo:\", numero)"
   ]
  },
  {
   "cell_type": "markdown",
   "id": "5181617b",
   "metadata": {},
   "source": [
    "### Else en el manejo de excepciones"
   ]
  },
  {
   "cell_type": "code",
   "execution_count": null,
   "id": "7896771a",
   "metadata": {},
   "outputs": [],
   "source": [
    "try:\n",
    "    print(x)\n",
    "except:\n",
    "    print('Error message')\n",
    "else:\n",
    "    print('Error Message 2')"
   ]
  },
  {
   "cell_type": "markdown",
   "id": "41cc8618",
   "metadata": {},
   "source": [
    "### Ejemplo: Conversión de Entrada\n",
    "\n",
    "En este ejemplo, se intenta convertir una entrada del usuario a un número entero. Si la conversión es exitosa, se muestra un mensaje indicando que la conversión fue exitosa. Si ocurre un error debido a que la entrada no es un número válido, se maneja la excepción y se imprime un mensaje de error."
   ]
  },
  {
   "cell_type": "code",
   "execution_count": 57,
   "id": "8c03a15c",
   "metadata": {},
   "outputs": [
    {
     "name": "stdout",
     "output_type": "stream",
     "text": [
      "Ingrese un número34\n",
      "34\n",
      "La conversion fue exitosa\n"
     ]
    }
   ],
   "source": [
    "entrada = input('Ingrese un número')\n",
    "\n",
    "try:\n",
    "    numero = int(entrada)\n",
    "    print(numero)\n",
    "    \n",
    "except ValueError:\n",
    "    print('Error: La entrada, es numero no valido')\n",
    "    \n",
    "else:\n",
    "    print('La conversion fue exitosa')"
   ]
  },
  {
   "cell_type": "markdown",
   "id": "83601c0f",
   "metadata": {},
   "source": [
    "### Finally en el manejo de Excepciones"
   ]
  },
  {
   "cell_type": "code",
   "execution_count": 63,
   "id": "14ac0218",
   "metadata": {},
   "outputs": [
    {
     "name": "stdout",
     "output_type": "stream",
     "text": [
      "1\n",
      "El bloque try except finalizo\n"
     ]
    }
   ],
   "source": [
    "try:\n",
    "    print(x)\n",
    "except:\n",
    "    print('Error 1')\n",
    "finally:\n",
    "    print('El bloque try except finalizo')"
   ]
  },
  {
   "cell_type": "code",
   "execution_count": 64,
   "id": "5d29db59",
   "metadata": {},
   "outputs": [
    {
     "name": "stdout",
     "output_type": "stream",
     "text": [
      "Ingrese el Numerador: 1\n",
      "Ingrese el denominador: 0\n",
      "Error: No se puede dividir entre cero\n",
      "El codigo ha sido ejecutado con éxito\n",
      "la suma de 1.0 + 0.0 es igual a : 1.0\n"
     ]
    }
   ],
   "source": [
    "try :\n",
    "    numerador   = float(input('Ingrese el Numerador: '))\n",
    "    denominador = float(input('Ingrese el denominador: '))\n",
    "    \n",
    "    resultado = numerador / denominador\n",
    "\n",
    "except ZeroDivisionError:\n",
    "    print('Error: No se puede dividir entre cero')\n",
    "\n",
    "else: \n",
    "    print('El resultado es: ', resultado)\n",
    "    \n",
    "finally:\n",
    "    print('El codigo ha sido ejecutado con éxito')\n",
    "    \n",
    "    \n",
    "suma = numerador + denominador\n",
    "print( f'la suma de {numerador} + {denominador} es igual a : {suma}' )"
   ]
  },
  {
   "cell_type": "markdown",
   "id": "9cdf3422",
   "metadata": {},
   "source": [
    "#### Finally para cerrar conexion a una BD"
   ]
  },
  {
   "cell_type": "code",
   "execution_count": null,
   "id": "06cc03e6",
   "metadata": {},
   "outputs": [],
   "source": [
    "conexion = None\n",
    "try:\n",
    "    # Simulación de conexión a la base de datos\n",
    "    conexion = \"Conexión abierta\"\n",
    "    # Operaciones en la base de datos\n",
    "except Exception as e:\n",
    "    print(\"Error:\", e)\n",
    "finally:\n",
    "    if conexion:\n",
    "        print(\"Cerrando la conexión...\")\n",
    "        conexion = None\n"
   ]
  },
  {
   "cell_type": "markdown",
   "id": "57e6a4fe",
   "metadata": {},
   "source": [
    "### Levantar una excepcion con `raise`"
   ]
  },
  {
   "cell_type": "code",
   "execution_count": 65,
   "id": "803becad",
   "metadata": {},
   "outputs": [
    {
     "ename": "Exception",
     "evalue": "No, números negativos",
     "output_type": "error",
     "traceback": [
      "\u001b[0;31m---------------------------------------------------------------------------\u001b[0m",
      "\u001b[0;31mException\u001b[0m                                 Traceback (most recent call last)",
      "Input \u001b[0;32mIn [65]\u001b[0m, in \u001b[0;36m<cell line: 3>\u001b[0;34m()\u001b[0m\n\u001b[1;32m      1\u001b[0m x \u001b[38;5;241m=\u001b[39m \u001b[38;5;241m-\u001b[39m\u001b[38;5;241m1\u001b[39m\n\u001b[1;32m      3\u001b[0m \u001b[38;5;28;01mif\u001b[39;00m x \u001b[38;5;241m<\u001b[39m \u001b[38;5;241m0\u001b[39m:\n\u001b[0;32m----> 4\u001b[0m     \u001b[38;5;28;01mraise\u001b[39;00m \u001b[38;5;167;01mException\u001b[39;00m(\u001b[38;5;124m'\u001b[39m\u001b[38;5;124mNo, números negativos\u001b[39m\u001b[38;5;124m'\u001b[39m)\n",
      "\u001b[0;31mException\u001b[0m: No, números negativos"
     ]
    }
   ],
   "source": [
    "x = -1\n",
    "\n",
    "if x < 0:\n",
    "    raise Exception('No, números negativos')"
   ]
  },
  {
   "cell_type": "code",
   "execution_count": 68,
   "id": "fa27d8d4",
   "metadata": {},
   "outputs": [
    {
     "ename": "TypeError",
     "evalue": "solo necesitamos enteros",
     "output_type": "error",
     "traceback": [
      "\u001b[0;31m---------------------------------------------------------------------------\u001b[0m",
      "\u001b[0;31mTypeError\u001b[0m                                 Traceback (most recent call last)",
      "Input \u001b[0;32mIn [68]\u001b[0m, in \u001b[0;36m<cell line: 3>\u001b[0;34m()\u001b[0m\n\u001b[1;32m      1\u001b[0m string \u001b[38;5;241m=\u001b[39m \u001b[38;5;124m'\u001b[39m\u001b[38;5;124mHello\u001b[39m\u001b[38;5;124m'\u001b[39m\n\u001b[1;32m      3\u001b[0m \u001b[38;5;28;01mif\u001b[39;00m \u001b[38;5;129;01mnot\u001b[39;00m \u001b[38;5;28mtype\u001b[39m(string) \u001b[38;5;129;01mis\u001b[39;00m \u001b[38;5;28mint\u001b[39m :\n\u001b[0;32m----> 4\u001b[0m     \u001b[38;5;28;01mraise\u001b[39;00m \u001b[38;5;167;01mTypeError\u001b[39;00m(\u001b[38;5;124m'\u001b[39m\u001b[38;5;124msolo necesitamos enteros\u001b[39m\u001b[38;5;124m'\u001b[39m)\n",
      "\u001b[0;31mTypeError\u001b[0m: solo necesitamos enteros"
     ]
    }
   ],
   "source": [
    "string = 'Hello'\n",
    "\n",
    "if not type(string) is int :\n",
    "    raise TypeError('solo necesitamos enteros')"
   ]
  },
  {
   "cell_type": "code",
   "execution_count": 69,
   "id": "c289d77c",
   "metadata": {
    "scrolled": true
   },
   "outputs": [
    {
     "ename": "ZeroDivisionError",
     "evalue": "division by zero",
     "output_type": "error",
     "traceback": [
      "\u001b[0;31m---------------------------------------------------------------------------\u001b[0m",
      "\u001b[0;31mZeroDivisionError\u001b[0m                         Traceback (most recent call last)",
      "Input \u001b[0;32mIn [69]\u001b[0m, in \u001b[0;36m<cell line: 1>\u001b[0;34m()\u001b[0m\n\u001b[0;32m----> 1\u001b[0m \u001b[38;5;241;43m1\u001b[39;49m\u001b[38;5;241;43m/\u001b[39;49m\u001b[38;5;241;43m0\u001b[39;49m\n",
      "\u001b[0;31mZeroDivisionError\u001b[0m: division by zero"
     ]
    }
   ],
   "source": [
    "1/0"
   ]
  },
  {
   "cell_type": "code",
   "execution_count": 77,
   "id": "d00b7e88",
   "metadata": {},
   "outputs": [
    {
     "name": "stdout",
     "output_type": "stream",
     "text": [
      "Ingrese el Numerador: 1\n",
      "Ingrese el denominador: 0\n",
      "El codigo ha sido ejecutado con éxito\n"
     ]
    },
    {
     "ename": "Exception",
     "evalue": "No se puede dividir por cero",
     "output_type": "error",
     "traceback": [
      "\u001b[0;31m---------------------------------------------------------------------------\u001b[0m",
      "\u001b[0;31mException\u001b[0m                                 Traceback (most recent call last)",
      "Input \u001b[0;32mIn [77]\u001b[0m, in \u001b[0;36m<cell line: 1>\u001b[0;34m()\u001b[0m\n\u001b[1;32m      3\u001b[0m     denominador \u001b[38;5;241m=\u001b[39m \u001b[38;5;28mfloat\u001b[39m(\u001b[38;5;28minput\u001b[39m(\u001b[38;5;124m'\u001b[39m\u001b[38;5;124mIngrese el denominador: \u001b[39m\u001b[38;5;124m'\u001b[39m))\n\u001b[1;32m      5\u001b[0m     \u001b[38;5;28;01mif\u001b[39;00m denominador \u001b[38;5;241m==\u001b[39m \u001b[38;5;241m0\u001b[39m:\n\u001b[0;32m----> 7\u001b[0m         \u001b[38;5;28;01mraise\u001b[39;00m \u001b[38;5;167;01mException\u001b[39;00m(\u001b[38;5;124m'\u001b[39m\u001b[38;5;124mNo se puede dividir por cero\u001b[39m\u001b[38;5;124m'\u001b[39m)\n\u001b[1;32m      9\u001b[0m     resultado \u001b[38;5;241m=\u001b[39m numerador \u001b[38;5;241m/\u001b[39m denominador\n\u001b[1;32m     12\u001b[0m \u001b[38;5;28;01mexcept\u001b[39;00m \u001b[38;5;167;01mZeroDivisionError\u001b[39;00m:\n",
      "\u001b[0;31mException\u001b[0m: No se puede dividir por cero"
     ]
    }
   ],
   "source": [
    "try :\n",
    "    numerador   = float(input('Ingrese el Numerador: '))\n",
    "    denominador = float(input('Ingrese el denominador: '))\n",
    "    \n",
    "    if denominador == 0:\n",
    "        \n",
    "        raise Exception('No se puede dividir por cero')\n",
    "    \n",
    "    resultado = numerador / denominador\n",
    "\n",
    "    \n",
    "except ZeroDivisionError:\n",
    "    print('Error: No se puede dividir entre cero')\n",
    "\n",
    "else: \n",
    "    print('El resultado es: ', resultado)\n",
    "\n",
    "finally:\n",
    "    print('El codigo ha sido ejecutado con éxito')"
   ]
  },
  {
   "cell_type": "markdown",
   "id": "88c2df18",
   "metadata": {},
   "source": [
    "### Validación de Edad (10 min)\n",
    "\n",
    "Se pide al usuario que ingrese su edad. Luego, se verifica si la edad ingresada es menor de 18 años. Si es menor, se genera la excepción personalizada `MenorDeEdadError` utilizando `raise`. En el bloque `except`, se maneja esta excepción y se imprime un mensaje de error indicando que el usuario debe ser mayor de edad. Si la edad es igual o mayor a 18, se imprime un mensaje indicando que el usuario es mayor de edad.\n",
    "\n",
    "`class MenorDeEdadError(Exception):\n",
    "    pass`"
   ]
  },
  {
   "cell_type": "code",
   "execution_count": 84,
   "id": "75b2eafb",
   "metadata": {
    "scrolled": true
   },
   "outputs": [
    {
     "name": "stdout",
     "output_type": "stream",
     "text": [
      "Digite la edad: 3\n",
      "Error Error: Debes ser mayor de edad.\n",
      "al fin se terminó\n"
     ]
    }
   ],
   "source": [
    "class MenorDeEdadError(Exception):\n",
    "    pass\n",
    "\n",
    "try:\n",
    "    edad = int(input('Digite la edad: '))\n",
    "    if edad < 18:\n",
    "        raise MenorDeEdadError('Error: Debes ser mayor de edad.')\n",
    "        \n",
    "except MenorDeEdadError as e:\n",
    "        print('Error', e)\n",
    "else:\n",
    "    print('Eres mayor de edad!')\n",
    "    \n",
    "finally:\n",
    "    print('al fin se terminó')"
   ]
  },
  {
   "cell_type": "code",
   "execution_count": 78,
   "id": "ebaedcad",
   "metadata": {},
   "outputs": [
    {
     "name": "stdout",
     "output_type": "stream",
     "text": [
      "Ingrese su edad: 8\n",
      "Error! La edad ingresada es menor de 18 años.\n"
     ]
    }
   ],
   "source": [
    "class MenorDeEdadError(Exception):\n",
    "    def __init__(Error, edad):\n",
    "        Error.edad = edad\n",
    "        Error.mensaje = f\"Error! La edad ingresada es menor de 18 años.\"\n",
    "def verificar_edad(edad):\n",
    "    if edad < 18:\n",
    "        raise MenorDeEdadError(edad)\n",
    "    else:\n",
    "        print(\"Acceso concedido. Puedes continuar.\")\n",
    "try:\n",
    "    edad = int(input(\"Ingrese su edad: \"))\n",
    "    verificar_edad(edad)\n",
    "except MenorDeEdadError as e:\n",
    "    print(e.mensaje)\n",
    "except ValueError:\n",
    "    print(\"Error: Ingrese un valor numérico válido para la edad.\")"
   ]
  },
  {
   "cell_type": "markdown",
   "id": "9439f5ec",
   "metadata": {},
   "source": [
    "### Tarea: Cálculo de Raíz Cuadrada con Manejo de Excepciones\n",
    "\n",
    "#### Instrucciones:\n",
    "\n",
    "1. Los estudiantes deben crear un programa en Python que permita calcular la raíz cuadrada de un número ingresado por el usuario.\n",
    "\n",
    "\n",
    "2. El programa debe manejar posibles excepciones que puedan ocurrir al calcular la raíz cuadrada de un número negativo o al ingresar un valor no numérico.\n",
    "\n",
    "\n",
    "3. Si se ingresa un número negativo, el programa debe generar una excepción personalizada llamada `RaizNegativaError` y mostrar un mensaje de error.\n",
    "\n",
    "\n",
    "4. Si se ingresa un valor no numérico, el programa debe generar una excepción personalizada llamada `ValorNoNumericoError` y mostrar un mensaje de error.\n",
    "\n",
    "\n",
    "5. Si no se generaron excepciones, el programa debe mostrar el resultado de la raíz cuadrada calculada."
   ]
  },
  {
   "cell_type": "code",
   "execution_count": 94,
   "id": "728cd94a",
   "metadata": {},
   "outputs": [
    {
     "name": "stdout",
     "output_type": "stream",
     "text": [
      "Ingresa el numero al que calcularas la la raiz cuadrada: 4\n",
      "La raiz cuadrada de 4.0 es:  2.00 \n",
      "*******************************************\n",
      "\n",
      " Ejecucion terminada con exito\n",
      "\n",
      "*******************************************\n"
     ]
    }
   ],
   "source": [
    "import math\n",
    "\n",
    "class RaizNegativaError(Exception):\n",
    "    pass\n",
    "\n",
    "class ValorNoNumericoError(Exception):\n",
    "    pass\n",
    "\n",
    "\n",
    "def calcular_raiz(numero):\n",
    "    if numero < 0:\n",
    "        raise RaizNegativaError('No se puden calcular raices de números negativos')\n",
    "    return math.sqrt(numero)\n",
    "\n",
    "try:\n",
    "    numero = float(input('Ingresa el numero al que calcularas la la raiz cuadrada: '))\n",
    "    \n",
    "    resultado = calcular_raiz(numero)\n",
    "    \n",
    "except RaizNegativaError as err:\n",
    "    print('!!!!Error:', err)\n",
    "    \n",
    "except ValueError:\n",
    "    print('Error: Ingrese un valor numérico Valido')\n",
    "\n",
    "else:\n",
    "    print(f'La raiz cuadrada de {numero} es: {resultado : .2f} ')\n",
    "\n",
    "finally:\n",
    "    print(43*'*')\n",
    "    print('\\n Ejecucion terminada con exito\\n')\n",
    "    print(43*'*')\n"
   ]
  },
  {
   "cell_type": "markdown",
   "id": "205dfac2",
   "metadata": {},
   "source": [
    "#### POrque CLases y no funciones???"
   ]
  },
  {
   "cell_type": "code",
   "execution_count": null,
   "id": "aa7931cf",
   "metadata": {},
   "outputs": [],
   "source": []
  }
 ],
 "metadata": {
  "kernelspec": {
   "display_name": "Python 3 (ipykernel)",
   "language": "python",
   "name": "python3"
  },
  "language_info": {
   "codemirror_mode": {
    "name": "ipython",
    "version": 3
   },
   "file_extension": ".py",
   "mimetype": "text/x-python",
   "name": "python",
   "nbconvert_exporter": "python",
   "pygments_lexer": "ipython3",
   "version": "3.9.12"
  }
 },
 "nbformat": 4,
 "nbformat_minor": 5
}
