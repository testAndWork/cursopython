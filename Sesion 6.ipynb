{
 "cells": [
  {
   "cell_type": "markdown",
   "id": "9c8c537c",
   "metadata": {},
   "source": [
    "# <span style=\"color:darkblue\">Módulo 1 - Introducción a la programación con Python </span>\n",
    "\n",
    "## <span style=\"color:darkblue\">Sesión 6 - Estructuras Repetitivas</span>\n",
    "\n",
    "### <span style=\"color:darkblue\">Duración estimada:\t4 horas</span>\n",
    "\n",
    "#### <span style=\"color:darkblue\">En marco del proyecto: “EMPLEO JOVEN ES”</span>"
   ]
  },
  {
   "cell_type": "markdown",
   "id": "42a8be22",
   "metadata": {},
   "source": [
    "## <span style=\"color:darkblue\"> Tabla de contenidos:</span>\n",
    " \n",
    "    1- Bienvenida\n",
    "    \n",
    "    2- Asistencia\n",
    "    \n",
    "    3- Dudas de la Clase anterior\n",
    "    \n",
    "    4- Control de Lectura\n",
    "    \n",
    "    5- Objetivo\n",
    "    \n",
    "    6- Introducción\n",
    "    \n",
    "    7- Objetivo\t\n",
    "\n",
    "    8- El ciclo while\t\n",
    "\n",
    "    9- La declaración de ruptura - while\t\n",
    "\n",
    "    10- La declaración de continuación - while\t\n",
    "\n",
    "    11- La declaración else en un ciclo repetitivo\t\n",
    "\n",
    "    12- La declaración for\t\n",
    "\n",
    "    13- Bucle a través de una cadena\t\n",
    "\n",
    "    14- La declaración de ruptura – for\t\n",
    "\n",
    "    15- La declaración de continuación - for\t\n",
    "\n",
    "    16- La función range()\t\n",
    "\n",
    "    17- Else en el ciclo for\t\n",
    "\n",
    "    18- Bucles anidados\t\n",
    "\n",
    "    19- La declaración pass\t\n",
    "    \n",
    "    20- Retroalimentación\n",
    "    \n",
    "    21- Asistencia\n"
   ]
  },
  {
   "cell_type": "markdown",
   "id": "51ae1b4d",
   "metadata": {},
   "source": [
    "## <span style=\"color:darkred\">Objetivo:</span>\n",
    "\n",
    "Crear programas que automatizan tareas que deben repetirse múltiples veces, sin tener que escribir el mismo código repetidamente. \n",
    "\n",
    "Las estructuras repetitivas nos permiten crear programas que realizan tareas como iterar a través de una lista de elementos, contar y sumar valores, buscar y filtrar elementos, y realizar operaciones matemáticas complejas varias veces en una sola ejecución del programa.\n",
    "\n",
    "### <span style=\"color:darkred\">Recursos</span>\n",
    "\n",
    "•\tSesión 6 de Curso de Python\n",
    "\n",
    "•\tComputadora con Python instalado\n",
    "\n",
    "•\tVisual Studio Code instalado\n",
    "\n",
    "\n",
    "### <span style=\"color:darkred\">Introducción:</span>\n",
    "\n",
    "Python ofrece dos tipos principales de estructuras repetitivas: el bucle \"for\" y el bucle \"while\". \n",
    "\n",
    "El bucle \"for\" se utiliza para iterar a través de una secuencia de elementos (como una lista o una cadena de texto), mientras que el bucle \"while\" se utiliza para ejecutar una serie de instrucciones mientras una condición sea verdadera. \n",
    "\n",
    "Ambos bucles son herramientas esenciales para cualquier programador que desee escribir código eficiente y escalable en Python.\n",
    "\n",
    "Al comprender cómo funcionan las estructuras repetitivas en Python, los programadores pueden escribir programas más eficientes y realizar tareas complejas de manera más efectiva, lo que puede ser especialmente útil en áreas como la ciencia de datos, la ingeniería de software y la automatización de tareas.\n",
    "\n",
    "### <span style=\"color:darkred\">Aprendamos </span>\n",
    "\n",
    "Python tiene dos comandos de bucle primitivos:\n",
    "\n",
    "•\tBucle `while`\n",
    "\n",
    "•\tBucle `for`\n"
   ]
  },
  {
   "cell_type": "markdown",
   "id": "6bc551e5",
   "metadata": {},
   "source": [
    "## Repaso (8 min): nombreApellidoSesion6.py\n",
    "\n"
   ]
  },
  {
   "cell_type": "code",
   "execution_count": 7,
   "id": "c56c7237",
   "metadata": {},
   "outputs": [
    {
     "name": "stdout",
     "output_type": "stream",
     "text": [
      "numero\n"
     ]
    }
   ],
   "source": [
    "# Ejercicio 1\n",
    "\n",
    "if 10: \n",
    "    print('numero es igual a 10')\n",
    "\n",
    "#Correcion: Faltaban dos puntos."
   ]
  },
  {
   "cell_type": "code",
   "execution_count": 9,
   "id": "14fe1a9d",
   "metadata": {},
   "outputs": [
    {
     "name": "stdout",
     "output_type": "stream",
     "text": [
      "numero impar\n"
     ]
    }
   ],
   "source": [
    "numero = 3 \n",
    "if numero % 2 ==0:\n",
    "    print('numero par')\n",
    "else:\n",
    "    print('numero impar')"
   ]
  },
  {
   "cell_type": "code",
   "execution_count": 13,
   "id": "67e3fc82",
   "metadata": {},
   "outputs": [
    {
     "name": "stdout",
     "output_type": "stream",
     "text": [
      "Tienes 18 años\n"
     ]
    }
   ],
   "source": [
    "edad = 18\n",
    "\n",
    "if edad == 18:\n",
    "    print('Tienes 18 años')\n",
    "else: \n",
    "    print('otra cosa')"
   ]
  },
  {
   "cell_type": "code",
   "execution_count": 16,
   "id": "6cc95783",
   "metadata": {},
   "outputs": [
    {
     "name": "stdout",
     "output_type": "stream",
     "text": [
      "el valor es Python\n"
     ]
    }
   ],
   "source": [
    "valor = 'Python'\n",
    "\n",
    "if valor != 'python':\n",
    "    print('el valor es Python')\n",
    "else:\n",
    "    print('no paso')"
   ]
  },
  {
   "cell_type": "code",
   "execution_count": 17,
   "id": "dee0b0ae",
   "metadata": {},
   "outputs": [
    {
     "name": "stdout",
     "output_type": "stream",
     "text": [
      "no paso\n"
     ]
    }
   ],
   "source": [
    "valor = 'Python'\n",
    "\n",
    "if valor == 'python':\n",
    "    print('el valor es Python')\n",
    "else:\n",
    "    print('no paso')"
   ]
  },
  {
   "cell_type": "markdown",
   "id": "dae5ab9c",
   "metadata": {},
   "source": [
    "## <span style=\"color:darkred\">El ciclo while</span>\n",
    "\n",
    "Con el bucle while podemos ejecutar un conjunto de declaraciones siempre que una condición sea verdadera.\n",
    "\n",
    "Utilizamos la palabra reservada `while` para crear un bucle `while`.\n",
    "\n",
    "Se utiliza para ejecutar un bloque de instrucciones repetidamente hasta que se cumpla una determinada condición. \n",
    "\n",
    "Cuando la condición se vuelve falsa, las líneas de código después del bucle seguirán siendo ejecutadas.\n",
    "\n",
    "\n",
    "### syntax\n",
    "\n",
    "`while` condition:\n",
    "\n",
    "    code goes here\n",
    "\n"
   ]
  },
  {
   "cell_type": "code",
   "execution_count": 20,
   "id": "a4f7dffb",
   "metadata": {},
   "outputs": [
    {
     "name": "stdout",
     "output_type": "stream",
     "text": [
      "0\n",
      "1\n",
      "2\n",
      "3\n",
      "4\n",
      "0\n",
      "1\n",
      "2\n",
      "3\n",
      "4\n"
     ]
    }
   ],
   "source": [
    "#Ejemplo de Ciclo 'while' -> hacer mientras\n",
    "\n",
    "#variable bandera que indica la condicion de salida al llegar al valor\n",
    "flag = 0\n",
    "\n",
    "while flag < 5:\n",
    "    \n",
    "    print(flag)\n",
    "    flag = flag +1\n",
    "\n",
    "flag = 0    \n",
    "while flag < 5:\n",
    "    print(flag)\n",
    "    flag += 1"
   ]
  },
  {
   "cell_type": "markdown",
   "id": "21c3cfa1",
   "metadata": {},
   "source": [
    "En el bucle \"while\" anterior, la condición se vuelve falsa cuando el contador es 5. Es en ese momento cuando el bucle se detiene. \n",
    "\n",
    "Si estamos interesados en ejecutar un bloque de código una vez que la condición ya no sea verdadera, podemos usar \"else\"."
   ]
  },
  {
   "cell_type": "code",
   "execution_count": null,
   "id": "f7990fa7",
   "metadata": {},
   "outputs": [],
   "source": [
    "# syntax\n",
    "while condition:\n",
    "    code goes here\n",
    "else:\n",
    "    code goes here"
   ]
  },
  {
   "cell_type": "code",
   "execution_count": 25,
   "id": "c34c89d8",
   "metadata": {},
   "outputs": [
    {
     "name": "stdout",
     "output_type": "stream",
     "text": [
      "0\n",
      "1\n",
      "2\n",
      "3\n",
      "4\n",
      "El valor de flag es :5\n"
     ]
    }
   ],
   "source": [
    "flag = 0\n",
    "\n",
    "while flag < 5 :\n",
    "    print(flag)\n",
    "    flag += 1\n",
    "\n",
    "else: \n",
    "    print( f'El valor de flag es :{flag}')\n",
    "    "
   ]
  },
  {
   "cell_type": "code",
   "execution_count": 26,
   "id": "760c9d47",
   "metadata": {},
   "outputs": [
    {
     "name": "stdout",
     "output_type": "stream",
     "text": [
      "0\n",
      "1\n",
      "2\n",
      "3\n",
      "4\n",
      "5\n",
      "El valor de flag es :6\n"
     ]
    }
   ],
   "source": [
    "flag = 0\n",
    "\n",
    "while flag <= 5 :\n",
    "    print(flag)\n",
    "    flag += 1\n",
    "\n",
    "else: \n",
    "    print( f'El valor de flag es :{flag}')"
   ]
  },
  {
   "cell_type": "code",
   "execution_count": 31,
   "id": "0efe7a68",
   "metadata": {},
   "outputs": [
    {
     "name": "stdout",
     "output_type": "stream",
     "text": [
      "Digita el numero para adivinar: 3\n",
      "Intenta de nuevo: \n",
      "Digita el numero para adivinar: 6\n",
      "Intenta de nuevo: \n",
      "Digita el numero para adivinar: 4\n",
      "Felicidades adivinastes\n"
     ]
    }
   ],
   "source": [
    "\"\"\"\n",
    "Implemente una solución la cual adivine un número previamente definido\n",
    "por un usuario y que otro usuario digite otro valor tratando de adivinar \n",
    "el definido\n",
    "\n",
    "Mensaje de inicio: Digita el numero para adivinar.\n",
    "sino adivina el mensaje es : Intenta de nuevo\n",
    "SI adivinó: Felicidades adivinaste!\n",
    "\"\"\"\n",
    "flag = 4\n",
    "estado = False\n",
    "while not estado:\n",
    "    numero = int(input('Digita el numero para adivinar: '))\n",
    "    if numero == flag:\n",
    "        print('Felicidades adivinastes')\n",
    "        estado = True\n",
    "    else:\n",
    "        print('Intenta de nuevo: ')"
   ]
  },
  {
   "cell_type": "code",
   "execution_count": 29,
   "id": "ae651242",
   "metadata": {},
   "outputs": [
    {
     "name": "stdout",
     "output_type": "stream",
     "text": [
      "Digita el numero para adivinar: 5\n",
      "Intenta de nuevo: 7\n",
      "Intenta de nuevo: 3\n",
      "Intenta de nuevo: 4\n",
      "Felicidades adivinastes\n"
     ]
    }
   ],
   "source": [
    "flag = 4\n",
    "numero = int(input('Digita el numero para adivinar: '))\n",
    "\n",
    "while numero !=  flag:\n",
    "    numero = int(input('Intenta de nuevo: '))\n",
    "else:\n",
    "    print('Felicidades adivinastes')"
   ]
  },
  {
   "cell_type": "code",
   "execution_count": 37,
   "id": "e9e3d9b8",
   "metadata": {},
   "outputs": [
    {
     "name": "stdout",
     "output_type": "stream",
     "text": [
      "La suma de los numero es: 500472\n"
     ]
    }
   ],
   "source": [
    "# Suma de los primeros n numeros\n",
    "i    = 1\n",
    "suma = 0\n",
    "n    = 1000\n",
    "\n",
    "while i <= n:\n",
    "    suma += i\n",
    "    i    += 1\n",
    "    \n",
    "print(f'La suma de los numero es: {suma}')"
   ]
  },
  {
   "cell_type": "code",
   "execution_count": 40,
   "id": "887759ba",
   "metadata": {
    "scrolled": true
   },
   "outputs": [
    {
     "name": "stdout",
     "output_type": "stream",
     "text": [
      "El factorial del numero 5 es 120 \n"
     ]
    }
   ],
   "source": [
    "# Calcular el factorial de un número\n",
    "# número al que necesito calcular el factorial\n",
    "\n",
    "n = 5\n",
    "\n",
    "factorial = 1\n",
    "contador  = 1\n",
    "\n",
    "while contador <= n:\n",
    "    factorial *= contador\n",
    "    contador += 1\n",
    "\n",
    "print(f'El factorial del numero {n} es {factorial} ')"
   ]
  },
  {
   "cell_type": "markdown",
   "id": "ea4e83c4",
   "metadata": {},
   "source": [
    "#### Break and Continue:\n",
    "    Usamos \"break\" cuando queremos salir o detener el bucle.\n",
    "\n",
    "## <span style=\"color:darkred\">Break</span>"
   ]
  },
  {
   "cell_type": "code",
   "execution_count": null,
   "id": "53955fde",
   "metadata": {},
   "outputs": [],
   "source": [
    "# syntax\n",
    "while condition:\n",
    "    code goes here\n",
    "    if another_condition:\n",
    "        break"
   ]
  },
  {
   "cell_type": "code",
   "execution_count": 44,
   "id": "ddc0c39a",
   "metadata": {},
   "outputs": [
    {
     "name": "stdout",
     "output_type": "stream",
     "text": [
      "0\n",
      "1\n",
      "2\n",
      "3\n",
      "4\n",
      "5\n",
      "6\n",
      "7\n",
      "8\n",
      "9\n",
      "10\n",
      "11\n",
      "12\n",
      "13\n",
      "14\n",
      "15\n",
      "16\n",
      "17\n",
      "18\n",
      "19\n",
      "20\n",
      "21\n",
      "22\n",
      "23\n",
      "24\n",
      "25\n",
      "26\n",
      "27\n",
      "28\n",
      "29\n",
      "30\n",
      "31\n",
      "32\n",
      "33\n",
      "valor de break 34\n"
     ]
    }
   ],
   "source": [
    "flag = 0\n",
    "\n",
    "while flag < 100 :\n",
    "    print(flag)\n",
    "    flag += 1\n",
    "    if flag == 34 :\n",
    "        print('valor de break',flag)\n",
    "        break"
   ]
  },
  {
   "cell_type": "markdown",
   "id": "8f75d988",
   "metadata": {},
   "source": [
    "## <span style=\"color:darkred\">Continue</span>"
   ]
  },
  {
   "cell_type": "markdown",
   "id": "c7f8e806",
   "metadata": {},
   "source": [
    "Continue: Con la declaración \"continue\" podemos saltar la iteración actual y continuar con la siguiente:"
   ]
  },
  {
   "cell_type": "code",
   "execution_count": 50,
   "id": "a4aeb297",
   "metadata": {},
   "outputs": [
    {
     "name": "stdout",
     "output_type": "stream",
     "text": [
      "valor despues de continue 0\n",
      "valor despues de continue 1\n",
      "valor despues de continue 2\n",
      "valor despues de continue 3\n",
      "valor despues de continue 4\n"
     ]
    },
    {
     "ename": "KeyboardInterrupt",
     "evalue": "",
     "output_type": "error",
     "traceback": [
      "\u001b[0;31m---------------------------------------------------------------------------\u001b[0m",
      "\u001b[0;31mKeyboardInterrupt\u001b[0m                         Traceback (most recent call last)",
      "Input \u001b[0;32mIn [50]\u001b[0m, in \u001b[0;36m<cell line: 2>\u001b[0;34m()\u001b[0m\n\u001b[1;32m      1\u001b[0m flag \u001b[38;5;241m=\u001b[39m \u001b[38;5;241m0\u001b[39m\n\u001b[1;32m      2\u001b[0m \u001b[38;5;28;01mwhile\u001b[39;00m flag \u001b[38;5;241m<\u001b[39m \u001b[38;5;241m10\u001b[39m :\n\u001b[0;32m----> 3\u001b[0m     \u001b[38;5;28;01mif\u001b[39;00m \u001b[43mflag\u001b[49m\u001b[43m \u001b[49m\u001b[38;5;241;43m==\u001b[39;49m\u001b[43m \u001b[49m\u001b[38;5;241;43m5\u001b[39;49m :\n\u001b[1;32m      4\u001b[0m         \u001b[38;5;28;01mcontinue\u001b[39;00m\n\u001b[1;32m      5\u001b[0m     \u001b[38;5;28mprint\u001b[39m(\u001b[38;5;124m'\u001b[39m\u001b[38;5;124mvalor despues de continue\u001b[39m\u001b[38;5;124m'\u001b[39m,flag)\n",
      "\u001b[0;31mKeyboardInterrupt\u001b[0m: "
     ]
    }
   ],
   "source": [
    "flag = 0\n",
    "while flag < 10 :\n",
    "    if flag == 5 :\n",
    "        continue\n",
    "    print('valor despues de continue',flag)\n",
    "    flag += 1"
   ]
  },
  {
   "cell_type": "markdown",
   "id": "76faa5e7",
   "metadata": {},
   "source": [
    "## <span style=\"color:darkred\">La declaración else en un ciclo repetitivo</span>\n",
    "\n",
    "Int, o entero, es un número entero, positivo o negativo, sin decimales, de longitud ilimitada.\n",
    "\n",
    "#### Ejemplos:"
   ]
  },
  {
   "cell_type": "code",
   "execution_count": null,
   "id": "25747d7d",
   "metadata": {},
   "outputs": [],
   "source": []
  },
  {
   "cell_type": "code",
   "execution_count": 49,
   "id": "73ee5ff9",
   "metadata": {},
   "outputs": [
    {
     "name": "stdout",
     "output_type": "stream",
     "text": [
      "1\n",
      "2\n",
      "3\n",
      "4\n",
      "5\n",
      "esta es otra opción\n"
     ]
    }
   ],
   "source": [
    "i = 1\n",
    "\n",
    "while i < 6:\n",
    "    print(i)\n",
    "    i += 1\n",
    "else:\n",
    "    print('esta es otra opción')"
   ]
  },
  {
   "cell_type": "markdown",
   "id": "486505d4",
   "metadata": {},
   "source": [
    "## <span style=\"color:darkred\">La declaración de un ciclo for</span>\n",
    "\n",
    "Un bucle for se usa para iterar sobre una secuencia (es decir, una lista, una tupla, un diccionario, un conjunto o una cadena). \n",
    "\n",
    "Esto se parece menos a la palabra clave for en otros lenguajes de programación y funciona más como un método iterador como se encuentra en otros lenguajes de programación orientados a objetos.\n",
    "\n",
    "Con el bucle for podemos ejecutar un conjunto de sentencias, una vez por cada elemento de una lista, tupla, conjunto, etc.\n",
    "\n",
    "\n",
    "#### Ejemplos:"
   ]
  },
  {
   "cell_type": "code",
   "execution_count": 54,
   "id": "bf76ebe4",
   "metadata": {},
   "outputs": [
    {
     "name": "stdout",
     "output_type": "stream",
     "text": [
      "mango\n",
      "jocote\n",
      "piña\n",
      "guineo\n",
      "papaya\n"
     ]
    }
   ],
   "source": [
    "frutas = ['mango','jocote','piña','guineo','papaya']\n",
    "\n",
    "for i in frutas :\n",
    "    print(i)"
   ]
  },
  {
   "cell_type": "code",
   "execution_count": 56,
   "id": "f9f4d966",
   "metadata": {},
   "outputs": [
    {
     "data": {
      "text/plain": [
       "'papaya'"
      ]
     },
     "execution_count": 56,
     "metadata": {},
     "output_type": "execute_result"
    }
   ],
   "source": [
    "frutas[0]\n",
    "frutas[1]\n",
    "frutas[4]"
   ]
  },
  {
   "cell_type": "markdown",
   "id": "c0c7bd14",
   "metadata": {},
   "source": [
    "Nota: se profundizará sobre temáticas de listas en la guía de la “Sesión 7 - Colecciones de datos” \n",
    "El ciclo for no requiere una variable de indexación para establecer de antemano.\n"
   ]
  },
  {
   "cell_type": "markdown",
   "id": "7e218eff",
   "metadata": {},
   "source": [
    "## <span style=\"color:darkred\">Bucle a través de una cadena</span>\n",
    "\n",
    "Incluso las cadenas son objetos iterables, contienen una secuencia de caracteres:\n",
    "\n",
    "#### Ejemplos:"
   ]
  },
  {
   "cell_type": "code",
   "execution_count": 60,
   "id": "11e3a508",
   "metadata": {},
   "outputs": [
    {
     "name": "stdout",
     "output_type": "stream",
     "text": [
      "h\n",
      "o\n",
      "l\n",
      "a\n",
      " \n",
      "c\n",
      "o\n",
      "m\n",
      "o\n",
      " \n",
      "e\n",
      "s\n",
      "t\n",
      "a\n",
      "n\n"
     ]
    }
   ],
   "source": [
    "cadena = 'hola como estan'\n",
    "\n",
    "for it in cadena:\n",
    "    print(it)"
   ]
  },
  {
   "cell_type": "markdown",
   "id": "a7064375",
   "metadata": {},
   "source": [
    "Este ejercicio repasa las letras de la palabra \"banana\" y en cada interacción se utilizará cada letra de la palabra. "
   ]
  },
  {
   "cell_type": "markdown",
   "id": "b163949a",
   "metadata": {},
   "source": [
    "## <span style=\"color:darkred\">Ciclo `for` sobre tuplas</span>\n",
    "\n",
    "#### Ejemplos:"
   ]
  },
  {
   "cell_type": "code",
   "execution_count": 61,
   "id": "370361f2",
   "metadata": {},
   "outputs": [
    {
     "name": "stdout",
     "output_type": "stream",
     "text": [
      "0\n",
      "1\n",
      "2\n",
      "3\n",
      "4\n"
     ]
    }
   ],
   "source": [
    "tupla = (0,1,2,3,4)\n",
    "\n",
    "for elementos in tupla:\n",
    "    print(elementos)"
   ]
  },
  {
   "cell_type": "code",
   "execution_count": 62,
   "id": "546d68b1",
   "metadata": {},
   "outputs": [
    {
     "name": "stdout",
     "output_type": "stream",
     "text": [
      "a\n",
      "b\n",
      "c\n"
     ]
    }
   ],
   "source": [
    "tupla = ('a','b','c')\n",
    "\n",
    "for elementos in tupla:\n",
    "    print(elementos)"
   ]
  },
  {
   "cell_type": "markdown",
   "id": "efdda261",
   "metadata": {},
   "source": [
    "## <span style=\"color:darkred\">Ciclo `for` sobre diccionarios</span>\n",
    "\n",
    "#### Ejemplos:"
   ]
  },
  {
   "cell_type": "code",
   "execution_count": 68,
   "id": "c6915aad",
   "metadata": {},
   "outputs": [
    {
     "name": "stdout",
     "output_type": "stream",
     "text": [
      "Nombre\n",
      "Apellido\n",
      "edad\n",
      "Municipio\n"
     ]
    }
   ],
   "source": [
    "informacionPersonal ={\n",
    "        'Nombre':'Ash',\n",
    "        'Apellido':'Ketchum',\n",
    "        'edad': '10',\n",
    "        'Municipio': 'kanto'\n",
    "        }\n",
    "\n",
    "for info in informacionPersonal:\n",
    "    print(info)"
   ]
  },
  {
   "cell_type": "code",
   "execution_count": 71,
   "id": "e8d55bf4",
   "metadata": {},
   "outputs": [
    {
     "name": "stdout",
     "output_type": "stream",
     "text": [
      "Nombre Ash\n",
      "Apellido Ketchum\n",
      "edad 10\n",
      "Municipio kanto\n"
     ]
    }
   ],
   "source": [
    "for info, valor in informacionPersonal.items():\n",
    "    print(info, valor)"
   ]
  },
  {
   "cell_type": "markdown",
   "id": "92635156",
   "metadata": {},
   "source": [
    "## <span style=\"color:darkred\">La declaración de ruptura – for</span>\n",
    "\n",
    "Con la instrucción break podemos detener el bucle antes de que haya recorrido todos los elementos:\n",
    "\n",
    "#### Ejemplos:"
   ]
  },
  {
   "cell_type": "code",
   "execution_count": 73,
   "id": "6ec7f8e7",
   "metadata": {},
   "outputs": [
    {
     "name": "stdout",
     "output_type": "stream",
     "text": [
      "mango\n",
      "jocote\n"
     ]
    }
   ],
   "source": [
    "frutas = ['mango','jocote','piña','guineo','papaya']\n",
    "\n",
    "for it in frutas:\n",
    "    print(it)\n",
    "    if it == 'jocote':\n",
    "        break"
   ]
  },
  {
   "cell_type": "code",
   "execution_count": 74,
   "id": "27abde70",
   "metadata": {},
   "outputs": [
    {
     "name": "stdout",
     "output_type": "stream",
     "text": [
      "a\n",
      "b\n"
     ]
    }
   ],
   "source": [
    "tupla = ('a','b','c')\n",
    "\n",
    "for letras in tupla:\n",
    "    print(letras)\n",
    "    if letras == 'b':\n",
    "        break"
   ]
  },
  {
   "cell_type": "code",
   "execution_count": 75,
   "id": "e0b01aac",
   "metadata": {},
   "outputs": [
    {
     "name": "stdout",
     "output_type": "stream",
     "text": [
      "1\n",
      "2\n",
      "3\n",
      "4\n",
      "5\n"
     ]
    }
   ],
   "source": [
    "tuplaNumeros = (1,2,3,4,5,6,7)\n",
    "\n",
    "for numeros in tuplaNumeros:\n",
    "    print(numeros)\n",
    "    if numeros == 5:\n",
    "        break"
   ]
  },
  {
   "cell_type": "markdown",
   "id": "ab4a39a4",
   "metadata": {},
   "source": [
    "## <span style=\"color:darkred\">La declaración de continue - for</span>\n",
    "\n",
    "Con la instrucción continuar podemos detener la iteración actual del ciclo y continuar con la siguiente:\n",
    "\n",
    "#### Ejemplos:"
   ]
  },
  {
   "cell_type": "code",
   "execution_count": 77,
   "id": "40ae6ff4",
   "metadata": {},
   "outputs": [
    {
     "name": "stdout",
     "output_type": "stream",
     "text": [
      "mango\n",
      "jocote\n",
      "guineo\n",
      "papaya\n"
     ]
    }
   ],
   "source": [
    "frutas = ['mango','jocote','piña','guineo','papaya']\n",
    "\n",
    "for it in frutas:\n",
    "    if it == 'piña':\n",
    "        continue\n",
    "    print(it)"
   ]
  },
  {
   "cell_type": "markdown",
   "id": "97e9ef28",
   "metadata": {},
   "source": [
    "Según el ejercicio anterior no imprimir plátano en el ciclo repetitivo. "
   ]
  },
  {
   "cell_type": "markdown",
   "id": "4b4c2865",
   "metadata": {},
   "source": [
    "## <span style=\"color:darkred\">La función rango()- `range()`</span>\n",
    "\n",
    "Para recorrer un conjunto de código un número específico de veces, podemos usar la función range().\n",
    "\n",
    "La función range() devuelve una secuencia de números, comenzando desde 0 de forma predeterminada, se incrementa en 1 (de forma predeterminada) y termina en un número específico.\n",
    "\n",
    "#### Ejemplos:"
   ]
  },
  {
   "cell_type": "code",
   "execution_count": 84,
   "id": "f502467d",
   "metadata": {},
   "outputs": [
    {
     "name": "stdout",
     "output_type": "stream",
     "text": [
      "0\n",
      "1\n",
      "2\n",
      "3\n",
      "4\n",
      "5\n"
     ]
    }
   ],
   "source": [
    "\"\"\"imprime una secuencia 0,1,2,3,4,5\n",
    " 0 <= it < 6 ó 0 <= it <=5 \"\"\"\n",
    "\n",
    "for it in range(6):\n",
    "    print(it)"
   ]
  },
  {
   "cell_type": "code",
   "execution_count": 85,
   "id": "1c2bdf38",
   "metadata": {},
   "outputs": [
    {
     "name": "stdout",
     "output_type": "stream",
     "text": [
      "2\n",
      "3\n",
      "4\n",
      "5\n"
     ]
    }
   ],
   "source": [
    "for it in range(2,6):\n",
    "    print(it)"
   ]
  },
  {
   "cell_type": "code",
   "execution_count": 86,
   "id": "374c0045",
   "metadata": {},
   "outputs": [
    {
     "name": "stdout",
     "output_type": "stream",
     "text": [
      "4\n",
      "8\n",
      "12\n",
      "16\n",
      "20\n",
      "24\n",
      "28\n"
     ]
    }
   ],
   "source": [
    "for it in range(4,30, 4):\n",
    "    print(it)"
   ]
  },
  {
   "cell_type": "code",
   "execution_count": 87,
   "id": "9a54155b",
   "metadata": {},
   "outputs": [
    {
     "name": "stdout",
     "output_type": "stream",
     "text": [
      "30\n",
      "26\n",
      "22\n",
      "18\n",
      "14\n",
      "10\n",
      "6\n"
     ]
    }
   ],
   "source": [
    "for it in range(30, 2, -4):\n",
    "    print(it)"
   ]
  },
  {
   "cell_type": "code",
   "execution_count": 89,
   "id": "26ada253",
   "metadata": {},
   "outputs": [
    {
     "name": "stdout",
     "output_type": "stream",
     "text": [
      "[0, 2, 4, 6, 8]\n"
     ]
    }
   ],
   "source": [
    "lista = list(range(0,10,2))\n",
    "print(lista)"
   ]
  },
  {
   "cell_type": "code",
   "execution_count": 90,
   "id": "74891c97",
   "metadata": {},
   "outputs": [
    {
     "name": "stdout",
     "output_type": "stream",
     "text": [
      "[0, 1, 2, 3, 4, 5, 6, 7, 8, 9]\n"
     ]
    }
   ],
   "source": [
    "lista = list(range(10))\n",
    "print(lista)"
   ]
  },
  {
   "cell_type": "code",
   "execution_count": 92,
   "id": "f28521f6",
   "metadata": {},
   "outputs": [
    {
     "name": "stdout",
     "output_type": "stream",
     "text": [
      "[0, 12, 24, 36, 48, 60, 72, 84, 96]\n"
     ]
    }
   ],
   "source": [
    "lista = list(range(0,100,12))\n",
    "print(lista)"
   ]
  },
  {
   "cell_type": "markdown",
   "id": "3eaa5504",
   "metadata": {},
   "source": [
    "Tenga en cuenta que range(6) no son los valores de 0 a 6, sino los valores de 0 a 5.\n",
    "\n",
    "La función range() por defecto es 0 como valor inicial, sin embargo, es posible especificar el valor inicial agregando un parámetro: range(2, 6) , lo que significa valores del 2 al 6 (pero sin incluir el 6):\n"
   ]
  },
  {
   "cell_type": "markdown",
   "id": "52d4ec82",
   "metadata": {},
   "source": [
    "La función range() por defecto incrementa la secuencia en 1, sin embargo, es posible especificar el valor del incremento agregando un tercer parámetro: range(2, 30, 3 ) :"
   ]
  },
  {
   "cell_type": "markdown",
   "id": "b624e0fc",
   "metadata": {},
   "source": [
    "## <span style=\"color:darkred\">Else en el ciclo for</span>\n",
    "\n",
    "La palabra else clave en un ciclo for especifica un bloque de código que se ejecutará cuando finalice el ciclo:\n",
    "\n",
    "#### Ejemplos:"
   ]
  },
  {
   "cell_type": "code",
   "execution_count": 93,
   "id": "943d21fc",
   "metadata": {},
   "outputs": [
    {
     "name": "stdout",
     "output_type": "stream",
     "text": [
      "0\n",
      "1\n",
      "2\n",
      "3\n",
      "4\n",
      "5\n",
      "finalizamos el ciclo for\n"
     ]
    }
   ],
   "source": [
    "for it in range(6):\n",
    "    print(it)\n",
    "else:\n",
    "    print('finalizamos el ciclo for')"
   ]
  },
  {
   "cell_type": "markdown",
   "id": "1a1e16f1",
   "metadata": {},
   "source": [
    "## <span style=\"color:darkred\">Bucles anidados</span>\n",
    "\n",
    "Un bucle anidado es un bucle dentro de un bucle.\n",
    "\n",
    "El \"bucle interno\" se ejecutará una vez por cada iteración del \"bucle externo\":\n",
    "\n",
    "\n",
    "#### Ejemplos:"
   ]
  },
  {
   "cell_type": "code",
   "execution_count": 95,
   "id": "55ed28c6",
   "metadata": {},
   "outputs": [
    {
     "name": "stdout",
     "output_type": "stream",
     "text": [
      "este mango esta muy verde\n",
      "este mango esta muy maduro\n",
      "este mango esta muy prodrido\n",
      "este mango esta muy picado\n",
      "este jocote esta muy verde\n",
      "este jocote esta muy maduro\n",
      "este jocote esta muy prodrido\n",
      "este jocote esta muy picado\n",
      "este piña esta muy verde\n",
      "este piña esta muy maduro\n",
      "este piña esta muy prodrido\n",
      "este piña esta muy picado\n",
      "este guineo esta muy verde\n",
      "este guineo esta muy maduro\n",
      "este guineo esta muy prodrido\n",
      "este guineo esta muy picado\n",
      "este papaya esta muy verde\n",
      "este papaya esta muy maduro\n",
      "este papaya esta muy prodrido\n",
      "este papaya esta muy picado\n"
     ]
    }
   ],
   "source": [
    "frutas = ['mango','jocote','piña','guineo','papaya']\n",
    "\n",
    "estado = ['verde', 'maduro', 'prodrido', 'picado']\n",
    "\n",
    "for it in frutas:\n",
    "    for jt in estado:\n",
    "        print(f'este {it} esta muy {jt}')"
   ]
  },
  {
   "cell_type": "markdown",
   "id": "9ebe72b2",
   "metadata": {},
   "source": [
    "## <span style=\"color:darkred\">La declaración pass</span>\n",
    "\n",
    "Los bucles for no pueden estar vacíos, pero si por alguna razón tiene un bucle for sin contenido, ingrese la declaración pass para evitar recibir un error.cc\n",
    "\n",
    "#### Ejemplos:"
   ]
  },
  {
   "cell_type": "code",
   "execution_count": 96,
   "id": "5807a665",
   "metadata": {},
   "outputs": [],
   "source": [
    "for x in [0, 1, 2]:\n",
    "    pass"
   ]
  },
  {
   "cell_type": "markdown",
   "id": "1ae4c22d",
   "metadata": {},
   "source": [
    "## Ejemplos Generales "
   ]
  },
  {
   "cell_type": "code",
   "execution_count": 98,
   "id": "5e84b17a",
   "metadata": {},
   "outputs": [
    {
     "name": "stdout",
     "output_type": "stream",
     "text": [
      "4X1 = 4\n",
      "4X2 = 8\n",
      "4X3 = 12\n",
      "4X4 = 16\n",
      "4X5 = 20\n",
      "4X6 = 24\n",
      "4X7 = 28\n",
      "4X8 = 32\n",
      "4X9 = 36\n",
      "4X10 = 40\n"
     ]
    }
   ],
   "source": [
    "# Tabla de multiplicar\n",
    "\n",
    "numero = 4\n",
    "\n",
    "for it in range(1,11):\n",
    "    resultado = numero * it\n",
    "    print(f'{numero}X{it} = {resultado}')"
   ]
  },
  {
   "cell_type": "code",
   "execution_count": 99,
   "id": "f7380761",
   "metadata": {},
   "outputs": [
    {
     "name": "stdout",
     "output_type": "stream",
     "text": [
      "Numero de vocales: 13\n"
     ]
    }
   ],
   "source": [
    "# Contador de vocales, dada una frase o cadena , contar las vocales que tiene\n",
    "\n",
    "frase = 'tres tristes tigres comen trigo en un trigal'\n",
    "contador = 0\n",
    "\n",
    "for letra in frase:\n",
    "    if letra in 'aeiouáéíóú':\n",
    "        contador += 1\n",
    "\n",
    "print('Numero de vocales:', contador)\n"
   ]
  },
  {
   "cell_type": "code",
   "execution_count": 102,
   "id": "99391d77",
   "metadata": {},
   "outputs": [
    {
     "name": "stdout",
     "output_type": "stream",
     "text": [
      "Numero de vocales: 13\n"
     ]
    }
   ],
   "source": [
    "# Contador de vocales, dada una frase o cadena , contar las vocales que tiene\n",
    "\n",
    "frase    = 'tres tristes tigres comen trIgO en un trigal'\n",
    "vocales  = 'aeiouáéíóú'\n",
    "contador = 0\n",
    "\n",
    "for letra in frase:\n",
    "    if letra.lower() in vocales:\n",
    "        contador += 1\n",
    "\n",
    "print('Numero de vocales:', contador)"
   ]
  },
  {
   "cell_type": "code",
   "execution_count": null,
   "id": "7d436889",
   "metadata": {},
   "outputs": [],
   "source": []
  },
  {
   "cell_type": "markdown",
   "id": "a4cb55e2",
   "metadata": {},
   "source": [
    "## <span style=\"color:darkorange\">APlicando conocimientos</span>\n",
    "\n",
    "\n",
    "1.\tUtiliza un ciclo while para pedir al usuario que ingrese números enteros hasta que ingrese un número negativo, y luego imprime la suma de los números ingresados. \n",
    "\n",
    "#### Ejemplos:"
   ]
  },
  {
   "cell_type": "markdown",
   "id": "a708a5e7",
   "metadata": {},
   "source": [
    "##### "
   ]
  }
 ],
 "metadata": {
  "kernelspec": {
   "display_name": "Python 3 (ipykernel)",
   "language": "python",
   "name": "python3"
  },
  "language_info": {
   "codemirror_mode": {
    "name": "ipython",
    "version": 3
   },
   "file_extension": ".py",
   "mimetype": "text/x-python",
   "name": "python",
   "nbconvert_exporter": "python",
   "pygments_lexer": "ipython3",
   "version": "3.9.12"
  }
 },
 "nbformat": 4,
 "nbformat_minor": 5
}
