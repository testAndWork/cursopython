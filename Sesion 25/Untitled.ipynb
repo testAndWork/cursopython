{
 "cells": [
  {
   "cell_type": "code",
   "execution_count": 4,
   "id": "71d97e58",
   "metadata": {},
   "outputs": [
    {
     "ename": "SyntaxError",
     "evalue": "invalid syntax (1208082320.py, line 1)",
     "output_type": "error",
     "traceback": [
      "\u001b[0;36m  Input \u001b[0;32mIn [4]\u001b[0;36m\u001b[0m\n\u001b[0;31m    pip -install -g ijavascript\u001b[0m\n\u001b[0m                    ^\u001b[0m\n\u001b[0;31mSyntaxError\u001b[0m\u001b[0;31m:\u001b[0m invalid syntax\n"
     ]
    }
   ],
   "source": [
    "pip -install -g ijavascript\n",
    "ijsinstall"
   ]
  },
  {
   "cell_type": "code",
   "execution_count": 5,
   "id": "f969b28a",
   "metadata": {},
   "outputs": [
    {
     "name": "stdout",
     "output_type": "stream",
     "text": [
      "Requirement already satisfied: pyzmq in /Users/bltzkrg/opt/anaconda3/lib/python3.9/site-packages (22.3.0)\n",
      "Collecting pyzmq\n",
      "  Obtaining dependency information for pyzmq from https://files.pythonhosted.org/packages/2f/3d/c261dc80367fd341b56031e35c7145e5491144ef5c172fff818cedf21c8c/pyzmq-25.1.1-cp39-cp39-macosx_10_15_universal2.whl.metadata\n",
      "  Downloading pyzmq-25.1.1-cp39-cp39-macosx_10_15_universal2.whl.metadata (4.9 kB)\n",
      "Requirement already satisfied: jupyter in /Users/bltzkrg/opt/anaconda3/lib/python3.9/site-packages (1.0.0)\n",
      "Requirement already satisfied: notebook in /Users/bltzkrg/opt/anaconda3/lib/python3.9/site-packages (from jupyter) (6.4.8)\n",
      "Requirement already satisfied: qtconsole in /Users/bltzkrg/opt/anaconda3/lib/python3.9/site-packages (from jupyter) (5.3.0)\n",
      "Requirement already satisfied: jupyter-console in /Users/bltzkrg/opt/anaconda3/lib/python3.9/site-packages (from jupyter) (6.4.0)\n",
      "Requirement already satisfied: nbconvert in /Users/bltzkrg/opt/anaconda3/lib/python3.9/site-packages (from jupyter) (6.4.4)\n",
      "Requirement already satisfied: ipykernel in /Users/bltzkrg/opt/anaconda3/lib/python3.9/site-packages (from jupyter) (6.9.1)\n",
      "Requirement already satisfied: ipywidgets in /Users/bltzkrg/opt/anaconda3/lib/python3.9/site-packages (from jupyter) (7.6.5)\n",
      "Requirement already satisfied: debugpy<2.0,>=1.0.0 in /Users/bltzkrg/opt/anaconda3/lib/python3.9/site-packages (from ipykernel->jupyter) (1.5.1)\n",
      "Requirement already satisfied: ipython>=7.23.1 in /Users/bltzkrg/opt/anaconda3/lib/python3.9/site-packages (from ipykernel->jupyter) (8.2.0)\n",
      "Requirement already satisfied: traitlets<6.0,>=5.1.0 in /Users/bltzkrg/opt/anaconda3/lib/python3.9/site-packages (from ipykernel->jupyter) (5.1.1)\n",
      "Requirement already satisfied: jupyter-client<8.0 in /Users/bltzkrg/opt/anaconda3/lib/python3.9/site-packages (from ipykernel->jupyter) (6.1.12)\n",
      "Requirement already satisfied: tornado<7.0,>=4.2 in /Users/bltzkrg/opt/anaconda3/lib/python3.9/site-packages (from ipykernel->jupyter) (6.1)\n",
      "Requirement already satisfied: matplotlib-inline<0.2.0,>=0.1.0 in /Users/bltzkrg/opt/anaconda3/lib/python3.9/site-packages (from ipykernel->jupyter) (0.1.2)\n",
      "Requirement already satisfied: nest-asyncio in /Users/bltzkrg/opt/anaconda3/lib/python3.9/site-packages (from ipykernel->jupyter) (1.5.5)\n",
      "Requirement already satisfied: appnope in /Users/bltzkrg/opt/anaconda3/lib/python3.9/site-packages (from ipykernel->jupyter) (0.1.2)\n",
      "Requirement already satisfied: ipython-genutils~=0.2.0 in /Users/bltzkrg/opt/anaconda3/lib/python3.9/site-packages (from ipywidgets->jupyter) (0.2.0)\n",
      "Requirement already satisfied: nbformat>=4.2.0 in /Users/bltzkrg/opt/anaconda3/lib/python3.9/site-packages (from ipywidgets->jupyter) (5.3.0)\n",
      "Requirement already satisfied: widgetsnbextension~=3.5.0 in /Users/bltzkrg/opt/anaconda3/lib/python3.9/site-packages (from ipywidgets->jupyter) (3.5.2)\n",
      "Requirement already satisfied: jupyterlab-widgets>=1.0.0 in /Users/bltzkrg/opt/anaconda3/lib/python3.9/site-packages (from ipywidgets->jupyter) (1.0.0)\n",
      "Requirement already satisfied: prompt-toolkit!=3.0.0,!=3.0.1,<3.1.0,>=2.0.0 in /Users/bltzkrg/opt/anaconda3/lib/python3.9/site-packages (from jupyter-console->jupyter) (3.0.20)\n",
      "Requirement already satisfied: pygments in /Users/bltzkrg/opt/anaconda3/lib/python3.9/site-packages (from jupyter-console->jupyter) (2.11.2)\n",
      "Requirement already satisfied: mistune<2,>=0.8.1 in /Users/bltzkrg/opt/anaconda3/lib/python3.9/site-packages (from nbconvert->jupyter) (0.8.4)\n",
      "Requirement already satisfied: jinja2>=2.4 in /Users/bltzkrg/opt/anaconda3/lib/python3.9/site-packages (from nbconvert->jupyter) (2.11.3)\n",
      "Requirement already satisfied: jupyterlab-pygments in /Users/bltzkrg/opt/anaconda3/lib/python3.9/site-packages (from nbconvert->jupyter) (0.1.2)\n",
      "Requirement already satisfied: jupyter-core in /Users/bltzkrg/opt/anaconda3/lib/python3.9/site-packages (from nbconvert->jupyter) (4.9.2)\n",
      "Requirement already satisfied: entrypoints>=0.2.2 in /Users/bltzkrg/opt/anaconda3/lib/python3.9/site-packages (from nbconvert->jupyter) (0.4)\n",
      "Requirement already satisfied: bleach in /Users/bltzkrg/opt/anaconda3/lib/python3.9/site-packages (from nbconvert->jupyter) (4.1.0)\n",
      "Requirement already satisfied: pandocfilters>=1.4.1 in /Users/bltzkrg/opt/anaconda3/lib/python3.9/site-packages (from nbconvert->jupyter) (1.5.0)\n",
      "Requirement already satisfied: testpath in /Users/bltzkrg/opt/anaconda3/lib/python3.9/site-packages (from nbconvert->jupyter) (0.5.0)\n",
      "Requirement already satisfied: defusedxml in /Users/bltzkrg/opt/anaconda3/lib/python3.9/site-packages (from nbconvert->jupyter) (0.7.1)\n",
      "Requirement already satisfied: beautifulsoup4 in /Users/bltzkrg/opt/anaconda3/lib/python3.9/site-packages (from nbconvert->jupyter) (4.8.2)\n",
      "Requirement already satisfied: nbclient<0.6.0,>=0.5.0 in /Users/bltzkrg/opt/anaconda3/lib/python3.9/site-packages (from nbconvert->jupyter) (0.5.13)\n",
      "Requirement already satisfied: argon2-cffi in /Users/bltzkrg/opt/anaconda3/lib/python3.9/site-packages (from notebook->jupyter) (21.3.0)\n",
      "Requirement already satisfied: Send2Trash>=1.8.0 in /Users/bltzkrg/opt/anaconda3/lib/python3.9/site-packages (from notebook->jupyter) (1.8.0)\n",
      "Requirement already satisfied: terminado>=0.8.3 in /Users/bltzkrg/opt/anaconda3/lib/python3.9/site-packages (from notebook->jupyter) (0.13.1)\n",
      "Requirement already satisfied: prometheus-client in /Users/bltzkrg/opt/anaconda3/lib/python3.9/site-packages (from notebook->jupyter) (0.13.1)\n",
      "Requirement already satisfied: qtpy>=2.0.1 in /Users/bltzkrg/opt/anaconda3/lib/python3.9/site-packages (from qtconsole->jupyter) (2.0.1)\n",
      "Requirement already satisfied: backcall in /Users/bltzkrg/opt/anaconda3/lib/python3.9/site-packages (from ipython>=7.23.1->ipykernel->jupyter) (0.2.0)\n",
      "Requirement already satisfied: decorator in /Users/bltzkrg/opt/anaconda3/lib/python3.9/site-packages (from ipython>=7.23.1->ipykernel->jupyter) (5.1.1)\n",
      "Requirement already satisfied: jedi>=0.16 in /Users/bltzkrg/opt/anaconda3/lib/python3.9/site-packages (from ipython>=7.23.1->ipykernel->jupyter) (0.18.1)\n",
      "Requirement already satisfied: pickleshare in /Users/bltzkrg/opt/anaconda3/lib/python3.9/site-packages (from ipython>=7.23.1->ipykernel->jupyter) (0.7.5)\n",
      "Requirement already satisfied: setuptools>=18.5 in /Users/bltzkrg/opt/anaconda3/lib/python3.9/site-packages (from ipython>=7.23.1->ipykernel->jupyter) (61.2.0)\n",
      "Requirement already satisfied: stack-data in /Users/bltzkrg/opt/anaconda3/lib/python3.9/site-packages (from ipython>=7.23.1->ipykernel->jupyter) (0.2.0)\n",
      "Requirement already satisfied: pexpect>4.3 in /Users/bltzkrg/opt/anaconda3/lib/python3.9/site-packages (from ipython>=7.23.1->ipykernel->jupyter) (4.8.0)\n",
      "Requirement already satisfied: MarkupSafe>=0.23 in /Users/bltzkrg/opt/anaconda3/lib/python3.9/site-packages (from jinja2>=2.4->nbconvert->jupyter) (2.0.1)\n",
      "Requirement already satisfied: python-dateutil>=2.1 in /Users/bltzkrg/opt/anaconda3/lib/python3.9/site-packages (from jupyter-client<8.0->ipykernel->jupyter) (2.8.2)\n",
      "Requirement already satisfied: jsonschema>=2.6 in /Users/bltzkrg/opt/anaconda3/lib/python3.9/site-packages (from nbformat>=4.2.0->ipywidgets->jupyter) (4.4.0)\n",
      "Requirement already satisfied: fastjsonschema in /Users/bltzkrg/opt/anaconda3/lib/python3.9/site-packages (from nbformat>=4.2.0->ipywidgets->jupyter) (2.15.1)\n",
      "Requirement already satisfied: wcwidth in /Users/bltzkrg/opt/anaconda3/lib/python3.9/site-packages (from prompt-toolkit!=3.0.0,!=3.0.1,<3.1.0,>=2.0.0->jupyter-console->jupyter) (0.2.5)\n",
      "Requirement already satisfied: packaging in /Users/bltzkrg/opt/anaconda3/lib/python3.9/site-packages (from qtpy>=2.0.1->qtconsole->jupyter) (21.3)\n",
      "Requirement already satisfied: ptyprocess in /Users/bltzkrg/opt/anaconda3/lib/python3.9/site-packages (from terminado>=0.8.3->notebook->jupyter) (0.7.0)\n",
      "Requirement already satisfied: argon2-cffi-bindings in /Users/bltzkrg/opt/anaconda3/lib/python3.9/site-packages (from argon2-cffi->notebook->jupyter) (21.2.0)\n",
      "Requirement already satisfied: soupsieve>=1.2 in /Users/bltzkrg/opt/anaconda3/lib/python3.9/site-packages (from beautifulsoup4->nbconvert->jupyter) (2.3.1)\n",
      "Requirement already satisfied: six>=1.9.0 in /Users/bltzkrg/opt/anaconda3/lib/python3.9/site-packages (from bleach->nbconvert->jupyter) (1.12.0)\n",
      "Requirement already satisfied: webencodings in /Users/bltzkrg/opt/anaconda3/lib/python3.9/site-packages (from bleach->nbconvert->jupyter) (0.5.1)\n"
     ]
    },
    {
     "name": "stdout",
     "output_type": "stream",
     "text": [
      "Requirement already satisfied: parso<0.9.0,>=0.8.0 in /Users/bltzkrg/opt/anaconda3/lib/python3.9/site-packages (from jedi>=0.16->ipython>=7.23.1->ipykernel->jupyter) (0.8.3)\n",
      "Requirement already satisfied: attrs>=17.4.0 in /Users/bltzkrg/opt/anaconda3/lib/python3.9/site-packages (from jsonschema>=2.6->nbformat>=4.2.0->ipywidgets->jupyter) (21.4.0)\n",
      "Requirement already satisfied: pyrsistent!=0.17.0,!=0.17.1,!=0.17.2,>=0.14.0 in /Users/bltzkrg/opt/anaconda3/lib/python3.9/site-packages (from jsonschema>=2.6->nbformat>=4.2.0->ipywidgets->jupyter) (0.18.0)\n",
      "Requirement already satisfied: cffi>=1.0.1 in /Users/bltzkrg/opt/anaconda3/lib/python3.9/site-packages (from argon2-cffi-bindings->argon2-cffi->notebook->jupyter) (1.15.0)\n",
      "Requirement already satisfied: pyparsing!=3.0.5,>=2.0.2 in /Users/bltzkrg/opt/anaconda3/lib/python3.9/site-packages (from packaging->qtpy>=2.0.1->qtconsole->jupyter) (3.0.4)\n",
      "Requirement already satisfied: executing in /Users/bltzkrg/opt/anaconda3/lib/python3.9/site-packages (from stack-data->ipython>=7.23.1->ipykernel->jupyter) (0.8.3)\n",
      "Requirement already satisfied: asttokens in /Users/bltzkrg/opt/anaconda3/lib/python3.9/site-packages (from stack-data->ipython>=7.23.1->ipykernel->jupyter) (2.0.5)\n",
      "Requirement already satisfied: pure-eval in /Users/bltzkrg/opt/anaconda3/lib/python3.9/site-packages (from stack-data->ipython>=7.23.1->ipykernel->jupyter) (0.2.2)\n",
      "Requirement already satisfied: pycparser in /Users/bltzkrg/opt/anaconda3/lib/python3.9/site-packages (from cffi>=1.0.1->argon2-cffi-bindings->argon2-cffi->notebook->jupyter) (2.21)\n",
      "Downloading pyzmq-25.1.1-cp39-cp39-macosx_10_15_universal2.whl (1.9 MB)\n",
      "\u001b[2K   \u001b[90m━━━━━━━━━━━━━━━━━━━━━━━━━━━━━━━━━━━━━━━━\u001b[0m \u001b[32m1.9/1.9 MB\u001b[0m \u001b[31m3.0 MB/s\u001b[0m eta \u001b[36m0:00:00\u001b[0ma \u001b[36m0:00:01\u001b[0m\n",
      "\u001b[?25h\u001b[33mDEPRECATION: textract 1.6.5 has a non-standard dependency specifier extract-msg<=0.29.*. pip 23.3 will enforce this behaviour change. A possible replacement is to upgrade to a newer version of textract or contact the author to suggest that they release a version with a conforming dependency specifiers. Discussion can be found at https://github.com/pypa/pip/issues/12063\u001b[0m\u001b[33m\n",
      "\u001b[0mInstalling collected packages: pyzmq\n",
      "  Attempting uninstall: pyzmq\n",
      "    Found existing installation: pyzmq 22.3.0\n",
      "    Uninstalling pyzmq-22.3.0:\n",
      "      Successfully uninstalled pyzmq-22.3.0\n",
      "\u001b[31mERROR: pip's dependency resolver does not currently take into account all the packages that are installed. This behaviour is the source of the following dependency conflicts.\n",
      "spyder 5.1.5 requires pyqt5<5.13, which is not installed.\n",
      "spyder 5.1.5 requires pyqtwebengine<5.13, which is not installed.\u001b[0m\u001b[31m\n",
      "\u001b[0mSuccessfully installed pyzmq-25.1.1\n",
      "Note: you may need to restart the kernel to use updated packages.\n"
     ]
    }
   ],
   "source": [
    "pip install --upgrade pyzmq jupyter"
   ]
  },
  {
   "cell_type": "code",
   "execution_count": 6,
   "id": "7fc5ab6e",
   "metadata": {},
   "outputs": [
    {
     "ename": "SyntaxError",
     "evalue": "invalid syntax (906777829.py, line 1)",
     "output_type": "error",
     "traceback": [
      "\u001b[0;36m  Input \u001b[0;32mIn [6]\u001b[0;36m\u001b[0m\n\u001b[0;31m    npm install -g ijavascript\u001b[0m\n\u001b[0m        ^\u001b[0m\n\u001b[0;31mSyntaxError\u001b[0m\u001b[0;31m:\u001b[0m invalid syntax\n"
     ]
    }
   ],
   "source": [
    "npm install -g ijavascript\n"
   ]
  }
 ],
 "metadata": {
  "kernelspec": {
   "display_name": "Python 3 (ipykernel)",
   "language": "python",
   "name": "python3"
  },
  "language_info": {
   "codemirror_mode": {
    "name": "ipython",
    "version": 3
   },
   "file_extension": ".py",
   "mimetype": "text/x-python",
   "name": "python",
   "nbconvert_exporter": "python",
   "pygments_lexer": "ipython3",
   "version": "3.9.12"
  }
 },
 "nbformat": 4,
 "nbformat_minor": 5
}
