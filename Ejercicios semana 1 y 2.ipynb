{
 "cells": [
  {
   "cell_type": "markdown",
   "id": "21087636",
   "metadata": {
    "slideshow": {
     "slide_type": "slide"
    }
   },
   "source": [
    "# <span style=\"color:darkblue\">Módulo 1 - Introducción a la programación con Python </span>\n",
    "\n",
    "## <span style=\"color:darkblue\">Ejercicios Semana 1 y 2</span>\n",
    "\n",
    "#### <span style=\"color:darkblue\">En marco del proyecto: “EMPLEO JOVEN ES”</span>"
   ]
  },
  {
   "cell_type": "markdown",
   "id": "f2cc2510",
   "metadata": {
    "slideshow": {
     "slide_type": "slide"
    }
   },
   "source": [
    "### Ejercicio 1: Calculadora Simple\n",
    "\n",
    "Crea una calculadora que permita al usuario realizar operaciones matemáticas básicas (suma, resta, multiplicación y división) ingresando dos números y seleccionando la operación. El programa debe repetirse hasta que el usuario decida salir."
   ]
  },
  {
   "cell_type": "code",
   "execution_count": 1,
   "id": "d2aa2f5c",
   "metadata": {
    "slideshow": {
     "slide_type": "subslide"
    }
   },
   "outputs": [
    {
     "name": "stdout",
     "output_type": "stream",
     "text": [
      "Ingrese el primer número: 4\n",
      "Ingrese el segundo número: 5\n",
      "Seleccione la operación (+, -, *, /): \n",
      "Operación inválida\n",
      "Ingrese el primer número: 5\n",
      "Ingrese el segundo número: 6\n",
      "Seleccione la operación (+, -, *, /): +\n",
      "Resultado: 11.0\n",
      "¿Desea realizar otra operación? (s/n): n\n"
     ]
    }
   ],
   "source": [
    "while True:\n",
    "    num1 = float(input(\"Ingrese el primer número: \"))\n",
    "    num2 = float(input(\"Ingrese el segundo número: \"))\n",
    "    operacion = input(\"Seleccione la operación (+, -, *, /): \")\n",
    "    \n",
    "    if operacion == \"+\":\n",
    "        resultado = num1 + num2\n",
    "    elif operacion == \"-\":\n",
    "        resultado = num1 - num2\n",
    "    elif operacion == \"*\":\n",
    "        resultado = num1 * num2\n",
    "    elif operacion == \"/\":\n",
    "        resultado = num1 / num2\n",
    "    else:\n",
    "        print(\"Operación inválida\")\n",
    "        continue\n",
    "    \n",
    "    print(\"Resultado:\", resultado)\n",
    "    \n",
    "    continuar = input(\"¿Desea realizar otra operación? (s/n): \")\n",
    "    if continuar.lower() != \"s\":\n",
    "        break\n"
   ]
  },
  {
   "cell_type": "markdown",
   "id": "a7ab9894",
   "metadata": {
    "slideshow": {
     "slide_type": "slide"
    }
   },
   "source": [
    "### Ejercicio 2: Registro de Alumnos\n",
    "Solicita al usuario ingresar los nombres y edades de varios alumnos. Luego, muestra los nombres de los alumnos mayores de 18 años. El programa debe repetirse hasta que el usuario decida dejar de ingresar datos."
   ]
  },
  {
   "cell_type": "code",
   "execution_count": null,
   "id": "22f62aa9",
   "metadata": {
    "slideshow": {
     "slide_type": "skip"
    }
   },
   "outputs": [],
   "source": [
    "alumnos = []\n",
    "\n",
    "while True:\n",
    "    nombre = input(\"Ingrese el nombre del alumno: \")\n",
    "    edad = int(input(\"Ingrese la edad del alumno: \"))\n",
    "    alumnos.append((nombre, edad))\n",
    "    \n",
    "    continuar = input(\"¿Desea ingresar otro alumno? (s/n): \")\n",
    "    if continuar.lower() != \"s\":\n",
    "        break\n",
    "\n",
    "print(\"Alumnos mayores de 18 años:\")\n",
    "for alumno, edad in alumnos:\n",
    "    if edad > 18:\n",
    "        print(alumno)\n"
   ]
  },
  {
   "cell_type": "markdown",
   "id": "3cfac84c",
   "metadata": {
    "slideshow": {
     "slide_type": "slide"
    }
   },
   "source": [
    "### Ejercicio 3: Adivina el Número\n",
    "Crea un juego en el que la computadora \"piense\" en un número aleatorio y el jugador deba adivinarlo. Proporciona pistas si el número es mayor o menor al número pensado por la computadora. El juego continúa hasta que el jugador adivine el número."
   ]
  },
  {
   "cell_type": "code",
   "execution_count": null,
   "id": "f152ff7a",
   "metadata": {
    "slideshow": {
     "slide_type": "skip"
    }
   },
   "outputs": [],
   "source": [
    "import random\n",
    "\n",
    "while True:\n",
    "    numero_pensado = random.randint(1, 100)\n",
    "    intentos = 0\n",
    "    \n",
    "    while True:\n",
    "        intentos += 1\n",
    "        intento = int(input(\"Adivina el número entre 1 y 100: \"))\n",
    "        \n",
    "        if intento < numero_pensado:\n",
    "            print(\"El número es mayor.\")\n",
    "        elif intento > numero_pensado:\n",
    "            print(\"El número es menor.\")\n",
    "        else:\n",
    "            print(f\"¡Correcto! Adivinaste en {intentos} intentos.\")\n",
    "            break\n",
    "    \n",
    "    jugar_nuevamente = input(\"¿Quieres jugar de nuevo? (s/n): \")\n",
    "    if jugar_nuevamente.lower() != \"s\":\n",
    "        break"
   ]
  },
  {
   "cell_type": "markdown",
   "id": "b856f575",
   "metadata": {
    "slideshow": {
     "slide_type": "slide"
    }
   },
   "source": [
    "### Ejercicio 4: Conversión de Temperaturas\n",
    "Solicita al usuario ingresar una lista de temperaturas en grados Celsius. Luego, muestra las temperaturas convertidas a grados Fahrenheit. Pregunta al usuario si desea realizar otra conversión."
   ]
  },
  {
   "cell_type": "code",
   "execution_count": null,
   "id": "fb03b43a",
   "metadata": {
    "slideshow": {
     "slide_type": "skip"
    }
   },
   "outputs": [],
   "source": [
    "def celsius_a_fahrenheit(celsius):\n",
    "    return celsius * 9/5 + 32\n",
    "\n",
    "while True:\n",
    "    temperaturas_celsius = input(\"Ingrese temperaturas en grados Celsius separadas por coma: \")\n",
    "    temperaturas = temperaturas_celsius.split(\",\")\n",
    "    \n",
    "    for temperatura in temperaturas:\n",
    "        celsius = float(temperatura)\n",
    "        fahrenheit = celsius_a_fahrenheit(celsius)\n",
    "        print(f\"{celsius}°C = {fahrenheit:.2f}°F\")\n",
    "    \n",
    "    continuar = input(\"¿Desea realizar otra conversión? (s/n): \")\n",
    "    if continuar.lower() != \"s\":\n",
    "        break\n"
   ]
  },
  {
   "cell_type": "markdown",
   "id": "530ba532",
   "metadata": {
    "slideshow": {
     "slide_type": "slide"
    }
   },
   "source": [
    "### Ejercicio 5: Lista de Compras\n",
    "Crea un programa que permita al usuario crear una lista de compras. El usuario debe ingresar nombres de productos y agregarlos a la lista. Luego, muestra la lista de compras completa."
   ]
  },
  {
   "cell_type": "code",
   "execution_count": null,
   "id": "d89f05ea",
   "metadata": {
    "slideshow": {
     "slide_type": "skip"
    }
   },
   "outputs": [],
   "source": [
    "lista_compras = []\n",
    "\n",
    "while True:\n",
    "    producto = input(\"Ingrese un producto a la lista de compras: \")\n",
    "    lista_compras.append(producto)\n",
    "    \n",
    "    continuar = input(\"¿Desea agregar otro producto? (s/n): \")\n",
    "    if continuar.lower() != \"s\":\n",
    "        break\n",
    "\n",
    "print(\"Lista de Compras:\")\n",
    "for producto in lista_compras:\n",
    "    print(\"-\", producto)\n"
   ]
  },
  {
   "cell_type": "markdown",
   "id": "140af658",
   "metadata": {
    "slideshow": {
     "slide_type": "slide"
    }
   },
   "source": [
    "### Ejercicio 6: Contador de Números Pares e Impares\n",
    "Solicita al usuario ingresar una serie de números. Luego, muestra la cantidad de números pares e impares que ingresó."
   ]
  },
  {
   "cell_type": "code",
   "execution_count": null,
   "id": "c9ed6801",
   "metadata": {
    "slideshow": {
     "slide_type": "skip"
    }
   },
   "outputs": [],
   "source": [
    "numeros_pares = 0\n",
    "numeros_impares = 0\n",
    "\n",
    "while True:\n",
    "    numero = int(input(\"Ingrese un número (0 para terminar): \"))\n",
    "    if numero == 0:\n",
    "        break\n",
    "    if numero % 2 == 0:\n",
    "        numeros_pares += 1\n",
    "    else:\n",
    "        numeros_impares += 1\n",
    "\n",
    "print(\"Números pares:\", numeros_pares)\n",
    "print(\"Números impares:\", numeros_impares)\n"
   ]
  },
  {
   "cell_type": "markdown",
   "id": "6e31a89d",
   "metadata": {
    "slideshow": {
     "slide_type": "slide"
    }
   },
   "source": [
    "### Ejercicio 7: Tabla de Multiplicar\n",
    "Pide al usuario ingresar un número y muestra la tabla de multiplicar del número ingresado."
   ]
  },
  {
   "cell_type": "code",
   "execution_count": null,
   "id": "a40c2a6f",
   "metadata": {
    "slideshow": {
     "slide_type": "skip"
    }
   },
   "outputs": [],
   "source": [
    "numero = int(input(\"Ingrese un número para generar la tabla de multiplicar: \"))\n",
    "\n",
    "for i in range(1, 11):\n",
    "    resultado = numero * i\n",
    "    print(f\"{numero} x {i} = {resultado}\")\n"
   ]
  },
  {
   "cell_type": "markdown",
   "id": "7cfe9fc5",
   "metadata": {
    "slideshow": {
     "slide_type": "slide"
    }
   },
   "source": [
    "### Ejercicio 8: Validación de Contraseña\n",
    "Solicita al usuario ingresar una contraseña. Si la contraseña tiene al menos 8 caracteres y contiene al menos una letra y un número, muestra un mensaje de contraseña válida. De lo contrario, muestra un mensaje de contraseña inválida."
   ]
  },
  {
   "cell_type": "code",
   "execution_count": null,
   "id": "d6455502",
   "metadata": {
    "slideshow": {
     "slide_type": "skip"
    }
   },
   "outputs": [],
   "source": [
    "while True:\n",
    "    contrasena = input(\"Ingrese una contraseña: \")\n",
    "    \n",
    "    if len(contrasena) >= 8 and any(c.isalpha() for c in contrasena) and any(c.isdigit() for c in contrasena):\n",
    "        print(\"Contraseña válida.\")\n",
    "    else:\n",
    "        print(\"Contraseña inválida.\")\n",
    "    \n",
    "    continuar = input(\"¿Desea intentar otra contraseña? (s/n): \")\n",
    "    if continuar.lower() != \"s\":\n",
    "        break\n"
   ]
  },
  {
   "cell_type": "markdown",
   "id": "f39e01cd",
   "metadata": {
    "slideshow": {
     "slide_type": "slide"
    }
   },
   "source": [
    "### Ejercicio 9: Suma de Números en una Lista\n",
    "Solicita al usuario ingresar una lista de números. Luego, calcula y muestra la suma de los números en la lista."
   ]
  },
  {
   "cell_type": "code",
   "execution_count": null,
   "id": "7b1678ed",
   "metadata": {
    "slideshow": {
     "slide_type": "skip"
    }
   },
   "outputs": [],
   "source": [
    "numeros = input(\"Ingrese una lista de números separados por coma: \")\n",
    "numeros_lista = [int(numero) for numero in numeros.split(\",\")]\n",
    "\n",
    "suma = sum(numeros_lista)\n",
    "print(\"La suma de los números es:\", suma)\n"
   ]
  },
  {
   "cell_type": "markdown",
   "id": "7608954a",
   "metadata": {
    "slideshow": {
     "slide_type": "slide"
    }
   },
   "source": [
    "### Ejercicio 10: Adivina la Palabra\n",
    "Crea un juego en el que la computadora elija una palabra al azar y muestre el número de letras en la palabra (usando guiones bajos para ocultar la palabra). El jugador debe adivinar las letras una por una hasta adivinar la palabra completa."
   ]
  },
  {
   "cell_type": "code",
   "execution_count": null,
   "id": "e5dafcc9",
   "metadata": {
    "slideshow": {
     "slide_type": "skip"
    }
   },
   "outputs": [],
   "source": [
    "palabras = [\"python\", \"programacion\", \"aprendizaje\", \"desarrollo\", \"computadora\"]\n",
    "palabra_adivinar = random.choice(palabras)\n",
    "adivinada = \"_\" * len(palabra_adivinar)\n",
    "intentos = 0\n",
    "\n",
    "while adivinada != palabra_adivinar:\n",
    "    print(adivinada)\n",
    "    letra = input(\"Ingrese una letra: \")\n",
    "    \n",
    "    nueva_adivinada = \"\"\n",
    "    for i in range(len(palabra_adivinar)):\n",
    "        if palabra_adivinar[i] == letra:\n",
    "            nueva_adivinada += letra\n",
    "        else:\n",
    "            nueva_adivinada += adivinada[i]\n",
    "    \n",
    "    adivinada = nueva_adivinada\n",
    "    intentos += 1\n",
    "\n",
    "print(f\"¡Adivinaste la palabra '{palabra_adivinar}' en {intentos} intentos!\")\n"
   ]
  },
  {
   "cell_type": "markdown",
   "id": "ebd6a5d2",
   "metadata": {
    "slideshow": {
     "slide_type": "slide"
    }
   },
   "source": [
    "### Ejercicio 11: Juego de Preguntas y Respuestas\n",
    "Crea un juego de preguntas y respuestas en el que el programa haga preguntas y el jugador responda. Las preguntas y respuestas están almacenadas en un diccionario. El jugador acumula puntos por respuestas correctas y el juego termina después de un número determinado de preguntas."
   ]
  },
  {
   "cell_type": "code",
   "execution_count": null,
   "id": "2cc38095",
   "metadata": {
    "slideshow": {
     "slide_type": "skip"
    }
   },
   "outputs": [],
   "source": [
    "preguntas_respuestas = {\n",
    "    \"¿Cuál es la capital de Francia?\": \"París\",\n",
    "    \"¿En qué año se descubrió América?\": \"1492\",\n",
    "    \"¿Cuál es el elemento más abundante en la Tierra?\": \"Oxígeno\"\n",
    "    # Agrega más preguntas y respuestas aquí\n",
    "}\n",
    "\n",
    "puntaje = 0\n",
    "num_preguntas = 3  # Cambia esto según la cantidad de preguntas\n",
    "\n",
    "for pregunta, respuesta_correcta in preguntas_respuestas.items():\n",
    "    respuesta_usuario = input(f\"{pregunta} \")\n",
    "    if respuesta_usuario.lower() == respuesta_correcta.lower():\n",
    "        puntaje += 1\n",
    "\n",
    "print(f\"Obtuviste {puntaje} de {num_preguntas} preguntas correctas.\")\n"
   ]
  },
  {
   "cell_type": "markdown",
   "id": "2c2871c8",
   "metadata": {
    "slideshow": {
     "slide_type": "slide"
    }
   },
   "source": [
    "### Ejercicio 12: Gestión de Inventario\n",
    "Crea un programa que permita al usuario administrar un inventario de productos. El usuario puede agregar, eliminar y actualizar productos en el inventario. Utiliza un diccionario para almacenar la información de los productos."
   ]
  },
  {
   "cell_type": "code",
   "execution_count": null,
   "id": "a2f408c2",
   "metadata": {
    "slideshow": {
     "slide_type": "skip"
    }
   },
   "outputs": [],
   "source": [
    "inventario = {}\n",
    "\n",
    "while True:\n",
    "    opcion = input(\"Ingrese la opción (agregar/eliminar/actualizar/ver/salir): \")\n",
    "    \n",
    "    if opcion == \"agregar\":\n",
    "        producto = input(\"Ingrese el nombre del producto: \")\n",
    "        cantidad = int(input(\"Ingrese la cantidad: \"))\n",
    "        inventario[producto] = cantidad\n",
    "    elif opcion == \"eliminar\":\n",
    "        producto = input(\"Ingrese el nombre del producto a eliminar: \")\n",
    "        if producto in inventario:\n",
    "            del inventario[producto]\n",
    "    elif opcion == \"actualizar\":\n",
    "        producto = input(\"Ingrese el nombre del producto a actualizar: \")\n",
    "        if producto in inventario:\n",
    "            cantidad = int(input(\"Ingrese la nueva cantidad: \"))\n",
    "            inventario[producto] = cantidad\n",
    "    elif opcion == \"ver\":\n",
    "        print(\"Inventario:\")\n",
    "        for producto, cantidad in inventario.items():\n",
    "            print(f\"{producto}: {cantidad}\")\n",
    "    elif opcion == \"salir\":\n",
    "        break\n"
   ]
  },
  {
   "cell_type": "markdown",
   "id": "d2895da3",
   "metadata": {
    "slideshow": {
     "slide_type": "slide"
    }
   },
   "source": [
    "### Ejercicio 13: Sistema de Gestión de Proyectos\n",
    "Crea un programa que permita al usuario administrar proyectos. El usuario puede agregar, eliminar y actualizar proyectos. Cada proyecto tiene un nombre, una descripción y una fecha de vencimiento. Utiliza una lista de diccionarios para almacenar la información de los proyectos."
   ]
  },
  {
   "cell_type": "code",
   "execution_count": null,
   "id": "8a33f426",
   "metadata": {
    "slideshow": {
     "slide_type": "skip"
    }
   },
   "outputs": [],
   "source": [
    "proyectos = []\n",
    "\n",
    "while True:\n",
    "    opcion = input(\"Ingrese la opción (agregar/eliminar/actualizar/ver/salir): \")\n",
    "    \n",
    "    if opcion == \"agregar\":\n",
    "        nombre = input(\"Ingrese el nombre del proyecto: \")\n",
    "        descripcion = input(\"Ingrese la descripción del proyecto: \")\n",
    "        fecha_vencimiento = input(\"Ingrese la fecha de vencimiento del proyecto: \")\n",
    "        proyecto = {\"nombre\": nombre, \"descripcion\": descripcion, \"vencimiento\": fecha_vencimiento}\n",
    "        proyectos.append(proyecto)\n",
    "    elif opcion == \"eliminar\":\n",
    "        nombre = input(\"Ingrese el nombre del proyecto a eliminar: \")\n",
    "        proyectos = [p for p in proyectos if p[\"nombre\"] != nombre]\n",
    "    elif opcion == \"actualizar\":\n",
    "        nombre = input(\"Ingrese el nombre del proyecto a actualizar: \")\n",
    "        proyecto = next((p for p in proyectos if p[\"nombre\"] == nombre), None)\n",
    "        if proyecto:\n",
    "            descripcion = input(\"Ingrese la nueva descripción: \")\n",
    "            fecha_vencimiento = input(\"Ingrese la nueva fecha de vencimiento: \")\n",
    "            proyecto[\"descripcion\"] = descripcion\n",
    "            proyecto[\"vencimiento\"] = fecha_vencimiento\n",
    "    elif opcion == \"ver\":\n",
    "        print(\"Lista de Proyectos:\")\n",
    "        for proyecto in proyectos:\n",
    "            print(f\"Nombre: {proyecto['nombre']}, Descripción: {proyecto['descripcion']}, Vencimiento: {proyecto['vencimiento']}\")\n",
    "    elif opcion == \"salir\":\n",
    "        break\n"
   ]
  },
  {
   "cell_type": "markdown",
   "id": "ac4e867e",
   "metadata": {
    "slideshow": {
     "slide_type": "slide"
    }
   },
   "source": [
    "### Ejercicio 14: Calculadora de Números Fibonacci\n",
    "Desarrolla una calculadora que genere y muestre los primeros n números de la secuencia de Fibonacci, donde n es ingresado por el usuario. Utiliza ciclos y listas para calcular y almacenar los números de Fibonacci."
   ]
  },
  {
   "cell_type": "code",
   "execution_count": null,
   "id": "c9395874",
   "metadata": {
    "slideshow": {
     "slide_type": "skip"
    }
   },
   "outputs": [],
   "source": [
    "def calcular_fibonacci(n):\n",
    "    fibonacci = [0, 1]\n",
    "    for i in range(2, n):\n",
    "        siguiente_numero = fibonacci[i-1] + fibonacci[i-2]\n",
    "        fibonacci.append(siguiente_numero)\n",
    "    return fibonacci\n",
    "\n",
    "n = int(input(\"Ingrese el valor de n para la secuencia de Fibonacci: \"))\n",
    "numeros_fibonacci = calcular_fibonacci(n)\n",
    "print(\"Secuencia de Fibonacci:\", numeros_fibonacci)\n"
   ]
  },
  {
   "cell_type": "markdown",
   "id": "fb9dfe30",
   "metadata": {
    "slideshow": {
     "slide_type": "slide"
    }
   },
   "source": [
    "### Ejercicio 15: Juego de Ahorcado\n",
    "Crea un juego de ahorcado en el que el programa selecciona una palabra aleatoria y el jugador debe adivinarla letra por letra. El jugador tiene un número limitado de intentos para adivinar la palabra completa. Muestra una representación visual del ahorcado y las letras adivinadas."
   ]
  },
  {
   "cell_type": "code",
   "execution_count": null,
   "id": "66eddcfe",
   "metadata": {
    "slideshow": {
     "slide_type": "skip"
    }
   },
   "outputs": [],
   "source": [
    "import random\n",
    "\n",
    "palabras = [\"python\", \"programacion\", \"desafio\", \"computadora\", \"aprendizaje\"]\n",
    "palabra_secreta = random.choice(palabras)\n",
    "letras_adivinadas = []\n",
    "intentos_maximos = 6\n",
    "intentos = 0\n",
    "\n",
    "while intentos < intentos_maximos:\n",
    "    letra = input(\"Ingresa una letra: \").lower()\n",
    "    if len(letra) != 1 or not letra.isalpha():\n",
    "        print(\"Ingresa una sola letra válida.\")\n",
    "        continue\n",
    "    \n",
    "    if letra in letras_adivinadas:\n",
    "        print(\"Ya adivinaste esa letra.\")\n",
    "        continue\n",
    "    \n",
    "    letras_adivinadas.append(letra)\n",
    "    \n",
    "    palabra_mostrada = \"\"\n",
    "    for letra_palabra in palabra_secreta:\n",
    "        if letra_palabra in letras_adivinadas:\n",
    "            palabra_mostrada += letra_palabra\n",
    "        else:\n",
    "            palabra_mostrada += \"_\"\n",
    "    \n",
    "    print(\"Palabra:\", palabra_mostrada)\n",
    "    \n",
    "    if palabra_mostrada == palabra_secreta:\n",
    "        print(\"¡Adivinaste la palabra!\")\n",
    "        break\n",
    "    \n",
    "    intentos += 1\n",
    "\n",
    "if intentos == intentos_maximos:\n",
    "    print(\"¡Perdiste! La palabra era\", palabra_secreta)\n"
   ]
  }
 ],
 "metadata": {
  "celltoolbar": "Slideshow",
  "kernelspec": {
   "display_name": "Python 3 (ipykernel)",
   "language": "python",
   "name": "python3"
  },
  "language_info": {
   "codemirror_mode": {
    "name": "ipython",
    "version": 3
   },
   "file_extension": ".py",
   "mimetype": "text/x-python",
   "name": "python",
   "nbconvert_exporter": "python",
   "pygments_lexer": "ipython3",
   "version": "3.9.12"
  }
 },
 "nbformat": 4,
 "nbformat_minor": 5
}
