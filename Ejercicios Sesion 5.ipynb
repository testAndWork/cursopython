{
 "cells": [
  {
   "cell_type": "markdown",
   "id": "6e1602b9",
   "metadata": {},
   "source": [
    "## Ejercicios de COntrol de Lectura:"
   ]
  },
  {
   "cell_type": "code",
   "execution_count": null,
   "id": "973ad2b6",
   "metadata": {},
   "outputs": [],
   "source": [
    "# 1\n",
    "if 10\n",
    "    print(\"Número es igual a 10\")\n"
   ]
  },
  {
   "cell_type": "code",
   "execution_count": null,
   "id": "bbce5ff9",
   "metadata": {},
   "outputs": [],
   "source": [
    "# 2\n",
    "\n",
    "if numero < 10 then\n",
    "    print(\"Número es menor que 10\")"
   ]
  },
  {
   "cell_type": "code",
   "execution_count": null,
   "id": "c94a83f9",
   "metadata": {},
   "outputs": [],
   "source": [
    "# 3\n",
    "numero = 8\n",
    "if numero > 5:\n",
    "print(\"Número es mayor que 5\")\n"
   ]
  },
  {
   "cell_type": "code",
   "execution_count": null,
   "id": "1b569aad",
   "metadata": {},
   "outputs": [],
   "source": [
    "# 4\n",
    "numero = 3\n",
    "if numero % 2 == 0:\n",
    "    print(\"Número es par\")\n"
   ]
  },
  {
   "cell_type": "code",
   "execution_count": null,
   "id": "5d4080e9",
   "metadata": {},
   "outputs": [],
   "source": [
    "# 5\n",
    "numero = 3\n",
    "if numero % 2 == 0:\n",
    "    print(\"Número es par\")\n"
   ]
  },
  {
   "cell_type": "code",
   "execution_count": null,
   "id": "2ee1717f",
   "metadata": {},
   "outputs": [],
   "source": [
    "# 6\n",
    "valor = \"Python\"\n",
    "if valor != \"python\":\n",
    "    print(\"El valor es Python\")\n"
   ]
  },
  {
   "cell_type": "code",
   "execution_count": null,
   "id": "c0d76092",
   "metadata": {},
   "outputs": [],
   "source": [
    "# 7\n",
    "edad = 18\n",
    "if edad == '18':\n",
    "    print(\"Tienes 18 años\")\n"
   ]
  },
  {
   "cell_type": "code",
   "execution_count": null,
   "id": "352fd2df",
   "metadata": {},
   "outputs": [],
   "source": [
    "# 8\n",
    "if numero > 5:\n",
    "    print(\"Número es mayor que 5\")\n"
   ]
  },
  {
   "cell_type": "code",
   "execution_count": null,
   "id": "cc047745",
   "metadata": {},
   "outputs": [],
   "source": [
    "# \n",
    "valor = \"Hola\"\n",
    "if valor.startswith(\"H\"):\n"
   ]
  },
  {
   "cell_type": "code",
   "execution_count": null,
   "id": "4f44fc36",
   "metadata": {},
   "outputs": [],
   "source": [
    "# \n",
    "nota = 75\n",
    "if nota >= 90:\n",
    "    print(\"A\")\n",
    "elif nota >= 80:\n",
    "    print(\"B\")\n",
    "if nota >= 70:\n",
    "    print(\"C\")\n",
    "else:\n",
    "    print(\"D\")\n"
   ]
  },
  {
   "cell_type": "code",
   "execution_count": null,
   "id": "2fd17660",
   "metadata": {},
   "outputs": [],
   "source": [
    "# \n",
    "numero = 10\n",
    "if numero = 10:\n",
    "    print(\"Número es igual a 10\")\n"
   ]
  }
 ],
 "metadata": {
  "kernelspec": {
   "display_name": "Python 3 (ipykernel)",
   "language": "python",
   "name": "python3"
  },
  "language_info": {
   "codemirror_mode": {
    "name": "ipython",
    "version": 3
   },
   "file_extension": ".py",
   "mimetype": "text/x-python",
   "name": "python",
   "nbconvert_exporter": "python",
   "pygments_lexer": "ipython3",
   "version": "3.9.12"
  }
 },
 "nbformat": 4,
 "nbformat_minor": 5
}
