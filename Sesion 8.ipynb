{
 "cells": [
  {
   "cell_type": "markdown",
   "id": "9c8c537c",
   "metadata": {},
   "source": [
    "# <span style=\"color:darkblue\">Módulo 1 - Introducción a la programación con Python </span>\n",
    "\n",
    "## <span style=\"color:darkblue\">Sesión 8 - Funciones en Python</span>\n",
    "\n",
    "### <span style=\"color:darkblue\">Duración estimada:\t4 horas</span>\n",
    "\n",
    "#### <span style=\"color:darkblue\">En marco del proyecto: “EMPLEO JOVEN ES”</span>"
   ]
  },
  {
   "cell_type": "markdown",
   "id": "42a8be22",
   "metadata": {},
   "source": [
    "## <span style=\"color:darkblue\"> Tabla de contenidos:</span>\n",
    " \n",
    "    1- Bienvenida\n",
    "    \n",
    "    2- Asistencia\n",
    "    \n",
    "    3- Dudas de la Clase anterior\n",
    "    \n",
    "    4- Control de Lectura\n",
    "    \n",
    "    5- Objetivo\n",
    "    \n",
    "    6- Introducción\n",
    "    \n",
    "    7- Aprendamos\n",
    "\n",
    "    8- Crear una función\n",
    "    \n",
    "    9- Llamar a una función\t\n",
    "    \n",
    "    10- Argumentos\t\n",
    "    \n",
    "    11- Argumentos arbitrarios, *args\t\n",
    "    \n",
    "    12- Argumentos de palabras clave\t\n",
    "    \n",
    "    13- Argumentos de palabras clave arbitrarias, **kwargs\t\n",
    "    \n",
    "    14- Valor de parámetro predeterminado\t\n",
    "    \n",
    "    15- Valores devueltos\t\n",
    "    \n",
    "    16- La declaración de pase\t\n",
    "    \n",
    "    17- Recursividad\t\n",
    "    \n",
    "    18- Lambda en Python\t\n",
    "    \n",
    "    20- ¿Por qué utilizar las funciones de Lambda?\t\n",
    "    \n",
    "    21- Aplicando Conocimientos\t\n",
    "\n",
    "    22- Retroalimentación\n",
    "    \n",
    "    23- Asistencia\n"
   ]
  },
  {
   "cell_type": "markdown",
   "id": "51ae1b4d",
   "metadata": {},
   "source": [
    "## <span style=\"color:darkred\">Objetivo:</span>\n",
    "\n",
    "Comprender como se encapsula un conjunto de instrucciones en una unidad de código reutilizable y modular que puede ser invocada desde cualquier parte de un programa.\n",
    "\n",
    "### <span style=\"color:darkred\">Recursos</span>\n",
    "\n",
    "•\tSesión 8 de Curso de Python\n",
    "\n",
    "•\tComputadora con Python instalado\n",
    "\n",
    "•\tVisual Studio Code instalado\n",
    "\n",
    "\n",
    "\n",
    "\n",
    "### <span style=\"color:darkred\">Introducción:</span>\n",
    "\n",
    "Las funciones en Python permiten definir un bloque de código que se puede ejecutar en cualquier momento del programa simplemente llamando a la función por su nombre. Esto es útil porque:\n",
    "\n",
    "**•\tEvita la repetición de código:** Si se necesita realizar una tarea en varias partes de un programa, en lugar de escribir el mismo código varias veces, se puede definir una función que realice esa tarea y llamarla cada vez que se necesite.\n",
    "\n",
    "**•\tFacilita la comprensión y el mantenimiento del código:** Las funciones permiten dividir un programa complejo en partes más pequeñas y manejables, cada una con su propia responsabilidad. Esto hace que el código sea más fácil de entender, mantener y modificar en el futuro.\n",
    "\n",
    "**•\tPromueve la reutilización de código:** Las funciones se pueden usar en diferentes programas y proyectos, lo que ayuda a reducir el tiempo de desarrollo y mejorar la eficiencia.\n",
    "\n",
    "**•\tMejora la legibilidad del código:** Al utilizar funciones, el código se puede escribir de una manera más clara y concisa, lo que lo hace más fácil de leer y entender para otros programadores.\n",
    "\n",
    "\n",
    "### <span style=\"color:darkred\">Aprendamos </span>\n",
    "\n",
    "Una función es un bloque de código que solo se ejecuta cuando se le llama. Puede pasar datos, conocidos como parámetros, a una función. Una función puede devolver datos como resultado."
   ]
  },
  {
   "cell_type": "markdown",
   "id": "6bc551e5",
   "metadata": {},
   "source": [
    "## Repaso (8 min): nombreApellidoSesion8.py\n",
    "\n"
   ]
  },
  {
   "cell_type": "markdown",
   "id": "dae5ab9c",
   "metadata": {},
   "source": [
    "## <span style=\"color:darkred\">Crear una función</span>\n",
    "\n",
    "Las funciones son bloques de código reutilizable en Python que realizan una tarea específica. \n",
    "\n",
    "Permiten agrupar una serie de instrucciones en una única unidad lógica que puede ser invocada en cualquier lugar del programa. \n",
    "\n",
    "\n",
    "Las funciones son esenciales en la programación ya que promueven la modularidad y la reutilización de código, lo que facilita el mantenimiento y la organización del programa.\n",
    "\n",
    "Para definir una función en Python, se utiliza la palabra clave def, seguida del nombre de la función y paréntesis que pueden contener parámetros. Aquí tienes un ejemplo básico de una función:\n",
    "\n",
    "En Python, una función se define usando la palabra clave `def`:"
   ]
  },
  {
   "cell_type": "code",
   "execution_count": 3,
   "id": "08d8c795",
   "metadata": {},
   "outputs": [],
   "source": [
    "def my_function():\n",
    "    print('Hola Mundo desde una función ')\n",
    "    print('******************************')"
   ]
  },
  {
   "cell_type": "markdown",
   "id": "21c3cfa1",
   "metadata": {},
   "source": [
    "### <span style=\"color:darkred\">Llamar a una función</span>\n",
    "\n",
    "Para llamar a una función, use el nombre de la función seguido de paréntesis:"
   ]
  },
  {
   "cell_type": "code",
   "execution_count": 4,
   "id": "667a2f3b",
   "metadata": {},
   "outputs": [
    {
     "name": "stdout",
     "output_type": "stream",
     "text": [
      "Hola Mundo desde una función \n",
      "******************************\n"
     ]
    }
   ],
   "source": [
    "my_function()"
   ]
  },
  {
   "cell_type": "code",
   "execution_count": 9,
   "id": "3f654ee6",
   "metadata": {},
   "outputs": [
    {
     "name": "stdout",
     "output_type": "stream",
     "text": [
      "HOla muy buenos días!!!!\n",
      "HOla muy buenos días!!!!\n",
      "Me gusta saludar  None\n"
     ]
    }
   ],
   "source": [
    "def saludar( ):\n",
    "    print('HOla muy buenos días!!!!')\n",
    "\n",
    "saludar()\n",
    "\n",
    "print('Me gusta saludar ', saludar() )"
   ]
  },
  {
   "cell_type": "markdown",
   "id": "76037a41",
   "metadata": {},
   "source": [
    "### <span style=\"color:darkred\">Argumentos</span>\n",
    "\n",
    "La información se puede pasar a funciones como argumentos.\n",
    "Los argumentos se especifican después del nombre de la función, entre paréntesis. Puede agregar tantos argumentos como desee, simplemente sepárelos con una coma.\n",
    "\n",
    "El siguiente ejemplo tiene una función con un argumento (fname). Cuando se llama a la función, pasamos un nombre, que se usa dentro de la función para imprimir el nombre completo:"
   ]
  },
  {
   "cell_type": "code",
   "execution_count": 11,
   "id": "2233091d",
   "metadata": {},
   "outputs": [
    {
     "name": "stdout",
     "output_type": "stream",
     "text": [
      "HOla muy buenos días Juan!!!!\n"
     ]
    }
   ],
   "source": [
    "def saludar(nombre):\n",
    "    print(f'HOla muy buenos días {nombre}!!!!')\n",
    "\n",
    "saludar('Juan')"
   ]
  },
  {
   "cell_type": "code",
   "execution_count": 14,
   "id": "559716de",
   "metadata": {},
   "outputs": [
    {
     "name": "stdout",
     "output_type": "stream",
     "text": [
      "La suma es: 9\n"
     ]
    }
   ],
   "source": [
    "def sumar(x,y):\n",
    "    suma = x + y\n",
    "    return suma\n",
    "\n",
    "resultado = sumar(4,5)\n",
    "\n",
    "print('La suma es:', resultado )"
   ]
  },
  {
   "cell_type": "code",
   "execution_count": 21,
   "id": "29397f2b",
   "metadata": {},
   "outputs": [
    {
     "name": "stdout",
     "output_type": "stream",
     "text": [
      "Juan es el nombre\n",
      "Siri es el nombre\n",
      "jose es el nombre\n",
      "María es el nombre\n"
     ]
    }
   ],
   "source": [
    "def print_name(name):\n",
    "    print(name + ' es el nombre')\n",
    "    \n",
    "print_name('Juan')\n",
    "\n",
    "print_name('Siri')\n",
    "print_name('jose')\n",
    "print_name('María')\n"
   ]
  },
  {
   "cell_type": "markdown",
   "id": "59655985",
   "metadata": {},
   "source": [
    "Los argumentos a menudo se reducen a `args` en la documentación de Python."
   ]
  },
  {
   "cell_type": "markdown",
   "id": "76faa5e7",
   "metadata": {},
   "source": [
    "### <span style=\"color:darkred\">¿Parámetros o argumentos?</span>\n",
    "\n",
    "Los términos parámetro y argumento se pueden usar para lo mismo: información que se pasa a una función.\n",
    "\n",
    "Desde la perspectiva de una función:\n",
    "\n",
    "Un parámetro es la variable que aparece entre paréntesis en la definición de la función.\n",
    "\n",
    "Un argumento es el valor que se envía a la función cuando se llama.\n",
    "\n",
    "\n",
    "### Parámetros:\n",
    "\n",
    "    Los parámetros son nombres de variables que se definen en la declaración de una función.\n",
    "    \n",
    "    Actúan como marcadores de posición para los valores que se pasarán a la función cuando sea llamada.\n",
    "    \n",
    "    Los parámetros se definen dentro de los paréntesis en la declaración de la función.\n",
    "    \n",
    "    Pueden ser considerados como las \"expectativas\" de la función sobre los valores que necesita para operar.\n",
    "    \n",
    "### Argumentos:\n",
    "\n",
    "    Los argumentos son los valores reales que se pasan a la función cuando esta es llamada.\n",
    "    \n",
    "    Los argumentos se colocan entre los paréntesis cuando se llama a la función.\n",
    "    \n",
    "    Los argumentos son los datos concretos que se utilizan para completar los parámetros de la función.\n",
    "    \n",
    "\n",
    "### <span style=\"color:darkred\">Número de argumentos</span>\n",
    "\n",
    "Por defecto, una función debe llamarse con el número correcto de argumentos. Lo que significa que, si su función espera 2 argumentos, debe llamar a la función con 2 argumentos, ni más ni menos."
   ]
  },
  {
   "cell_type": "code",
   "execution_count": 23,
   "id": "99efaf5e",
   "metadata": {},
   "outputs": [
    {
     "name": "stdout",
     "output_type": "stream",
     "text": [
      "Juan Pablo\n"
     ]
    }
   ],
   "source": [
    "def my_function(nombre1, nombre2):\n",
    "    print(nombre1 + ' ' + nombre2)\n",
    "\n",
    "my_function('Juan','Pablo')"
   ]
  },
  {
   "cell_type": "markdown",
   "id": "4e02e0a7",
   "metadata": {},
   "source": [
    "En este ejemplo, nombre es el parámetro de la función `saludar`, y cuando llamamos a `saludar(\"Juan\")`, \"Juan\" es el argumento que se pasa a la función."
   ]
  },
  {
   "cell_type": "code",
   "execution_count": 24,
   "id": "6385ffd2",
   "metadata": {},
   "outputs": [
    {
     "name": "stdout",
     "output_type": "stream",
     "text": [
      "Hola muy buenos días Juan!!!!\n"
     ]
    }
   ],
   "source": [
    "def saludar(nombre):\n",
    "    print(f'Hola muy buenos días {nombre}!!!!')\n",
    "\n",
    "# 'nombre' es un parámetro\n",
    "\n",
    "# 'Juan'   es un argumento\n",
    "saludar('Juan') "
   ]
  },
  {
   "cell_type": "markdown",
   "id": "3844ccc8",
   "metadata": {},
   "source": [
    "En este ejemplo, la función suma espera dos parámetros (a y b), y al llamarla con suma(5, 3), proporcionamos dos argumentos (5 y 3)."
   ]
  },
  {
   "cell_type": "code",
   "execution_count": 25,
   "id": "a50280a7",
   "metadata": {},
   "outputs": [
    {
     "name": "stdout",
     "output_type": "stream",
     "text": [
      "La suma es: 9\n"
     ]
    }
   ],
   "source": [
    "def sumar(x, y):\n",
    "    suma = x + y\n",
    "    return suma\n",
    "\n",
    "# 'x' e 'y' son parámetros\n",
    "\n",
    "# '4' y '5' son argumentos \n",
    "\n",
    "resultado = sumar(4,5)\n",
    "\n",
    "print('La suma es:', resultado )"
   ]
  },
  {
   "cell_type": "markdown",
   "id": "7063f142",
   "metadata": {},
   "source": [
    "Si intenta llamar a la función con 1 o 3 argumentos, obtendrá un error, en el ejemplo de a continuación Esta función espera 2 argumentos, pero solo obtiene 1:"
   ]
  },
  {
   "cell_type": "code",
   "execution_count": 26,
   "id": "d0b132d6",
   "metadata": {},
   "outputs": [
    {
     "ename": "TypeError",
     "evalue": "my_function() missing 1 required positional argument: 'nombre2'",
     "output_type": "error",
     "traceback": [
      "\u001b[0;31m---------------------------------------------------------------------------\u001b[0m",
      "\u001b[0;31mTypeError\u001b[0m                                 Traceback (most recent call last)",
      "Input \u001b[0;32mIn [26]\u001b[0m, in \u001b[0;36m<cell line: 4>\u001b[0;34m()\u001b[0m\n\u001b[1;32m      1\u001b[0m \u001b[38;5;28;01mdef\u001b[39;00m \u001b[38;5;21mmy_function\u001b[39m(nombre1, nombre2):\n\u001b[1;32m      2\u001b[0m     \u001b[38;5;28mprint\u001b[39m(nombre1 \u001b[38;5;241m+\u001b[39m \u001b[38;5;124m'\u001b[39m\u001b[38;5;124m \u001b[39m\u001b[38;5;124m'\u001b[39m \u001b[38;5;241m+\u001b[39m nombre2)\n\u001b[0;32m----> 4\u001b[0m \u001b[43mmy_function\u001b[49m\u001b[43m(\u001b[49m\u001b[38;5;124;43m'\u001b[39;49m\u001b[38;5;124;43mJuan\u001b[39;49m\u001b[38;5;124;43m'\u001b[39;49m\u001b[43m)\u001b[49m\n",
      "\u001b[0;31mTypeError\u001b[0m: my_function() missing 1 required positional argument: 'nombre2'"
     ]
    }
   ],
   "source": [
    "def my_function(nombre1, nombre2):\n",
    "    print(nombre1 + ' ' + nombre2)\n",
    "\n",
    "my_function('Juan')"
   ]
  },
  {
   "cell_type": "markdown",
   "id": "f06b5c8f",
   "metadata": {},
   "source": [
    "### Algunos ejemplos"
   ]
  },
  {
   "cell_type": "code",
   "execution_count": 27,
   "id": "575e0ec2",
   "metadata": {},
   "outputs": [
    {
     "name": "stdout",
     "output_type": "stream",
     "text": [
      "El area de un rectángulo es 20\n"
     ]
    }
   ],
   "source": [
    "# Ejemplo 1 : Función para calcular el area de un rectángulo\n",
    "\n",
    "def area_rectangulo(base, altura):\n",
    "    return base * altura\n",
    "\n",
    "area = area_rectangulo(4,5)\n",
    "\n",
    "print('El area de un rectángulo es', area)"
   ]
  },
  {
   "cell_type": "code",
   "execution_count": 29,
   "id": "613e36a0",
   "metadata": {},
   "outputs": [
    {
     "name": "stdout",
     "output_type": "stream",
     "text": [
      "1\n",
      "2\n",
      "hola\n",
      "1\n",
      "2.0\n",
      "6\n"
     ]
    }
   ],
   "source": [
    "# Ejemplo 2: Funcion para imprimir una lista \n",
    "\n",
    "def imprimir_lista(lista):\n",
    "    for it in lista:\n",
    "        print(it)\n",
    "\n",
    "lst = [1, 2, 'hola']\n",
    "\n",
    "imprimir_lista(lst)\n",
    "\n",
    "lst = [1, 2.0, 6]\n",
    "\n",
    "imprimir_lista(lst)"
   ]
  },
  {
   "cell_type": "code",
   "execution_count": 32,
   "id": "531cfddd",
   "metadata": {},
   "outputs": [
    {
     "name": "stdout",
     "output_type": "stream",
     "text": [
      "El numero es impar\n"
     ]
    }
   ],
   "source": [
    "# Ejemplo 3: Funcion para verificar si un número es par.\n",
    "\n",
    "def es_par(numero):\n",
    "    if numero % 2 == 0:\n",
    "        return True\n",
    "    else:\n",
    "        return False\n"
   ]
  },
  {
   "cell_type": "code",
   "execution_count": 34,
   "id": "423afc41",
   "metadata": {},
   "outputs": [
    {
     "name": "stdout",
     "output_type": "stream",
     "text": [
      "El numero es impar\n"
     ]
    }
   ],
   "source": [
    "num = 5\n",
    "\n",
    "\n",
    "if es_par(num):\n",
    "    print('El número es par')\n",
    "else:\n",
    "    print('El numero es impar')"
   ]
  },
  {
   "cell_type": "code",
   "execution_count": 40,
   "id": "82c8cbc9",
   "metadata": {},
   "outputs": [
    {
     "name": "stdout",
     "output_type": "stream",
     "text": [
      "[0, 2, 4, 6, 8, 10, 12, 14, 16, 18, 20]\n"
     ]
    }
   ],
   "source": [
    "# Ejemplo 4: FUnción que regresa una lista de numeros pares\n",
    "\n",
    "def lista_pares(n):\n",
    "    lstPares = []\n",
    "    for it in range(n + 1):\n",
    "        if it % 2 == 0:\n",
    "            lstPares.append(it)\n",
    "    return lstPares\n",
    "\n",
    "\n",
    "print(lista_pares(20))"
   ]
  },
  {
   "cell_type": "code",
   "execution_count": 41,
   "id": "72046ef6",
   "metadata": {},
   "outputs": [
    {
     "name": "stderr",
     "output_type": "stream",
     "text": [
      "/var/folders/nq/l0_9gxxj3hv1_wwwd11kyscc0000gn/T/ipykernel_44367/1896958162.py:13: RuntimeWarning: invalid value encountered in sqrt\n",
      "  eq1 = ((x/7)**2*sqrt(abs(abs(x)-3)/(abs(x)-3))+(y/3)**2*sqrt(abs(y+3/7*sqrt(33))/(y+3/7*sqrt(33)))-1)\n",
      "/var/folders/nq/l0_9gxxj3hv1_wwwd11kyscc0000gn/T/ipykernel_44367/1896958162.py:14: RuntimeWarning: invalid value encountered in sqrt\n",
      "  eq2 = (abs(x/2)-((3*sqrt(33)-7)/112)*x**2-3+sqrt(1-(abs(abs(x)-2)-1)**2)-y)\n",
      "/var/folders/nq/l0_9gxxj3hv1_wwwd11kyscc0000gn/T/ipykernel_44367/1896958162.py:15: RuntimeWarning: invalid value encountered in sqrt\n",
      "  eq3 = (9*sqrt(abs((abs(x)-1)*(abs(x)-.75))/((1-abs(x))*(abs(x)-.75)))-8*abs(x)-y)\n",
      "/var/folders/nq/l0_9gxxj3hv1_wwwd11kyscc0000gn/T/ipykernel_44367/1896958162.py:16: RuntimeWarning: invalid value encountered in sqrt\n",
      "  eq4 = (3*abs(x)+.75*sqrt(abs((abs(x)-.75)*(abs(x)-.5))/((.75-abs(x))*(abs(x)-.5)))-y)\n",
      "/var/folders/nq/l0_9gxxj3hv1_wwwd11kyscc0000gn/T/ipykernel_44367/1896958162.py:17: RuntimeWarning: invalid value encountered in sqrt\n",
      "  eq5 = (2.25*sqrt(abs((x-.5)*(x+.5))/((.5-x)*(.5+x)))-y)\n",
      "/var/folders/nq/l0_9gxxj3hv1_wwwd11kyscc0000gn/T/ipykernel_44367/1896958162.py:18: RuntimeWarning: invalid value encountered in sqrt\n",
      "  eq6 = (6*sqrt(10)/7+(1.5-.5*abs(x))*sqrt(abs(abs(x)-1)/(abs(x)-1))-(6*sqrt(10)/14)*sqrt(4-(abs(x)-1)**2)-y)\n"
     ]
    },
    {
     "data": {
      "image/png": "[encoded data removed]",
      "text/plain": [
       "<Figure size 432x288 with 1 Axes>"
      ]
     },
     "metadata": {
      "needs_background": "light"
     },
     "output_type": "display_data"
    }
   ],
   "source": [
    "# Importando lo necesario para los cálculos\n",
    "import matplotlib.pyplot as plt\n",
    "from numpy import sqrt \n",
    "from numpy import meshgrid\n",
    "from numpy import arange\n",
    "\n",
    "\n",
    "# Graficando la ecuación de Batman.\n",
    "xs = arange(-7.25, 7.25, 0.01)\n",
    "ys = arange(-5, 5, 0.01)\n",
    "x, y = meshgrid(xs, ys)\n",
    "\n",
    "eq1 = ((x/7)**2*sqrt(abs(abs(x)-3)/(abs(x)-3))+(y/3)**2*sqrt(abs(y+3/7*sqrt(33))/(y+3/7*sqrt(33)))-1)\n",
    "eq2 = (abs(x/2)-((3*sqrt(33)-7)/112)*x**2-3+sqrt(1-(abs(abs(x)-2)-1)**2)-y)\n",
    "eq3 = (9*sqrt(abs((abs(x)-1)*(abs(x)-.75))/((1-abs(x))*(abs(x)-.75)))-8*abs(x)-y)\n",
    "eq4 = (3*abs(x)+.75*sqrt(abs((abs(x)-.75)*(abs(x)-.5))/((.75-abs(x))*(abs(x)-.5)))-y)\n",
    "eq5 = (2.25*sqrt(abs((x-.5)*(x+.5))/((.5-x)*(.5+x)))-y)\n",
    "eq6 = (6*sqrt(10)/7+(1.5-.5*abs(x))*sqrt(abs(abs(x)-1)/(abs(x)-1))-(6*sqrt(10)/14)*sqrt(4-(abs(x)-1)**2)-y)\n",
    "\n",
    "for f, c in [(eq1, \"red\"), (eq2, \"purple\"), (eq3, \"green\"),\n",
    "             (eq4, \"blue\"), (eq5, \"orange\"), (eq6, \"black\")]:\n",
    "    plt.contour(x, y, f, [0], colors=c)\n",
    "\n",
    "plt.show()"
   ]
  },
  {
   "cell_type": "markdown",
   "id": "5a1e1cdb",
   "metadata": {},
   "source": [
    "### <span style=\"color:darkred\">Argumentos arbitrarios, `*args`</span>\n",
    "\n",
    "Si no sabe cuántos argumentos se pasarán a su función, agregue un `*antes` del nombre del parámetro en la definición de la función.\n",
    "\n",
    "De esta manera, la función recibirá una tupla de argumentos y podrá acceder a los elementos en consecuencia, por ejemplo: \n",
    "\n",
    "    Si se desconoce el número de argumentos, agregue un *antes del nombre del parámetro:\n"
   ]
  },
  {
   "cell_type": "code",
   "execution_count": 50,
   "id": "b641c5d8",
   "metadata": {},
   "outputs": [
    {
     "name": "stdout",
     "output_type": "stream",
     "text": [
      "El nombre es Mario\n"
     ]
    }
   ],
   "source": [
    "def my_function(*nombre):\n",
    "    print('El nombre es '+ nombre[1])\n",
    "\n",
    "my_function('Juan', 'Mario', 'Pablo')"
   ]
  },
  {
   "cell_type": "markdown",
   "id": "fe7a8637",
   "metadata": {},
   "source": [
    "En este ejemplo, la función `mprimir_argumentos` acepta cualquier número de argumentos y los imprime uno por uno. \n",
    "\n",
    "Cuando llamamos a la función con `imprimir_argumentos(\"Hola\", \"Mundo\", 1, 2, 3)`, los argumentos se agrupan en una tupla args y la función los recorre y los imprime."
   ]
  },
  {
   "cell_type": "code",
   "execution_count": 52,
   "id": "787cc0a9",
   "metadata": {},
   "outputs": [
    {
     "name": "stdout",
     "output_type": "stream",
     "text": [
      "1\n",
      "2\n",
      "3\n",
      "Hola\n",
      "Mundo\n",
      "['a', 'b']\n"
     ]
    }
   ],
   "source": [
    "def imprimir_argumentos(*args):\n",
    "    for arg in args:\n",
    "        print(arg)\n",
    "        \n",
    "imprimir_argumentos(1,2,3, 'Hola', 'Mundo',['a','b'])"
   ]
  },
  {
   "cell_type": "markdown",
   "id": "06cd76c7",
   "metadata": {},
   "source": [
    "Otro uso común de *args es cuando se desea pasar una lista (u otra colección) como argumentos individuales a una función:\n",
    "\n",
    "En este caso, al utilizar *numeros al llamar a la función, estamos desempaquetando la lista y pasando sus elementos como argumentos individuales a la función suma.\n",
    "\n",
    "El uso de *args permite una flexibilidad considerable en el diseño de funciones que pueden manejar diferentes cantidades de argumentos de manera eficiente."
   ]
  },
  {
   "cell_type": "code",
   "execution_count": 65,
   "id": "86135285",
   "metadata": {},
   "outputs": [
    {
     "name": "stdout",
     "output_type": "stream",
     "text": [
      "7.9\n"
     ]
    }
   ],
   "source": [
    "def prom_notas(*notas):\n",
    "    totalNotas = 0\n",
    "    for nota in notas:\n",
    "        totalNotas += int(nota)\n",
    "    promedio = totalNotas/len(notas)\n",
    "    return promedio\n",
    "\n",
    "notass = [6, 7, 8, 9, 6, 9, 8, 10]\n",
    "\n",
    "promedioFinal = prom_notas(*notass)\n",
    "\n",
    "print(round(promedioFinal,1))"
   ]
  },
  {
   "cell_type": "markdown",
   "id": "0de87397",
   "metadata": {},
   "source": [
    "Aquí, la función `concatenar` toma una tupla de frutas como argumentos y utiliza el método `join()` para unir las frutas en una cadena."
   ]
  },
  {
   "cell_type": "code",
   "execution_count": 67,
   "id": "976a95e7",
   "metadata": {},
   "outputs": [
    {
     "name": "stdout",
     "output_type": "stream",
     "text": [
      "Mix de Frutas:  guineo naranja limon agua\n"
     ]
    }
   ],
   "source": [
    "def concatenar(*args):\n",
    "    resultado = \" \".join(args)\n",
    "    return resultado\n",
    "\n",
    "frutas = 'guineo', 'naranja', 'limon', 'agua'\n",
    "\n",
    "mixFrutas = concatenar(*frutas)\n",
    "print('Mix de Frutas: ', mixFrutas)"
   ]
  },
  {
   "cell_type": "markdown",
   "id": "a1951e11",
   "metadata": {},
   "source": [
    "La función `media_aritmetica` calcula la media aritmética de una serie de números utilizando los argumentos pasados y luego devuelve el resultado."
   ]
  },
  {
   "cell_type": "code",
   "execution_count": 73,
   "id": "2464b6e9",
   "metadata": {},
   "outputs": [
    {
     "name": "stdout",
     "output_type": "stream",
     "text": [
      "El promedio es :  7.9\n"
     ]
    }
   ],
   "source": [
    "def media_aritmetica(*args):\n",
    "    total = sum(args)\n",
    "    cantidad = len(args)\n",
    "    media = total/cantidad\n",
    "    return media\n",
    "\n",
    "notass = [6, 7, 8, 9, 6, 9, 8, 10]\n",
    "\n",
    "promedioFinal = media_aritmetica(*notass)\n",
    "\n",
    "print('El promedio es : ',round(promedioFinal,1))\n"
   ]
  },
  {
   "cell_type": "markdown",
   "id": "e30afd5e",
   "metadata": {},
   "source": [
    "Esta función producto calcula el producto de una lista de números pasados como argumentos.\n",
    "\n",
    "$$\\prod args(i)$$"
   ]
  },
  {
   "cell_type": "code",
   "execution_count": 76,
   "id": "0c4918b7",
   "metadata": {},
   "outputs": [
    {
     "name": "stdout",
     "output_type": "stream",
     "text": [
      "El total es :  0\n"
     ]
    }
   ],
   "source": [
    "def productoria(*args):\n",
    "    producto = 1\n",
    "    for it in args:\n",
    "        producto *= it\n",
    "    return producto\n",
    "\n",
    "numeros = [ 1,3,4,5,6,7]\n",
    "\n",
    "totalMultiplicacion = productoria(*numeros)\n",
    "\n",
    "print('El total es : ', totalMultiplicacion)"
   ]
  },
  {
   "cell_type": "markdown",
   "id": "a87612e3",
   "metadata": {},
   "source": [
    "Los argumentos arbitrarios a menudo se abrevian a `*args` en la documentación de Python.\n",
    "\n",
    "### <span style=\"color:darkred\">Argumentos de palabras clave</span>\n",
    "\n",
    "También puede enviar argumentos con la sintaxis clave = valor. De esta manera el orden de los argumentos no importa.\n"
   ]
  },
  {
   "cell_type": "code",
   "execution_count": 77,
   "id": "9c312d31",
   "metadata": {},
   "outputs": [
    {
     "name": "stdout",
     "output_type": "stream",
     "text": [
      "Juan Pablo José\n"
     ]
    }
   ],
   "source": [
    "def my_function(nombre1, nombre2, nombre3):\n",
    "    print(nombre1 + ' ' + nombre2+ \" \"+ nombre3)\n",
    "\n",
    "my_function(nombre1 ='Juan', nombre2 = 'Pablo', nombre3 = 'José')"
   ]
  },
  {
   "cell_type": "markdown",
   "id": "2a1a05b8",
   "metadata": {},
   "source": [
    "En este caso, la función generar_informe acepta tres argumentos de palabras clave, lo que facilita identificar qué valor se refiere a qué parte del informe."
   ]
  },
  {
   "cell_type": "code",
   "execution_count": 78,
   "id": "b2d9466e",
   "metadata": {},
   "outputs": [
    {
     "name": "stdout",
     "output_type": "stream",
     "text": [
      "Hola, Juan!\n",
      "¡Bienvenido, Ana!\n"
     ]
    }
   ],
   "source": [
    "def saludar(nombre, mensaje): \n",
    "    print(f\"{mensaje}, {nombre}!\")\n",
    "    \n",
    "saludar(nombre=\"Juan\", mensaje=\"Hola\") \n",
    "saludar(mensaje=\"¡Bienvenido\", nombre=\"Ana\")"
   ]
  },
  {
   "cell_type": "code",
   "execution_count": null,
   "id": "5102aae3",
   "metadata": {},
   "outputs": [],
   "source": [
    "def my_funcion(nombre1,nombre2,nombre3,nombre4='Lopez'):\n",
    "    print(nombre1+' '+ nombre2+ ' '+nombre3+' '+nombre4)\n",
    "\n",
    "my_funcion(nombre1='Juan',nombre2='Jose',nombre3='Henry')"
   ]
  },
  {
   "cell_type": "markdown",
   "id": "470ed723",
   "metadata": {},
   "source": [
    "Esta función configurar_usuario utiliza argumentos de palabras clave para crear un diccionario que almacena la información del usuario. Esto facilita entender qué valor se asigna a cada clave en el diccionario."
   ]
  },
  {
   "cell_type": "code",
   "execution_count": 86,
   "id": "6eec6118",
   "metadata": {},
   "outputs": [
    {
     "name": "stdout",
     "output_type": "stream",
     "text": [
      "Titulo: Informe Mensual\n",
      "Contenido: Ventas y Proyecciones\n",
      "Autor: yo\n"
     ]
    }
   ],
   "source": [
    "def generar_informe(titulo, contenido, autor):\n",
    "    informe = f\"Titulo: {titulo}\\nContenido: {contenido}\\nAutor: {autor}\" \n",
    "    print(informe)\n",
    "\n",
    "generar_informe(titulo=\"Informe Mensual\", contenido=\"Ventas y Proyecciones\", autor = 'yo')"
   ]
  },
  {
   "cell_type": "code",
   "execution_count": 88,
   "id": "df472e76",
   "metadata": {},
   "outputs": [
    {
     "name": "stdout",
     "output_type": "stream",
     "text": [
      "Usuario configurado: {'nombre': 'Carlos', 'email': 'carlos@example.com', 'edad': '30'}\n"
     ]
    }
   ],
   "source": [
    "def configurar_usuario(nombre, email, edad):\n",
    "    usuario = {\"nombre\": nombre, \"email\": email, \"edad\": edad} \n",
    "    return usuario\n",
    "\n",
    "datos = configurar_usuario(nombre=\"Carlos\", email=\"carlos@example.com\", edad = '30')\n",
    "print(\"Usuario configurado:\", datos)"
   ]
  },
  {
   "cell_type": "markdown",
   "id": "881919b7",
   "metadata": {},
   "source": [
    "La frase Argumentos de palabras clave a menudo se abrevia como kwargs en la documentación de Python.\n",
    "\n",
    "### <span style=\"color:darkred\">Argumentos de palabras clave arbitrarias, `**kwargs`</span> \n",
    "\n",
    "Si no sabe cuántos argumentos de palabras clave se pasarán a su función, agregue dos asteriscos: `**antes` del nombre del parámetro en la definición de la función.\n",
    "\n",
    "De esta forma, la función recibirá un diccionario de argumentos y podrá acceder a los elementos en consecuencia, por ejemplo, si se desconoce el número de argumentos de palabras clave, agregue un doble `**antes` del nombre del parámetro:"
   ]
  },
  {
   "cell_type": "code",
   "execution_count": 91,
   "id": "d97c08a8",
   "metadata": {},
   "outputs": [
    {
     "name": "stdout",
     "output_type": "stream",
     "text": [
      "El ultimo nombre esMaría\n"
     ]
    }
   ],
   "source": [
    "def my_function( **kid ):\n",
    "    print('El ultimo nombre es '+ kid['mname'])\n",
    "\n",
    "my_function(fname = 'Juan',mname = 'María', lname = 'Pablo')"
   ]
  },
  {
   "cell_type": "markdown",
   "id": "32bc8258",
   "metadata": {},
   "source": [
    "En este caso, al utilizar **datos al llamar a la función, estamos pasando los elementos del diccionario como argumentos de palabras clave a la función mostrar_informacion."
   ]
  },
  {
   "cell_type": "code",
   "execution_count": 93,
   "id": "3ba6b120",
   "metadata": {},
   "outputs": [
    {
     "name": "stdout",
     "output_type": "stream",
     "text": [
      "Nombre: Ana\n",
      "Edad: 30\n"
     ]
    }
   ],
   "source": [
    "def mostrar_informacion(**kwargs): \n",
    "    if \"nombre\" in kwargs:\n",
    "        print(\"Nombre:\", kwargs[\"nombre\"]) \n",
    "    if \"edad\" in kwargs:\n",
    "        print(\"Edad:\", kwargs[\"edad\"])\n",
    "        \n",
    "datos = {\"nombre\": \"Ana\", \"edad\": 30, \"ciudad\": \"Madrid\"} \n",
    "mostrar_informacion(**datos)"
   ]
  },
  {
   "cell_type": "markdown",
   "id": "a7fc2374",
   "metadata": {},
   "source": [
    "En este ejemplo, la función crear_perfil toma argumentos de palabras clave y crea un diccionario de perfil de usuario."
   ]
  },
  {
   "cell_type": "code",
   "execution_count": 94,
   "id": "66c77c10",
   "metadata": {},
   "outputs": [
    {
     "name": "stdout",
     "output_type": "stream",
     "text": [
      "Perfil de usuario: {'nombre': 'Ana', 'edad': 28, 'ciudad': 'Barcelona'}\n"
     ]
    }
   ],
   "source": [
    "def crear_perfil(**kwargs):\n",
    "    perfil = {}\n",
    "    for clave, valor in kwargs.items():\n",
    "        #    'key'    :  'value'\n",
    "        perfil[clave] = valor\n",
    "    return perfil\n",
    "\n",
    "usuario = crear_perfil(nombre=\"Ana\", edad=28, ciudad=\"Barcelona\")\n",
    "print(\"Perfil de usuario:\", usuario)\n"
   ]
  },
  {
   "cell_type": "code",
   "execution_count": 95,
   "id": "82413a2c",
   "metadata": {},
   "outputs": [
    {
     "name": "stdout",
     "output_type": "stream",
     "text": [
      "Opciones configuradas: {'opcion1': True, 'opcion2': True, 'opcion3': False}\n"
     ]
    }
   ],
   "source": [
    "#Función de Configuración de Opciones\n",
    "\n",
    "def configurar_opciones(**kwargs):\n",
    "    opciones = {\"opcion1\": False, \"opcion2\": True}\n",
    "    opciones.update(kwargs)\n",
    "    return opciones\n",
    "\n",
    "opciones_personalizadas = configurar_opciones(opcion1=True, opcion3=False)\n",
    "print(\"Opciones configuradas:\", opciones_personalizadas)\n"
   ]
  },
  {
   "cell_type": "markdown",
   "id": "0c9c0695",
   "metadata": {},
   "source": [
    "Los argumentos Kword arbitrarios a menudo se reducen a `**kwargs` en la documentación de Python.\n",
    "\n",
    "#### <span style=\"color:darkred\">Valor de parámetro predeterminado</span> \n",
    "\n",
    "El siguiente ejemplo muestra cómo utilizar un valor de parámetro predeterminado. Si llamamos a la función sin argumento, usa el valor predeterminado:"
   ]
  },
  {
   "cell_type": "code",
   "execution_count": 79,
   "id": "6b3ee053",
   "metadata": {},
   "outputs": [
    {
     "name": "stdout",
     "output_type": "stream",
     "text": [
      "Juan Jose Henry Lopez\n"
     ]
    }
   ],
   "source": [
    "def my_funcion(nombre1,nombre2,nombre3,nombre4='Lopez'):\n",
    "    print(nombre1+' '+ nombre2+ ' '+nombre3+' '+nombre4)\n",
    "\n",
    "my_funcion(nombre1='Juan',nombre2='Jose',nombre3='Henry')"
   ]
  },
  {
   "cell_type": "markdown",
   "id": "3be7ea84",
   "metadata": {},
   "source": [
    "\n",
    "#### <span style=\"color:darkred\">Valores devueltos</span>\n",
    "\n",
    "Para permitir que una función devuelva un valor, use la return declaración:\n",
    "\n"
   ]
  },
  {
   "cell_type": "code",
   "execution_count": 97,
   "id": "aa7fc2d9",
   "metadata": {},
   "outputs": [
    {
     "name": "stdout",
     "output_type": "stream",
     "text": [
      "9\n",
      "16\n",
      "25\n"
     ]
    }
   ],
   "source": [
    "def ejemplo(x):\n",
    "    return x**2\n",
    "\n",
    "print(ejemplo(3))\n",
    "print(ejemplo(4))\n",
    "print(ejemplo(5))\n"
   ]
  },
  {
   "cell_type": "markdown",
   "id": "c9035437",
   "metadata": {},
   "source": [
    "#### <span style=\"color:darkred\">La declaración de pase</span> \n",
    "\n",
    "Las definiciones function no pueden estar vacías, pero si por algún motivo tiene una definición function sin contenido, introdúzcala en la declaración pass para evitar que se produzca un error."
   ]
  },
  {
   "cell_type": "code",
   "execution_count": 98,
   "id": "1202554b",
   "metadata": {},
   "outputs": [],
   "source": [
    "def myfunction ():\n",
    "    pass"
   ]
  },
  {
   "cell_type": "markdown",
   "id": "0d971d2f",
   "metadata": {},
   "source": [
    "#### <span style=\"color:darkred\">Recursividad</span> \n",
    "\n",
    "Python también acepta la función recursiva, lo que significa que una función definida puede llamarse a sí misma.\n",
    "    \n",
    "La recursividad es un concepto matemático y de programación común. Significa que una función se llama a sí misma. Esto tiene la ventaja de que puede recorrer los datos para llegar a un resultado.\n",
    "\n",
    "El desarrollador debe tener mucho cuidado con la recursividad, ya que puede ser bastante fácil escribir una función que nunca termina, o una que usa cantidades excesivas de memoria o potencia del procesador. \n",
    "\n",
    "Sin embargo, cuando se escribe correctamente, la recursión puede ser un enfoque de programación muy eficiente y matemáticamente elegante.\n",
    "\n",
    "En este ejemplo, `tri_recursion()` es una función que hemos definido para llamarse a sí misma (\"recursión\"). Usamos la variable k como los datos, que decrementa ( -1 ) cada vez que recursamos. La recursión termina cuando la condición no es mayor que 0 (es decir, cuando es 0).\n",
    "\n",
    "Para un nuevo desarrollador, puede tomar algún tiempo averiguar cómo funciona exactamente esto, la mejor manera de averiguarlo es probándolo y modificándolo.\n",
    "\n",
    "\n",
    "Una función recursiva se compone de dos partes principales:\n",
    "\n",
    "    Caso Base: Es el punto de terminación de la recursión. Es un caso simple que se resuelve directamente sin hacer llamadas adicionales a la función.\n",
    "\n",
    "    Caso Recursivo: Es donde la función se llama a sí misma para resolver un problema más pequeño y similar al problema original. Esta llamada recursiva debe llevar al caso base para que la recursión no sea infinita."
   ]
  },
  {
   "cell_type": "code",
   "execution_count": 101,
   "id": "5056beb3",
   "metadata": {},
   "outputs": [
    {
     "name": "stdout",
     "output_type": "stream",
     "text": [
      "\n",
      "Recursion Example Results\n",
      "1\n",
      "3\n",
      "6\n",
      "10\n"
     ]
    },
    {
     "data": {
      "text/plain": [
       "10"
      ]
     },
     "execution_count": 101,
     "metadata": {},
     "output_type": "execute_result"
    }
   ],
   "source": [
    "def tri_recursion(k):\n",
    "    if(k > 0):\n",
    "        result = k + tri_recursion (k - 1)\n",
    "        print (result)\n",
    "    else:\n",
    "        result = 0\n",
    "    return result\n",
    "\n",
    "print(\"\\nRecursion Example Results\")\n",
    "tri_recursion(4)"
   ]
  },
  {
   "cell_type": "markdown",
   "id": "7da6c0de",
   "metadata": {},
   "source": [
    "En este ejemplo, la función factorial se llama a sí misma con un número más pequeño en cada iteración hasta que se alcanza el caso base (factorial de 0), y luego se calcula el resultado acumulado."
   ]
  },
  {
   "cell_type": "code",
   "execution_count": 106,
   "id": "b7080d0f",
   "metadata": {},
   "outputs": [
    {
     "name": "stdout",
     "output_type": "stream",
     "text": [
      "El factorial de 3 es 6\n"
     ]
    }
   ],
   "source": [
    "# FActorial sin recursividad\n",
    "\n",
    "def factorial_no_recursivo(n):\n",
    "    result = 1\n",
    "    for it in range(1,n + 1):\n",
    "        result *= it\n",
    "    return resultado\n",
    "\n",
    "n = 3\n",
    "print(f'El factorial de {n} es {factorial_no_recursivo(n)}')"
   ]
  },
  {
   "cell_type": "code",
   "execution_count": 109,
   "id": "cdbbd398",
   "metadata": {},
   "outputs": [
    {
     "name": "stdout",
     "output_type": "stream",
     "text": [
      " ->> 3\n",
      "else se llama ella misma\n",
      " ->> 2\n",
      "else se llama ella misma\n",
      " ->> 1\n",
      "else se llama ella misma\n",
      " ->> 0\n",
      "El factorial de 3 es 6\n"
     ]
    }
   ],
   "source": [
    "def factorial(n):\n",
    "    print(\" ->>\",n)\n",
    "    if n == 0:\n",
    "        return 1  # Caso base: factorial de 0 es 1\n",
    "    else:\n",
    "        print('else se llama ella misma')\n",
    "        return n * factorial(n - 1)  # Caso recursivo\n",
    "\n",
    "numero = 3\n",
    "resultado = factorial(numero)\n",
    "\n",
    "print(f\"El factorial de {numero} es {resultado}\")\n"
   ]
  },
  {
   "cell_type": "code",
   "execution_count": 115,
   "id": "0b3eaaeb",
   "metadata": {},
   "outputs": [
    {
     "name": "stdout",
     "output_type": "stream",
     "text": [
      "Lasuma es : 10\n"
     ]
    }
   ],
   "source": [
    "def suma_sin_recursividad(n):\n",
    "    suma = 0\n",
    "    for it in range(1, n + 1):\n",
    "        suma += it\n",
    "    return suma"
   ]
  },
  {
   "cell_type": "code",
   "execution_count": 116,
   "id": "e4cd3113",
   "metadata": {},
   "outputs": [],
   "source": [
    "def suma_recursiva(n):\n",
    "    if n == 1:\n",
    "        return 1\n",
    "    else:\n",
    "        return n + suma_recursiva(n - 1)"
   ]
  },
  {
   "cell_type": "code",
   "execution_count": 117,
   "id": "8a5144d5",
   "metadata": {},
   "outputs": [
    {
     "name": "stdout",
     "output_type": "stream",
     "text": [
      "Lasuma es : 10\n",
      "Lasuma es : 10\n"
     ]
    }
   ],
   "source": [
    "n = 4\n",
    "    \n",
    "print(f'Lasuma es : {suma_sin_recursividad(n)}')    \n",
    "print(f'Lasuma es : {suma_recursiva (n)}')"
   ]
  },
  {
   "cell_type": "markdown",
   "id": "22a59c3e",
   "metadata": {},
   "source": [
    "### <span style=\"color:darkred\">Lambda en Python</span> \n",
    "\n",
    "Una función lambda es una pequeña función anónima. Una función lambda puede tomar cualquier cantidad de argumentos, pero solo puede tener una expresión.\n",
    "\n",
    "`Sintaxis`\n",
    "\n",
    "`lambda arguments : expression`\n",
    "    \n",
    "Se ejecuta la expresión y se devuelve el resultado, por ejemplo: \n",
    "\n",
    "Agregue 10 al argumento a y devuelva el resultado"
   ]
  },
  {
   "cell_type": "code",
   "execution_count": 119,
   "id": "cb8205f3",
   "metadata": {},
   "outputs": [
    {
     "name": "stdout",
     "output_type": "stream",
     "text": [
      "15\n",
      "12\n"
     ]
    }
   ],
   "source": [
    "x = lambda a : a + 10\n",
    "\n",
    "print(x(5))\n",
    "print(x(2))"
   ]
  },
  {
   "cell_type": "markdown",
   "id": "4bcec78a",
   "metadata": {},
   "source": [
    "Dada la función $f(x) = x^2+2x+3$, evalue f(3)"
   ]
  },
  {
   "cell_type": "code",
   "execution_count": 121,
   "id": "d7ff6bef",
   "metadata": {},
   "outputs": [
    {
     "data": {
      "text/plain": [
       "18"
      ]
     },
     "execution_count": 121,
     "metadata": {},
     "output_type": "execute_result"
    }
   ],
   "source": [
    "f = lambda x : x**2 + 2*x +3\n",
    "\n",
    "f(3)"
   ]
  },
  {
   "cell_type": "markdown",
   "id": "3bc3d21f",
   "metadata": {},
   "source": [
    "Las funciones Lambda pueden tomar cualquier cantidad de argumentos, por ejemplo: Multiplique argumento a con argumento b y devuelva el resultado:"
   ]
  },
  {
   "cell_type": "code",
   "execution_count": 122,
   "id": "eb6af493",
   "metadata": {},
   "outputs": [
    {
     "name": "stdout",
     "output_type": "stream",
     "text": [
      "30\n"
     ]
    }
   ],
   "source": [
    "x = lambda a, b : a * b\n",
    "\n",
    "print(x(5, 6))"
   ]
  },
  {
   "cell_type": "markdown",
   "id": "9bbdc54f",
   "metadata": {},
   "source": [
    "Resumir argumento a, b y c y devolver el resultado:"
   ]
  },
  {
   "cell_type": "code",
   "execution_count": 123,
   "id": "3470b2e8",
   "metadata": {},
   "outputs": [
    {
     "name": "stdout",
     "output_type": "stream",
     "text": [
      "13\n"
     ]
    }
   ],
   "source": [
    "x = lambda a, b, c : a + b + c\n",
    "\n",
    "print(x(5, 6, 2))"
   ]
  },
  {
   "cell_type": "markdown",
   "id": "5dcbcdb7",
   "metadata": {},
   "source": [
    "### <span style=\"color:darkred\">¿Por qué utilizar las funciones de Lambda?</span> \n",
    "\n",
    "El poder de lambda se muestra mejor cuando los usa como una función anónima dentro de otra función.\n",
    "\n",
    "Digamos que tiene una definición de función que toma un argumento, y ese argumento se multiplicará con un número desconocido:\n",
    "\n",
    "Las funciones lambda en Python son funciones anónimas y pequeñas que se utilizan para crear funciones simples en una sola línea de código. Aunque las funciones lambda tienen limitaciones en comparación con las funciones definidas con def, todavía tienen varios casos de uso y ventajas:\n",
    "\n",
    "    Sintaxis Concisa: Las funciones lambda tienen una sintaxis muy concisa, lo que las hace adecuadas para definir funciones pequeñas y simples en una sola línea.\n",
    "\n",
    "    Expresiones Cortas: Las funciones lambda son útiles cuando se necesita una función que realice una única operación o expresión matemática.\n",
    "\n",
    "    Funciones de Primera Clase: En Python, las funciones son objetos de primera clase, lo que significa que se pueden pasar como argumentos a otras funciones. Las funciones lambda son convenientes para esto, ya que se pueden definir inmediatamente donde se necesitan.\n",
    "\n",
    "    Funciones de Alta Orden: Las funciones lambda son útiles en combinación con funciones de orden superior, como map(), filter() y sorted(), donde se requiere una función simple para aplicar a una secuencia de elementos.\n",
    "\n",
    "    Reducción de Código: En algunos casos, las funciones lambda pueden reducir la cantidad de código necesario en comparación con la definición de una función completa usando def.\n",
    "\n",
    "    Legibilidad: Las funciones lambda son útiles cuando la función es simple y su nombre no es crítico para la legibilidad del código.\n",
    "\n",
    "    Funciones Anónimas: Las funciones lambda son funciones anónimas, lo que significa que no es necesario asignarles un nombre. Esto es útil cuando se necesita una función temporal y no es necesario reutilizarla en otros lugares.\n",
    "\n",
    "Sin embargo, es importante tener en cuenta que las funciones lambda tienen limitaciones. No pueden contener múltiples expresiones o declaraciones, no pueden tener docstrings (cadenas de documentación) y su uso excesivo en situaciones complejas puede dificultar la legibilidad del código."
   ]
  },
  {
   "cell_type": "code",
   "execution_count": 38,
   "id": "aa0025a3",
   "metadata": {},
   "outputs": [],
   "source": [
    "def myfunc(n):\n",
    "    return lambda a : a * n"
   ]
  },
  {
   "cell_type": "markdown",
   "id": "c311f317",
   "metadata": {},
   "source": [
    "Use esa definición de función para hacer una función que siempre duplique el número que envía:"
   ]
  },
  {
   "cell_type": "code",
   "execution_count": 124,
   "id": "4ab2c20d",
   "metadata": {},
   "outputs": [
    {
     "name": "stdout",
     "output_type": "stream",
     "text": [
      "22\n"
     ]
    }
   ],
   "source": [
    "def myfunc(n) :\n",
    "    return lambda a : a * n\n",
    "\n",
    "mydoubler = myfunc (2)\n",
    "\n",
    "print (mydoubler (11))"
   ]
  },
  {
   "cell_type": "markdown",
   "id": "60dd8cd8",
   "metadata": {},
   "source": [
    "O use la misma definición de función para hacer una función que siempre triplique el número que envía:"
   ]
  },
  {
   "cell_type": "code",
   "execution_count": 125,
   "id": "584248f4",
   "metadata": {},
   "outputs": [
    {
     "name": "stdout",
     "output_type": "stream",
     "text": [
      "33\n"
     ]
    }
   ],
   "source": [
    "def myfunc (n):\n",
    "    return lambda a : a * n\n",
    "\n",
    "mytripler = myfunc (3)\n",
    "print (mytripler (11))"
   ]
  },
  {
   "cell_type": "markdown",
   "id": "6654443e",
   "metadata": {},
   "source": [
    "O use la misma definición de función para hacer ambas funciones, en el mismo programa:"
   ]
  },
  {
   "cell_type": "code",
   "execution_count": 126,
   "id": "e0c18188",
   "metadata": {},
   "outputs": [
    {
     "name": "stdout",
     "output_type": "stream",
     "text": [
      "22\n",
      "33\n"
     ]
    }
   ],
   "source": [
    "def myfunc(n):\n",
    "    return lambda a : a * n\n",
    "\n",
    "mydoubler = myfunc (2)\n",
    "mytripler = myfunc(3)\n",
    "\n",
    "print(mydoubler (11))\n",
    "print(mytripler (11))"
   ]
  },
  {
   "cell_type": "markdown",
   "id": "1e2cd78f",
   "metadata": {},
   "source": [
    "Utilice funciones lambda cuando se requiera una función anónima durante un breve período de tiempo."
   ]
  },
  {
   "cell_type": "code",
   "execution_count": 135,
   "id": "dd3dba6a",
   "metadata": {},
   "outputs": [
    {
     "name": "stdout",
     "output_type": "stream",
     "text": [
      "[676, 676, 764, 242]\n"
     ]
    }
   ],
   "source": [
    "# filtrar listas\n",
    "\n",
    "def filtrado_par(*id_empleados):\n",
    "    return filter(lambda x: x%2 == 0, id_empleados)\n",
    "\n",
    "\n",
    "id_empleados = [341,45, 435, 676, 345,345, 676,764,242]\n",
    "pares = filtrado_par(*id_empleados)\n",
    "print(list(pares))"
   ]
  },
  {
   "cell_type": "markdown",
   "id": "55ef75a8",
   "metadata": {},
   "source": [
    "### Ejemplos de uso de Función Lambda"
   ]
  },
  {
   "cell_type": "code",
   "execution_count": 137,
   "id": "f4ae59ae",
   "metadata": {},
   "outputs": [
    {
     "name": "stdout",
     "output_type": "stream",
     "text": [
      "[(6, 2), (1, 5), (3, 8)]\n"
     ]
    }
   ],
   "source": [
    "#Ejemplo: Función Lambda para Ordenar una Lista de Tuplas por el Segundo Elemento\n",
    "datos = [(3, 8), (1, 5), (6, 2)]\n",
    "ordenado = sorted(datos, key=lambda x: x[1])\n",
    "print(ordenado)  # Salida: [(6, 2), (1, 5), (3, 8)]"
   ]
  },
  {
   "cell_type": "code",
   "execution_count": 138,
   "id": "33bb933c",
   "metadata": {},
   "outputs": [
    {
     "name": "stdout",
     "output_type": "stream",
     "text": [
      "8\n"
     ]
    }
   ],
   "source": [
    "# Ejemplo: Función Lambda para Elevar un Número a una Potencia Dada\n",
    "potencia = lambda x, n: x ** n\n",
    "resultado = potencia(2, 3)\n",
    "print(resultado)  # Salida: 8"
   ]
  },
  {
   "cell_type": "code",
   "execution_count": 139,
   "id": "f94f0d73",
   "metadata": {},
   "outputs": [
    {
     "name": "stdout",
     "output_type": "stream",
     "text": [
      "12\n"
     ]
    }
   ],
   "source": [
    "# Ejemplo: Función Lambda para Encontrar el Máximo de Dos Números\n",
    "maximo = lambda x, y: x if x > y else y\n",
    "resultado = maximo(7, 12)\n",
    "print(resultado)  # Salida: 12"
   ]
  },
  {
   "cell_type": "code",
   "execution_count": 140,
   "id": "48808328",
   "metadata": {},
   "outputs": [
    {
     "name": "stdout",
     "output_type": "stream",
     "text": [
      "nohtyP\n"
     ]
    }
   ],
   "source": [
    "#Ejemplo: Función Lambda para Revertir una Cadena\n",
    "\n",
    "reversa = lambda cadena: cadena[::-1]\n",
    "resultado = reversa(\"Python\")\n",
    "print(resultado)  # Salida: \"nohtyP\"\n"
   ]
  },
  {
   "cell_type": "code",
   "execution_count": 141,
   "id": "8172ef96",
   "metadata": {},
   "outputs": [
    {
     "name": "stdout",
     "output_type": "stream",
     "text": [
      "27\n"
     ]
    }
   ],
   "source": [
    "#Ejemplo: Función Lambda para Realizar una Operación Matemática Compleja\n",
    "operacion = lambda x, y: (x ** 2) + (2 * y) - 3\n",
    "resultado = operacion(4, 7)\n",
    "print(resultado)  # Salida: 45"
   ]
  },
  {
   "cell_type": "code",
   "execution_count": 142,
   "id": "50938bee",
   "metadata": {},
   "outputs": [
    {
     "name": "stdout",
     "output_type": "stream",
     "text": [
      "[2, 4, 6, 8, 10]\n"
     ]
    }
   ],
   "source": [
    "#Ejemplo: Función Lambda para Generar Secuencia de Números Pares\n",
    "secuencia_pares = lambda n: [i for i in range(2, n*2 + 1, 2)]\n",
    "num_elementos = 5\n",
    "pares = secuencia_pares(num_elementos)\n",
    "print(pares)  # Salida: [2, 4, 6, 8, 10]"
   ]
  },
  {
   "cell_type": "markdown",
   "id": "50c545d0",
   "metadata": {},
   "source": [
    "### <span style=\"color:darkorange\">Aplicando Conocimientos</span>  \n",
    "\n",
    "1.\tSuma de dos números:\n",
    "\n",
    "Escribe una función llamada suma que tome dos números como argumentos y devuelva su suma. Luego, escribe un programa que pida al usuario dos números, los pase a la función suma y muestre el resultado.\n",
    "\n",
    "2.\tCalcular el área de un triángulo:\n",
    "\n",
    "Escribe una función llamada area_triangulo que tome la base y la altura de un triángulo como argumentos y devuelva su área. Luego, escribe un programa que pida al usuario la base y la altura de un triángulo, pase estos valores a la función area_triangulo y muestre el resultado.\n",
    "\n",
    "3.\tConvertir grados Celsius a Fahrenheit:\n",
    "\n",
    "Escribe una función llamada celsius_a_fahrenheit que tome una temperatura en grados Celsius como argumento y la convierta a grados Fahrenheit. \n",
    "\n",
    "La fórmula para convertir grados Celsius a Fahrenheit es F = (9/5 * C) + 32. Luego, escribe un programa que pida al usuario una temperatura en grados Celsius, pase este valor a la función celsius_a_fahrenheit y muestre el resultado.\n",
    "\n"
   ]
  }
 ],
 "metadata": {
  "kernelspec": {
   "display_name": "Python 3 (ipykernel)",
   "language": "python",
   "name": "python3"
  },
  "language_info": {
   "codemirror_mode": {
    "name": "ipython",
    "version": 3
   },
   "file_extension": ".py",
   "mimetype": "text/x-python",
   "name": "python",
   "nbconvert_exporter": "python",
   "pygments_lexer": "ipython3",
   "version": "3.9.12"
  }
 },
 "nbformat": 4,
 "nbformat_minor": 5
}
