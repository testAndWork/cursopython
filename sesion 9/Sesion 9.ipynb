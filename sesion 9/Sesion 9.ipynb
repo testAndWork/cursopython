{
 "cells": [
  {
   "attachments": {},
   "cell_type": "markdown",
   "id": "9c8c537c",
   "metadata": {},
   "source": [
    "# <span style=\"color:darkblue\">Módulo 1 - Introducción a la programación con Python </span>\n",
    "\n",
    "## <span style=\"color:darkblue\">Sesión 9 – Módulos en Python</span>\n",
    "\n",
    "### <span style=\"color:darkblue\">Duración estimada:\t4 horas</span>\n",
    "\n",
    "#### <span style=\"color:darkblue\">En marco del proyecto: “EMPLEO JOVEN ES”</span>"
   ]
  },
  {
   "cell_type": "markdown",
   "id": "42a8be22",
   "metadata": {},
   "source": [
    "## <span style=\"color:darkblue\"> Tabla de contenidos:</span>\n",
    " \n",
    "    1- Bienvenida\n",
    "    \n",
    "    2- Asistencia\n",
    "    \n",
    "    3- Dudas de la Clase anterior\n",
    "    \n",
    "    4- Control de Lectura\n",
    "    \n",
    "    5- Objetivo\n",
    "    \n",
    "    6- Introducción\n",
    "    \n",
    "    7- Aprendamos\n",
    "\n",
    "    8- Crear un módulo\n",
    "    \n",
    "    9- Usar un módulo\n",
    "    \n",
    "    10- Variables en un módulo\n",
    "    \n",
    "    11- Nombrar un Módulo y uso de alias\n",
    "    \n",
    "    12- Módulos Intregrados\n",
    "    \n",
    "    13- Usando la función `dir( )`\t\n",
    "    \n",
    "    14- Importar desde Módulo\t\n",
    "    \n",
    "    15-  Aplicando Conocimientos\t\n",
    "\n",
    "    16- Retroalimentación\n",
    "    \n",
    "    17- Asistencia\n"
   ]
  },
  {
   "cell_type": "markdown",
   "id": "51ae1b4d",
   "metadata": {},
   "source": [
    "## <span style=\"color:darkred\">Objetivo:</span>\n",
    "\n",
    "Comprender como poder aprovechar la funcionalidad que ofrecen para simplificar y mejorar el proceso de desarrollo de software. Un módulo es básicamente un archivo que contiene código Python, el cual puede ser utilizado en otros programas mediante la importación de este.\n",
    "\n",
    "### <span style=\"color:darkred\">Recursos</span>\n",
    "\n",
    "•\tSesión 9 de Curso de Python\n",
    "\n",
    "•\tComputadora con Python instalado\n",
    "\n",
    "•\tVisual Studio Code instalado\n",
    "\n",
    "\n",
    "\n",
    "\n",
    "### <span style=\"color:darkred\">Introducción:</span>\n",
    "\n",
    "Los módulos en Python proporcionan una forma eficiente y organizada de encapsular y reutilizar el código. Al utilizar módulos, se puede evitar tener que escribir código repetitivo y mejorar la legibilidad del código. Además, los módulos pueden ser compartidos entre diferentes programas y desarrolladores, lo que facilita la colaboración y reduce el tiempo de desarrollo.\n",
    "\n",
    "Python cuenta con una amplia variedad de módulos predefinidos que cubren una amplia gama de tareas, como la manipulación de archivos, el procesamiento de datos, la creación de interfaces gráficas de usuario, entre otros. Además, los desarrolladores pueden crear sus propios módulos personalizados para satisfacer sus necesidades específicas.\n",
    "\n",
    "\n",
    "### <span style=\"color:darkred\">Aprendamos </span>\n",
    "\n",
    "#### <span style=\"color:darkred\">¿Qué es un Módulo?</span>\n",
    "\n",
    "* Considere que un módulo es lo mismo que una biblioteca de código. \n",
    "\n",
    "* Un archivo que contiene un conjunto de funciones que desea incluir en su aplicación. \n",
    "\n",
    "* A los módulos también se les puede conocer como librería de Python. \n"
   ]
  },
  {
   "cell_type": "markdown",
   "id": "6bc551e5",
   "metadata": {},
   "source": [
    "## Repaso (8 min): nombreApellidoSesion9.py\n",
    "\n"
   ]
  },
  {
   "attachments": {},
   "cell_type": "markdown",
   "id": "dae5ab9c",
   "metadata": {},
   "source": [
    "## <span style=\"color:darkred\">Crear un Módulo</span>\n",
    "\n",
    "Para crear un módulo, simplemente guarde el código que desee en un archivo con la extensión de archivo `.py`, ejemplo: Guarde este código en un archivo llamado `mymodule.py`"
   ]
  },
  {
   "cell_type": "code",
   "execution_count": null,
   "id": "08d8c795",
   "metadata": {},
   "outputs": [],
   "source": [
    "def greeting (name):\n",
    "    print (\"Hello, \" + name)"
   ]
  },
  {
   "cell_type": "code",
   "execution_count": 4,
   "id": "d04edbd9",
   "metadata": {},
   "outputs": [
    {
     "name": "stdout",
     "output_type": "stream",
     "text": [
      "Hello, jose\n"
     ]
    }
   ],
   "source": [
    "greeting('jose')\n"
   ]
  },
  {
   "cell_type": "markdown",
   "id": "ad6c80a5",
   "metadata": {},
   "source": [
    "### MODULOS BUILT IN EN Python "
   ]
  },
  {
   "cell_type": "code",
   "execution_count": 7,
   "id": "ebd683ca",
   "metadata": {},
   "outputs": [
    {
     "name": "stdout",
     "output_type": "stream",
     "text": [
      "La raiz cuadrada es : 2.0\n"
     ]
    }
   ],
   "source": [
    "import math \n",
    "\n",
    "raiz = math.sqrt(4)\n",
    "print('La raiz cuadrada es :' ,raiz)"
   ]
  },
  {
   "cell_type": "code",
   "execution_count": 8,
   "id": "0afc4058",
   "metadata": {},
   "outputs": [
    {
     "name": "stdout",
     "output_type": "stream",
     "text": [
      "9.0\n"
     ]
    }
   ],
   "source": [
    "print(math.pow(3,2))"
   ]
  },
  {
   "cell_type": "code",
   "execution_count": 9,
   "id": "09a0a5a8",
   "metadata": {},
   "outputs": [
    {
     "name": "stdout",
     "output_type": "stream",
     "text": [
      "3.141592653589793\n"
     ]
    }
   ],
   "source": [
    "print(math.pi)"
   ]
  },
  {
   "cell_type": "code",
   "execution_count": 10,
   "id": "9df5c82a",
   "metadata": {},
   "outputs": [
    {
     "name": "stdout",
     "output_type": "stream",
     "text": [
      "1.3010299956639813\n"
     ]
    }
   ],
   "source": [
    "print(math.log10(20))"
   ]
  },
  {
   "cell_type": "markdown",
   "id": "a8d6227f",
   "metadata": {},
   "source": [
    "## Otra Forma de llamar a los Módulos"
   ]
  },
  {
   "cell_type": "code",
   "execution_count": 11,
   "id": "8b347b6d",
   "metadata": {},
   "outputs": [],
   "source": [
    "from math import pi, e, sqrt, pow"
   ]
  },
  {
   "cell_type": "code",
   "execution_count": 14,
   "id": "a4c80b0e",
   "metadata": {},
   "outputs": [
    {
     "data": {
      "text/plain": [
       "2.718281828459045"
      ]
     },
     "execution_count": 14,
     "metadata": {},
     "output_type": "execute_result"
    }
   ],
   "source": [
    "e"
   ]
  },
  {
   "cell_type": "code",
   "execution_count": 15,
   "id": "e39c2b21",
   "metadata": {},
   "outputs": [
    {
     "data": {
      "text/plain": [
       "2.0"
      ]
     },
     "execution_count": 15,
     "metadata": {},
     "output_type": "execute_result"
    }
   ],
   "source": [
    "sqrt(4)"
   ]
  },
  {
   "cell_type": "code",
   "execution_count": 16,
   "id": "406a644d",
   "metadata": {},
   "outputs": [],
   "source": [
    "from statistics import *"
   ]
  },
  {
   "cell_type": "code",
   "execution_count": 17,
   "id": "b40e4b6a",
   "metadata": {},
   "outputs": [
    {
     "name": "stdout",
     "output_type": "stream",
     "text": [
      "28.2\n"
     ]
    }
   ],
   "source": [
    "ages = [ 30, 25, 40, 20, 26]\n",
    "\n",
    "print(mean(ages))"
   ]
  },
  {
   "cell_type": "code",
   "execution_count": 18,
   "id": "8ba0e07a",
   "metadata": {},
   "outputs": [
    {
     "name": "stdout",
     "output_type": "stream",
     "text": [
      "7.496665925596525\n"
     ]
    }
   ],
   "source": [
    "print(stdev(ages))"
   ]
  },
  {
   "cell_type": "code",
   "execution_count": 19,
   "id": "02307f73",
   "metadata": {},
   "outputs": [
    {
     "name": "stdout",
     "output_type": "stream",
     "text": [
      "0.07040742890533747\n"
     ]
    }
   ],
   "source": [
    "from random import random, randint\n",
    "\n",
    "print(random())"
   ]
  },
  {
   "cell_type": "code",
   "execution_count": 20,
   "id": "8a743c34",
   "metadata": {},
   "outputs": [
    {
     "name": "stdout",
     "output_type": "stream",
     "text": [
      "6\n"
     ]
    }
   ],
   "source": [
    "print(randint(1, 9))"
   ]
  },
  {
   "cell_type": "code",
   "execution_count": null,
   "id": "9252ddf6",
   "metadata": {},
   "outputs": [],
   "source": []
  },
  {
   "cell_type": "code",
   "execution_count": null,
   "id": "ec6add65",
   "metadata": {},
   "outputs": [],
   "source": []
  },
  {
   "cell_type": "code",
   "execution_count": null,
   "id": "8ac845d4",
   "metadata": {},
   "outputs": [],
   "source": []
  },
  {
   "cell_type": "code",
   "execution_count": null,
   "id": "fcbd8e99",
   "metadata": {},
   "outputs": [],
   "source": []
  },
  {
   "attachments": {},
   "cell_type": "markdown",
   "id": "21c3cfa1",
   "metadata": {},
   "source": [
    "### <span style=\"color:darkred\">Usar un módulo</span>\n",
    "\n",
    "Para llamar a una función, use el nombre de la función seguido de paréntesis:"
   ]
  },
  {
   "cell_type": "code",
   "execution_count": 2,
   "id": "667a2f3b",
   "metadata": {},
   "outputs": [
    {
     "ename": "ModuleNotFoundError",
     "evalue": "No module named 'mymodule'",
     "output_type": "error",
     "traceback": [
      "\u001b[0;31m---------------------------------------------------------------------------\u001b[0m",
      "\u001b[0;31mModuleNotFoundError\u001b[0m                       Traceback (most recent call last)",
      "\u001b[1;32m/Users/bltzkrg/Documents/Courses/Formación/Modulo 1/sesion 9/Sesion 9.ipynb Cell 8\u001b[0m in \u001b[0;36m<module>\u001b[0;34m\u001b[0m\n\u001b[0;32m----> <a href='vscode-notebook-cell:/Users/bltzkrg/Documents/Courses/Formaci%C3%B3n/Modulo%201/sesion%209/Sesion%209.ipynb#X10sZmlsZQ%3D%3D?line=0'>1</a>\u001b[0m \u001b[39mimport\u001b[39;00m \u001b[39mmymodule\u001b[39;00m\n\u001b[1;32m      <a href='vscode-notebook-cell:/Users/bltzkrg/Documents/Courses/Formaci%C3%B3n/Modulo%201/sesion%209/Sesion%209.ipynb#X10sZmlsZQ%3D%3D?line=2'>3</a>\u001b[0m mymodule\u001b[39m.\u001b[39mgreeting(\u001b[39m'\u001b[39m\u001b[39m Mundo\u001b[39m\u001b[39m'\u001b[39m)\n",
      "\u001b[0;31mModuleNotFoundError\u001b[0m: No module named 'mymodule'"
     ]
    }
   ],
   "source": [
    "import librarys.mymodule as mymodule\n",
    "\n",
    "mymodule.greeting(' Mundo')"
   ]
  },
  {
   "attachments": {},
   "cell_type": "markdown",
   "id": "76037a41",
   "metadata": {},
   "source": [
    "### <span style=\"color:darkred\">Variables en Módulo</span>\n",
    "\n",
    "El módulo puede contener funciones, como ya se ha descrito, pero también variables de todo tipo (matrices, diccionarios, objetos, etc.):\n",
    "\n",
    "Guarda este código en el archivo `mymodule.py`"
   ]
  },
  {
   "cell_type": "code",
   "execution_count": null,
   "id": "d3514b16",
   "metadata": {},
   "outputs": [],
   "source": [
    "import librarys.mymodule as mymodule\n",
    "\n",
    "a = mymodule.person1['age']"
   ]
  },
  {
   "attachments": {},
   "cell_type": "markdown",
   "id": "76faa5e7",
   "metadata": {},
   "source": [
    "### <span style=\"color:darkred\">Nombrar un módulo y uso de alias</span>\n",
    "\n",
    "Puede nombrar el archivo del módulo como desee, pero debe tener la extensión de archivo `.py`\n",
    "Puede crear un alias cuando importa un módulo, utilizando la palabra clave `as`:\n",
    "Crea un alias para mymodule llamado `mx`:"
   ]
  },
  {
   "cell_type": "code",
   "execution_count": null,
   "id": "99efaf5e",
   "metadata": {},
   "outputs": [],
   "source": [
    "import librarys.mymodule as mx\n",
    "a = mx.person1 [\"age\"]\n",
    "print(a)"
   ]
  },
  {
   "cell_type": "code",
   "execution_count": null,
   "id": "6385ffd2",
   "metadata": {},
   "outputs": [],
   "source": []
  },
  {
   "cell_type": "markdown",
   "id": "3844ccc8",
   "metadata": {},
   "source": [
    "En este ejemplo, la función suma espera dos parámetros (a y b), y al llamarla con suma(5, 3), proporcionamos dos argumentos (5 y 3)."
   ]
  },
  {
   "cell_type": "code",
   "execution_count": 2,
   "id": "a50280a7",
   "metadata": {},
   "outputs": [
    {
     "name": "stdout",
     "output_type": "stream",
     "text": [
      "9\n"
     ]
    }
   ],
   "source": [
    "import  librarys.mymodule as mymodule\n",
    "\n",
    "print(mymodule.sumar(4,5))\n"
   ]
  },
  {
   "cell_type": "markdown",
   "id": "7063f142",
   "metadata": {},
   "source": [
    "Si intenta llamar a la función con 1 o 3 argumentos, obtendrá un error, en el ejemplo de a continuación Esta función espera 2 argumentos, pero solo obtiene 1:"
   ]
  },
  {
   "cell_type": "code",
   "execution_count": null,
   "id": "d0b132d6",
   "metadata": {},
   "outputs": [],
   "source": [
    "def my_function(nombre1, nombre2):\n",
    "    print(nombre1 + ' ' + nombre2)\n",
    "\n",
    "my_function('Juan')"
   ]
  },
  {
   "cell_type": "markdown",
   "id": "f06b5c8f",
   "metadata": {},
   "source": [
    "### Algunos ejemplos"
   ]
  },
  {
   "cell_type": "code",
   "execution_count": null,
   "id": "575e0ec2",
   "metadata": {},
   "outputs": [],
   "source": [
    "# Ejemplo 1 : Función para calcular el area de un rectángulo\n",
    "\n",
    "def area_rectangulo(base, altura):\n",
    "    return base * altura\n",
    "\n",
    "area = area_rectangulo(4,5)\n",
    "\n",
    "print('El area de un rectángulo es', area)"
   ]
  },
  {
   "cell_type": "code",
   "execution_count": null,
   "id": "613e36a0",
   "metadata": {},
   "outputs": [],
   "source": [
    "# Ejemplo 2: Funcion para imprimir una lista \n",
    "\n",
    "def imprimir_lista(lista):\n",
    "    for it in lista:\n",
    "        print(it)\n",
    "\n",
    "lst = [1, 2, 'hola']\n",
    "\n",
    "imprimir_lista(lst)\n",
    "\n",
    "lst = [1, 2.0, 6]\n",
    "\n",
    "imprimir_lista(lst)"
   ]
  },
  {
   "cell_type": "code",
   "execution_count": null,
   "id": "531cfddd",
   "metadata": {},
   "outputs": [],
   "source": [
    "# Ejemplo 3: Funcion para verificar si un número es par.\n",
    "\n",
    "def es_par(numero):\n",
    "    if numero % 2 == 0:\n",
    "        return True\n",
    "    else:\n",
    "        return False\n"
   ]
  },
  {
   "cell_type": "code",
   "execution_count": null,
   "id": "423afc41",
   "metadata": {},
   "outputs": [],
   "source": [
    "num = 5\n",
    "\n",
    "\n",
    "if es_par(num):\n",
    "    print('El número es par')\n",
    "else:\n",
    "    print('El numero es impar')"
   ]
  },
  {
   "cell_type": "code",
   "execution_count": null,
   "id": "82c8cbc9",
   "metadata": {},
   "outputs": [],
   "source": [
    "# Ejemplo 4: FUnción que regresa una lista de numeros pares\n",
    "\n",
    "def lista_pares(n):\n",
    "    lstPares = []\n",
    "    for it in range(n + 1):\n",
    "        if it % 2 == 0:\n",
    "            lstPares.append(it)\n",
    "    return lstPares\n",
    "\n",
    "\n",
    "print(lista_pares(20))"
   ]
  },
  {
   "cell_type": "code",
   "execution_count": null,
   "id": "72046ef6",
   "metadata": {},
   "outputs": [],
   "source": [
    "# Importando lo necesario para los cálculos\n",
    "import matplotlib.pyplot as plt\n",
    "from numpy import sqrt \n",
    "from numpy import meshgrid\n",
    "from numpy import arange\n",
    "\n",
    "\n",
    "# Graficando la ecuación de Batman.\n",
    "xs = arange(-7.25, 7.25, 0.01)\n",
    "ys = arange(-5, 5, 0.01)\n",
    "x, y = meshgrid(xs, ys)\n",
    "\n",
    "eq1 = ((x/7)**2*sqrt(abs(abs(x)-3)/(abs(x)-3))+(y/3)**2*sqrt(abs(y+3/7*sqrt(33))/(y+3/7*sqrt(33)))-1)\n",
    "eq2 = (abs(x/2)-((3*sqrt(33)-7)/112)*x**2-3+sqrt(1-(abs(abs(x)-2)-1)**2)-y)\n",
    "eq3 = (9*sqrt(abs((abs(x)-1)*(abs(x)-.75))/((1-abs(x))*(abs(x)-.75)))-8*abs(x)-y)\n",
    "eq4 = (3*abs(x)+.75*sqrt(abs((abs(x)-.75)*(abs(x)-.5))/((.75-abs(x))*(abs(x)-.5)))-y)\n",
    "eq5 = (2.25*sqrt(abs((x-.5)*(x+.5))/((.5-x)*(.5+x)))-y)\n",
    "eq6 = (6*sqrt(10)/7+(1.5-.5*abs(x))*sqrt(abs(abs(x)-1)/(abs(x)-1))-(6*sqrt(10)/14)*sqrt(4-(abs(x)-1)**2)-y)\n",
    "\n",
    "for f, c in [(eq1, \"red\"), (eq2, \"purple\"), (eq3, \"green\"),\n",
    "             (eq4, \"blue\"), (eq5, \"orange\"), (eq6, \"black\")]:\n",
    "    plt.contour(x, y, f, [0], colors=c)\n",
    "\n",
    "plt.show()"
   ]
  },
  {
   "cell_type": "markdown",
   "id": "5a1e1cdb",
   "metadata": {},
   "source": [
    "### <span style=\"color:darkred\">Argumentos arbitrarios, `*args`</span>\n",
    "\n",
    "Si no sabe cuántos argumentos se pasarán a su función, agregue un `*antes` del nombre del parámetro en la definición de la función.\n",
    "\n",
    "De esta manera, la función recibirá una tupla de argumentos y podrá acceder a los elementos en consecuencia, por ejemplo: \n",
    "\n",
    "    Si se desconoce el número de argumentos, agregue un *antes del nombre del parámetro:\n"
   ]
  },
  {
   "cell_type": "code",
   "execution_count": null,
   "id": "b641c5d8",
   "metadata": {},
   "outputs": [],
   "source": [
    "def my_function(*nombre):\n",
    "    print('El nombre es '+ nombre[1])\n",
    "\n",
    "my_function('Juan', 'Mario', 'Pablo')"
   ]
  },
  {
   "cell_type": "markdown",
   "id": "fe7a8637",
   "metadata": {},
   "source": [
    "En este ejemplo, la función `mprimir_argumentos` acepta cualquier número de argumentos y los imprime uno por uno. \n",
    "\n",
    "Cuando llamamos a la función con `imprimir_argumentos(\"Hola\", \"Mundo\", 1, 2, 3)`, los argumentos se agrupan en una tupla args y la función los recorre y los imprime."
   ]
  },
  {
   "cell_type": "code",
   "execution_count": null,
   "id": "787cc0a9",
   "metadata": {},
   "outputs": [],
   "source": [
    "def imprimir_argumentos(*args):\n",
    "    for arg in args:\n",
    "        print(arg)\n",
    "        \n",
    "imprimir_argumentos(1,2,3, 'Hola', 'Mundo',['a','b'])"
   ]
  },
  {
   "cell_type": "markdown",
   "id": "06cd76c7",
   "metadata": {},
   "source": [
    "Otro uso común de *args es cuando se desea pasar una lista (u otra colección) como argumentos individuales a una función:\n",
    "\n",
    "En este caso, al utilizar *numeros al llamar a la función, estamos desempaquetando la lista y pasando sus elementos como argumentos individuales a la función suma.\n",
    "\n",
    "El uso de *args permite una flexibilidad considerable en el diseño de funciones que pueden manejar diferentes cantidades de argumentos de manera eficiente."
   ]
  },
  {
   "cell_type": "code",
   "execution_count": null,
   "id": "86135285",
   "metadata": {},
   "outputs": [],
   "source": [
    "def prom_notas(*notas):\n",
    "    totalNotas = 0\n",
    "    for nota in notas:\n",
    "        totalNotas += int(nota)\n",
    "    promedio = totalNotas/len(notas)\n",
    "    return promedio\n",
    "\n",
    "notass = [6, 7, 8, 9, 6, 9, 8, 10]\n",
    "\n",
    "promedioFinal = prom_notas(*notass)\n",
    "\n",
    "print(round(promedioFinal,1))"
   ]
  },
  {
   "cell_type": "markdown",
   "id": "0de87397",
   "metadata": {},
   "source": [
    "Aquí, la función `concatenar` toma una tupla de frutas como argumentos y utiliza el método `join()` para unir las frutas en una cadena."
   ]
  },
  {
   "cell_type": "code",
   "execution_count": null,
   "id": "976a95e7",
   "metadata": {},
   "outputs": [],
   "source": [
    "def concatenar(*args):\n",
    "    resultado = \" \".join(args)\n",
    "    return resultado\n",
    "\n",
    "frutas = 'guineo', 'naranja', 'limon', 'agua'\n",
    "\n",
    "mixFrutas = concatenar(*frutas)\n",
    "print('Mix de Frutas: ', mixFrutas)"
   ]
  },
  {
   "cell_type": "markdown",
   "id": "a1951e11",
   "metadata": {},
   "source": [
    "La función `media_aritmetica` calcula la media aritmética de una serie de números utilizando los argumentos pasados y luego devuelve el resultado."
   ]
  },
  {
   "cell_type": "code",
   "execution_count": null,
   "id": "2464b6e9",
   "metadata": {},
   "outputs": [],
   "source": [
    "def media_aritmetica(*args):\n",
    "    total = sum(args)\n",
    "    cantidad = len(args)\n",
    "    media = total/cantidad\n",
    "    return media\n",
    "\n",
    "notass = [6, 7, 8, 9, 6, 9, 8, 10]\n",
    "\n",
    "promedioFinal = media_aritmetica(*notass)\n",
    "\n",
    "print('El promedio es : ',round(promedioFinal,1))\n"
   ]
  },
  {
   "cell_type": "markdown",
   "id": "e30afd5e",
   "metadata": {},
   "source": [
    "Esta función producto calcula el producto de una lista de números pasados como argumentos.\n",
    "\n",
    "$$\\prod args(i)$$"
   ]
  },
  {
   "cell_type": "code",
   "execution_count": null,
   "id": "0c4918b7",
   "metadata": {},
   "outputs": [],
   "source": [
    "def productoria(*args):\n",
    "    producto = 1\n",
    "    for it in args:\n",
    "        producto *= it\n",
    "    return producto\n",
    "\n",
    "numeros = [ 1,3,4,5,6,7]\n",
    "\n",
    "totalMultiplicacion = productoria(*numeros)\n",
    "\n",
    "print('El total es : ', totalMultiplicacion)"
   ]
  },
  {
   "cell_type": "markdown",
   "id": "a87612e3",
   "metadata": {},
   "source": [
    "Los argumentos arbitrarios a menudo se abrevian a `*args` en la documentación de Python.\n",
    "\n",
    "### <span style=\"color:darkred\">Argumentos de palabras clave</span>\n",
    "\n",
    "También puede enviar argumentos con la sintaxis clave = valor. De esta manera el orden de los argumentos no importa.\n"
   ]
  },
  {
   "cell_type": "code",
   "execution_count": null,
   "id": "9c312d31",
   "metadata": {},
   "outputs": [],
   "source": [
    "def my_function(nombre1, nombre2, nombre3):\n",
    "    print(nombre1 + ' ' + nombre2+ \" \"+ nombre3)\n",
    "\n",
    "my_function(nombre1 ='Juan', nombre2 = 'Pablo', nombre3 = 'José')"
   ]
  },
  {
   "cell_type": "markdown",
   "id": "2a1a05b8",
   "metadata": {},
   "source": [
    "En este caso, la función generar_informe acepta tres argumentos de palabras clave, lo que facilita identificar qué valor se refiere a qué parte del informe."
   ]
  },
  {
   "cell_type": "code",
   "execution_count": null,
   "id": "b2d9466e",
   "metadata": {},
   "outputs": [],
   "source": [
    "def saludar(nombre, mensaje): \n",
    "    print(f\"{mensaje}, {nombre}!\")\n",
    "    \n",
    "saludar(nombre=\"Juan\", mensaje=\"Hola\") \n",
    "saludar(mensaje=\"¡Bienvenido\", nombre=\"Ana\")"
   ]
  },
  {
   "cell_type": "code",
   "execution_count": null,
   "id": "5102aae3",
   "metadata": {},
   "outputs": [],
   "source": [
    "def my_funcion(nombre1,nombre2,nombre3,nombre4='Lopez'):\n",
    "    print(nombre1+' '+ nombre2+ ' '+nombre3+' '+nombre4)\n",
    "\n",
    "my_funcion(nombre1='Juan',nombre2='Jose',nombre3='Henry')"
   ]
  },
  {
   "cell_type": "markdown",
   "id": "470ed723",
   "metadata": {},
   "source": [
    "Esta función configurar_usuario utiliza argumentos de palabras clave para crear un diccionario que almacena la información del usuario. Esto facilita entender qué valor se asigna a cada clave en el diccionario."
   ]
  },
  {
   "cell_type": "code",
   "execution_count": null,
   "id": "6eec6118",
   "metadata": {},
   "outputs": [],
   "source": [
    "def generar_informe(titulo, contenido, autor):\n",
    "    informe = f\"Titulo: {titulo}\\nContenido: {contenido}\\nAutor: {autor}\" \n",
    "    print(informe)\n",
    "\n",
    "generar_informe(titulo=\"Informe Mensual\", contenido=\"Ventas y Proyecciones\", autor = 'yo')"
   ]
  },
  {
   "cell_type": "code",
   "execution_count": null,
   "id": "df472e76",
   "metadata": {},
   "outputs": [],
   "source": [
    "def configurar_usuario(nombre, email, edad):\n",
    "    usuario = {\"nombre\": nombre, \"email\": email, \"edad\": edad} \n",
    "    return usuario\n",
    "\n",
    "datos = configurar_usuario(nombre=\"Carlos\", email=\"carlos@example.com\", edad = '30')\n",
    "print(\"Usuario configurado:\", datos)"
   ]
  },
  {
   "cell_type": "markdown",
   "id": "881919b7",
   "metadata": {},
   "source": [
    "La frase Argumentos de palabras clave a menudo se abrevia como kwargs en la documentación de Python.\n",
    "\n",
    "### <span style=\"color:darkred\">Argumentos de palabras clave arbitrarias, `**kwargs`</span> \n",
    "\n",
    "Si no sabe cuántos argumentos de palabras clave se pasarán a su función, agregue dos asteriscos: `**antes` del nombre del parámetro en la definición de la función.\n",
    "\n",
    "De esta forma, la función recibirá un diccionario de argumentos y podrá acceder a los elementos en consecuencia, por ejemplo, si se desconoce el número de argumentos de palabras clave, agregue un doble `**antes` del nombre del parámetro:"
   ]
  },
  {
   "cell_type": "code",
   "execution_count": null,
   "id": "d97c08a8",
   "metadata": {},
   "outputs": [],
   "source": [
    "def my_function( **kid ):\n",
    "    print('El ultimo nombre es '+ kid['mname'])\n",
    "\n",
    "my_function(fname = 'Juan',mname = 'María', lname = 'Pablo')"
   ]
  },
  {
   "cell_type": "markdown",
   "id": "32bc8258",
   "metadata": {},
   "source": [
    "En este caso, al utilizar **datos al llamar a la función, estamos pasando los elementos del diccionario como argumentos de palabras clave a la función mostrar_informacion."
   ]
  },
  {
   "cell_type": "code",
   "execution_count": null,
   "id": "3ba6b120",
   "metadata": {},
   "outputs": [],
   "source": [
    "def mostrar_informacion(**kwargs): \n",
    "    if \"nombre\" in kwargs:\n",
    "        print(\"Nombre:\", kwargs[\"nombre\"]) \n",
    "    if \"edad\" in kwargs:\n",
    "        print(\"Edad:\", kwargs[\"edad\"])\n",
    "        \n",
    "datos = {\"nombre\": \"Ana\", \"edad\": 30, \"ciudad\": \"Madrid\"} \n",
    "mostrar_informacion(**datos)"
   ]
  },
  {
   "cell_type": "markdown",
   "id": "a7fc2374",
   "metadata": {},
   "source": [
    "En este ejemplo, la función crear_perfil toma argumentos de palabras clave y crea un diccionario de perfil de usuario."
   ]
  },
  {
   "cell_type": "code",
   "execution_count": null,
   "id": "66c77c10",
   "metadata": {},
   "outputs": [],
   "source": [
    "def crear_perfil(**kwargs):\n",
    "    perfil = {}\n",
    "    for clave, valor in kwargs.items():\n",
    "        #    'key'    :  'value'\n",
    "        perfil[clave] = valor\n",
    "    return perfil\n",
    "\n",
    "usuario = crear_perfil(nombre=\"Ana\", edad=28, ciudad=\"Barcelona\")\n",
    "print(\"Perfil de usuario:\", usuario)\n"
   ]
  },
  {
   "cell_type": "code",
   "execution_count": null,
   "id": "82413a2c",
   "metadata": {},
   "outputs": [],
   "source": [
    "#Función de Configuración de Opciones\n",
    "\n",
    "def configurar_opciones(**kwargs):\n",
    "    opciones = {\"opcion1\": False, \"opcion2\": True}\n",
    "    opciones.update(kwargs)\n",
    "    return opciones\n",
    "\n",
    "opciones_personalizadas = configurar_opciones(opcion1=True, opcion3=False)\n",
    "print(\"Opciones configuradas:\", opciones_personalizadas)\n"
   ]
  },
  {
   "cell_type": "markdown",
   "id": "0c9c0695",
   "metadata": {},
   "source": [
    "Los argumentos Kword arbitrarios a menudo se reducen a `**kwargs` en la documentación de Python.\n",
    "\n",
    "#### <span style=\"color:darkred\">Valor de parámetro predeterminado</span> \n",
    "\n",
    "El siguiente ejemplo muestra cómo utilizar un valor de parámetro predeterminado. Si llamamos a la función sin argumento, usa el valor predeterminado:"
   ]
  },
  {
   "cell_type": "code",
   "execution_count": null,
   "id": "6b3ee053",
   "metadata": {},
   "outputs": [],
   "source": [
    "def my_funcion(nombre1,nombre2,nombre3,nombre4='Lopez'):\n",
    "    print(nombre1+' '+ nombre2+ ' '+nombre3+' '+nombre4)\n",
    "\n",
    "my_funcion(nombre1='Juan',nombre2='Jose',nombre3='Henry')"
   ]
  },
  {
   "cell_type": "markdown",
   "id": "3be7ea84",
   "metadata": {},
   "source": [
    "\n",
    "#### <span style=\"color:darkred\">Valores devueltos</span>\n",
    "\n",
    "Para permitir que una función devuelva un valor, use la return declaración:\n",
    "\n"
   ]
  },
  {
   "cell_type": "code",
   "execution_count": null,
   "id": "aa7fc2d9",
   "metadata": {},
   "outputs": [],
   "source": [
    "def ejemplo(x):\n",
    "    return x**2\n",
    "\n",
    "print(ejemplo(3))\n",
    "print(ejemplo(4))\n",
    "print(ejemplo(5))\n"
   ]
  },
  {
   "cell_type": "markdown",
   "id": "c9035437",
   "metadata": {},
   "source": [
    "#### <span style=\"color:darkred\">La declaración de pase</span> \n",
    "\n",
    "Las definiciones function no pueden estar vacías, pero si por algún motivo tiene una definición function sin contenido, introdúzcala en la declaración pass para evitar que se produzca un error."
   ]
  },
  {
   "cell_type": "code",
   "execution_count": null,
   "id": "1202554b",
   "metadata": {},
   "outputs": [],
   "source": [
    "def myfunction ():\n",
    "    pass"
   ]
  },
  {
   "cell_type": "markdown",
   "id": "0d971d2f",
   "metadata": {},
   "source": [
    "#### <span style=\"color:darkred\">Recursividad</span> \n",
    "\n",
    "Python también acepta la función recursiva, lo que significa que una función definida puede llamarse a sí misma.\n",
    "    \n",
    "La recursividad es un concepto matemático y de programación común. Significa que una función se llama a sí misma. Esto tiene la ventaja de que puede recorrer los datos para llegar a un resultado.\n",
    "\n",
    "El desarrollador debe tener mucho cuidado con la recursividad, ya que puede ser bastante fácil escribir una función que nunca termina, o una que usa cantidades excesivas de memoria o potencia del procesador. \n",
    "\n",
    "Sin embargo, cuando se escribe correctamente, la recursión puede ser un enfoque de programación muy eficiente y matemáticamente elegante.\n",
    "\n",
    "En este ejemplo, `tri_recursion()` es una función que hemos definido para llamarse a sí misma (\"recursión\"). Usamos la variable k como los datos, que decrementa ( -1 ) cada vez que recursamos. La recursión termina cuando la condición no es mayor que 0 (es decir, cuando es 0).\n",
    "\n",
    "Para un nuevo desarrollador, puede tomar algún tiempo averiguar cómo funciona exactamente esto, la mejor manera de averiguarlo es probándolo y modificándolo.\n",
    "\n",
    "\n",
    "Una función recursiva se compone de dos partes principales:\n",
    "\n",
    "    Caso Base: Es el punto de terminación de la recursión. Es un caso simple que se resuelve directamente sin hacer llamadas adicionales a la función.\n",
    "\n",
    "    Caso Recursivo: Es donde la función se llama a sí misma para resolver un problema más pequeño y similar al problema original. Esta llamada recursiva debe llevar al caso base para que la recursión no sea infinita."
   ]
  },
  {
   "cell_type": "code",
   "execution_count": null,
   "id": "5056beb3",
   "metadata": {},
   "outputs": [],
   "source": [
    "def tri_recursion(k):\n",
    "    if(k > 0):\n",
    "        result = k + tri_recursion (k - 1)\n",
    "        print (result)\n",
    "    else:\n",
    "        result = 0\n",
    "    return result\n",
    "\n",
    "print(\"\\nRecursion Example Results\")\n",
    "tri_recursion(4)"
   ]
  },
  {
   "cell_type": "markdown",
   "id": "7da6c0de",
   "metadata": {},
   "source": [
    "En este ejemplo, la función factorial se llama a sí misma con un número más pequeño en cada iteración hasta que se alcanza el caso base (factorial de 0), y luego se calcula el resultado acumulado."
   ]
  },
  {
   "cell_type": "code",
   "execution_count": null,
   "id": "b7080d0f",
   "metadata": {},
   "outputs": [],
   "source": [
    "# FActorial sin recursividad\n",
    "\n",
    "def factorial_no_recursivo(n):\n",
    "    result = 1\n",
    "    for it in range(1,n + 1):\n",
    "        result *= it\n",
    "    return resultado\n",
    "\n",
    "n = 3\n",
    "print(f'El factorial de {n} es {factorial_no_recursivo(n)}')"
   ]
  },
  {
   "cell_type": "code",
   "execution_count": null,
   "id": "cdbbd398",
   "metadata": {},
   "outputs": [],
   "source": [
    "def factorial(n):\n",
    "    print(\" ->>\",n)\n",
    "    if n == 0:\n",
    "        return 1  # Caso base: factorial de 0 es 1\n",
    "    else:\n",
    "        print('else se llama ella misma')\n",
    "        return n * factorial(n - 1)  # Caso recursivo\n",
    "\n",
    "numero = 3\n",
    "resultado = factorial(numero)\n",
    "\n",
    "print(f\"El factorial de {numero} es {resultado}\")\n"
   ]
  },
  {
   "cell_type": "code",
   "execution_count": null,
   "id": "0b3eaaeb",
   "metadata": {},
   "outputs": [],
   "source": [
    "def suma_sin_recursividad(n):\n",
    "    suma = 0\n",
    "    for it in range(1, n + 1):\n",
    "        suma += it\n",
    "    return suma"
   ]
  },
  {
   "cell_type": "code",
   "execution_count": null,
   "id": "e4cd3113",
   "metadata": {},
   "outputs": [],
   "source": [
    "def suma_recursiva(n):\n",
    "    if n == 1:\n",
    "        return 1\n",
    "    else:\n",
    "        return n + suma_recursiva(n - 1)"
   ]
  },
  {
   "cell_type": "code",
   "execution_count": null,
   "id": "8a5144d5",
   "metadata": {},
   "outputs": [],
   "source": [
    "n = 4\n",
    "    \n",
    "print(f'Lasuma es : {suma_sin_recursividad(n)}')    \n",
    "print(f'Lasuma es : {suma_recursiva (n)}')"
   ]
  },
  {
   "cell_type": "markdown",
   "id": "22a59c3e",
   "metadata": {},
   "source": [
    "### <span style=\"color:darkred\">Lambda en Python</span> \n",
    "\n",
    "Una función lambda es una pequeña función anónima. Una función lambda puede tomar cualquier cantidad de argumentos, pero solo puede tener una expresión.\n",
    "\n",
    "`Sintaxis`\n",
    "\n",
    "`lambda arguments : expression`\n",
    "    \n",
    "Se ejecuta la expresión y se devuelve el resultado, por ejemplo: \n",
    "\n",
    "Agregue 10 al argumento a y devuelva el resultado"
   ]
  },
  {
   "cell_type": "code",
   "execution_count": null,
   "id": "cb8205f3",
   "metadata": {},
   "outputs": [],
   "source": [
    "x = lambda a : a + 10\n",
    "\n",
    "print(x(5))\n",
    "print(x(2))"
   ]
  },
  {
   "cell_type": "markdown",
   "id": "4bcec78a",
   "metadata": {},
   "source": [
    "Dada la función $f(x) = x^2+2x+3$, evalue f(3)"
   ]
  },
  {
   "cell_type": "code",
   "execution_count": null,
   "id": "d7ff6bef",
   "metadata": {},
   "outputs": [],
   "source": [
    "f = lambda x : x**2 + 2*x +3\n",
    "\n",
    "f(3)"
   ]
  },
  {
   "cell_type": "markdown",
   "id": "3bc3d21f",
   "metadata": {},
   "source": [
    "Las funciones Lambda pueden tomar cualquier cantidad de argumentos, por ejemplo: Multiplique argumento a con argumento b y devuelva el resultado:"
   ]
  },
  {
   "cell_type": "code",
   "execution_count": null,
   "id": "eb6af493",
   "metadata": {},
   "outputs": [],
   "source": [
    "x = lambda a, b : a * b\n",
    "\n",
    "print(x(5, 6))"
   ]
  },
  {
   "cell_type": "markdown",
   "id": "9bbdc54f",
   "metadata": {},
   "source": [
    "Resumir argumento a, b y c y devolver el resultado:"
   ]
  },
  {
   "cell_type": "code",
   "execution_count": null,
   "id": "3470b2e8",
   "metadata": {},
   "outputs": [],
   "source": [
    "x = lambda a, b, c : a + b + c\n",
    "\n",
    "print(x(5, 6, 2))"
   ]
  },
  {
   "cell_type": "markdown",
   "id": "5dcbcdb7",
   "metadata": {},
   "source": [
    "### <span style=\"color:darkred\">¿Por qué utilizar las funciones de Lambda?</span> \n",
    "\n",
    "El poder de lambda se muestra mejor cuando los usa como una función anónima dentro de otra función.\n",
    "\n",
    "Digamos que tiene una definición de función que toma un argumento, y ese argumento se multiplicará con un número desconocido:\n",
    "\n",
    "Las funciones lambda en Python son funciones anónimas y pequeñas que se utilizan para crear funciones simples en una sola línea de código. Aunque las funciones lambda tienen limitaciones en comparación con las funciones definidas con def, todavía tienen varios casos de uso y ventajas:\n",
    "\n",
    "    Sintaxis Concisa: Las funciones lambda tienen una sintaxis muy concisa, lo que las hace adecuadas para definir funciones pequeñas y simples en una sola línea.\n",
    "\n",
    "    Expresiones Cortas: Las funciones lambda son útiles cuando se necesita una función que realice una única operación o expresión matemática.\n",
    "\n",
    "    Funciones de Primera Clase: En Python, las funciones son objetos de primera clase, lo que significa que se pueden pasar como argumentos a otras funciones. Las funciones lambda son convenientes para esto, ya que se pueden definir inmediatamente donde se necesitan.\n",
    "\n",
    "    Funciones de Alta Orden: Las funciones lambda son útiles en combinación con funciones de orden superior, como map(), filter() y sorted(), donde se requiere una función simple para aplicar a una secuencia de elementos.\n",
    "\n",
    "    Reducción de Código: En algunos casos, las funciones lambda pueden reducir la cantidad de código necesario en comparación con la definición de una función completa usando def.\n",
    "\n",
    "    Legibilidad: Las funciones lambda son útiles cuando la función es simple y su nombre no es crítico para la legibilidad del código.\n",
    "\n",
    "    Funciones Anónimas: Las funciones lambda son funciones anónimas, lo que significa que no es necesario asignarles un nombre. Esto es útil cuando se necesita una función temporal y no es necesario reutilizarla en otros lugares.\n",
    "\n",
    "Sin embargo, es importante tener en cuenta que las funciones lambda tienen limitaciones. No pueden contener múltiples expresiones o declaraciones, no pueden tener docstrings (cadenas de documentación) y su uso excesivo en situaciones complejas puede dificultar la legibilidad del código."
   ]
  },
  {
   "cell_type": "code",
   "execution_count": null,
   "id": "aa0025a3",
   "metadata": {},
   "outputs": [],
   "source": [
    "def myfunc(n):\n",
    "    return lambda a : a * n"
   ]
  },
  {
   "cell_type": "markdown",
   "id": "c311f317",
   "metadata": {},
   "source": [
    "Use esa definición de función para hacer una función que siempre duplique el número que envía:"
   ]
  },
  {
   "cell_type": "code",
   "execution_count": null,
   "id": "4ab2c20d",
   "metadata": {},
   "outputs": [],
   "source": [
    "def myfunc(n) :\n",
    "    return lambda a : a * n\n",
    "\n",
    "mydoubler = myfunc (2)\n",
    "\n",
    "print (mydoubler (11))"
   ]
  },
  {
   "cell_type": "markdown",
   "id": "60dd8cd8",
   "metadata": {},
   "source": [
    "O use la misma definición de función para hacer una función que siempre triplique el número que envía:"
   ]
  },
  {
   "cell_type": "code",
   "execution_count": null,
   "id": "584248f4",
   "metadata": {},
   "outputs": [],
   "source": [
    "def myfunc (n):\n",
    "    return lambda a : a * n\n",
    "\n",
    "mytripler = myfunc (3)\n",
    "print (mytripler (11))"
   ]
  },
  {
   "cell_type": "markdown",
   "id": "6654443e",
   "metadata": {},
   "source": [
    "O use la misma definición de función para hacer ambas funciones, en el mismo programa:"
   ]
  },
  {
   "cell_type": "code",
   "execution_count": null,
   "id": "e0c18188",
   "metadata": {},
   "outputs": [],
   "source": [
    "def myfunc(n):\n",
    "    return lambda a : a * n\n",
    "\n",
    "mydoubler = myfunc (2)\n",
    "mytripler = myfunc(3)\n",
    "\n",
    "print(mydoubler (11))\n",
    "print(mytripler (11))"
   ]
  },
  {
   "cell_type": "markdown",
   "id": "1e2cd78f",
   "metadata": {},
   "source": [
    "Utilice funciones lambda cuando se requiera una función anónima durante un breve período de tiempo."
   ]
  },
  {
   "cell_type": "code",
   "execution_count": null,
   "id": "dd3dba6a",
   "metadata": {},
   "outputs": [],
   "source": [
    "# filtrar listas\n",
    "\n",
    "def filtrado_par(*id_empleados):\n",
    "    return filter(lambda x: x%2 == 0, id_empleados)\n",
    "\n",
    "\n",
    "id_empleados = [341,45, 435, 676, 345,345, 676,764,242]\n",
    "pares = filtrado_par(*id_empleados)\n",
    "print(list(pares))"
   ]
  },
  {
   "cell_type": "markdown",
   "id": "55ef75a8",
   "metadata": {},
   "source": [
    "### Ejemplos de uso de Función Lambda"
   ]
  },
  {
   "cell_type": "code",
   "execution_count": null,
   "id": "f4ae59ae",
   "metadata": {},
   "outputs": [],
   "source": [
    "#Ejemplo: Función Lambda para Ordenar una Lista de Tuplas por el Segundo Elemento\n",
    "datos = [(3, 8), (1, 5), (6, 2)]\n",
    "ordenado = sorted(datos, key=lambda x: x[1])\n",
    "print(ordenado)  # Salida: [(6, 2), (1, 5), (3, 8)]"
   ]
  },
  {
   "cell_type": "code",
   "execution_count": null,
   "id": "33bb933c",
   "metadata": {},
   "outputs": [],
   "source": [
    "# Ejemplo: Función Lambda para Elevar un Número a una Potencia Dada\n",
    "potencia = lambda x, n: x ** n\n",
    "resultado = potencia(2, 3)\n",
    "print(resultado)  # Salida: 8"
   ]
  },
  {
   "cell_type": "code",
   "execution_count": null,
   "id": "f94f0d73",
   "metadata": {},
   "outputs": [],
   "source": [
    "# Ejemplo: Función Lambda para Encontrar el Máximo de Dos Números\n",
    "maximo = lambda x, y: x if x > y else y\n",
    "resultado = maximo(7, 12)\n",
    "print(resultado)  # Salida: 12"
   ]
  },
  {
   "cell_type": "code",
   "execution_count": null,
   "id": "48808328",
   "metadata": {},
   "outputs": [],
   "source": [
    "#Ejemplo: Función Lambda para Revertir una Cadena\n",
    "\n",
    "reversa = lambda cadena: cadena[::-1]\n",
    "resultado = reversa(\"Python\")\n",
    "print(resultado)  # Salida: \"nohtyP\"\n"
   ]
  },
  {
   "cell_type": "code",
   "execution_count": null,
   "id": "8172ef96",
   "metadata": {},
   "outputs": [],
   "source": [
    "#Ejemplo: Función Lambda para Realizar una Operación Matemática Compleja\n",
    "operacion = lambda x, y: (x ** 2) + (2 * y) - 3\n",
    "resultado = operacion(4, 7)\n",
    "print(resultado)  # Salida: 45"
   ]
  },
  {
   "cell_type": "code",
   "execution_count": null,
   "id": "50938bee",
   "metadata": {},
   "outputs": [],
   "source": [
    "#Ejemplo: Función Lambda para Generar Secuencia de Números Pares\n",
    "secuencia_pares = lambda n: [i for i in range(2, n*2 + 1, 2)]\n",
    "num_elementos = 5\n",
    "pares = secuencia_pares(num_elementos)\n",
    "print(pares)  # Salida: [2, 4, 6, 8, 10]"
   ]
  },
  {
   "cell_type": "markdown",
   "id": "50c545d0",
   "metadata": {},
   "source": [
    "### <span style=\"color:darkorange\">Aplicando Conocimientos</span>  \n",
    "\n",
    "1.\tSuma de dos números:\n",
    "\n",
    "Escribe una función llamada suma que tome dos números como argumentos y devuelva su suma. Luego, escribe un programa que pida al usuario dos números, los pase a la función suma y muestre el resultado.\n",
    "\n",
    "2.\tCalcular el área de un triángulo:\n",
    "\n",
    "Escribe una función llamada area_triangulo que tome la base y la altura de un triángulo como argumentos y devuelva su área. Luego, escribe un programa que pida al usuario la base y la altura de un triángulo, pase estos valores a la función area_triangulo y muestre el resultado.\n",
    "\n",
    "3.\tConvertir grados Celsius a Fahrenheit:\n",
    "\n",
    "Escribe una función llamada celsius_a_fahrenheit que tome una temperatura en grados Celsius como argumento y la convierta a grados Fahrenheit. \n",
    "\n",
    "La fórmula para convertir grados Celsius a Fahrenheit es F = (9/5 * C) + 32. Luego, escribe un programa que pida al usuario una temperatura en grados Celsius, pase este valor a la función celsius_a_fahrenheit y muestre el resultado.\n",
    "\n"
   ]
  }
 ],
 "metadata": {
  "kernelspec": {
   "display_name": "Python 3 (ipykernel)",
   "language": "python",
   "name": "python3"
  },
  "language_info": {
   "codemirror_mode": {
    "name": "ipython",
    "version": 3
   },
   "file_extension": ".py",
   "mimetype": "text/x-python",
   "name": "python",
   "nbconvert_exporter": "python",
   "pygments_lexer": "ipython3",
   "version": "3.10.0"
  }
 },
 "nbformat": 4,
 "nbformat_minor": 5
}
