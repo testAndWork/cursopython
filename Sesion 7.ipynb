{
 "cells": [
  {
   "cell_type": "markdown",
   "id": "9c8c537c",
   "metadata": {},
   "source": [
    "# <span style=\"color:darkblue\">Módulo 1 - Introducción a la programación con Python </span>\n",
    "\n",
    "## <span style=\"color:darkblue\">Sesión 7-Colecciones de datos</span>\n",
    "\n",
    "### <span style=\"color:darkblue\">Duración estimada:\t4 horas</span>\n",
    "\n",
    "#### <span style=\"color:darkblue\">En marco del proyecto: “EMPLEO JOVEN ES”</span>"
   ]
  },
  {
   "cell_type": "markdown",
   "id": "42a8be22",
   "metadata": {},
   "source": [
    "## <span style=\"color:darkblue\"> Tabla de contenidos:</span>\n",
    " \n",
    "    1- Bienvenida\n",
    "    \n",
    "    2- Asistencia\n",
    "    \n",
    "    3- Dudas de la Clase anterior\n",
    "    \n",
    "    4- Control de Lectura\n",
    "    \n",
    "    5- Objetivo\n",
    "    \n",
    "    6- Introducción\n",
    "    \n",
    "    7- Qué es una matriz\n",
    "    \n",
    "    8- Comparativa entre colecciones de datos\n",
    "    \n",
    "    9- Listas en Python - list\n",
    "    \n",
    "    10- Longitud de la Lista \n",
    "    \n",
    "    11- Agregar elementos a una lista\n",
    "    \n",
    "    12- Elementos de la lista - Tipos de datos\n",
    "\n",
    "    13- Tuplas en Python - tuple\n",
    "\n",
    "    14- Longitud de la tupla\n",
    "    \n",
    "    15- Crear tupla con un elemento\t\n",
    "   \n",
    "    16- Conjuntos en Python - set\t\n",
    "\n",
    "    17- Obtener la longitud de un conjunto\t\n",
    "\n",
    "    18- Diccionario en Python – Dictionary\t\n",
    "\n",
    "    19- Diccionarios anidados\t\n",
    "    \n",
    "    20- Los constructores de las colecciones\n",
    "    \n",
    "    21 - Retroalimentación\n",
    "    \n",
    "    22 - Asistencia\n"
   ]
  },
  {
   "cell_type": "markdown",
   "id": "51ae1b4d",
   "metadata": {},
   "source": [
    "## <span style=\"color:darkred\">Objetivo:</span>\n",
    "\n",
    "Comprender como Python proporciona una manera flexible y eficiente de almacenar y manipular conjuntos de datos en diferentes formatos y estructuras. Estas colecciones de datos incluyen tipos de datos como listas, tuplas, diccionarios y conjuntos, cada uno con sus propias características y funcionalidades.\n",
    "\n",
    "### <span style=\"color:darkred\">Recursos</span>\n",
    "\n",
    "•\tSesión 7 de Curso de Python\n",
    "\n",
    "•\tComputadora con Python instalado\n",
    "\n",
    "•\tVisual Studio Code instalado\n",
    "\n",
    "\n",
    "\n",
    "### <span style=\"color:darkred\">Introducción:</span>\n",
    "\n",
    "Las colecciones de datos son un aspecto fundamental de la programación y la ciencia de datos en Python. Python ofrece una variedad de tipos de datos integrados, como listas, tuplas, diccionarios y conjuntos, que permiten a los desarrolladores y analistas de datos almacenar y manipular conjuntos de datos en diferentes formatos y estructuras. \n",
    "\n",
    "El conocimiento y la comprensión de estas colecciones de datos es esencial para cualquier persona que trabaje con Python, ya que son una herramienta fundamental para la manipulación eficiente y flexible de datos en muchas aplicaciones, desde la programación básica hasta el análisis avanzado de datos. \n",
    "\n",
    "En esta guía, exploraremos las diferentes colecciones de datos en Python, sus características y funcionalidades, y cómo se pueden utilizar para mejorar la eficiencia del código y la capacidad de análisis de datos.\n",
    "\n",
    "### <span style=\"color:darkred\">Aprendamos </span>\n",
    "\n",
    "Python no tiene soporte integrado para arreglos, pero en su lugar se pueden usar listas de Python. Las matrices se utilizan para almacenar múltiples valores en una sola variable."
   ]
  },
  {
   "cell_type": "markdown",
   "id": "6bc551e5",
   "metadata": {},
   "source": [
    "## Repaso (8 min): nombreApellidoSesion7.py\n",
    "\n"
   ]
  },
  {
   "cell_type": "markdown",
   "id": "dae5ab9c",
   "metadata": {},
   "source": [
    "## <span style=\"color:darkred\">¿Qué es una matriz?</span>\n",
    "\n",
    "Una matriz es una variable especial que puede contener más de un valor a la vez.\n",
    "\n",
    "Si tiene una lista de elementos (una lista de nombres de automóviles, por ejemplo), almacenar los automóviles en variables individuales podría tener este aspecto:\n",
    "```\n",
    "car1 = \"Ford\"\n",
    "car2 = \"Volvo\"\n",
    "car3 = \"BMW\"\n",
    "```\n",
    "\n",
    "Sin embargo, ¿qué sucede si desea recorrer los autos y encontrar uno específico? ¿Y si no tuvieras 3 coches, sino 300?\n",
    "\n",
    "**¡La solución es una matriz!**\n",
    "\n",
    "Una matriz puede contener muchos valores bajo un solo nombre y puede acceder a los valores haciendo referencia a un número de índice.\n",
    "\n",
    "**Cree una arrglo que contenga nombres de automóviles:**\n",
    "\n",
    "```\n",
    "cars = [\"Ford\", \"Volvo\", \"BMW\"]\n",
    "```\n",
    "\n",
    "## <span style=\"color:darkred\">Comparativa entre colecciones de datos</span>\n",
    "\n",
    "En Python existen diferentes tipos de colecciones y cada una de ellas poseen diferentes características y la elección depende de cual utilizar en una situación dependen bastante de ellas, a continuación, tenemos una tabla comparativa: \n",
    "\n",
    "<table>\n",
    "  <tr>\n",
    "    <th>COLECCIÓN</th> \n",
    "    <th>ORDENADA</th>\n",
    "    <th>MUTABLE</th>\n",
    "    <th>ÚNICA</th>\n",
    "    <th>ACCESO POR ÍNDICE</th>\n",
    "    <th>ACCESO POR CLAVE</th>\n",
    "  </tr>\n",
    "  <tr>\n",
    "    <td>LISTA</td>\n",
    "    <td>Sí</td>\n",
    "    <td>Sí</td> \n",
    "    <td>No</td>\n",
    "    <td>Sí</td>\n",
    "    <td>No</td>\n",
    "  </tr>\n",
    "  <tr>\n",
    "    <td>TUPLA</td>\n",
    "    <td>Sí</td>\n",
    "    <td>No</td>\n",
    "    <td>No</td>\n",
    "    <td>Sí</td> \n",
    "    <td>No</td>\n",
    "  </tr>  \n",
    "  <tr>\n",
    "    <td>SET</td>\n",
    "    <td>No</td>\n",
    "    <td>Sí</td>\n",
    "    <td>Sí</td>\n",
    "    <td>No</td>\n",
    "    <td>No</td>\n",
    "  </tr>\n",
    "  <tr>    \n",
    "    <td>DICCIONARIO</td>\n",
    "    <td>No</td>\n",
    "    <td>Sí</td>\n",
    "    <td>No</td>\n",
    "    <td>No</td>\n",
    "    <td>Sí</td>\n",
    "  </tr>\n",
    "</table>\n",
    "\n",
    "\n",
    "\n",
    "\n",
    "<ul> <li> <strong>Ordenada:</strong> indica si la colección mantiene el orden de los elementos. </li> <li> <strong>Mutable:</strong> indica si la colección puede ser modificada después de creada. </li> <li> <strong>Única:</strong> indica si la colección permite elementos duplicados. </li> <li> <strong>Acceso por índice:</strong> indica si los elementos pueden ser accedidos por su posición en la colección. </li> <li> <strong>Acceso por clave:</strong> indica si los elementos pueden ser accedidos por una clave asignada a cada elemento en la colección. </li> </ul>\n",
    "\n",
    "Es importante tener en cuenta estas diferencias al elegir la colección adecuada para una tarea determinada. Por ejemplo, si se necesita una colección de elementos ordenados y modificables, una lista sería la mejor opción. Si se necesita una colección de elementos únicos y no importa el orden, un set sería más adecuado. Si se necesita una colección de pares clave-valor, un diccionario sería la mejor opción, y si se necesita una colección de elementos ordenados, pero no modificables, una tupla sería la mejor opción.\n",
    "\n",
    "## <span style=\"color:darkred\">Listas en Python - `list[]` </span>\n",
    "\n",
    "Las listas se utilizan para almacenar varios elementos en una sola variable. Las listas se crean usando corchetes:\n"
   ]
  },
  {
   "cell_type": "code",
   "execution_count": 1,
   "id": "76ffc30a",
   "metadata": {},
   "outputs": [
    {
     "name": "stdout",
     "output_type": "stream",
     "text": [
      "['apple', 'banana', 'cherry']\n"
     ]
    }
   ],
   "source": [
    "thislist = [\"apple\", \"banana\", \"cherry\"]\n",
    "print (thislist)"
   ]
  },
  {
   "cell_type": "markdown",
   "id": "21c3cfa1",
   "metadata": {},
   "source": [
    "## <span style=\"color:darkred\">Características principales</span>\n",
    "\n",
    "### <span style=\"color:darkred\">Elementos de la lista:</span>\n",
    "\n",
    "    Los elementos de la lista están ordenados, se pueden cambiar y permiten valores duplicados. Los elementos de la lista están indexados, el primer elemento tiene índice [0], el segundo elemento tiene índice [1], etc.\n",
    "\n",
    "### <span style=\"color:darkred\">Ordenado: </span>\n",
    "    \n",
    "    Cuando decimos que las listas están ordenadas, significa que los elementos tienen un orden definido y ese orden no cambiará. Si agrega nuevos elementos a una lista, los nuevos elementos se colocarán al final de la lista.\n",
    "\n",
    "### <span style=\"color:darkblue\">Nota:</span>\n",
    "\n",
    "    Hay algunos métodos de lista que cambiarán el orden, pero en general: el orden de los elementos no cambiará.\n",
    "\n",
    "### <span style=\"color:darkred\">Cambiable:</span>\n",
    "\n",
    "    La lista se puede cambiar, lo que significa que podemos cambiar, agregar y eliminar elementos en una lista después de que se haya creado.\n",
    "    \n",
    "### <span style=\"color:darkred\">Permitir duplicados:</span>\n",
    "\n",
    "    Dado que las listas están indexadas, las listas pueden tener elementos con el mismo valor\n",
    "\n",
    "### <span style=\"color:darkred\">Longitud de la lista</span>\n",
    "\n",
    "Para determinar cuántos elementos tiene una lista, use la función len():\n",
    "\n",
    "Imprime el número de artículos en la lista:"
   ]
  },
  {
   "cell_type": "code",
   "execution_count": 36,
   "id": "5d96f589",
   "metadata": {},
   "outputs": [
    {
     "name": "stdout",
     "output_type": "stream",
     "text": [
      "3\n"
     ]
    }
   ],
   "source": [
    "thislist = [\"apple\", \"banana\" , \"cherry\"]\n",
    "print(len(thislist))"
   ]
  },
  {
   "cell_type": "code",
   "execution_count": 42,
   "id": "b1057532",
   "metadata": {},
   "outputs": [
    {
     "name": "stdout",
     "output_type": "stream",
     "text": [
      "5\n",
      "['Tomate', 'Papa', 'coliflor', 'zanahoria', 'cebolla']\n"
     ]
    }
   ],
   "source": [
    "vegetalesLst = ['Tomate', 'Papa', 'coliflor','zanahoria', 'cebolla'] \n",
    "print(len(vegetalesLst))\n",
    "print(vegetalesLst)"
   ]
  },
  {
   "cell_type": "code",
   "execution_count": 41,
   "id": "23f64546",
   "metadata": {},
   "outputs": [
    {
     "name": "stdout",
     "output_type": "stream",
     "text": [
      "6\n",
      "['El Salvador', 'Guatemala', 'Costa Rica', 'Panama', 'Honduras', 'Nicaragua']\n"
     ]
    }
   ],
   "source": [
    "paises = [\n",
    "    'El Salvador', 'Guatemala', 'Costa Rica',\n",
    "    'Panama','Honduras','Nicaragua'\n",
    "     ]\n",
    "print(len(paises))\n",
    "print(paises)"
   ]
  },
  {
   "cell_type": "code",
   "execution_count": 46,
   "id": "36a54488",
   "metadata": {},
   "outputs": [
    {
     "name": "stdout",
     "output_type": "stream",
     "text": [
      "[3, 4, 5, 6, 7, 8, 3, 3, 3]\n",
      "9\n"
     ]
    }
   ],
   "source": [
    "listas = [ 3, 4, 5, 6, 7, 8, 3, 3, 3]\n",
    "print(listas)\n",
    "print(len(listas))"
   ]
  },
  {
   "cell_type": "markdown",
   "id": "ab7a57d6",
   "metadata": {},
   "source": [
    "### <span style=\"color:darkred\">Agregar elementos a una lista</span>\n",
    "\n",
    "Para agregar un elemento al final de la lista, use el método `append()` :\n"
   ]
  },
  {
   "cell_type": "code",
   "execution_count": 55,
   "id": "60816cff",
   "metadata": {},
   "outputs": [
    {
     "name": "stdout",
     "output_type": "stream",
     "text": [
      "['apple', 'banana', 'cherry', 'orange', 'orange', 'Jocote', 'Jocote', 'Jocote', 'Jocote', 'piña']\n"
     ]
    }
   ],
   "source": [
    "thislist.append('Jocote')\n",
    "thislist.append('piña')\n",
    "print(thislist)"
   ]
  },
  {
   "cell_type": "code",
   "execution_count": 59,
   "id": "faf79cd0",
   "metadata": {},
   "outputs": [
    {
     "name": "stdout",
     "output_type": "stream",
     "text": [
      "[]\n",
      "['vacio1']\n",
      "['vacio1', 'ya esta vacio']\n"
     ]
    }
   ],
   "source": [
    "emptyList = [] \n",
    "print(emptyList)\n",
    "emptyList.append('vacio1')\n",
    "print(emptyList)\n",
    "emptyList.append('ya esta vacio')\n",
    "print(emptyList)"
   ]
  },
  {
   "cell_type": "markdown",
   "id": "76faa5e7",
   "metadata": {},
   "source": [
    "### <span style=\"color:darkred\">Elementos de la lista - Tipos de datos</span>\n",
    "\n",
    "Los elementos de la lista pueden ser de cualquier tipo de datos, por ejemplo, tipos de datos de **cadena, int y booleanos:**\n",
    "\n",
    "#### Ejemplos:"
   ]
  },
  {
   "cell_type": "code",
   "execution_count": 60,
   "id": "db95ab86",
   "metadata": {},
   "outputs": [],
   "source": [
    "list1 = [\"apple\", \"banana\", \"cherry\"]\n",
    "list2 = [1, 5, 7, 9, 3]\n",
    "list3 = [True, False, False]\n",
    "listf = [2.0, 5.5 , 6.7 ,8.8 ]"
   ]
  },
  {
   "cell_type": "markdown",
   "id": "2c2a0d7e",
   "metadata": {},
   "source": [
    "Una lista puede contener diferentes tipos de datos, por ejemplo, una lista con cadenas, enteros y valores booleanos: "
   ]
  },
  {
   "cell_type": "code",
   "execution_count": 64,
   "id": "21070998",
   "metadata": {},
   "outputs": [
    {
     "name": "stdout",
     "output_type": "stream",
     "text": [
      "<class 'str'>\n",
      "<class 'int'>\n",
      "<class 'bool'>\n",
      "<class 'int'>\n"
     ]
    }
   ],
   "source": [
    "list4 = [\"abe\", 34, True, 10, \"male\"]\n",
    "list4\n",
    "print(type(list4[0]))\n",
    "print(type(list4[1]))\n",
    "print(type(list4[2]))\n",
    "print(type(list4[3]))"
   ]
  },
  {
   "cell_type": "code",
   "execution_count": 66,
   "id": "e217e61f",
   "metadata": {},
   "outputs": [
    {
     "name": "stdout",
     "output_type": "stream",
     "text": [
      "['Juan', 350, True, {'pais': 'El Salvador', 'Ciudad': 'San Salvador'}, [1, 2, 3, 4]]\n"
     ]
    }
   ],
   "source": [
    "lst5 = [\n",
    "    'Juan', 350, True, \n",
    "    {'pais': 'El Salvador', 'Ciudad': 'San Salvador'},\n",
    "    [1,2,3,4]\n",
    "]\n",
    "print(lst5)"
   ]
  },
  {
   "cell_type": "markdown",
   "id": "d02697dd",
   "metadata": {},
   "source": [
    "### Accesando a los elementos de una Lista con índices positivos"
   ]
  },
  {
   "cell_type": "code",
   "execution_count": 74,
   "id": "a0461d61",
   "metadata": {},
   "outputs": [
    {
     "name": "stdout",
     "output_type": "stream",
     "text": [
      "[1, 2, 3, 4]\n",
      "<class 'list'>\n",
      "{'pais': 'El Salvador', 'Ciudad': 'San Salvador'}\n",
      "<class 'dict'>\n"
     ]
    }
   ],
   "source": [
    "len(lst5)\n",
    "print(lst5[4])\n",
    "print(type(lst5[4]))\n",
    "print(lst5[3])\n",
    "print(type(lst5[3]))\n",
    "\n",
    "lst5.append(23)\n",
    "lst5.append('Hola mundo')\n",
    "lst5.append(False)"
   ]
  },
  {
   "cell_type": "code",
   "execution_count": 81,
   "id": "becd3a82",
   "metadata": {},
   "outputs": [
    {
     "name": "stdout",
     "output_type": "stream",
     "text": [
      "['Juan', 350, True, 23]\n",
      "3\n",
      "23\n"
     ]
    }
   ],
   "source": [
    "lst5\n",
    "lstNew = [ lst5[0],lst5[1],lst5[2],lst5[5]]\n",
    "print(lstNew)\n",
    "\n",
    "indiceFinal = len(lstNew)-1\n",
    "print(indiceFinal)\n",
    "print(lstNew[3])"
   ]
  },
  {
   "cell_type": "markdown",
   "id": "5a58b7a3",
   "metadata": {},
   "source": [
    "### Accesando a los elementos de una Lista con índices negativos\n"
   ]
  },
  {
   "cell_type": "code",
   "execution_count": 86,
   "id": "01902d14",
   "metadata": {},
   "outputs": [
    {
     "name": "stdout",
     "output_type": "stream",
     "text": [
      "sandia\n",
      "melon\n",
      "jocote\n",
      "papaya\n"
     ]
    }
   ],
   "source": [
    "frutas = ['papaya', 'jocote', 'pina', 'melon', 'sandia']\n",
    "\n",
    "print(frutas[-1])\n",
    "print(frutas[-2])\n",
    "print(frutas[-4])\n",
    "print(frutas[-5])"
   ]
  },
  {
   "cell_type": "markdown",
   "id": "9d8a6cee",
   "metadata": {},
   "source": [
    "### Desempacando elementos de una lista"
   ]
  },
  {
   "cell_type": "code",
   "execution_count": 87,
   "id": "16f71126",
   "metadata": {},
   "outputs": [
    {
     "name": "stdout",
     "output_type": "stream",
     "text": [
      "item1\n",
      "item2\n",
      "item3\n",
      "['item4', 'item5']\n"
     ]
    }
   ],
   "source": [
    "lst = ['item1','item2','item3', 'item4', 'item5']\n",
    "first_item, second_item, third_item, *rest = lst\n",
    "print(first_item)     # item1\n",
    "print(second_item)    # item2\n",
    "print(third_item)     # item3\n",
    "print(rest)           # ['item4', 'item5']"
   ]
  },
  {
   "cell_type": "code",
   "execution_count": 89,
   "id": "8c44d53a",
   "metadata": {},
   "outputs": [
    {
     "name": "stdout",
     "output_type": "stream",
     "text": [
      "papaya\n",
      "jocote\n",
      "['pina', 'melon', 'sandia']\n"
     ]
    }
   ],
   "source": [
    "frutas = ['papaya', 'jocote', 'pina', 'melon', 'sandia']\n",
    "\n",
    "fruta1, fruta2, *sobran = frutas\n",
    "\n",
    "print(fruta1)\n",
    "print(fruta2)\n",
    "print(sobran)"
   ]
  },
  {
   "cell_type": "code",
   "execution_count": 96,
   "id": "bfb685b9",
   "metadata": {},
   "outputs": [
    {
     "name": "stdout",
     "output_type": "stream",
     "text": [
      "1\n",
      "2\n",
      "[3, 4, 5, 6, 7, 8, 9, 10, 11]\n",
      "12\n",
      "13\n"
     ]
    }
   ],
   "source": [
    "numTest = [1,2,3,4,5,6,7,8,9,10,11,12,13]\n",
    "\n",
    "n1, n2, *nVarios, nPenultimo, nUltimo  = numTest\n",
    "\n",
    "print(n1)\n",
    "print(n2)\n",
    "print(nVarios)\n",
    "print(nPenultimo)\n",
    "print(nUltimo)\n"
   ]
  },
  {
   "cell_type": "code",
   "execution_count": 112,
   "id": "8cc6599c",
   "metadata": {},
   "outputs": [
    {
     "name": "stdout",
     "output_type": "stream",
     "text": [
      "1\n",
      "[2, 3, 4, 5, 6, 7, 8, 9, 10, 11, 12, 13, 14]\n",
      "[2, 3, 4, 5, 6, 7, 8, 9, 10, 11, 12, 13, 14, 2, 3, 4, 5, 6, 7, 8, 9, 10, 11, 12, 13, 14]\n",
      "16\n"
     ]
    }
   ],
   "source": [
    "numTest2 = [1,2,3,4,5,6,7,8,9,10,11,12,13,14,16]\n",
    "nInicio, *ncentrales, nUltimo  = numTest2\n",
    "print(nInicio)\n",
    "\n",
    "ncentral = []\n",
    "for num in ncentrales:\n",
    "    ncentral.append(int(num))\n",
    "print(ncentral) \n",
    "\n",
    "print(2*ncentral)\n",
    "print(nUltimo)"
   ]
  },
  {
   "cell_type": "markdown",
   "id": "5526178e",
   "metadata": {},
   "source": [
    "### Slicing elementos de una lista\n",
    "\n",
    "Indexación positiva: Podemos especificar un rango de índices positivos al especificar el inicio, final y paso. El valor de retorno será una nueva lista. (valores predeterminados para inicio = 0, final = len(lst) - 1 (último elemento), paso = 1)"
   ]
  },
  {
   "cell_type": "code",
   "execution_count": 138,
   "id": "bc2a6fbe",
   "metadata": {},
   "outputs": [
    {
     "name": "stdout",
     "output_type": "stream",
     "text": [
      "5\n",
      "['papaya', 'jocote', 'pina', 'melon', 'sandia']\n",
      "['papaya', 'jocote', 'pina', 'melon', 'sandia']\n",
      "['jocote', 'pina']\n",
      "['pina', 'melon']\n",
      "['jocote', 'pina', 'melon']\n",
      "sandia\n",
      "['jocote', 'pina', 'melon', 'sandia']\n",
      "['papaya', 'pina', 'sandia']\n"
     ]
    }
   ],
   "source": [
    "frutas = ['papaya', 'jocote', 'pina', 'melon', 'sandia']\n",
    "print(len(frutas))\n",
    "\n",
    "todoFruta = frutas[0:5]\n",
    "print(todoFruta)\n",
    "\n",
    "pruebaFrutas = frutas[0:]\n",
    "print(pruebaFrutas)\n",
    "\n",
    "slice1 = frutas[1:3]\n",
    "print(slice1)\n",
    "\n",
    "slice2 = frutas[2:4]\n",
    "print(slice2)\n",
    "\n",
    "slice3 = frutas[1:4]\n",
    "print(slice3)\n",
    "\n",
    "print(frutas[4])\n",
    "\n",
    "print(frutas[1:])\n",
    "print(frutas[::2])"
   ]
  },
  {
   "cell_type": "markdown",
   "id": "c86491f2",
   "metadata": {},
   "source": [
    "Indexación negativa: Podemos especificar un rango de índices negativos al indicar el inicio, fin y paso, y el valor de retorno será una nueva lista."
   ]
  },
  {
   "cell_type": "code",
   "execution_count": 147,
   "id": "3e9119d7",
   "metadata": {},
   "outputs": [
    {
     "data": {
      "text/plain": [
       "['sandia', 'melon', 'pina', 'jocote', 'papaya']"
      ]
     },
     "execution_count": 147,
     "metadata": {},
     "output_type": "execute_result"
    }
   ],
   "source": [
    "frutas = ['papaya', 'jocote', 'pina', 'melon', 'sandia']\n",
    "\n",
    "frutas[-4]\n",
    "\n",
    "frutas[-3:-1]\n",
    "\n",
    "frutas[-3:]\n",
    "\n",
    "frutas[::-1]"
   ]
  },
  {
   "cell_type": "markdown",
   "id": "71476511",
   "metadata": {},
   "source": [
    "### Agregar elementos a las listas en cualquier posición"
   ]
  },
  {
   "cell_type": "code",
   "execution_count": 152,
   "id": "add3cadd",
   "metadata": {},
   "outputs": [
    {
     "data": {
      "text/plain": [
       "['papaya', 'jocote', 'fresas', 'pina', 'melon', 'sandia']"
      ]
     },
     "execution_count": 152,
     "metadata": {},
     "output_type": "execute_result"
    }
   ],
   "source": [
    "frutas = ['papaya', 'jocote','guineo', 'pina', 'melon', 'sandia']\n",
    "\n",
    "frutas[2] = 'fresas'\n",
    "\n",
    "frutas"
   ]
  },
  {
   "cell_type": "markdown",
   "id": "4f7f6586",
   "metadata": {},
   "source": [
    "### Buscar elementos en una lista"
   ]
  },
  {
   "cell_type": "code",
   "execution_count": 158,
   "id": "3fe7d228",
   "metadata": {},
   "outputs": [
    {
     "name": "stdout",
     "output_type": "stream",
     "text": [
      "no hay\n",
      "no hay\n",
      "no hay\n",
      "no hay\n",
      "no hay\n",
      "no hay\n",
      "no hay\n",
      "no hay\n",
      "no hay\n",
      "no hay\n",
      "si hay\n",
      "no hay\n",
      "no hay\n",
      "no hay\n",
      "no hay\n",
      "no hay\n",
      "no hay\n",
      "no hay\n",
      "no hay\n",
      "no hay\n"
     ]
    },
    {
     "data": {
      "text/plain": [
       "True"
      ]
     },
     "execution_count": 158,
     "metadata": {},
     "output_type": "execute_result"
    }
   ],
   "source": [
    "frutas = [\"manzana\", \"banana\", \"naranja\", \"pera\", \"uva\", \"kiwi\", \"sandía\", \"mango\", \"melón\", \"fresa\",\n",
    "          \"papaya\", \"piña\", \"cereza\", \"limón\", \"granada\", \"frambuesa\", \"mandarina\", \"durazno\", \"coco\", \"ciruela\"]\n",
    "\n",
    "'melon' in frutas\n",
    "\n",
    "'papaya' in frutas\n",
    "\n",
    "for fruta in frutas:\n",
    "    if fruta == 'papaya':\n",
    "        print('si hay')\n",
    "    else:\n",
    "        print('no hay')\n",
    "        \n",
    "'papaya' in frutas"
   ]
  },
  {
   "cell_type": "markdown",
   "id": "6fa2c919",
   "metadata": {},
   "source": [
    "### Insertar elementos en una lista\n",
    "\n",
    "El metodo `insert()` , iinserta elementos en una lista en un determinado índice.\n",
    "\n",
    "`Sintaxis:`\n",
    "\n",
    "```list.insert(index, element)```\n"
   ]
  },
  {
   "cell_type": "code",
   "execution_count": 162,
   "id": "36888a01",
   "metadata": {},
   "outputs": [
    {
     "data": {
      "text/plain": [
       "['manzana',\n",
       " 'banana',\n",
       " 'naranja',\n",
       " 'jocote',\n",
       " 'pera',\n",
       " 'uva',\n",
       " 'kiwi',\n",
       " 'sandía',\n",
       " 'mango',\n",
       " 'melón',\n",
       " 'fresa',\n",
       " 'papaya',\n",
       " 'piña',\n",
       " 'cereza',\n",
       " 'limón',\n",
       " 'granada',\n",
       " 'frambuesa',\n",
       " 'mandarina',\n",
       " 'durazno',\n",
       " 'coco',\n",
       " 'ciruela']"
      ]
     },
     "execution_count": 162,
     "metadata": {},
     "output_type": "execute_result"
    }
   ],
   "source": [
    "frutas = [\"manzana\", \"banana\", \"naranja\", \"pera\", \"uva\", \"kiwi\", \"sandía\", \"mango\", \"melón\", \"fresa\",\n",
    "          \"papaya\", \"piña\", \"cereza\", \"limón\", \"granada\", \"frambuesa\", \"mandarina\", \"durazno\", \"coco\", \"ciruela\"]\n",
    "\n",
    "frutas.insert(3, 'jocote')\n",
    "\n",
    "'jocote' in frutas\n",
    "\n",
    "frutas"
   ]
  },
  {
   "cell_type": "code",
   "execution_count": 171,
   "id": "8001751c",
   "metadata": {},
   "outputs": [
    {
     "data": {
      "text/plain": [
       "['manzana',\n",
       " 'banana',\n",
       " 'naranja',\n",
       " 'jocote',\n",
       " 'pera',\n",
       " 'uva',\n",
       " 'guineo',\n",
       " 'kiwi',\n",
       " 'sandía',\n",
       " 'mango',\n",
       " 'melón',\n",
       " 'fresa',\n",
       " 'papaya',\n",
       " 'piña',\n",
       " 'cereza',\n",
       " 'limón',\n",
       " 'granada',\n",
       " 'frambuesa',\n",
       " 'mandarina',\n",
       " 'durazno',\n",
       " 'coco',\n",
       " 'ciruela']"
      ]
     },
     "execution_count": 171,
     "metadata": {},
     "output_type": "execute_result"
    }
   ],
   "source": [
    "frutas.insert(6,'guineo')\n",
    "frutas"
   ]
  },
  {
   "cell_type": "markdown",
   "id": "a69088a7",
   "metadata": {},
   "source": [
    "### Eliminar elementos en una lista\n",
    "\n",
    "Para eliminar un elemento en específico en una lista utilizamos el método `remove()`:\n",
    "\n",
    "`Sintaxis:`\n",
    "\n",
    "`list.remove(elemento)`"
   ]
  },
  {
   "cell_type": "code",
   "execution_count": 172,
   "id": "e75d6a65",
   "metadata": {},
   "outputs": [
    {
     "name": "stdout",
     "output_type": "stream",
     "text": [
      "['manzana', 'banana', 'naranja', 'jocote', 'pera', 'uva', 'guineo', 'kiwi', 'sandía', 'mango', 'melón', 'fresa', 'papaya', 'piña', 'cereza', 'limón', 'granada', 'frambuesa', 'mandarina', 'durazno', 'coco', 'ciruela']\n",
      "['manzana', 'banana', 'naranja', 'jocote', 'pera', 'uva', 'kiwi', 'sandía', 'mango', 'melón', 'fresa', 'papaya', 'piña', 'cereza', 'limón', 'granada', 'frambuesa', 'mandarina', 'durazno', 'coco', 'ciruela']\n"
     ]
    }
   ],
   "source": [
    "print(frutas)\n",
    "frutas.remove('guineo')\n",
    "print(frutas)"
   ]
  },
  {
   "cell_type": "code",
   "execution_count": 173,
   "id": "cd7c1226",
   "metadata": {},
   "outputs": [
    {
     "data": {
      "text/plain": [
       "False"
      ]
     },
     "execution_count": 173,
     "metadata": {},
     "output_type": "execute_result"
    }
   ],
   "source": [
    "'guineo' in frutas"
   ]
  },
  {
   "cell_type": "markdown",
   "id": "8d6344d3",
   "metadata": {},
   "source": [
    "### Eliminar elementos en una lista utilizando el método `pop( )`\n",
    "\n",
    "Para eliminar un elemento en un índice especifico  de una lista utilizamos el método `pop()`:\n",
    "\n",
    "`Sintaxis:`\n",
    "\n",
    "`list.pop(index)`"
   ]
  },
  {
   "cell_type": "code",
   "execution_count": 174,
   "id": "94033584",
   "metadata": {},
   "outputs": [
    {
     "name": "stdout",
     "output_type": "stream",
     "text": [
      "['manzana', 'banana', 'naranja', 'jocote', 'pera', 'uva', 'kiwi', 'sandía', 'mango', 'melón', 'fresa', 'papaya', 'piña', 'cereza', 'limón', 'granada', 'frambuesa', 'mandarina', 'durazno', 'coco', 'ciruela']\n"
     ]
    }
   ],
   "source": [
    "print(frutas)"
   ]
  },
  {
   "cell_type": "code",
   "execution_count": 175,
   "id": "2b4aeaf6",
   "metadata": {},
   "outputs": [
    {
     "data": {
      "text/plain": [
       "'ciruela'"
      ]
     },
     "execution_count": 175,
     "metadata": {},
     "output_type": "execute_result"
    }
   ],
   "source": [
    "frutas.pop()"
   ]
  },
  {
   "cell_type": "code",
   "execution_count": 176,
   "id": "da6bfc9e",
   "metadata": {},
   "outputs": [
    {
     "data": {
      "text/plain": [
       "20"
      ]
     },
     "execution_count": 176,
     "metadata": {},
     "output_type": "execute_result"
    }
   ],
   "source": [
    "len(frutas)"
   ]
  },
  {
   "cell_type": "code",
   "execution_count": 177,
   "id": "66064840",
   "metadata": {},
   "outputs": [
    {
     "data": {
      "text/plain": [
       "'coco'"
      ]
     },
     "execution_count": 177,
     "metadata": {},
     "output_type": "execute_result"
    }
   ],
   "source": [
    "frutas.pop(19)"
   ]
  },
  {
   "cell_type": "code",
   "execution_count": 178,
   "id": "6d482b4f",
   "metadata": {},
   "outputs": [
    {
     "data": {
      "text/plain": [
       "19"
      ]
     },
     "execution_count": 178,
     "metadata": {},
     "output_type": "execute_result"
    }
   ],
   "source": [
    "len(frutas)"
   ]
  },
  {
   "cell_type": "markdown",
   "id": "71efdec9",
   "metadata": {},
   "source": [
    "### Eliminar elementos en una lista utilizando `del( )`\n",
    "\n",
    "Para eliminar un elemento en específico, un grupo en especifico o toda la lista en una lista utilizamos el método `del()`:\n",
    "\n",
    "`Sintaxis:`\n",
    "\n",
    "- `del list[index]`\n",
    "\n",
    "- `del list`\n",
    "\n",
    "- `del list[a:b]`"
   ]
  },
  {
   "cell_type": "code",
   "execution_count": 179,
   "id": "fa0b2711",
   "metadata": {},
   "outputs": [
    {
     "name": "stdout",
     "output_type": "stream",
     "text": [
      "['manzana', 'banana', 'naranja', 'jocote', 'pera', 'uva', 'kiwi', 'sandía', 'mango', 'melón', 'fresa', 'papaya', 'piña', 'cereza', 'limón', 'granada', 'frambuesa', 'mandarina', 'durazno']\n"
     ]
    }
   ],
   "source": [
    "print(frutas)"
   ]
  },
  {
   "cell_type": "code",
   "execution_count": 180,
   "id": "889221e1",
   "metadata": {},
   "outputs": [
    {
     "name": "stdout",
     "output_type": "stream",
     "text": [
      "['banana', 'naranja', 'jocote', 'pera', 'uva', 'kiwi', 'sandía', 'mango', 'melón', 'fresa', 'papaya', 'piña', 'cereza', 'limón', 'granada', 'frambuesa', 'mandarina', 'durazno']\n"
     ]
    }
   ],
   "source": [
    "del frutas[0]\n",
    "print(frutas)"
   ]
  },
  {
   "cell_type": "code",
   "execution_count": 181,
   "id": "0a1555a1",
   "metadata": {},
   "outputs": [
    {
     "name": "stdout",
     "output_type": "stream",
     "text": [
      "['banana', 'naranja', 'jocote', 'pera', 'fresa', 'papaya', 'piña', 'cereza', 'limón', 'granada', 'frambuesa', 'mandarina', 'durazno']\n"
     ]
    }
   ],
   "source": [
    "del frutas[4:9]\n",
    "print(frutas)"
   ]
  },
  {
   "cell_type": "code",
   "execution_count": 183,
   "id": "fb05b14a",
   "metadata": {},
   "outputs": [
    {
     "ename": "NameError",
     "evalue": "name 'frutas' is not defined",
     "output_type": "error",
     "traceback": [
      "\u001b[0;31m---------------------------------------------------------------------------\u001b[0m",
      "\u001b[0;31mNameError\u001b[0m                                 Traceback (most recent call last)",
      "Input \u001b[0;32mIn [183]\u001b[0m, in \u001b[0;36m<cell line: 1>\u001b[0;34m()\u001b[0m\n\u001b[0;32m----> 1\u001b[0m \u001b[38;5;28;01mdel\u001b[39;00m frutas\n\u001b[1;32m      2\u001b[0m \u001b[38;5;28mprint\u001b[39m(frutas)\n",
      "\u001b[0;31mNameError\u001b[0m: name 'frutas' is not defined"
     ]
    }
   ],
   "source": [
    "del frutas\n",
    "print(frutas)"
   ]
  },
  {
   "cell_type": "markdown",
   "id": "da575a66",
   "metadata": {},
   "source": [
    "### Limpiar items de listas\n",
    "\n",
    "El método `clear()` limpia elementos en una lista.\n",
    "\n",
    "```\n",
    "Sintaxis:\n",
    "```\n",
    "`list.clear()\n",
    "`"
   ]
  },
  {
   "cell_type": "code",
   "execution_count": 186,
   "id": "40a4f224",
   "metadata": {},
   "outputs": [
    {
     "name": "stdout",
     "output_type": "stream",
     "text": [
      "['Belice', 'Costa Rica', 'El Salvador', 'Guatemala', 'Honduras', 'Nicaragua', 'Panamá']\n"
     ]
    }
   ],
   "source": [
    "paisesCentroamerica = [\"Belice\", \"Costa Rica\", \"El Salvador\", \"Guatemala\", \"Honduras\", \"Nicaragua\", \"Panamá\"]\n",
    "print(paisesCentroamerica)"
   ]
  },
  {
   "cell_type": "code",
   "execution_count": 187,
   "id": "331b007b",
   "metadata": {},
   "outputs": [],
   "source": [
    "paisesCentroamerica.clear()"
   ]
  },
  {
   "cell_type": "code",
   "execution_count": 188,
   "id": "e9e5e02c",
   "metadata": {},
   "outputs": [
    {
     "data": {
      "text/plain": [
       "[]"
      ]
     },
     "execution_count": 188,
     "metadata": {},
     "output_type": "execute_result"
    }
   ],
   "source": [
    "paisesCentroamerica"
   ]
  },
  {
   "cell_type": "markdown",
   "id": "928231fe",
   "metadata": {},
   "source": [
    "### Como copiar una lista.\n",
    "\n",
    "`Sintaxis`\n",
    "\n",
    "`listNew = list.copy()`"
   ]
  },
  {
   "cell_type": "code",
   "execution_count": 189,
   "id": "f86fcb2f",
   "metadata": {},
   "outputs": [],
   "source": [
    "paisesNorteamerica = [\"Estados Unidos\", \"Canadá\", \"México\"]"
   ]
  },
  {
   "cell_type": "code",
   "execution_count": 191,
   "id": "faecac5d",
   "metadata": {},
   "outputs": [
    {
     "data": {
      "text/plain": [
       "['Estados Unidos', 'Canadá', 'México']"
      ]
     },
     "execution_count": 191,
     "metadata": {},
     "output_type": "execute_result"
    }
   ],
   "source": [
    "newPaises = paisesNorteamerica.copy()\n",
    "newPaises"
   ]
  },
  {
   "cell_type": "markdown",
   "id": "4c217033",
   "metadata": {},
   "source": [
    "### Unir listas \n",
    "\n",
    "utilizamo el operador de concatenacion `( + )`"
   ]
  },
  {
   "cell_type": "code",
   "execution_count": 194,
   "id": "c187c25c",
   "metadata": {},
   "outputs": [
    {
     "data": {
      "text/plain": [
       "['Estados Unidos',\n",
       " 'Canadá',\n",
       " 'México',\n",
       " 'Belice',\n",
       " 'Costa Rica',\n",
       " 'El Salvador',\n",
       " 'Guatemala',\n",
       " 'Honduras',\n",
       " 'Nicaragua',\n",
       " 'Panamá']"
      ]
     },
     "execution_count": 194,
     "metadata": {},
     "output_type": "execute_result"
    }
   ],
   "source": [
    "paisesNorteamerica = [\"Estados Unidos\", \"Canadá\", \"México\"]\n",
    "paisesCentroamerica = [\"Belice\", \"Costa Rica\", \"El Salvador\", \"Guatemala\", \"Honduras\", \"Nicaragua\", \"Panamá\"]\n",
    "\n",
    "casiAmerica = paisesNorteamerica + paisesCentroamerica\n",
    "casiAmerica"
   ]
  },
  {
   "cell_type": "markdown",
   "id": "408d4e27",
   "metadata": {},
   "source": [
    "Utilizando el método `extend()` para unir listas\n",
    "\n",
    "`Sintaxis:`\n",
    "\n",
    "`list1.extend(list2)`"
   ]
  },
  {
   "cell_type": "code",
   "execution_count": 196,
   "id": "5a34e556",
   "metadata": {},
   "outputs": [
    {
     "data": {
      "text/plain": [
       "[1, 2, 3, 4, 5, 6, 'a', 'b', 'c']"
      ]
     },
     "execution_count": 196,
     "metadata": {},
     "output_type": "execute_result"
    }
   ],
   "source": [
    "lista1 = [1, 2, 3, 4, 5, 6]\n",
    "lista2 = ['a', 'b', 'c']\n",
    "\n",
    "lista1.extend(lista2)\n",
    "lista1"
   ]
  },
  {
   "cell_type": "markdown",
   "id": "a14f5abd",
   "metadata": {},
   "source": [
    "### Contando elmentos en uns lista\n",
    "Utilizando el método `extend()` para unir listas\n",
    "\n",
    "`Sintaxis:`\n",
    "\n",
    "`list.count(item)`"
   ]
  },
  {
   "cell_type": "code",
   "execution_count": 199,
   "id": "7925df19",
   "metadata": {},
   "outputs": [
    {
     "name": "stdout",
     "output_type": "stream",
     "text": [
      "[1, 2, 3, 4, 5, 6, 'a', 'b', 'c', 1, 1]\n"
     ]
    },
    {
     "data": {
      "text/plain": [
       "3"
      ]
     },
     "execution_count": 199,
     "metadata": {},
     "output_type": "execute_result"
    }
   ],
   "source": [
    "lista1.append(1)\n",
    "print(lista1)\n",
    "lista1.count(1)"
   ]
  },
  {
   "cell_type": "markdown",
   "id": "8d4081d6",
   "metadata": {},
   "source": [
    "### Buscar elementos en una lista\n",
    "\n",
    "Utilizando el método \n",
    "\n",
    "`Sintaxis:`\n",
    "\n",
    "`list.index(item)`"
   ]
  },
  {
   "cell_type": "code",
   "execution_count": 200,
   "id": "74a9c33e",
   "metadata": {},
   "outputs": [
    {
     "data": {
      "text/plain": [
       "2"
      ]
     },
     "execution_count": 200,
     "metadata": {},
     "output_type": "execute_result"
    }
   ],
   "source": [
    "lista1.index(3)"
   ]
  },
  {
   "cell_type": "markdown",
   "id": "61b3d897",
   "metadata": {},
   "source": [
    "### Reversing elemento una lista\n",
    "\n",
    "Utilizando el método \n",
    "\n",
    "`Sintaxis:`\n",
    "\n",
    "`list.reverse()`"
   ]
  },
  {
   "cell_type": "code",
   "execution_count": 220,
   "id": "559b50e2",
   "metadata": {},
   "outputs": [
    {
     "name": "stdout",
     "output_type": "stream",
     "text": [
      "['sandia', 'limon', 'mango', 'guineo', 'banana']\n"
     ]
    }
   ],
   "source": [
    "frutas2 = ['banana', 'guineo', 'mango', 'limon', 'sandia']\n",
    "\n",
    "frutas2.reverse()\n",
    "\n",
    "print(frutas2)\n"
   ]
  },
  {
   "cell_type": "code",
   "execution_count": 221,
   "id": "a9a5ab20",
   "metadata": {},
   "outputs": [
    {
     "name": "stdout",
     "output_type": "stream",
     "text": [
      "[32, 30, 24, 25, 24, 26, 25, 24, 19, 22]\n"
     ]
    }
   ],
   "source": [
    "edades = [22, 19, 24, 25, 26, 24, 25, 24, 30, 32]\n",
    "\n",
    "edades.reverse()\n",
    "\n",
    "print(edades) \n"
   ]
  },
  {
   "cell_type": "markdown",
   "id": "5d160d3a",
   "metadata": {},
   "source": [
    "### Ordenar elementos en una lista\n",
    "\n",
    "Para ordenar listas, podemos utilizar el método `sort()` o las funciones integradas `sorted()`. \n",
    "\n",
    "El método `sort()` reorganiza los elementos de la lista en orden ascendente y modifica la lista original. Si se proporciona un argumento reverse igual a verdadero al método `sort()`, ordenará la lista en orden descendente.\n",
    "\n",
    "`Sintaxis:`\n",
    "\n",
    "`# Ascendente modificando la lista  original`\n",
    "\n",
    "`lst.sort() `\n",
    "\n",
    "`# Descendente modificando la lista original`\n",
    "\n",
    "`lst.sort(reverse=True)`"
   ]
  },
  {
   "cell_type": "code",
   "execution_count": 224,
   "id": "a9ebab9e",
   "metadata": {},
   "outputs": [
    {
     "name": "stdout",
     "output_type": "stream",
     "text": [
      "['banana', 'guineo', 'limon', 'mango']\n"
     ]
    }
   ],
   "source": [
    "frutas2 = [ 'mango','guineo', 'banana','limon']\n",
    "\n",
    "frutas2.sort()\n",
    "print(frutas2)\n"
   ]
  },
  {
   "cell_type": "code",
   "execution_count": 225,
   "id": "8845239e",
   "metadata": {},
   "outputs": [
    {
     "name": "stdout",
     "output_type": "stream",
     "text": [
      "[26, 25, 25, 24, 24, 24, 22, 19]\n"
     ]
    }
   ],
   "source": [
    "edades = [22, 19, 24, 25, 26, 24, 25, 24]\n",
    "edades.sort(reverse = True)\n",
    "print(edades) "
   ]
  },
  {
   "cell_type": "code",
   "execution_count": 227,
   "id": "feb2110c",
   "metadata": {},
   "outputs": [
    {
     "name": "stdout",
     "output_type": "stream",
     "text": [
      "['banana', 'guineo', 'limon', 'mango']\n"
     ]
    }
   ],
   "source": [
    "frutas2 = [ 'mango','guineo', 'banana','limon']\n",
    "print(sorted(frutas2))\n"
   ]
  },
  {
   "cell_type": "code",
   "execution_count": 228,
   "id": "7d3baa90",
   "metadata": {},
   "outputs": [
    {
     "name": "stdout",
     "output_type": "stream",
     "text": [
      "[26, 25, 25, 24, 24, 24, 22, 19]\n"
     ]
    }
   ],
   "source": [
    "edades = [22, 19, 24, 25, 26, 24, 25, 24]\n",
    "print(sorted(edades, reverse = True)) \n"
   ]
  },
  {
   "cell_type": "markdown",
   "id": "30e5d8a4",
   "metadata": {},
   "source": [
    "### <span style=\"color:darkred\">Tuplas en Python - tuples</span>\n",
    "\n",
    "Las tuplas se utilizan para almacenar varios elementos en una sola variable al igual que las listas. \n",
    "\n",
    "Una tupla es una colección ordenada e inmutable. Las tuplas se escriben con paréntesis. \n",
    "\n",
    "Crear una tupla:"
   ]
  },
  {
   "cell_type": "code",
   "execution_count": 231,
   "id": "9dd10234",
   "metadata": {},
   "outputs": [
    {
     "name": "stdout",
     "output_type": "stream",
     "text": [
      "('apple', 'banana', 'cherry')\n",
      "()\n"
     ]
    }
   ],
   "source": [
    "thistuple = (\"apple\", \"banana\", \"cherry\") \n",
    "\n",
    "print(thistuple)\n",
    "\n",
    "emptytuple = ()\n",
    "\n",
    "print(emptytuple)"
   ]
  },
  {
   "cell_type": "markdown",
   "id": "8aadc764",
   "metadata": {},
   "source": [
    "### <span style=\"color:darkred\">Características principales</span>\n",
    "\n",
    "#### <span style=\"color:darkred\">Elementos de tupla:</span>\n",
    "\n",
    "    Los elementos de tupla están ordenados, no se pueden modificar y permiten valores duplicados. Los elementos de tupla están indexados, el primer elemento tiene índice [0], el segundo elemento tiene índice [1], etc.\n",
    "\n",
    "#### <span style=\"color:darkred\">Ordenado:</span> \n",
    "\n",
    "    Cuando decimos que las tuplas están ordenadas, significa que los elementos tienen un orden definido y ese orden no cambiará.\n",
    "\n",
    "#### <span style=\"color:darkred\">Inmutable:</span> \n",
    "\n",
    "    Las tuplas no se pueden cambiar, lo que significa que no podemos cambiar, agregar o eliminar elementos después de que se haya creado la tupla.\n",
    "\n",
    "#### <span style=\"color:darkred\">Permitir duplicados</span> \n",
    "\n",
    "    Dado que las tuplas están indexadas, pueden tener elementos con el mismo valor.\n",
    "    \n",
    "### <span style=\"color:darkred\">Longitud de la tupla</span> \n",
    "Para determinar cuántos elementos tiene una tupla, use la función `len()`:\n"
   ]
  },
  {
   "cell_type": "code",
   "execution_count": 232,
   "id": "6a5f4176",
   "metadata": {},
   "outputs": [
    {
     "name": "stdout",
     "output_type": "stream",
     "text": [
      "3\n"
     ]
    }
   ],
   "source": [
    "thistuple = (\"apple\", \"banana\", \"cherry\")\n",
    "print (len(thistuple))"
   ]
  },
  {
   "cell_type": "markdown",
   "id": "7696a6f9",
   "metadata": {},
   "source": [
    "### <span style=\"color:darkred\">Crear tupla con un elemento</span> \n",
    "\n",
    "Para crear una tupla con un solo elemento, debe agregar una coma después del elemento; de lo contrario, Python no lo reconocerá como una tupla."
   ]
  },
  {
   "cell_type": "code",
   "execution_count": 233,
   "id": "e461c78c",
   "metadata": {},
   "outputs": [
    {
     "name": "stdout",
     "output_type": "stream",
     "text": [
      "<class 'tuple'>\n",
      "<class 'str'>\n"
     ]
    }
   ],
   "source": [
    "thistuple = (\"apple\",)\n",
    "print(type(thistuple))\n",
    "\n",
    "#NOT a tuple\n",
    "thistuple = (\"apple\")\n",
    "print(type(thistuple))"
   ]
  },
  {
   "cell_type": "code",
   "execution_count": 240,
   "id": "c5d9e2ca",
   "metadata": {},
   "outputs": [
    {
     "name": "stdout",
     "output_type": "stream",
     "text": [
      "('manzana', 'banana', 'naranja', 'pera', 'uva', 'kiwi', 'sandía', 'mango', 'melón', 'fresa', 'papaya')\n",
      "manzana\n",
      "sandía\n",
      "fresa\n"
     ]
    }
   ],
   "source": [
    "frutasTuple = (\"manzana\", \"banana\", \"naranja\", \"pera\", \"uva\", \"kiwi\", \"sandía\", \"mango\", \"melón\", \"fresa\",\n",
    "          \"papaya\")\n",
    "\n",
    "print(frutasTuple)\n",
    "\n",
    "print(frutasTuple[0])\n",
    "print(frutasTuple[6])\n",
    "print(frutasTuple[9])"
   ]
  },
  {
   "cell_type": "code",
   "execution_count": 241,
   "id": "7afed5ee",
   "metadata": {},
   "outputs": [
    {
     "name": "stdout",
     "output_type": "stream",
     "text": [
      "papaya\n",
      "kiwi\n",
      "naranja\n"
     ]
    }
   ],
   "source": [
    "print(frutasTuple[-1])\n",
    "print(frutasTuple[-6])\n",
    "print(frutasTuple[-9])"
   ]
  },
  {
   "cell_type": "code",
   "execution_count": 242,
   "id": "9c12672f",
   "metadata": {},
   "outputs": [
    {
     "ename": "TypeError",
     "evalue": "'tuple' object does not support item assignment",
     "output_type": "error",
     "traceback": [
      "\u001b[0;31m---------------------------------------------------------------------------\u001b[0m",
      "\u001b[0;31mTypeError\u001b[0m                                 Traceback (most recent call last)",
      "Input \u001b[0;32mIn [242]\u001b[0m, in \u001b[0;36m<cell line: 1>\u001b[0;34m()\u001b[0m\n\u001b[0;32m----> 1\u001b[0m frutasTuple[\u001b[38;5;241m0\u001b[39m] \u001b[38;5;241m=\u001b[39m \u001b[38;5;124m'\u001b[39m\u001b[38;5;124mmango\u001b[39m\u001b[38;5;124m'\u001b[39m\n",
      "\u001b[0;31mTypeError\u001b[0m: 'tuple' object does not support item assignment"
     ]
    }
   ],
   "source": [
    "# No se pueden modificar\n",
    "\n",
    "frutasTuple[0] = 'mango'"
   ]
  },
  {
   "cell_type": "markdown",
   "id": "e0224004",
   "metadata": {},
   "source": [
    "### Slicing en la Tuplas"
   ]
  },
  {
   "cell_type": "code",
   "execution_count": 244,
   "id": "83991e65",
   "metadata": {},
   "outputs": [
    {
     "data": {
      "text/plain": [
       "('manzana', 'banana', 'naranja', 'pera')"
      ]
     },
     "execution_count": 244,
     "metadata": {},
     "output_type": "execute_result"
    }
   ],
   "source": [
    "frutasTuple = (\"manzana\", \"banana\", \"naranja\", \"pera\", \"uva\", \"kiwi\", \"sandía\", \"mango\", \"melón\", \"fresa\",\n",
    "          \"papaya\")\n",
    "\n",
    "tpl1 = frutasTuple[0:4]\n",
    "tpl1"
   ]
  },
  {
   "cell_type": "code",
   "execution_count": 246,
   "id": "dddc18d7",
   "metadata": {},
   "outputs": [
    {
     "data": {
      "text/plain": [
       "('naranja', 'pera', 'uva', 'kiwi', 'sandía', 'mango')"
      ]
     },
     "execution_count": 246,
     "metadata": {},
     "output_type": "execute_result"
    }
   ],
   "source": [
    "tpl2 = frutasTuple[2:8]\n",
    "tpl2"
   ]
  },
  {
   "cell_type": "code",
   "execution_count": 247,
   "id": "980cb742",
   "metadata": {},
   "outputs": [
    {
     "data": {
      "text/plain": [
       "('melón', 'fresa', 'papaya')"
      ]
     },
     "execution_count": 247,
     "metadata": {},
     "output_type": "execute_result"
    }
   ],
   "source": [
    "tpl3 = frutasTuple[-3:]\n",
    "tpl3"
   ]
  },
  {
   "cell_type": "markdown",
   "id": "b844a633",
   "metadata": {},
   "source": [
    "### Cambiando Tuplas a Listas"
   ]
  },
  {
   "cell_type": "code",
   "execution_count": 250,
   "id": "6ef204da",
   "metadata": {},
   "outputs": [
    {
     "name": "stdout",
     "output_type": "stream",
     "text": [
      "<class 'list'>\n",
      "['melón', 'fresa', 'papaya']\n"
     ]
    }
   ],
   "source": [
    "lst2tpl = list(tpl3)\n",
    "\n",
    "print(type(lst2tpl))\n",
    "\n",
    "print(lst2tpl)"
   ]
  },
  {
   "cell_type": "code",
   "execution_count": 253,
   "id": "4d5ab56f",
   "metadata": {},
   "outputs": [
    {
     "name": "stdout",
     "output_type": "stream",
     "text": [
      "('melón', 'fresa', 'papaya', 'coco', 'coco', 'coco')\n"
     ]
    }
   ],
   "source": [
    "lst2tpl.append('coco')\n",
    "\n",
    "tpl3 = tuple(lst2tpl)\n",
    "\n",
    "print(tpl3)"
   ]
  },
  {
   "cell_type": "markdown",
   "id": "c98cfaa7",
   "metadata": {},
   "source": [
    "### Búsquedas en Tuplas"
   ]
  },
  {
   "cell_type": "code",
   "execution_count": 254,
   "id": "f4037b78",
   "metadata": {},
   "outputs": [
    {
     "data": {
      "text/plain": [
       "True"
      ]
     },
     "execution_count": 254,
     "metadata": {},
     "output_type": "execute_result"
    }
   ],
   "source": [
    "'fresa' in tpl3"
   ]
  },
  {
   "cell_type": "markdown",
   "id": "b4fbe229",
   "metadata": {},
   "source": [
    "### Unir Tuplas `+`"
   ]
  },
  {
   "cell_type": "code",
   "execution_count": 256,
   "id": "76b9f47c",
   "metadata": {},
   "outputs": [
    {
     "data": {
      "text/plain": [
       "('manzana',\n",
       " 'banana',\n",
       " 'naranja',\n",
       " 'pera',\n",
       " 'melón',\n",
       " 'fresa',\n",
       " 'papaya',\n",
       " 'coco',\n",
       " 'coco',\n",
       " 'coco')"
      ]
     },
     "execution_count": 256,
     "metadata": {},
     "output_type": "execute_result"
    }
   ],
   "source": [
    "joinTpl = tpl1+tpl3\n",
    "joinTpl"
   ]
  },
  {
   "cell_type": "markdown",
   "id": "7a4f0ca4",
   "metadata": {},
   "source": [
    "### Borrar Tuplas"
   ]
  },
  {
   "cell_type": "code",
   "execution_count": 258,
   "id": "656901a3",
   "metadata": {},
   "outputs": [
    {
     "ename": "NameError",
     "evalue": "name 'joinTpl' is not defined",
     "output_type": "error",
     "traceback": [
      "\u001b[0;31m---------------------------------------------------------------------------\u001b[0m",
      "\u001b[0;31mNameError\u001b[0m                                 Traceback (most recent call last)",
      "Input \u001b[0;32mIn [258]\u001b[0m, in \u001b[0;36m<cell line: 1>\u001b[0;34m()\u001b[0m\n\u001b[0;32m----> 1\u001b[0m \u001b[38;5;28;01mdel\u001b[39;00m joinTpl\n\u001b[1;32m      3\u001b[0m \u001b[38;5;28mprint\u001b[39m(joinTpl)\n",
      "\u001b[0;31mNameError\u001b[0m: name 'joinTpl' is not defined"
     ]
    }
   ],
   "source": [
    "del joinTpl\n",
    "\n",
    "print(joinTpl)"
   ]
  },
  {
   "cell_type": "markdown",
   "id": "8af9c28a",
   "metadata": {},
   "source": [
    "\n",
    "#### <span style=\"color:darkred\">Conjuntos en Python - `set`</span> \n",
    "\n",
    "Los conjuntos se utilizan para almacenar varios elementos en una sola variable. Un conjunto es una colección desordenada, inmutable* y no indexada. \n",
    "\n",
    "Los elementos establecidos no se pueden modificar, pero puede eliminar elementos y agregar elementos nuevos. Los conjuntos se escriben con llaves."
   ]
  },
  {
   "cell_type": "code",
   "execution_count": 259,
   "id": "181b9887",
   "metadata": {},
   "outputs": [
    {
     "name": "stdout",
     "output_type": "stream",
     "text": [
      "{'cherry', 'apple', 'banana'}\n"
     ]
    }
   ],
   "source": [
    "thisset = {\"apple\", \"banana\", \"cherry\"}\n",
    "print(thisset)"
   ]
  },
  {
   "cell_type": "markdown",
   "id": "9ef7c636",
   "metadata": {},
   "source": [
    "Los conjuntos no están ordenados, por lo que no puede estar seguro en qué orden aparecerán los elementos.\n",
    "\n",
    "### <span style=\"color:darkred\">Características principales</span>\n",
    "\n",
    "#### <span style=\"color:darkred\">Establecer elementos:</span>\n",
    "\n",
    "    Los elementos establecidos no están ordenados, no se pueden modificar y no permiten valores duplicados.\n",
    "\n",
    "#### <span style=\"color:darkred\">Desordenado:</span> \n",
    "\n",
    "    desordenado significa que los elementos de un conjunto no tienen un orden definido.\n",
    "    \n",
    "    Los elementos establecidos pueden aparecer en un orden diferente cada vez que los usa y no se puede hacer referencia a ellos por índice o clave.\n",
    "\n",
    "\n",
    "#### <span style=\"color:darkred\">Inmutable:</span> \n",
    "\n",
    "    Los elementos del conjunto no se pueden cambiar, lo que significa que no podemos cambiar los elementos después de que se haya creado el conjunto. \n",
    "    \n",
    "    Una vez que se crea un conjunto, no puede cambiar sus elementos, pero puede eliminar elementos y agregar elementos nuevos.\n",
    "\n",
    "#### <span style=\"color:darkred\">No se permiten duplicados</span> \n",
    "\n",
    "    los conjuntos no pueden tener dos artículos con el mismo valor.\n",
    "    \n",
    "#### <span style=\"color:darkorange\">Nota</span>  \n",
    "\n",
    "Los valores `True` y `1` se consideran el mismo valor en conjuntos y se tratan como duplicados.\n",
    "\n",
    " \n",
    "### <span style=\"color:darkred\">Obtener la longitud de un conjunto</span> \n",
    "\n",
    "Para determinar cuántos elementos tiene un set, use la función `len()`:"
   ]
  },
  {
   "cell_type": "code",
   "execution_count": 260,
   "id": "68370525",
   "metadata": {},
   "outputs": [
    {
     "name": "stdout",
     "output_type": "stream",
     "text": [
      "3\n"
     ]
    }
   ],
   "source": [
    "thisset = {\"apple\", \"banana\", \"cherry\"}\n",
    "\n",
    "print(len(thisset))"
   ]
  },
  {
   "cell_type": "code",
   "execution_count": 262,
   "id": "45ad7211",
   "metadata": {},
   "outputs": [
    {
     "data": {
      "text/plain": [
       "{'apple', 'banana', 'cherry'}"
      ]
     },
     "execution_count": 262,
     "metadata": {},
     "output_type": "execute_result"
    }
   ],
   "source": [
    "set1 = {\"apple\", \"banana\", \"cherry\", 'apple' }\n",
    "\n",
    "set1"
   ]
  },
  {
   "cell_type": "code",
   "execution_count": 264,
   "id": "8ab35ece",
   "metadata": {},
   "outputs": [
    {
     "data": {
      "text/plain": [
       "{1, 2, 3, 4}"
      ]
     },
     "execution_count": 264,
     "metadata": {},
     "output_type": "execute_result"
    }
   ],
   "source": [
    "set2 = {1,2,3,4 ,3,4,3,4,3,4,3,4,1}\n",
    "\n",
    "set2"
   ]
  },
  {
   "cell_type": "code",
   "execution_count": 265,
   "id": "149fd93c",
   "metadata": {},
   "outputs": [
    {
     "data": {
      "text/plain": [
       "4"
      ]
     },
     "execution_count": 265,
     "metadata": {},
     "output_type": "execute_result"
    }
   ],
   "source": [
    "len(set2)"
   ]
  },
  {
   "cell_type": "code",
   "execution_count": 268,
   "id": "26103c1f",
   "metadata": {},
   "outputs": [
    {
     "name": "stdout",
     "output_type": "stream",
     "text": [
      "{'cherry', 'apple', 'banana'}\n"
     ]
    }
   ],
   "source": [
    "set1 = {\"apple\", \"banana\", \"cherry\", 'apple' }\n",
    "\n",
    "'apple' in set1\n",
    "\n",
    "print(set1)"
   ]
  },
  {
   "cell_type": "code",
   "execution_count": 267,
   "id": "e36c9857",
   "metadata": {},
   "outputs": [
    {
     "name": "stdout",
     "output_type": "stream",
     "text": [
      "cherry\n",
      "apple\n",
      "banana\n"
     ]
    }
   ],
   "source": [
    "for fruit in set1:\n",
    "    print(fruit)"
   ]
  },
  {
   "cell_type": "markdown",
   "id": "e1a55f21",
   "metadata": {},
   "source": [
    "### Agregar elemento en los 'set'\n",
    "\n",
    "Usando el metodo  `set.add(item)` se agrega un elemento, si desea agregar varios utilice `set.update(item1, item2, item3...)`"
   ]
  },
  {
   "cell_type": "code",
   "execution_count": 279,
   "id": "158740be",
   "metadata": {},
   "outputs": [
    {
     "data": {
      "text/plain": [
       "{'apple', 'banana', 'cherry', 'piña'}"
      ]
     },
     "execution_count": 279,
     "metadata": {},
     "output_type": "execute_result"
    }
   ],
   "source": [
    "set1.add('piña')\n",
    "set1\n"
   ]
  },
  {
   "cell_type": "code",
   "execution_count": 281,
   "id": "4335ddab",
   "metadata": {},
   "outputs": [
    {
     "name": "stdout",
     "output_type": "stream",
     "text": [
      "{'piña', 'jocote', 'naranja', 'banana', 'melocoton', 'apple', 'cherry'}\n"
     ]
    }
   ],
   "source": [
    "set2 = {'naranja', 'melocoton', 'jocote' }\n",
    "set1.update(set2)\n",
    "print(set1)"
   ]
  },
  {
   "cell_type": "code",
   "execution_count": 282,
   "id": "fd4bbc4d",
   "metadata": {},
   "outputs": [
    {
     "data": {
      "text/plain": [
       "{'apple', 'banana', 'cherry', 'jocote', 'melocoton', 'naranja', 'piña'}"
      ]
     },
     "execution_count": 282,
     "metadata": {},
     "output_type": "execute_result"
    }
   ],
   "source": [
    "set1"
   ]
  },
  {
   "cell_type": "markdown",
   "id": "424416b5",
   "metadata": {},
   "source": [
    "### Eliminar elementos en un set \n",
    "\n",
    "utilizan `set.remove()`, `set.pop()` elimina aleatoriamente un elemento del `set`.\n",
    "\n",
    "\n"
   ]
  },
  {
   "cell_type": "code",
   "execution_count": 283,
   "id": "df6f2b6b",
   "metadata": {},
   "outputs": [
    {
     "data": {
      "text/plain": [
       "'piña'"
      ]
     },
     "execution_count": 283,
     "metadata": {},
     "output_type": "execute_result"
    }
   ],
   "source": [
    "set1.pop()"
   ]
  },
  {
   "cell_type": "code",
   "execution_count": 286,
   "id": "6e81667f",
   "metadata": {},
   "outputs": [
    {
     "data": {
      "text/plain": [
       "'jocote'"
      ]
     },
     "execution_count": 286,
     "metadata": {},
     "output_type": "execute_result"
    }
   ],
   "source": [
    "set1.pop()"
   ]
  },
  {
   "cell_type": "code",
   "execution_count": 290,
   "id": "c0abaf07",
   "metadata": {},
   "outputs": [
    {
     "data": {
      "text/plain": [
       "{'apple', 'banana', 'melocoton', 'naranja'}"
      ]
     },
     "execution_count": 290,
     "metadata": {},
     "output_type": "execute_result"
    }
   ],
   "source": [
    "set1"
   ]
  },
  {
   "cell_type": "code",
   "execution_count": 289,
   "id": "a67fcaa7",
   "metadata": {
    "scrolled": true
   },
   "outputs": [
    {
     "ename": "KeyError",
     "evalue": "'cherry'",
     "output_type": "error",
     "traceback": [
      "\u001b[0;31m---------------------------------------------------------------------------\u001b[0m",
      "\u001b[0;31mKeyError\u001b[0m                                  Traceback (most recent call last)",
      "Input \u001b[0;32mIn [289]\u001b[0m, in \u001b[0;36m<cell line: 1>\u001b[0;34m()\u001b[0m\n\u001b[0;32m----> 1\u001b[0m \u001b[43mset1\u001b[49m\u001b[38;5;241;43m.\u001b[39;49m\u001b[43mremove\u001b[49m\u001b[43m(\u001b[49m\u001b[38;5;124;43m'\u001b[39;49m\u001b[38;5;124;43mcherry\u001b[39;49m\u001b[38;5;124;43m'\u001b[39;49m\u001b[43m)\u001b[49m\n\u001b[1;32m      2\u001b[0m set1\n",
      "\u001b[0;31mKeyError\u001b[0m: 'cherry'"
     ]
    }
   ],
   "source": [
    "set1.remove('cherry')"
   ]
  },
  {
   "cell_type": "code",
   "execution_count": 293,
   "id": "3b68d31b",
   "metadata": {},
   "outputs": [
    {
     "data": {
      "text/plain": [
       "set()"
      ]
     },
     "execution_count": 293,
     "metadata": {},
     "output_type": "execute_result"
    }
   ],
   "source": [
    "set1.clear()\n",
    "set1"
   ]
  },
  {
   "cell_type": "code",
   "execution_count": 294,
   "id": "6e37ce8e",
   "metadata": {},
   "outputs": [],
   "source": [
    "del set1"
   ]
  },
  {
   "cell_type": "code",
   "execution_count": 295,
   "id": "5512905d",
   "metadata": {},
   "outputs": [
    {
     "ename": "NameError",
     "evalue": "name 'set1' is not defined",
     "output_type": "error",
     "traceback": [
      "\u001b[0;31m---------------------------------------------------------------------------\u001b[0m",
      "\u001b[0;31mNameError\u001b[0m                                 Traceback (most recent call last)",
      "Input \u001b[0;32mIn [295]\u001b[0m, in \u001b[0;36m<cell line: 1>\u001b[0;34m()\u001b[0m\n\u001b[0;32m----> 1\u001b[0m \u001b[43mset1\u001b[49m\n",
      "\u001b[0;31mNameError\u001b[0m: name 'set1' is not defined"
     ]
    }
   ],
   "source": [
    "set1"
   ]
  },
  {
   "cell_type": "markdown",
   "id": "af75de90",
   "metadata": {},
   "source": [
    "### Unión de conjuntos `union( )`"
   ]
  },
  {
   "cell_type": "code",
   "execution_count": 297,
   "id": "a0bef2dd",
   "metadata": {},
   "outputs": [
    {
     "data": {
      "text/plain": [
       "{1, 2, 3, 4, 5, 6, 8, 9}"
      ]
     },
     "execution_count": 297,
     "metadata": {},
     "output_type": "execute_result"
    }
   ],
   "source": [
    "set1 = {1,2,3,4,5}\n",
    "set2 = {2,6,9,8}\n",
    "\n",
    "\n",
    "set3 = set1.union(set2)\n",
    "\n",
    "set3"
   ]
  },
  {
   "cell_type": "markdown",
   "id": "26380022",
   "metadata": {},
   "source": [
    "### COnvertir listas a conjuntos"
   ]
  },
  {
   "cell_type": "code",
   "execution_count": 304,
   "id": "3f1b8d60",
   "metadata": {},
   "outputs": [
    {
     "data": {
      "text/plain": [
       "{1, 2, 3, 4, 5, 6, 'r', 't', 'y'}"
      ]
     },
     "execution_count": 304,
     "metadata": {},
     "output_type": "execute_result"
    }
   ],
   "source": [
    "listaSet = [1,2,3,4,1,1,2,3,4,5,6,5,'t','y','r','t','y','r']\n",
    "\n",
    "setConvert = set(listaSet)\n",
    "\n",
    "setConvert"
   ]
  },
  {
   "cell_type": "markdown",
   "id": "568dfd22",
   "metadata": {},
   "source": [
    "### interseccion de Conjuntos"
   ]
  },
  {
   "cell_type": "code",
   "execution_count": 307,
   "id": "a6ae1d54",
   "metadata": {},
   "outputs": [
    {
     "data": {
      "text/plain": [
       "{2}"
      ]
     },
     "execution_count": 307,
     "metadata": {},
     "output_type": "execute_result"
    }
   ],
   "source": [
    "set1 = {1,2,3,4,5}\n",
    "set2 = {2,6,9,8}\n",
    "\n",
    "\n",
    "set3 = set1.intersection(set2)\n",
    "\n",
    "set3"
   ]
  },
  {
   "cell_type": "markdown",
   "id": "8c310e33",
   "metadata": {},
   "source": [
    "### Diferencia Simetrica en conjuntos"
   ]
  },
  {
   "cell_type": "code",
   "execution_count": 309,
   "id": "4de2c9e2",
   "metadata": {},
   "outputs": [
    {
     "data": {
      "text/plain": [
       "{1, 3, 4, 5, 6, 8, 9}"
      ]
     },
     "execution_count": 309,
     "metadata": {},
     "output_type": "execute_result"
    }
   ],
   "source": [
    "set1 = {1,2,3,4,5}\n",
    "set2 = {2,6,9,8}\n",
    "\n",
    "\n",
    "set3 = set1.symmetric_difference(set2)\n",
    "\n",
    "set3"
   ]
  },
  {
   "cell_type": "markdown",
   "id": "8cad9efb",
   "metadata": {},
   "source": [
    "### <span style=\"color:darkred\">Diccionario en Python – Dictionary</span> \n",
    "\n",
    "Los diccionarios se utilizan para almacenar valores de datos en pares clave:valor. Un diccionario es una colección ordenada*, modificable y que no admite duplicados. \n",
    "\n",
    "Los diccionarios se escriben con llaves y tienen claves y valores:"
   ]
  },
  {
   "cell_type": "code",
   "execution_count": 310,
   "id": "3b2bff2c",
   "metadata": {},
   "outputs": [
    {
     "name": "stdout",
     "output_type": "stream",
     "text": [
      "{'brand': 'Ford', 'model': 'Mustang', 'year': 1964}\n"
     ]
    }
   ],
   "source": [
    "thisdict = {\n",
    "\"brand\": \"Ford\",\n",
    "\"model\": 'Mustang',\n",
    "\"year\": 1964\n",
    "}\n",
    "print(thisdict)"
   ]
  },
  {
   "cell_type": "code",
   "execution_count": 311,
   "id": "b62ce2e1",
   "metadata": {},
   "outputs": [],
   "source": [
    "emptydict = {}"
   ]
  },
  {
   "cell_type": "markdown",
   "id": "956ab1b8",
   "metadata": {},
   "source": [
    "### <span style=\"color:darkred\">Características principales</span>\n",
    "\n",
    "#### <span style=\"color:darkred\">Elementos del diccionario:</span>\n",
    "\n",
    "    Los elementos del diccionario están ordenados, se pueden modificar y no permiten duplicados. Los elementos del diccionario se presentan en pares clave:valor y se puede hacer referencia a ellos mediante el nombre de la clave.\n",
    "    \n",
    "#### <span style=\"color:darkred\">¿Ordenado o Desordenado?:</span> \n",
    "\n",
    "    Cuando decimos que los diccionarios están ordenados, significa que los elementos tienen un orden definido y ese orden no cambiará. Desordenado significa que los elementos no tienen un orden definido, no puede hacer referencia a un elemento mediante el uso de un índice.\n",
    "\n",
    "#### <span style=\"color:darkred\">Cambiable:</span> \n",
    "\n",
    "    Los diccionarios se pueden cambiar, lo que significa que podemos cambiar, agregar o eliminar elementos después de que se haya creado el diccionario.\n",
    "\n",
    "#### <span style=\"color:darkred\">No se permiten duplicados</span> \n",
    "\n",
    "    los diccionarios no pueden tener dos elementos con la misma clave\n",
    "\n",
    "### <span style=\"color:darkred\">Diccionarios anidados</span> \n",
    "\n",
    "Un diccionario puede contener diccionarios, esto se llama diccionarios anidados, por ejemplo: \n",
    "\n",
    "Cree un diccionario que contenga tres diccionarios:"
   ]
  },
  {
   "cell_type": "code",
   "execution_count": 312,
   "id": "ec20c244",
   "metadata": {},
   "outputs": [
    {
     "data": {
      "text/plain": [
       "{'childl': {'name': 'Emil', 'year': 2004},\n",
       " 'child2': {'name': 'Tobias', 'year': 2007},\n",
       " 'child3': {'name': 'Linus', 'year': 2011}}"
      ]
     },
     "execution_count": 312,
     "metadata": {},
     "output_type": "execute_result"
    }
   ],
   "source": [
    "myfamily = {\n",
    "    \"childl\" : {\n",
    "    \"name\" : \"Emil\",\n",
    "    \"year\": 2004\n",
    "    },\n",
    "    \"child2\" : {\n",
    "    \"name\" : \"Tobias\",\n",
    "    \"year\" : 2007\n",
    "    },\n",
    "    \"child3\" : {\n",
    "    \"name\" : \"Linus\",\n",
    "    \"year\" : 2011\n",
    "    }\n",
    "}\n",
    "\n",
    "myfamily"
   ]
  },
  {
   "cell_type": "code",
   "execution_count": 313,
   "id": "09fbc13e",
   "metadata": {},
   "outputs": [
    {
     "data": {
      "text/plain": [
       "3"
      ]
     },
     "execution_count": 313,
     "metadata": {},
     "output_type": "execute_result"
    }
   ],
   "source": [
    "len(myfamily)"
   ]
  },
  {
   "cell_type": "code",
   "execution_count": 314,
   "id": "a1e256b2",
   "metadata": {},
   "outputs": [
    {
     "data": {
      "text/plain": [
       "{'name': 'Emil', 'year': 2004}"
      ]
     },
     "execution_count": 314,
     "metadata": {},
     "output_type": "execute_result"
    }
   ],
   "source": [
    "myfamily['childl']"
   ]
  },
  {
   "cell_type": "code",
   "execution_count": 315,
   "id": "88f6a6ac",
   "metadata": {},
   "outputs": [
    {
     "data": {
      "text/plain": [
       "{'name': 'Tobias', 'year': 2007}"
      ]
     },
     "execution_count": 315,
     "metadata": {},
     "output_type": "execute_result"
    }
   ],
   "source": [
    "myfamily['child2']"
   ]
  },
  {
   "cell_type": "code",
   "execution_count": 316,
   "id": "482cdf91",
   "metadata": {},
   "outputs": [
    {
     "data": {
      "text/plain": [
       "{'name': 'Linus', 'year': 2011}"
      ]
     },
     "execution_count": 316,
     "metadata": {},
     "output_type": "execute_result"
    }
   ],
   "source": [
    "myfamily['child3']"
   ]
  },
  {
   "cell_type": "code",
   "execution_count": 317,
   "id": "131bf6fe",
   "metadata": {},
   "outputs": [],
   "source": [
    "person = {\n",
    "    'first_name':'Asabeneh',\n",
    "    'last_name':'Yetayeh',\n",
    "    'age':250,\n",
    "    'country':'Finland',\n",
    "    'is_marred':True,\n",
    "    'skills':['JavaScript', 'React', 'Node', 'MongoDB', 'Python'],\n",
    "    'address':{\n",
    "        'street':'Space street',\n",
    "        'zipcode':'02210'\n",
    "    }\n",
    "    }"
   ]
  },
  {
   "cell_type": "code",
   "execution_count": 318,
   "id": "62374042",
   "metadata": {},
   "outputs": [
    {
     "data": {
      "text/plain": [
       "250"
      ]
     },
     "execution_count": 318,
     "metadata": {},
     "output_type": "execute_result"
    }
   ],
   "source": [
    "person['age']"
   ]
  },
  {
   "cell_type": "code",
   "execution_count": 319,
   "id": "eaa59d7d",
   "metadata": {},
   "outputs": [],
   "source": [
    "person['City'] = 'Inventada' "
   ]
  },
  {
   "cell_type": "code",
   "execution_count": 320,
   "id": "4788d574",
   "metadata": {},
   "outputs": [
    {
     "data": {
      "text/plain": [
       "{'first_name': 'Asabeneh',\n",
       " 'last_name': 'Yetayeh',\n",
       " 'age': 250,\n",
       " 'country': 'Finland',\n",
       " 'is_marred': True,\n",
       " 'skills': ['JavaScript', 'React', 'Node', 'MongoDB', 'Python'],\n",
       " 'address': {'street': 'Space street', 'zipcode': '02210'},\n",
       " 'City': 'Inventada'}"
      ]
     },
     "execution_count": 320,
     "metadata": {},
     "output_type": "execute_result"
    }
   ],
   "source": [
    "person"
   ]
  },
  {
   "cell_type": "code",
   "execution_count": 324,
   "id": "2f9c01a6",
   "metadata": {},
   "outputs": [],
   "source": [
    "person['skills'].append('no Inventada')"
   ]
  },
  {
   "cell_type": "code",
   "execution_count": 325,
   "id": "c1826c2c",
   "metadata": {},
   "outputs": [
    {
     "data": {
      "text/plain": [
       "{'first_name': 'Asabeneh',\n",
       " 'last_name': 'Yetayeh',\n",
       " 'age': 250,\n",
       " 'country': 'Finland',\n",
       " 'is_marred': True,\n",
       " 'skills': ['JavaScript',\n",
       "  'React',\n",
       "  'Node',\n",
       "  'MongoDB',\n",
       "  'Python',\n",
       "  'no Inventada'],\n",
       " 'address': {'street': 'Space street', 'zipcode': '02210'},\n",
       " 'City': 'Inventada'}"
      ]
     },
     "execution_count": 325,
     "metadata": {},
     "output_type": "execute_result"
    }
   ],
   "source": [
    "person"
   ]
  },
  {
   "cell_type": "code",
   "execution_count": 327,
   "id": "1ab57b01",
   "metadata": {},
   "outputs": [
    {
     "data": {
      "text/plain": [
       "{'first_name': 'Asabeneh',\n",
       " 'last_name': 'Yetayeh',\n",
       " 'age': 250,\n",
       " 'country': 'Finland',\n",
       " 'is_marred': True,\n",
       " 'skills': ['JavaScript',\n",
       "  'React',\n",
       "  'Node',\n",
       "  'MongoDB',\n",
       "  'Python',\n",
       "  'no Inventada'],\n",
       " 'address': {'street': 'Space street', 'zipcode': '02210'},\n",
       " 'City': 'Inventada',\n",
       " 'lista': ['uno ', 'dos ', 'tres']}"
      ]
     },
     "execution_count": 327,
     "metadata": {},
     "output_type": "execute_result"
    }
   ],
   "source": [
    "person['lista'] =['uno ', 'dos ', 'tres' ]\n",
    "person"
   ]
  },
  {
   "cell_type": "code",
   "execution_count": 329,
   "id": "7c7842bb",
   "metadata": {},
   "outputs": [
    {
     "data": {
      "text/plain": [
       "{'first_name': 'Asabeneh',\n",
       " 'last_name': 'Yetayeh',\n",
       " 'age': 250,\n",
       " 'country': 'Finland',\n",
       " 'is_marred': True,\n",
       " 'skills': ['JavaScript',\n",
       "  'React',\n",
       "  'Node',\n",
       "  'MongoDB',\n",
       "  'Python',\n",
       "  'no Inventada'],\n",
       " 'address': {'street': 'Space street', 'zipcode': '02210'},\n",
       " 'City': 'Inventada',\n",
       " 'lista': ['uno ', 'dos ', 'tres', 'cuatro', 'cuatro']}"
      ]
     },
     "execution_count": 329,
     "metadata": {},
     "output_type": "execute_result"
    }
   ],
   "source": [
    "person['lista'].append('cuatro')\n",
    "person"
   ]
  },
  {
   "cell_type": "code",
   "execution_count": 331,
   "id": "7ef64a1a",
   "metadata": {},
   "outputs": [
    {
     "data": {
      "text/plain": [
       "{'first_name': 'ROboto',\n",
       " 'last_name': 'Yetayeh',\n",
       " 'age': 250,\n",
       " 'country': 'Finland',\n",
       " 'is_marred': True,\n",
       " 'skills': ['JavaScript',\n",
       "  'React',\n",
       "  'Node',\n",
       "  'MongoDB',\n",
       "  'Python',\n",
       "  'no Inventada'],\n",
       " 'address': {'street': 'Space street', 'zipcode': '02210'},\n",
       " 'City': 'Inventada',\n",
       " 'lista': ['uno ', 'dos ', 'tres', 'cuatro', 'cuatro']}"
      ]
     },
     "execution_count": 331,
     "metadata": {},
     "output_type": "execute_result"
    }
   ],
   "source": [
    "person['first_name'] = 'ROboto'\n",
    "person"
   ]
  },
  {
   "cell_type": "code",
   "execution_count": 333,
   "id": "85b97232",
   "metadata": {},
   "outputs": [
    {
     "data": {
      "text/plain": [
       "True"
      ]
     },
     "execution_count": 333,
     "metadata": {},
     "output_type": "execute_result"
    }
   ],
   "source": [
    "'address' in person"
   ]
  },
  {
   "cell_type": "code",
   "execution_count": 334,
   "id": "88abe28a",
   "metadata": {},
   "outputs": [
    {
     "data": {
      "text/plain": [
       "{'street': 'Space street', 'zipcode': '02210'}"
      ]
     },
     "execution_count": 334,
     "metadata": {},
     "output_type": "execute_result"
    }
   ],
   "source": [
    "person.pop('address')"
   ]
  },
  {
   "cell_type": "code",
   "execution_count": 335,
   "id": "be38f63e",
   "metadata": {},
   "outputs": [
    {
     "data": {
      "text/plain": [
       "{'first_name': 'ROboto',\n",
       " 'last_name': 'Yetayeh',\n",
       " 'age': 250,\n",
       " 'country': 'Finland',\n",
       " 'is_marred': True,\n",
       " 'skills': ['JavaScript',\n",
       "  'React',\n",
       "  'Node',\n",
       "  'MongoDB',\n",
       "  'Python',\n",
       "  'no Inventada'],\n",
       " 'City': 'Inventada',\n",
       " 'lista': ['uno ', 'dos ', 'tres', 'cuatro', 'cuatro']}"
      ]
     },
     "execution_count": 335,
     "metadata": {},
     "output_type": "execute_result"
    }
   ],
   "source": [
    "person"
   ]
  },
  {
   "cell_type": "code",
   "execution_count": 336,
   "id": "72d0e6ed",
   "metadata": {},
   "outputs": [
    {
     "data": {
      "text/plain": [
       "('lista', ['uno ', 'dos ', 'tres', 'cuatro', 'cuatro'])"
      ]
     },
     "execution_count": 336,
     "metadata": {},
     "output_type": "execute_result"
    }
   ],
   "source": [
    "person.popitem()"
   ]
  },
  {
   "cell_type": "code",
   "execution_count": 337,
   "id": "f3c1f645",
   "metadata": {},
   "outputs": [
    {
     "data": {
      "text/plain": [
       "{'first_name': 'ROboto',\n",
       " 'last_name': 'Yetayeh',\n",
       " 'age': 250,\n",
       " 'country': 'Finland',\n",
       " 'is_marred': True,\n",
       " 'skills': ['JavaScript',\n",
       "  'React',\n",
       "  'Node',\n",
       "  'MongoDB',\n",
       "  'Python',\n",
       "  'no Inventada'],\n",
       " 'City': 'Inventada'}"
      ]
     },
     "execution_count": 337,
     "metadata": {},
     "output_type": "execute_result"
    }
   ],
   "source": [
    "person"
   ]
  },
  {
   "cell_type": "code",
   "execution_count": 339,
   "id": "b7107d85",
   "metadata": {},
   "outputs": [
    {
     "ename": "NameError",
     "evalue": "name 'person' is not defined",
     "output_type": "error",
     "traceback": [
      "\u001b[0;31m---------------------------------------------------------------------------\u001b[0m",
      "\u001b[0;31mNameError\u001b[0m                                 Traceback (most recent call last)",
      "Input \u001b[0;32mIn [339]\u001b[0m, in \u001b[0;36m<cell line: 1>\u001b[0;34m()\u001b[0m\n\u001b[0;32m----> 1\u001b[0m \u001b[38;5;28;01mdel\u001b[39;00m person\n\u001b[1;32m      2\u001b[0m person\n",
      "\u001b[0;31mNameError\u001b[0m: name 'person' is not defined"
     ]
    }
   ],
   "source": [
    "del person\n",
    "person"
   ]
  },
  {
   "cell_type": "markdown",
   "id": "dd5d424b",
   "metadata": {},
   "source": [
    "\n",
    "### <span style=\"color:darkred\">Los constructores de las colecciones</span> \n",
    "\n",
    "Los **constructores** son métodos especiales que se ejecutan automáticamente cuando se crea una nueva instancia de una clase.\n",
    "\n",
    "\n",
    "#### <span style=\"color:darkblue\">Listas</span> \n",
    "\n",
    "También es posible usar el constructor `list()` al crear una nueva lista.\n"
   ]
  },
  {
   "cell_type": "code",
   "execution_count": 21,
   "id": "7612a93f",
   "metadata": {},
   "outputs": [
    {
     "name": "stdout",
     "output_type": "stream",
     "text": [
      "['apple', 'banana', 'cherry']\n"
     ]
    }
   ],
   "source": [
    "thislist = list((\"apple\", \"banana\", \"cherry\")) # note the double round-brackets\n",
    "print(thislist)"
   ]
  },
  {
   "cell_type": "markdown",
   "id": "82c0b486",
   "metadata": {},
   "source": [
    "A diferencia de crear una lista normal acá podemos compartir una `tupla` que se caracteriza por tener los elementos dentro de paréntesis y es convertido a lista si esta cumple las características de esta. \n",
    "\n",
    "#### <span style=\"color:darkblue\">Tuplas</span> \n",
    "\n",
    "También es posible usar el constructor tuple() para hacer una tupla."
   ]
  },
  {
   "cell_type": "code",
   "execution_count": 22,
   "id": "741c8592",
   "metadata": {},
   "outputs": [
    {
     "name": "stdout",
     "output_type": "stream",
     "text": [
      "('apple', 'banana', 'cherry')\n"
     ]
    }
   ],
   "source": [
    "thistuple = tuple ((\"apple\", \"banana\", \"cherry\")) # note the double round-brackets\n",
    "print(thistuple)"
   ]
  },
  {
   "cell_type": "markdown",
   "id": "184c8f6c",
   "metadata": {},
   "source": [
    "#### <span style=\"color:darkblue\">Conjuntos</span> \n",
    "\n",
    "También es posible usar el constructor `set()` para hacer un conjunto."
   ]
  },
  {
   "cell_type": "code",
   "execution_count": 24,
   "id": "51c288a8",
   "metadata": {},
   "outputs": [
    {
     "name": "stdout",
     "output_type": "stream",
     "text": [
      "{'cherry', 'apple', 'banana'}\n"
     ]
    }
   ],
   "source": [
    "thisset = set((\"apple\",  \"banana\",  \"cherry\")) # note the double round-brackets\n",
    "print(thisset)"
   ]
  },
  {
   "cell_type": "markdown",
   "id": "c1cc63cb",
   "metadata": {},
   "source": [
    "#### <span style=\"color:darkblue\">Diccionarios</span> \n",
    "\n",
    "También es posible usar el constructor `dict()` para hacer un diccionario."
   ]
  },
  {
   "cell_type": "code",
   "execution_count": 26,
   "id": "c518bc47",
   "metadata": {},
   "outputs": [
    {
     "name": "stdout",
     "output_type": "stream",
     "text": [
      "{'name': 'John', 'age': 36, 'country': 'Norway'}\n"
     ]
    }
   ],
   "source": [
    "thisdict = dict (name = \"John\", age = 36, country = \"Norway\")\n",
    "print(thisdict)"
   ]
  },
  {
   "cell_type": "markdown",
   "id": "bf99011e",
   "metadata": {},
   "source": [
    "\n",
    "#### <span style=\"color:darkred\">Aplicando Conocimientos</span> \n",
    "\n",
    "1.\tUtilizar una lista para añadir y eliminar elementos en un bucle repetitivo: "
   ]
  },
  {
   "cell_type": "markdown",
   "id": "91cc29b3",
   "metadata": {},
   "source": [
    "Este ejemplo crea una lista vacía y luego le pide al usuario que ingrese elementos uno por uno, añadiéndolos a la lista con el método `append()`.\n",
    "\n",
    "Una vez que el usuario ingresa \"fin\", el bucle se detiene y la lista completa se imprime en pantalla.\n",
    "\n",
    "Luego, se elimina el último elemento de la lista con el método `pop()`, y se imprime la lista actualizada.\n",
    "\n",
    "2. Utilizar un diccionario como una base de datos\n"
   ]
  },
  {
   "cell_type": "markdown",
   "id": "7ea89d86",
   "metadata": {},
   "source": [
    "Este ejemplo utiliza un diccionario para almacenar datos de usuarios, donde cada usuario es una clave que apunta a otro diccionario que contiene los datos de ese usuario (en este caso, su edad y su ciudad).\n",
    "\n",
    "El ejemplo agrega algunos usuarios a la base de datos y luego imprime la base de datos completa en pantalla.\n",
    "\n",
    "Luego, modifica los datos de un usuario existente (en este caso, Juan cambia de tener 25 años a tener 27) y vuelve a imprimir la base de datos actualizada.\n",
    "\n",
    "3. Utilizar un set para variables de sistema como ejemplo\n"
   ]
  },
  {
   "cell_type": "markdown",
   "id": "0e0588a1",
   "metadata": {},
   "source": [
    "\n",
    "#### <span style=\"color:darkred\">Permitir duplicados</span> "
   ]
  },
  {
   "cell_type": "markdown",
   "id": "8ac5145d",
   "metadata": {},
   "source": [
    "\n",
    "#### <span style=\"color:darkred\">Permitir duplicados</span> "
   ]
  },
  {
   "cell_type": "markdown",
   "id": "301e49fe",
   "metadata": {},
   "source": [
    "\n",
    "#### <span style=\"color:darkred\">Permitir duplicados</span> "
   ]
  }
 ],
 "metadata": {
  "kernelspec": {
   "display_name": "Python 3 (ipykernel)",
   "language": "python",
   "name": "python3"
  },
  "language_info": {
   "codemirror_mode": {
    "name": "ipython",
    "version": 3
   },
   "file_extension": ".py",
   "mimetype": "text/x-python",
   "name": "python",
   "nbconvert_exporter": "python",
   "pygments_lexer": "ipython3",
   "version": "3.9.12"
  }
 },
 "nbformat": 4,
 "nbformat_minor": 5
}
