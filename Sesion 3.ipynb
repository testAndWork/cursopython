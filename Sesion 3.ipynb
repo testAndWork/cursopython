{
 "cells": [
  {
   "cell_type": "markdown",
   "id": "9c8c537c",
   "metadata": {},
   "source": [
    "\n",
    "\n",
    "# <span style=\"color:darkblue\">Módulo 1 - Introducción a la programación con Python </span>\n",
    "\n",
    "## <span style=\"color:darkblue\">Sesión:\tSesión 3 - Tipos de Variables</span>\n",
    "\n",
    "### <span style=\"color:darkblue\">Duración estimada:\t4 horas</span>\n",
    "\n",
    "#### <span style=\"color:darkblue\">En marco del proyecto: “EMPLEO JOVEN ES”</span>"
   ]
  },
  {
   "cell_type": "markdown",
   "id": "42a8be22",
   "metadata": {},
   "source": [
    "## <span style=\"color:darkblue\"> Tabla de contenidos:</span>\n",
    " \n",
    "    1- Bienvenida\n",
    "    \n",
    "    2- Asistencia\n",
    "    \n",
    "    3- Dudas de la Clase anterior\n",
    "    \n",
    "    4- Control de Lectura\n",
    "    \n",
    "    5- Objetivo\n",
    "    \n",
    "    6- Introducción\n",
    "    \n",
    "    7- Números de Python\n",
    "    \n",
    "    8- Int o numeros enteros\n",
    "    \n",
    "    9- Float o Números Flotantes\n",
    "    \n",
    "    10- Números Complejo \n",
    "    \n",
    "    12- Conversión de tipo\n",
    "    \n",
    "    13- Cadenas de Texto\n",
    "    \n",
    "    14- Caracteres de escape\n",
    "    \n",
    "    15- Retroalimentación\n",
    "    \n",
    "    16- Asistencia\n"
   ]
  },
  {
   "cell_type": "markdown",
   "id": "51ae1b4d",
   "metadata": {},
   "source": [
    "## Objetivo:\n",
    "\n",
    "Conocer los tipos de variables en programación es esencial porque permite comprender cómo se almacenan y manejan los datos en el programa y cómo se utilizan en las operaciones. \n",
    "\n",
    "Los tipos de variables también determinan qué operaciones se pueden realizar con ellas y cómo se comportan en diferentes situaciones \n",
    "\n",
    "### Recursos\n",
    "\n",
    "•\tSesión 3 de Curso de Python\n",
    "\n",
    "•\tAcceso a internet\n",
    "\n",
    "•\tPython Instalado en computadora\n",
    "\n",
    "•\tVisual Studio Code\n",
    "\n",
    "### Introducción:\n",
    "\n",
    "La programación es un proceso en el que se manipulan datos, se toman decisiones y se realizan operaciones para lograr un objetivo específico. \n",
    "\n",
    "Una parte fundamental de la programación es el manejo de variables, que son lugares en la memoria del equipo donde se almacenan los datos necesarios para el programa. \n",
    "\n",
    "Es importante conocer los tipos de variables que se pueden utilizar en un lenguaje de programación, ya que estos tipos determinan cómo se almacenan y manejan los datos, y cómo se utilizan en las operaciones. \n",
    "\n",
    "En este sentido, entender los tipos de variables es fundamental para la correcta escritura de código y para la resolución de problemas de programación de manera efectiva. \n",
    "\n",
    "En esta guía se explicará en detalle qué son los tipos de variables, sus características y cómo se utilizan en diferentes situaciones.\n",
    "\n",
    "### Aprendamos \n",
    "\n",
    "En programación, el tipo de datos es un concepto importante. Las variables pueden almacenar datos de diferentes tipos, y diferentes tipos pueden hacer cosas diferentes. \n",
    "\n",
    "Python tiene los siguientes tipos de datos integrados de forma predeterminada, en estas categorías:\n",
    "\n",
    "<table> <tr> <td>Tipo de texto:</td> <td>str</td> </tr> <tr> <td>Tipos numéricos:</td> <td>int, float, complex</td> </tr> <tr> <td>Tipos de secuencia:</td> <td>list, tuple, range</td> </tr> <tr> <td>Tipo de mapeo:</td> <td>dict</td> </tr> <tr> <td>Establecer tipos:</td> <td>set,frozenset</td> </tr> <tr> <td>Tipo booleano:</td> <td>bool</td> </tr> <tr> <td>Tipos binarios:</td> <td>bytes, bytearray, memoryview</td> </tr> <tr> <td>Tipo None:</td> <td>NoneType</td> </tr> </table>\n"
   ]
  },
  {
   "cell_type": "markdown",
   "id": "6bc551e5",
   "metadata": {},
   "source": [
    "## Repaso (8 min): nombreApellidoSesion3.py\n",
    "\n",
    "1. Escribe un programa que tome el nombre de un usuario como entrada y luego lo imprima en un mensaje de bienvenida utilizando la función print(). El mensaje debe ser del siguiente formato: \"¡Hola, [nombre]! Bienvenido a nuestro programa.\"\n",
    "\n",
    "\n",
    "2. Escribe un programa que calcule el área de un triángulo a partir de su base y altura. Luego, imprime el resultado con dos decimales utilizando la función print() y la variable de formateo. \n",
    "\n",
    "\n",
    "3. Escribe un programa que solicite al usuario su nombre, edad y ciudad de residencia. Luego, imprime un mensaje que incluya esta información en un formato amigable. Utiliza la función print() y las variables de formateo.\n",
    "\n",
    "Elaborar dos tipos de impresiones diferentes de cada uno.\n"
   ]
  },
  {
   "cell_type": "code",
   "execution_count": 10,
   "id": "85efe109",
   "metadata": {},
   "outputs": [
    {
     "name": "stdout",
     "output_type": "stream",
     "text": [
      "¡Hola,Noelia Tatiana Guadalupe Reyes López! Bienvenido a nuestro programa.\n",
      "¡Hola, Noelia Tatiana Guadalupe Reyes López ! Bienvenido a nuestro programa.\n",
      "¡Hola,Noelia Tatiana Guadalupe Reyes López! Bienvenido a nuestro programa.\n",
      "¡Hola,Noelia Tatiana Guadalupe Reyes López! BienvenidoAAAA a nuestroBBB programa.\n"
     ]
    }
   ],
   "source": [
    "\"\"\"1.  Escribe un programa que tome el nombre de un usuario como entrada \n",
    "     y luego lo imprima en un mensaje de bienvenida utilizando la \n",
    "     función print(). El mensaje debe ser del siguiente formato: \n",
    "     \"¡Hola, [nombre]! Bienvenido a nuestro programa.\" \"\"\"\n",
    "\n",
    "nombreUsuario = 'Noelia Tatiana Guadalupe Reyes López'\n",
    "\n",
    "print(f\"¡Hola,{nombreUsuario}! Bienvenido a nuestro programa.\")\n",
    "\n",
    "print(\"¡Hola,\",nombreUsuario,\"! Bienvenido a nuestro programa.\")\n",
    "\n",
    "print(\"¡Hola,%s! Bienvenido a nuestro programa.\"%(nombreUsuario))\n",
    "\n",
    "\n",
    "\"\"\"\n",
    "%s imprime un cadena s-> string \n",
    "%d imprime un numero entero d->entero\n",
    "%f imprime un flotante\n",
    "\n",
    "\"\"\"\n",
    "nombrePrueba = 'AAAA'\n",
    "nombreTercero = 'BBB'\n",
    "print(\"¡Hola,%s! Bienvenido%s a nuestro%s programa.\"%(nombreUsuario,nombrePrueba,nombreTercero))\n",
    "\n"
   ]
  },
  {
   "cell_type": "code",
   "execution_count": 18,
   "id": "5368501e",
   "metadata": {},
   "outputs": [
    {
     "name": "stdout",
     "output_type": "stream",
     "text": [
      "El área del triángulo es: 17.50\n"
     ]
    },
    {
     "data": {
      "text/plain": [
       "17.5"
      ]
     },
     "execution_count": 18,
     "metadata": {},
     "output_type": "execute_result"
    }
   ],
   "source": [
    "\"\"\"2. Escribe un programa que calcule el área de un triángulo \n",
    "   a partir de su base y altura. Luego, imprime el resultado \n",
    "   con dos decimales utilizando la función print() y la variable\n",
    "   de formateo.\"\"\"\n",
    "\n",
    "base   = 5\n",
    "altura = 7\n",
    "\n",
    "areaTriangulo = base*altura/2\n",
    "\n",
    "print('El área del triángulo es: %.2f'%(areaTriangulo))"
   ]
  },
  {
   "cell_type": "code",
   "execution_count": 16,
   "id": "18e49306",
   "metadata": {},
   "outputs": [
    {
     "name": "stdout",
     "output_type": "stream",
     "text": [
      "El Area de tu triangulo es: 17.5\n"
     ]
    }
   ],
   "source": [
    "Base = 5\n",
    "Altura = 7\n",
    "print(\"El Area de tu triangulo es:\", (Base * Altura) / 2)"
   ]
  },
  {
   "cell_type": "code",
   "execution_count": 17,
   "id": "62a2b167",
   "metadata": {},
   "outputs": [
    {
     "name": "stdout",
     "output_type": "stream",
     "text": [
      "#---#Calculando el area de un triangulo#----#\n",
      "Ingrese la base del triangulo:5\n",
      "Ingrese la altura del triangulo: 7\n",
      "La base del triangulo es: 17.5\n",
      "La base del triangulo es: 17.5 \n"
     ]
    }
   ],
   "source": [
    "print(\"#---#Calculando el area de un triangulo#----#\")\n",
    "base = float(input(\"Ingrese la base del triangulo:\"))\n",
    "altura = float(input(\"Ingrese la altura del triangulo: \"))\n",
    "\n",
    "resultado = ((base*altura)/2)\n",
    "\n",
    "print(f\"La base del triangulo es: {round(resultado,2)}\")\n",
    "print(\"La base del triangulo es:\", round(resultado, 2), \"\")"
   ]
  },
  {
   "cell_type": "code",
   "execution_count": 19,
   "id": "431b7c23",
   "metadata": {},
   "outputs": [
    {
     "name": "stdout",
     "output_type": "stream",
     "text": [
      "Henry Jefte Franco, 28,San Soyapango\n"
     ]
    }
   ],
   "source": [
    "\"\"\"#3. Escribe un programa que solicite al usuario su nombre, edad \n",
    "     y ciudad de residencia. Luego, imprime un mensaje que incluya \n",
    "     esta información en un formato amigable. Utiliza la función \n",
    "     print() y las variables de formateo.\"\"\"\n",
    "\n",
    "nombreUsuario    = 'Henry Jefte Franco'\n",
    "edadUsuario      = '28'\n",
    "ciudadResidencia = 'San Soyapango'\n",
    "\n",
    "print(f'{nombreUsuario}, {edadUsuario},{ciudadResidencia}')"
   ]
  },
  {
   "cell_type": "markdown",
   "id": "dae5ab9c",
   "metadata": {},
   "source": [
    "#### <span style=\"color:darkred\">Configuración del tipo de datos</span>\n",
    "\n",
    "En Python, el tipo de datos se establece cuando asigna un valor a una variable podemos ver ejemplos de cada tipo en la siguiente tabla:\n",
    "\n",
    "<table>\n",
    "<tr>\n",
    "<td>Ejemplo</td>\n",
    "<td>Tipo de dato</td>\n",
    "</tr>\n",
    "\n",
    "<tr>\n",
    "<td>x = \"Hello World\"</td> \n",
    "<td>str</td>\n",
    "</tr>\n",
    "\n",
    "<tr>\n",
    "<td>x = 20</td>\n",
    "<td>int</td>  \n",
    "</tr>\n",
    "\n",
    "<tr>  \n",
    "<td>x = 20.5</td>\n",
    "<td>float</td>\n",
    "</tr>\n",
    "\n",
    "<tr>\n",
    "<td>x = 1j</td> \n",
    "<td>complex</td>\n",
    "</tr>\n",
    "\n",
    "<tr>\n",
    "<td>x = [\"apple\", \"banana\", \"cherry\"]</td>\n",
    "<td>list</td>\n",
    "</tr>\n",
    "\n",
    "<tr>\n",
    "<td>x = (\"apple\", \"banana\", \"cherry\")</td>\n",
    "<td>tuple</td>\n",
    "</tr>\n",
    "\n",
    "<tr>\n",
    "<td>x = range(6)</td>\n",
    "<td>range</td>\n",
    "</tr>\n",
    "\n",
    "<tr>  \n",
    "<td>x = {\"name\" : \"John\", \"age\" : 36}</td>\n",
    "<td>dict</td>\n",
    "</tr>\n",
    "\n",
    "<tr>\n",
    "<td>x = {\"apple\", \"banana\", \"cherry\"}</td>\n",
    "<td>set</td> \n",
    "</tr>\n",
    "\n",
    "<tr>\n",
    "<td>x = True</td>\n",
    "<td>bool</td>\n",
    "</tr>\n",
    "\n",
    "<tr>\n",
    "<td>x = bytearray(5)</td>\n",
    "<td>bytearray</td>\n",
    "</tr>\n",
    "\n",
    "<tr>  \n",
    "<td>x = memoryview(bytes(5))</td>\n",
    "<td>memoryview</td>\n",
    "</tr>\n",
    "\n",
    "<tr>\n",
    "<td>x = None</td>\n",
    "<td>NoneType</td>\n",
    "</tr>\n",
    "\n",
    "</table>\n"
   ]
  },
  {
   "cell_type": "markdown",
   "id": "cdb77bce",
   "metadata": {},
   "source": [
    "\n",
    "\n",
    "### Obtener el tipo de datos\n",
    "\n",
    "Como vimos en la sesión anterior podemos conocer el tipo de dato de una variable con la función `type()` como en el ejercicio de a continuación: \n",
    "\n",
    "#### Imprime el tipo de datos de la variable x:"
   ]
  },
  {
   "cell_type": "code",
   "execution_count": 20,
   "id": "84e3c1e6",
   "metadata": {},
   "outputs": [
    {
     "name": "stdout",
     "output_type": "stream",
     "text": [
      "<class 'int'>\n"
     ]
    }
   ],
   "source": [
    "x = 5\n",
    "print(type(x))"
   ]
  },
  {
   "cell_type": "markdown",
   "id": "a50ce0e9",
   "metadata": {},
   "source": [
    "### <span style=\"color:darkred\">Tipos de datos en Python</span>\n",
    "\n",
    "#### <span style=\"color:darkred\">Números de Python</span>\n",
    "\n",
    "Hay tres tipos numéricos en Python:\n",
    "\n",
    "•\tint\n",
    "\n",
    "•\tfloat\n",
    "\n",
    "•\tcomplex\n",
    "\n",
    "Las variables de tipo numérico se crean cuando les asignas un valor:\n",
    "\n",
    "\n"
   ]
  },
  {
   "cell_type": "code",
   "execution_count": 21,
   "id": "a5b8ac4b",
   "metadata": {},
   "outputs": [
    {
     "data": {
      "text/plain": [
       "(int, float, complex)"
      ]
     },
     "execution_count": 21,
     "metadata": {},
     "output_type": "execute_result"
    }
   ],
   "source": [
    "x = 1        # int\n",
    "\n",
    "y = 1.45654  # float\n",
    "\n",
    "z = 2j       # complex\n",
    "\n",
    "type(x), type(y), type(z)"
   ]
  },
  {
   "cell_type": "code",
   "execution_count": 22,
   "id": "0272449a",
   "metadata": {},
   "outputs": [
    {
     "data": {
      "text/plain": [
       "(int, float, complex)"
      ]
     },
     "execution_count": 22,
     "metadata": {},
     "output_type": "execute_result"
    }
   ],
   "source": [
    "x = 1765343        # int\n",
    "\n",
    "y = 145.654  # float\n",
    "\n",
    "z = 5+2j       # complex\n",
    "\n",
    "type(x), type(y), type(z)"
   ]
  },
  {
   "cell_type": "markdown",
   "id": "059c60d3",
   "metadata": {},
   "source": [
    "Para verificar el tipo de cualquier objeto en Python, use la función `type()`:"
   ]
  },
  {
   "cell_type": "markdown",
   "id": "76faa5e7",
   "metadata": {},
   "source": [
    "#### <span style=\"color:darkred\">Int o numeros enteros</span>\n",
    "\n",
    "Int, o entero, es un número entero, positivo o negativo, sin decimales, de longitud ilimitada.\n",
    "\n",
    "#### Ejemplos:"
   ]
  },
  {
   "cell_type": "code",
   "execution_count": 26,
   "id": "123dfe7b",
   "metadata": {},
   "outputs": [
    {
     "name": "stdout",
     "output_type": "stream",
     "text": [
      "<class 'int'> <class 'int'> <class 'int'>\n"
     ]
    }
   ],
   "source": [
    "ejemploInt1 = 3234532\n",
    "ejemploInt2 = -12323\n",
    "ejemploInt3 = 2\n",
    "\n",
    "ejemploInt4 = 0\n",
    "\n",
    "print(type(ejemploInt1), type(ejemploInt2),type(ejemploInt4))"
   ]
  },
  {
   "cell_type": "markdown",
   "id": "9408d34f",
   "metadata": {},
   "source": [
    "#### <span style=\"color:darkred\">Float o Números Flotantes</span>\n",
    "\n",
    "Flotante, o \"número de punto flotante\" es un número, positivo o negativo, que contiene uno o más decimales.\n",
    "\n",
    "#### Ejemplos:"
   ]
  },
  {
   "cell_type": "code",
   "execution_count": 25,
   "id": "b2df2917",
   "metadata": {},
   "outputs": [
    {
     "name": "stdout",
     "output_type": "stream",
     "text": [
      "<class 'float'> <class 'float'> <class 'int'>\n"
     ]
    }
   ],
   "source": [
    "ejemplofloat1 = 1.1\n",
    "ejemplofloat2 = 234.5684\n",
    "ejemplofloat1 = 34.00000\n",
    "\n",
    "ejemplofloat4 = 0\n",
    "\n",
    "print(type(ejemplofloat1), type(ejemplofloat2), type(ejemplofloat4))"
   ]
  },
  {
   "cell_type": "markdown",
   "id": "5aa8f8f6",
   "metadata": {},
   "source": [
    "_Note que el cero lo clasifica como un entero_\n",
    "\n",
    "El tipo flotante también puede ser un **número científico con una \"e\" para indicar la potencia de 10.**"
   ]
  },
  {
   "cell_type": "code",
   "execution_count": 31,
   "id": "d815f1db",
   "metadata": {},
   "outputs": [
    {
     "name": "stdout",
     "output_type": "stream",
     "text": [
      "35000.0 120000.0 12000.0\n",
      "<class 'float'> <class 'float'> <class 'float'>\n",
      "<class 'int'>\n"
     ]
    }
   ],
   "source": [
    "x = 35E3\n",
    "\n",
    "y = 12e4\n",
    "\n",
    "z = 1.2e4\n",
    "\n",
    "print(x, y, z)\n",
    "print(type(x),type(y), type(z))\n",
    "\n",
    "print(type(12*10**4))"
   ]
  },
  {
   "cell_type": "markdown",
   "id": "2bc4d310",
   "metadata": {},
   "source": [
    "#### <span style=\"color:darkred\">Números Complejo</span>\n",
    "\n",
    "Flotante, o \"número de punto flotante\" es un número, positivo o negativo, que contiene uno o más decimales.\n",
    "\n",
    "#### Ejemplos:"
   ]
  },
  {
   "cell_type": "code",
   "execution_count": 32,
   "id": "f0521d85",
   "metadata": {},
   "outputs": [
    {
     "name": "stdout",
     "output_type": "stream",
     "text": [
      "<class 'complex'> <class 'complex'> <class 'complex'>\n"
     ]
    }
   ],
   "source": [
    "x = 3+5j\n",
    "y = -5j\n",
    "z = -3+0j\n",
    "\n",
    "print(type(x),type(y), type(z))"
   ]
  },
  {
   "cell_type": "markdown",
   "id": "29ed0f2f",
   "metadata": {},
   "source": [
    "### Práctica en Clase (4 min)"
   ]
  },
  {
   "cell_type": "code",
   "execution_count": 33,
   "id": "002f12ba",
   "metadata": {},
   "outputs": [
    {
     "name": "stdout",
     "output_type": "stream",
     "text": [
      "<class 'int'>\n",
      "<class 'float'>\n",
      "<class 'complex'>\n",
      "<class 'str'>\n",
      "<class 'list'>\n",
      "<class 'dict'>\n",
      "<class 'set'>\n",
      "<class 'tuple'>\n"
     ]
    }
   ],
   "source": [
    "\"\"\"\n",
    "Test para saber los tipos de datos\n",
    "\"\"\"\n",
    "# Checking data types\n",
    "print(type(3)) # int\n",
    "print(type(3.14)) # float\n",
    "print(type(1 + 8j)) # complex\n",
    "print(type(\"Hello World!\")) # str\n",
    "print(type([1, 2, 3])) # list\n",
    "print(type({1: \"one\", 2: \"two\", 3: \"three\"})) # dictionary\n",
    "print(type({1, 2, 3})) # set\n",
    "print(type((1, 2, 3))) # tuple"
   ]
  },
  {
   "cell_type": "code",
   "execution_count": 35,
   "id": "1535d8eb",
   "metadata": {},
   "outputs": [
    {
     "name": "stdout",
     "output_type": "stream",
     "text": [
      "1200120012001200120012001200120012001200120012001200120012001200120012001200120012001200120012001200120012001200120012001200120012001200\n"
     ]
    }
   ],
   "source": [
    "dato = '1200'\n",
    "\n",
    "hora = 34\n",
    "\n",
    "sueldo = dato*hora\n",
    "\n",
    "print(sueldo)"
   ]
  },
  {
   "cell_type": "code",
   "execution_count": 39,
   "id": "a4f96ea3",
   "metadata": {},
   "outputs": [
    {
     "name": "stdout",
     "output_type": "stream",
     "text": [
      "valor de i: 1\n",
      "valor de totalCOntador: 1\n",
      "valor de i: 2\n",
      "valor de totalCOntador: 3\n",
      "valor de i: 3\n",
      "valor de totalCOntador: 6\n",
      "valor de i: 4\n",
      "valor de totalCOntador: 10\n",
      "valor de i: 5\n",
      "valor de totalCOntador: 15\n",
      "valor de i: 6\n",
      "valor de totalCOntador: 21\n",
      "valor de i: 7\n",
      "valor de totalCOntador: 28\n",
      "El tipo de la variable totalContador es: <class 'int'> y su valor final es: 28\n"
     ]
    }
   ],
   "source": [
    "# int: para un contador en bucle\n",
    "\n",
    "totalContador = 0\n",
    "\n",
    "for i in range(1,8):\n",
    "    totalContador = totalContador + i\n",
    "    print('valor de i:',i)\n",
    "    print('valor de totalContador:', totalContador )\n",
    "\n",
    "print('El tipo de la variable totalContador es:',type(totalContador),'y su valor final es:',totalContador)"
   ]
  },
  {
   "cell_type": "code",
   "execution_count": 41,
   "id": "5cbcd8a0",
   "metadata": {},
   "outputs": [
    {
     "name": "stdout",
     "output_type": "stream",
     "text": [
      "El promedio de notas es: 8.15\n"
     ]
    }
   ],
   "source": [
    "# float, list :Calcular el promedio de notas de un alumno \n",
    "\n",
    "notas = [7.0, 6.0, 9, 10.0, 8.4, 5.7, 9.4, 9.7]\n",
    "\n",
    "promedio = sum(notas)/len(notas)\n",
    "\n",
    "print('El promedio de notas es:',promedio)"
   ]
  },
  {
   "cell_type": "code",
   "execution_count": 43,
   "id": "2f17c376",
   "metadata": {},
   "outputs": [
    {
     "name": "stdout",
     "output_type": "stream",
     "text": [
      "El usuario no esta en el Curso\n"
     ]
    }
   ],
   "source": [
    "# bool : Validar un campo \n",
    "\n",
    "usuarioRegistrado = False\n",
    "\n",
    "if usuarioRegistrado:\n",
    "    print('Bienvenido al Curso')\n",
    "else:\n",
    "    print('El usuario no esta en el Curso')"
   ]
  },
  {
   "cell_type": "code",
   "execution_count": 45,
   "id": "504fe955",
   "metadata": {},
   "outputs": [
    {
     "name": "stdout",
     "output_type": "stream",
     "text": [
      "Lista de Nombre: ['Cristian', 'Dennis', 'Edwin', 'Henry', 'Roberto']\n"
     ]
    }
   ],
   "source": [
    "# list: tipo str\n",
    "\n",
    "nombres = ['Cristian', 'Dennis', 'Edwin','Henry','Roberto']\n",
    "\n",
    "print(f'Lista de Nombre: {nombres}')"
   ]
  },
  {
   "cell_type": "code",
   "execution_count": 48,
   "id": "078df0ac",
   "metadata": {},
   "outputs": [
    {
     "name": "stdout",
     "output_type": "stream",
     "text": [
      "('L', 'M', 'W', 'J', 'V')\n",
      "<class 'tuple'>\n",
      "(1, 2, 3, 4, 5)\n",
      "<class 'tuple'>\n"
     ]
    }
   ],
   "source": [
    "# tuple: Dias de la semana  y otra con valores\n",
    "\n",
    "diasSemana = ('L', 'M', 'W', 'J', 'V')\n",
    "\n",
    "numeros = (1, 2, 3, 4, 5)\n",
    "\n",
    "print(diasSemana)\n",
    "print(type(diasSemana))\n",
    "\n",
    "print(numeros)\n",
    "print(type(numeros))"
   ]
  },
  {
   "cell_type": "code",
   "execution_count": 50,
   "id": "19a11397",
   "metadata": {},
   "outputs": [
    {
     "name": "stdout",
     "output_type": "stream",
     "text": [
      "<class 'dict'>\n"
     ]
    }
   ],
   "source": [
    "# dict: Nombres y Contactos\n",
    "\n",
    "dictContacts = {\n",
    "        'Cristian': 36457632, \n",
    "        'Dennis': 78645432, \n",
    "        'Edwin': 2734682345,\n",
    "        'Henry': 2398447823,\n",
    "        'Roberto':239473278\n",
    "    }\n",
    "\n",
    "print(type(dictContacts))\n"
   ]
  },
  {
   "cell_type": "markdown",
   "id": "e71757ad",
   "metadata": {},
   "source": [
    "#### <span style=\"color:darkred\">Conversión de tipo</span>\n",
    "\n",
    "Puede convertir de un tipo a otro con los métodos `int()`, `float()` y `complex()`:\n",
    "\n",
    "#### Ejemplos:"
   ]
  },
  {
   "cell_type": "code",
   "execution_count": 51,
   "id": "192b6fed",
   "metadata": {},
   "outputs": [
    {
     "name": "stdout",
     "output_type": "stream",
     "text": [
      "<class 'int'> <class 'float'> <class 'complex'>\n"
     ]
    }
   ],
   "source": [
    "x = 1 \n",
    "y = 2.8\n",
    "z = 3j\n",
    "\n",
    "print(type(x),type(y),type(z))"
   ]
  },
  {
   "cell_type": "code",
   "execution_count": 55,
   "id": "1c2a5683",
   "metadata": {},
   "outputs": [
    {
     "name": "stdout",
     "output_type": "stream",
     "text": [
      "1.0 (2.8+0j)\n",
      "<class 'float'> <class 'complex'>\n"
     ]
    }
   ],
   "source": [
    "convertX = float(x)\n",
    "convertY = complex(y)\n",
    "\n",
    "#convertZ = int(z) #esta conversión no es posible\n",
    "\n",
    "print(convertX,convertY)\n",
    "print(type(convertX),type(convertY))"
   ]
  },
  {
   "cell_type": "markdown",
   "id": "2792d010",
   "metadata": {},
   "source": [
    "#### <span style=\"color:darkred\">Conversión de tipo</span>\n",
    "\n",
    "Puede haber ocasiones en las que desee especificar un tipo en una variable.\n",
    "\n",
    "Python es un lenguaje orientado a objetos y, como tal, utiliza clases para definir tipos de datos, incluidos sus tipos primitivos.\n",
    "\n",
    "Por lo tanto, la conversión en python se realiza mediante funciones de constructor:\n",
    "\n",
    "•\t`int()`: construye un número entero a partir de un literal entero, un literal flotante (eliminando todos los decimales) o un literal de cadena (siempre que la cadena represente un número entero)\n",
    "\n",
    "•\t`float()`: construye un número flotante a partir de un literal entero, un literal flotante o un literal de cadena (siempre que la cadena represente un flotante o un entero)\n",
    "\n",
    "•\t`str()`: construye una cadena a partir de una amplia variedad de tipos de datos, incluidas cadenas, literales enteros y literales flotantes\n",
    "\n",
    "Convertir un tipo de datos es muy necesario cuando se está capturando información por parte del usuario, muchas veces se utiliza la función `input()` para poder capturar información que en su momento al se utilizada será de tipo Sting, si requerimos que estos valores cambien a enteros o flotantes es necesario realizar la conversión como a continuación: \n"
   ]
  },
  {
   "cell_type": "code",
   "execution_count": 57,
   "id": "e1593c56",
   "metadata": {},
   "outputs": [
    {
     "name": "stdout",
     "output_type": "stream",
     "text": [
      "Ingrese la edad del usuario:34\n",
      "<class 'str'>\n",
      "<class 'int'>\n",
      "La edad es: 34\n"
     ]
    }
   ],
   "source": [
    "# Forma 1\n",
    "edadUsuario = input('Ingrese la edad del usuario:')\n",
    "\n",
    "print(type(edadUsuario))\n",
    "\n",
    "edadUsuario = int(edadUsuario) # Haciendo la conversion de str -> int\n",
    "\n",
    "print(type(edadUsuario))\n",
    "\n",
    "print('La edad es:',edadUsuario)"
   ]
  },
  {
   "cell_type": "code",
   "execution_count": 58,
   "id": "f331fb7f",
   "metadata": {},
   "outputs": [
    {
     "name": "stdout",
     "output_type": "stream",
     "text": [
      "Ingrese la edad del usuario:34\n",
      "<class 'int'>\n",
      "La edad es: 34\n"
     ]
    }
   ],
   "source": [
    "#Forma 2\n",
    "edadUsuario = int(input('Ingrese la edad del usuario:'))\n",
    "\n",
    "print(type(edadUsuario))\n",
    "\n",
    "# Haciendo la conversion de str -> int\n",
    "\n",
    "print('La edad es:',edadUsuario)"
   ]
  },
  {
   "cell_type": "code",
   "execution_count": 63,
   "id": "b998548e",
   "metadata": {},
   "outputs": [
    {
     "name": "stdout",
     "output_type": "stream",
     "text": [
      "<class 'str'> <class 'int'>\n",
      "3030\n",
      "60\n"
     ]
    }
   ],
   "source": [
    "#Cadena de str -> int\n",
    "\n",
    "cadena = '30'\n",
    "\n",
    "strInt = int(cadena)\n",
    "\n",
    "print(type(cadena),type(strInt))\n",
    "\n",
    "print(cadena + cadena)\n",
    "\n",
    "print( strInt + strInt)"
   ]
  },
  {
   "cell_type": "code",
   "execution_count": 66,
   "id": "ea7e3490",
   "metadata": {},
   "outputs": [
    {
     "name": "stdout",
     "output_type": "stream",
     "text": [
      "<class 'str'> <class 'float'>\n",
      "3.753.753.75\n",
      "7.5\n"
     ]
    }
   ],
   "source": [
    "##Cadena de str -> float\n",
    "\n",
    "cadena = '3.75'\n",
    "\n",
    "strFloat = float(cadena)\n",
    "\n",
    "print(type(cadena),type(strFloat))\n",
    "\n",
    "print(cadena + cadena+ cadena)\n",
    "\n",
    "print( strFloat + strFloat)"
   ]
  },
  {
   "cell_type": "code",
   "execution_count": 69,
   "id": "0c7a29ce",
   "metadata": {},
   "outputs": [
    {
     "name": "stdout",
     "output_type": "stream",
     "text": [
      "<class 'int'>\n",
      "<class 'str'>\n"
     ]
    }
   ],
   "source": [
    "# entero int -> cadena\n",
    "\n",
    "entero = 45\n",
    "\n",
    "print(type(entero))\n",
    "\n",
    "cadenaInt = str(entero)\n",
    "\n",
    "print(type(cadenaInt))"
   ]
  },
  {
   "cell_type": "code",
   "execution_count": 71,
   "id": "7cee0c71",
   "metadata": {},
   "outputs": [
    {
     "data": {
      "text/plain": [
       "str"
      ]
     },
     "execution_count": 71,
     "metadata": {},
     "output_type": "execute_result"
    }
   ],
   "source": [
    "# flotante float -> cadena\n",
    "\n",
    "flotante = 4.59\n",
    "\n",
    "cadenaFlotante = str(flotante)\n",
    "\n",
    "type(cadenaFlotante)"
   ]
  },
  {
   "cell_type": "code",
   "execution_count": 74,
   "id": "8510bf02",
   "metadata": {},
   "outputs": [
    {
     "data": {
      "text/plain": [
       "'[1, 2, 3, 4, 5]'"
      ]
     },
     "execution_count": 74,
     "metadata": {},
     "output_type": "execute_result"
    }
   ],
   "source": [
    "# lista a cadena\n",
    "\n",
    "lista = [1, 2, 3, 4, 5]\n",
    "\n",
    "cadenalst = str(lista)\n",
    "\n",
    "type(cadenalst)\n",
    "cadenalst"
   ]
  },
  {
   "cell_type": "code",
   "execution_count": 77,
   "id": "5523877f",
   "metadata": {},
   "outputs": [
    {
     "name": "stdout",
     "output_type": "stream",
     "text": [
      "<class 'list'>\n",
      "[1, 2, 3, 4, 5, 6]\n"
     ]
    }
   ],
   "source": [
    "#cadena a lista\n",
    "\n",
    "cadena = '[1,2,3,4,5,6]'\n",
    "\n",
    "lista = eval(cadena) #funcion para hacer la conversión \n",
    "\n",
    "print(type(lista))\n",
    "\n",
    "print(lista)"
   ]
  },
  {
   "cell_type": "markdown",
   "id": "adac37db",
   "metadata": {},
   "source": [
    "#### <span style=\"color:darkred\">Cadenas de Texto</span>\n",
    "\n",
    "Las cadenas en python están entre comillas simples o comillas dobles.\n",
    "\n",
    "    \"hola\" es lo mismo que 'hola' .\n",
    "\n",
    "Puede mostrar un literal de cadena con la función `print()`:\n"
   ]
  },
  {
   "cell_type": "code",
   "execution_count": 78,
   "id": "526e321e",
   "metadata": {},
   "outputs": [
    {
     "name": "stdout",
     "output_type": "stream",
     "text": [
      "Hola mundo\n",
      "Hola mundo\n"
     ]
    }
   ],
   "source": [
    "print('Hola mundo')\n",
    "print(\"Hola mundo\")"
   ]
  },
  {
   "cell_type": "markdown",
   "id": "832fb1da",
   "metadata": {},
   "source": [
    "#### <span style=\"color:darkblue\">Asignar cadena a una variable</span>\n",
    "\n",
    "La asignación de una cadena a una variable se realiza con el nombre de la variable seguido de un signo igual y la cadena:"
   ]
  },
  {
   "cell_type": "code",
   "execution_count": 79,
   "id": "763c730a",
   "metadata": {},
   "outputs": [
    {
     "name": "stdout",
     "output_type": "stream",
     "text": [
      "Hello Hello\n"
     ]
    }
   ],
   "source": [
    "a = \"Hello\"\n",
    "b = 'Hello' \n",
    "print(a,b)"
   ]
  },
  {
   "cell_type": "markdown",
   "id": "5a95528e",
   "metadata": {},
   "source": [
    "#### <span style=\"color:darkblue\">Cadenas multilinea</span>\n",
    "\n",
    "Puede asignar una cadena de varias líneas a una variable usando tres comillas:"
   ]
  },
  {
   "cell_type": "code",
   "execution_count": 80,
   "id": "3bfbc133",
   "metadata": {},
   "outputs": [
    {
     "name": "stdout",
     "output_type": "stream",
     "text": [
      " Lorem ipsum dolor sit amet,\n",
      "consectetur adipiscing elit,\n",
      "sed do eiusmod tempor incididunt\n",
      "ut labore et dolore magna aliqua. \n"
     ]
    }
   ],
   "source": [
    "a = \"\"\" Lorem ipsum dolor sit amet,\n",
    "consectetur adipiscing elit,\n",
    "sed do eiusmod tempor incididunt\n",
    "ut labore et dolore magna aliqua. \"\"\"\n",
    "\n",
    "print(a)"
   ]
  },
  {
   "cell_type": "markdown",
   "id": "e708f603",
   "metadata": {},
   "source": [
    "#### <span style=\"color:darkblue\">Cortar cadenas</span>\n",
    "\n",
    "Puede devolver un rango de caracteres utilizando la sintaxis de división, especifique el índice inicial y el índice final, separados por dos puntos, para devolver una parte de la cadena.\n",
    "\n",
    "<span style=\"color:darkred\">Tomando en cuenta que la numeración de Python inician en **cero**.</span>"
   ]
  },
  {
   "cell_type": "code",
   "execution_count": 84,
   "id": "14f9edd3",
   "metadata": {},
   "outputs": [
    {
     "name": "stdout",
     "output_type": "stream",
     "text": [
      "23 20\n",
      "llo, world:Hola Mun\n",
      "e\n",
      "Hello, wor\n",
      "ada\n"
     ]
    }
   ],
   "source": [
    "a = 'Hello, world:Hola Mundo'\n",
    "b = 'No se me ocurre nada'\n",
    "\n",
    "print(len(a),len(b))\n",
    "\n",
    "print(a[2:21])\n",
    "print(b[4:5])\n",
    "\n",
    "print(a[0:10])\n",
    "print(b[17:20])"
   ]
  },
  {
   "cell_type": "markdown",
   "id": "a6c36b5d",
   "metadata": {},
   "source": [
    "#### <span style=\"color:darkblue\">Cortar desde el principio</span>\n",
    "\n",
    "Al omitir el índice de inicio, el rango comenzará en el primer carácter:"
   ]
  },
  {
   "cell_type": "code",
   "execution_count": 86,
   "id": "67432578",
   "metadata": {},
   "outputs": [
    {
     "name": "stdout",
     "output_type": "stream",
     "text": [
      "Hello, world:H\n",
      "No se me \n"
     ]
    }
   ],
   "source": [
    "print(a[:14])\n",
    "print(b[:9])"
   ]
  },
  {
   "cell_type": "markdown",
   "id": "7f83203a",
   "metadata": {},
   "source": [
    "#### <span style=\"color:darkblue\">Cortar hasta el final</span>\n",
    "\n",
    "Al omitir el índice final, el rango irá hasta el final:"
   ]
  },
  {
   "cell_type": "code",
   "execution_count": 87,
   "id": "571d8679",
   "metadata": {},
   "outputs": [
    {
     "name": "stdout",
     "output_type": "stream",
     "text": [
      "llo, world:Hola Mundo\n",
      " me ocurre nada\n"
     ]
    }
   ],
   "source": [
    "print(a[2:])\n",
    "print(b[5:])"
   ]
  },
  {
   "cell_type": "markdown",
   "id": "e174d446",
   "metadata": {},
   "source": [
    "#### <span style=\"color:darkblue\">Indexación negativa</span>\n",
    "\n",
    "Utilice índices negativos para iniciar el segmento desde el final de la cadena:"
   ]
  },
  {
   "cell_type": "code",
   "execution_count": 89,
   "id": "dbe4b5c8",
   "metadata": {},
   "outputs": [
    {
     "name": "stdout",
     "output_type": "stream",
     "text": [
      "Mun\n",
      "me ocurre nad\n"
     ]
    }
   ],
   "source": [
    "print(a[-5:-2])\n",
    "print(b[-14:-1])"
   ]
  },
  {
   "cell_type": "code",
   "execution_count": 93,
   "id": "e7fd4164",
   "metadata": {},
   "outputs": [
    {
     "name": "stdout",
     "output_type": "stream",
     "text": [
      "10\n",
      "9\n",
      "8\n",
      "5\n",
      "3\n"
     ]
    }
   ],
   "source": [
    "lista = [1 ,3,4,5,6,7,8,9,10]\n",
    "\n",
    "print(lista[-1])\n",
    "print(lista[-2])\n",
    "print(lista[-3])\n",
    "print(lista[-6])\n",
    "print(lista[-8])"
   ]
  },
  {
   "cell_type": "code",
   "execution_count": 97,
   "id": "02ddd543",
   "metadata": {},
   "outputs": [
    {
     "name": "stdout",
     "output_type": "stream",
     "text": [
      "No se me ocurre nada\n",
      "ad\n",
      "nad\n",
      "e nad\n",
      "re nad\n"
     ]
    }
   ],
   "source": [
    "print(b)\n",
    "print(b[-3:-1])\n",
    "print(b[-4:-1])\n",
    "print(b[-6:-1])\n",
    "print(b[-7:-1])"
   ]
  },
  {
   "cell_type": "code",
   "execution_count": 102,
   "id": "f855c22f",
   "metadata": {},
   "outputs": [
    {
     "name": "stdout",
     "output_type": "stream",
     "text": [
      "Hello, world\n",
      "Hello, world\n"
     ]
    }
   ],
   "source": [
    "print(a[0:12])\n",
    "\n",
    "subCadena = a[0:12]\n",
    "\n",
    "print(subCadena)"
   ]
  },
  {
   "cell_type": "markdown",
   "id": "065d6c15",
   "metadata": {},
   "source": [
    "### Ejercicios:\n",
    "<span style=\"color:darkgreen\">\n",
    "    \n",
    "1. Asigna la cadena \"Bienvenido a Python\" a una variable llamada mensaje y luego imprímela.\n",
    "\n",
    "2. Crea una cadena multilinea que represente un poema y asigna la cadena a una variable llamada poema. Luego, imprime el contenido de la variable.\n",
    "\n",
    "3. Dada la cadena \"Programación en Python\", asigna la subcadena \"Python\" a una variable llamada lenguaje utilizando el corte adecuado. Luego, imprime el contenido de la variable.\n",
    "\n",
    "4. Asigna la cadena \"abcdefghij\" a una variable llamada cadena. Luego, crea una nueva cadena que contenga solo los caracteres \"cdef\" utilizando el corte adecuado y asígnala a la variable subcadena. Finalmente, imprime el contenido de la variable subcadena.\n",
    "\n",
    "5. Dada la cadena \"Python es genial\", utiliza el corte adecuado para asignar la subcadena \"es genial\" a una variable llamada parte. Imprime el contenido de la variable.\n",
    "</span>\n",
    "\n",
    "    6. Asigna la cadena \"ABCDEFGHI\" a una variable llamada letras. Luego, crea una nueva cadena que contenga solo los últimos tres caracteres \"GHI\" utilizando la indexación negativa y asígnala a la variable ultimas_letras. Imprime el contenido de la variable.\n",
    "\n",
    "    7. Asigna la cadena \"Esto es un ejemplo de indexación negativa\" a una variable llamada texto. Utiliza la indexación negativa para asignar la subcadena \"negativa\" a una variable llamada subcadena. Imprime el contenido de la variable.\n",
    "\n",
    "    8. Asigna la cadena \"abcdefghij\" a una variable llamada cadena. Utiliza el corte adecuado y la indexación negativa para asignar la subcadena \"efgh\" a una variable llamada subcadena. Imprime el contenido de la variable."
   ]
  },
  {
   "cell_type": "code",
   "execution_count": 103,
   "id": "93700a84",
   "metadata": {},
   "outputs": [
    {
     "name": "stdout",
     "output_type": "stream",
     "text": [
      "Bienvenido a Python\n"
     ]
    }
   ],
   "source": [
    "\"\"\"\n",
    "1. Asigna la cadena \"Bienvenido a Python\" a una variable llamada \n",
    "mensaje y luego imprímela.\n",
    "\"\"\"\n",
    "mensaje = \"Bienvenido a Python\" \n",
    "print(mensaje)"
   ]
  },
  {
   "cell_type": "code",
   "execution_count": 105,
   "id": "c07a621d",
   "metadata": {},
   "outputs": [
    {
     "name": "stdout",
     "output_type": "stream",
     "text": [
      "Lo bello se encuentra estrechamente ligado al mundo del arte, donde es más fácil apreciar estéticamente lo bonito a través de colores, sonidos y palabras.\n",
      "En este sentido, la poesía destaca por su capacidad de transmitir sensaciones y emociones a través de un lenguaje que permite embellecer la experiencia del mundo y mostrarnos con distintos matices los sentimientos más sombríos.\n",
      "\n"
     ]
    }
   ],
   "source": [
    "\"\"\"\n",
    "2. Crea una cadena multilinea que represente un poema \n",
    "y asigna la cadena a una variable llamada poema. Luego, \n",
    "imprime el contenido de la variable.\n",
    "\"\"\"\n",
    "\n",
    "poema = \"\"\"Lo bello se encuentra estrechamente ligado al mundo del arte, donde es más fácil apreciar estéticamente lo bonito a través de colores, sonidos y palabras.\n",
    "En este sentido, la poesía destaca por su capacidad de transmitir sensaciones y emociones a través de un lenguaje que permite embellecer la experiencia del mundo y mostrarnos con distintos matices los sentimientos más sombríos.\n",
    "\"\"\"\n",
    "print(poema)"
   ]
  },
  {
   "cell_type": "code",
   "execution_count": 113,
   "id": "a7478f3f",
   "metadata": {},
   "outputs": [
    {
     "name": "stdout",
     "output_type": "stream",
     "text": [
      "Python\n",
      "Python\n",
      " Python\n"
     ]
    }
   ],
   "source": [
    "\"\"\"\"\n",
    "3. Dada la cadena \"Programación en Python\", asigna la subcadena \n",
    "\"Python\" a una variable llamada lenguaje utilizando el corte adecuado. \n",
    "Luego, imprime el contenido de la variable.\n",
    "\"\"\"\n",
    "cadena    = \"Programación en Python\"\n",
    "\n",
    "subcadena1 = cadena[-6:]\n",
    "\n",
    "print(subcadena1)\n",
    "\n",
    "subcadena2 = cadena[16:22]\n",
    "print(subcadena2)\n",
    "\n",
    "subcadena3 = cadena[15:22]\n",
    "print(subcadena3)"
   ]
  },
  {
   "cell_type": "code",
   "execution_count": 115,
   "id": "219fe4bb",
   "metadata": {},
   "outputs": [
    {
     "name": "stdout",
     "output_type": "stream",
     "text": [
      "cdef\n"
     ]
    }
   ],
   "source": [
    "\"\"\"\n",
    "4. Asigna la cadena \"abcdefghij\" a una variable llamada cadena.\n",
    "Luego, crea una nueva cadena que contenga solo los caracteres\n",
    "\"cdef\" utilizando el corte adecuado y asígnala a la variable subcadena. \n",
    "Finalmente, imprime el contenido de la variable subcadena.\n",
    "\"\"\"\n",
    "cadena='abcdefghij' \n",
    "\n",
    "print(cadena[2:6])"
   ]
  },
  {
   "cell_type": "code",
   "execution_count": 116,
   "id": "8f94baf4",
   "metadata": {},
   "outputs": [
    {
     "name": "stdout",
     "output_type": "stream",
     "text": [
      "es genial\n"
     ]
    }
   ],
   "source": [
    "\"\"\"\n",
    "5. Dada la cadena \"Python es genial\", utiliza el corte adecuado \n",
    "para asignar la subcadena \"es genial\" a una variable llamada parte. \n",
    "Imprime el contenido de la variable.\n",
    "\"\"\"\n",
    "Cadena = \"python es genial\"\n",
    "parte = Cadena[-9:] # o tambien [6:16] -9\n",
    "print(parte)"
   ]
  },
  {
   "cell_type": "markdown",
   "id": "d242ac26",
   "metadata": {},
   "source": [
    "###   <span style=\"color:darkred\">Funciones de Cadenas</span>\n",
    "\n",
    "Python tiene un conjunto de métodos integrados que puede usar en cadenas.\n",
    "\n",
    "#### <span style=\"color:darkblue\">Convertir todo a Mayúsculas</span>\n",
    "\n",
    "El método `upper()` devuelve la cadena en mayúsculas:"
   ]
  },
  {
   "cell_type": "code",
   "execution_count": 117,
   "id": "e6115fb7",
   "metadata": {},
   "outputs": [
    {
     "name": "stdout",
     "output_type": "stream",
     "text": [
      "HELLO, WORLD:HOLA MUNDO\n"
     ]
    }
   ],
   "source": [
    "print(a.upper())"
   ]
  },
  {
   "cell_type": "markdown",
   "id": "5a9020c0",
   "metadata": {},
   "source": [
    "#### <span style=\"color:darkblue\">Convertir todo a Minúsculas</span>\n",
    "\n",
    "El método `lower()` devuelve la cadena en minúsculas:"
   ]
  },
  {
   "cell_type": "code",
   "execution_count": 118,
   "id": "18645b91",
   "metadata": {},
   "outputs": [
    {
     "name": "stdout",
     "output_type": "stream",
     "text": [
      "hello, world:hola mundo\n"
     ]
    }
   ],
   "source": [
    "print(a.lower())"
   ]
  },
  {
   "cell_type": "markdown",
   "id": "80a1c5f3",
   "metadata": {},
   "source": [
    "#### <span style=\"color:darkblue\">Eliminar espacios en blanco</span>\n",
    "\n",
    "El espacio en blanco es el espacio antes y/o después del texto real, y muy a menudo desea eliminar este espacio.\n",
    "\n",
    "El método `strip()` elimina cualquier espacio en blanco desde el principio o el final:\n"
   ]
  },
  {
   "cell_type": "code",
   "execution_count": 7,
   "id": "e3e1ea87",
   "metadata": {},
   "outputs": [
    {
     "ename": "NameError",
     "evalue": "name 'b' is not defined",
     "output_type": "error",
     "traceback": [
      "\u001b[0;31m---------------------------------------------------------------------------\u001b[0m",
      "\u001b[0;31mNameError\u001b[0m                                 Traceback (most recent call last)",
      "Input \u001b[0;32mIn [7]\u001b[0m, in \u001b[0;36m<cell line: 3>\u001b[0;34m()\u001b[0m\n\u001b[1;32m      1\u001b[0m a \u001b[38;5;241m=\u001b[39m \u001b[38;5;124m\"\u001b[39m\u001b[38;5;124m   Hello, World!  \u001b[39m\u001b[38;5;124m\"\u001b[39m\n\u001b[0;32m----> 3\u001b[0m \u001b[38;5;28mprint\u001b[39m(\u001b[43mb\u001b[49m,a,b)\n\u001b[1;32m      4\u001b[0m \u001b[38;5;28mprint\u001b[39m(b,a\u001b[38;5;241m.\u001b[39mstrip(),b)\n\u001b[1;32m      5\u001b[0m \u001b[38;5;28mprint\u001b[39m(a)\n",
      "\u001b[0;31mNameError\u001b[0m: name 'b' is not defined"
     ]
    }
   ],
   "source": [
    "a = \"   Hello, World!  \"\n",
    "\n",
    "print(b,a,b)\n",
    "print(b,a.strip(),b)\n",
    "print(a)\n",
    "print(a.strip())"
   ]
  },
  {
   "cell_type": "code",
   "execution_count": 128,
   "id": "ba232cf1",
   "metadata": {},
   "outputs": [
    {
     "name": "stdout",
     "output_type": "stream",
     "text": [
      " 1234   \n",
      "1234\n"
     ]
    }
   ],
   "source": [
    "numStr = ' 1234   '\n",
    "\n",
    "print(numStr)\n",
    "\n",
    "print(numStr.strip())"
   ]
  },
  {
   "cell_type": "markdown",
   "id": "fefee5e6",
   "metadata": {},
   "source": [
    "#### <span style=\"color:darkblue\">Reemplazar cadena</span>\n",
    "\n",
    "El método `replace()` reemplaza una cadena con otra cadena:"
   ]
  },
  {
   "cell_type": "code",
   "execution_count": 131,
   "id": "a3be2895",
   "metadata": {},
   "outputs": [
    {
     "name": "stdout",
     "output_type": "stream",
     "text": [
      "Jello, World!\n",
      "Helou, World!\n",
      "Hello, Guorld!\n"
     ]
    }
   ],
   "source": [
    "a = \"Hello, World!\"\n",
    "print(a.replace (\"H\", \"J\"))\n",
    "print(a.replace (\"llo\", \"lou\"))\n",
    "print(a.replace (\"Worl\", \"Guorl\"))"
   ]
  },
  {
   "cell_type": "markdown",
   "id": "1d98f19a",
   "metadata": {},
   "source": [
    "#### <span style=\"color:darkblue\">Cadena dividida</span>\n",
    "\n",
    "El método `split()` devuelve una lista donde el texto entre el separador especificado se convierte en los elementos de la lista. \n",
    "\n",
    "El `split( )` método divide la cadena en subcadenas si encuentra instancias del separador:"
   ]
  },
  {
   "cell_type": "code",
   "execution_count": 13,
   "id": "3d4349b9",
   "metadata": {},
   "outputs": [
    {
     "name": "stdout",
     "output_type": "stream",
     "text": [
      "['abcdefghijkl', 'nopqrstuvwxyz']\n",
      "['abcdefghi', 'klmnopqrstuvwxyz']\n",
      "['abcdefghijklmnopqrst', 'vwxyz']\n"
     ]
    }
   ],
   "source": [
    "#print(a.split(\",\"))\n",
    "#print(a.split(\"o\"))\n",
    "\n",
    "abecedario = 'abcdefghijklmnopqrstuvwxyz'\n",
    "\n",
    "print(abecedario.split('m'))\n",
    "\n",
    "print(abecedario.split('j'))\n",
    "\n",
    "print(abecedario.split('u'))"
   ]
  },
  {
   "cell_type": "markdown",
   "id": "32f0c20e",
   "metadata": {},
   "source": [
    "#### <span style=\"color:darkblue\">Concatenación de cadenas</span>\n",
    "\n",
    "Para concatenar o combinar dos cadenas, puede usar el **operador +**.\n"
   ]
  },
  {
   "cell_type": "code",
   "execution_count": 134,
   "id": "2a9c1d6e",
   "metadata": {},
   "outputs": [
    {
     "name": "stdout",
     "output_type": "stream",
     "text": [
      "HelloWorld\n"
     ]
    }
   ],
   "source": [
    "a = 'Hello'\n",
    "b = 'World'\n",
    "print(a + b)"
   ]
  },
  {
   "cell_type": "markdown",
   "id": "51fc215e",
   "metadata": {},
   "source": [
    "Para agregar un espacio entre ellos, agregue un \" \":"
   ]
  },
  {
   "cell_type": "code",
   "execution_count": 136,
   "id": "540f42aa",
   "metadata": {},
   "outputs": [
    {
     "name": "stdout",
     "output_type": "stream",
     "text": [
      "Hello World\n"
     ]
    }
   ],
   "source": [
    "print(a +' '+ b)"
   ]
  },
  {
   "cell_type": "markdown",
   "id": "09a887b7",
   "metadata": {},
   "source": [
    "#### <span style=\"color:darkblue\">Formato de cadena</span>\n",
    "Como aprendimos en el capítulo Variables de Python, no podemos combinar cadenas y números como este:"
   ]
  },
  {
   "cell_type": "code",
   "execution_count": 138,
   "id": "c5085cab",
   "metadata": {},
   "outputs": [
    {
     "ename": "TypeError",
     "evalue": "can only concatenate str (not \"int\") to str",
     "output_type": "error",
     "traceback": [
      "\u001b[0;31m---------------------------------------------------------------------------\u001b[0m",
      "\u001b[0;31mTypeError\u001b[0m                                 Traceback (most recent call last)",
      "Input \u001b[0;32mIn [138]\u001b[0m, in \u001b[0;36m<cell line: 2>\u001b[0;34m()\u001b[0m\n\u001b[1;32m      1\u001b[0m edad \u001b[38;5;241m=\u001b[39m \u001b[38;5;241m34\u001b[39m\n\u001b[0;32m----> 2\u001b[0m cadena \u001b[38;5;241m=\u001b[39m \u001b[38;5;124;43m\"\u001b[39;49m\u001b[38;5;124;43mMi nombre es Texto, y tengo\u001b[39;49m\u001b[38;5;124;43m\"\u001b[39;49m\u001b[38;5;241;43m+\u001b[39;49m\u001b[43m \u001b[49m\u001b[43medad\u001b[49m\n\u001b[1;32m      4\u001b[0m \u001b[38;5;28mprint\u001b[39m(cadena)\n",
      "\u001b[0;31mTypeError\u001b[0m: can only concatenate str (not \"int\") to str"
     ]
    }
   ],
   "source": [
    "edad = 34\n",
    "cadena = \"Mi nombre es Texto, y tengo\"+ edad\n",
    "\n",
    "print(cadena)"
   ]
  },
  {
   "cell_type": "markdown",
   "id": "a43307da",
   "metadata": {},
   "source": [
    "No podemos concatenar un texto con un número debido a que Python no sabrá si lo que queremos es sumar o concatenar las variables por ello es necesario realizar un formato específico para ello.\n",
    "\n",
    "El método `format()` toma los argumentos pasados, les da formato y los coloca en la cadena donde están los marcadores de posición: {}\n"
   ]
  },
  {
   "cell_type": "code",
   "execution_count": 139,
   "id": "968bc2c1",
   "metadata": {},
   "outputs": [
    {
     "name": "stdout",
     "output_type": "stream",
     "text": [
      "Mi nombre es Texto, y tengo 34\n"
     ]
    }
   ],
   "source": [
    "edad = 34\n",
    "cadena = \"Mi nombre es Texto, y tengo {}\"\n",
    "\n",
    "print(cadena.format(edad))"
   ]
  },
  {
   "cell_type": "markdown",
   "id": "dc836b62",
   "metadata": {},
   "source": [
    "El método `format()` toma un número ilimitado de argumentos y se colocan en los marcadores de posición respectivos:"
   ]
  },
  {
   "cell_type": "code",
   "execution_count": 142,
   "id": "cb255f4d",
   "metadata": {},
   "outputs": [
    {
     "name": "stdout",
     "output_type": "stream",
     "text": [
      "Fui a La Despensa de don Isaias y compre 3 libras de frijoles a un precio de 1.4 dolares cada libra y gaste un Total de 4.199999999999999 dolares\n"
     ]
    }
   ],
   "source": [
    "superMercado   = 'La Despensa de don Isaias'\n",
    "cantidadGranos = 3\n",
    "precioLibra    = 1.40\n",
    "total          = precioLibra*cantidadGranos\n",
    "\n",
    "ordenSuper = 'Fui a {} y compre {} libras de frijoles a un precio de {} dolares cada libra y gaste un Total de {} dolares'\n",
    "\n",
    "print(ordenSuper.format(superMercado,cantidadGranos,precioLibra,total))"
   ]
  },
  {
   "cell_type": "markdown",
   "id": "2dc35d7d",
   "metadata": {},
   "source": [
    "Puede usar números de índice `{0}` para asegurarse de que los argumentos se colocan en los marcadores de posición correctos:"
   ]
  },
  {
   "cell_type": "code",
   "execution_count": 145,
   "id": "d699ca8b",
   "metadata": {},
   "outputs": [
    {
     "name": "stdout",
     "output_type": "stream",
     "text": [
      "Fui a 1.4 y compre La Despensa de don Isaias libras de frijoles a un precio de 3 dolares cada libra y gaste un Total de 4.199999999999999 dolares\n"
     ]
    }
   ],
   "source": [
    "superMercado   = 'La Despensa de don Isaias'\n",
    "cantidadGranos = 3\n",
    "precioLibra    = 1.40\n",
    "total          = precioLibra*cantidadGranos\n",
    "\n",
    "ordenSuper = 'Fui a {2} y compre {0} libras de frijoles a un precio de {1} dolares cada libra y gaste un Total de {3} dolares'\n",
    "\n",
    "print(ordenSuper.format(superMercado,cantidadGranos,precioLibra,total))\n",
    "#                              0              1           2       3"
   ]
  },
  {
   "cell_type": "code",
   "execution_count": 146,
   "id": "c64f3c89",
   "metadata": {},
   "outputs": [
    {
     "name": "stdout",
     "output_type": "stream",
     "text": [
      "Fui a La Despensa de don Isaias y compre 3 libras de frijoles a un precio de 1.4 dolares cada libra y gaste un Total de 4.199999999999999 dolares\n"
     ]
    }
   ],
   "source": [
    "ordenSuper = 'Fui a {0} y compre {1} libras de frijoles a un precio de {2} dolares cada libra y gaste un Total de {3} dolares'\n",
    "\n",
    "print(ordenSuper.format(superMercado,cantidadGranos,precioLibra,total))\n",
    "#                              0              1           2       3"
   ]
  },
  {
   "cell_type": "code",
   "execution_count": null,
   "id": "fdcefec1",
   "metadata": {},
   "outputs": [],
   "source": [
    "first_name = 'Case'\n",
    "last_name = 'Sprawl'\n",
    "language = 'Python'\n",
    "formated_string = 'I am {} {}. I teach {}'.format(first_name, last_name, language)\n",
    "print(formated_string)\n",
    "a = 4\n",
    "b = 3\n",
    "\n",
    "print('{} + {} = {}'.format(a, b, a + b))\n",
    "print('{} - {} = {}'.format(a, b, a - b))\n",
    "print('{} * {} = {}'.format(a, b, a * b))\n",
    "print('{} / {} = {:.2f}'.format(a, b, a / b)) # limits it to two digits after decimal\n",
    "print('{} % {} = {}'.format(a, b, a % b))\n",
    "print('{} // {} = {}'.format(a, b, a // b))\n",
    "print('{} ** {} = {}'.format(a, b, a ** b))\n",
    "\n",
    "\n",
    "# Strings  and numbers\n",
    "radius = 10\n",
    "pi = 3.14\n",
    "area = pi * radius ** 2\n",
    "formated_string = 'The area of a circle with a radius {} is {:.2f}.'.format(radius, area) # 2 digits after decimal\n",
    "print(formated_string)"
   ]
  },
  {
   "cell_type": "markdown",
   "id": "121486d2",
   "metadata": {},
   "source": [
    "### String Interpolation / f-Strings (Python 3.6+)\n",
    "\n",
    "Another new string formatting is string interpolation, f-strings. Strings start with f and we can inject the data in their corresponding positions."
   ]
  },
  {
   "cell_type": "code",
   "execution_count": 2,
   "id": "daf3de40",
   "metadata": {},
   "outputs": [
    {
     "name": "stdout",
     "output_type": "stream",
     "text": [
      "4 + 3 = 7\n",
      "4 - 3 = 1\n",
      "4 * 3 = 12\n",
      "4 / 3 = 1.33\n",
      "4 % 3 = 1\n",
      "4 // 3 = 1\n",
      "4 ** 3 = 64\n"
     ]
    }
   ],
   "source": [
    "a = 4\n",
    "b = 3\n",
    "print(f'{a} + {b} = {a +b}')\n",
    "print(f'{a} - {b} = {a - b}')\n",
    "print(f'{a} * {b} = {a * b}')\n",
    "print(f'{a} / {b} = {a / b:.2f}')\n",
    "print(f'{a} % {b} = {a % b}')\n",
    "print(f'{a} // {b} = {a // b}')\n",
    "print(f'{a} ** {b} = {a ** b}')"
   ]
  },
  {
   "cell_type": "markdown",
   "id": "4caf176d",
   "metadata": {},
   "source": [
    "count(): returns occurrences of substring in string, count(substring, start=.., end=..). The start is a starting indexing for counting and end is the last index to count."
   ]
  },
  {
   "cell_type": "code",
   "execution_count": 1,
   "id": "78b8cfdb",
   "metadata": {},
   "outputs": [
    {
     "name": "stdout",
     "output_type": "stream",
     "text": [
      "3\n",
      "1\n",
      "2\n"
     ]
    }
   ],
   "source": [
    "challenge = 'thirty days of python'\n",
    "print(challenge.count('y')) # 3\n",
    "print(challenge.count('y', 7, 14)) # 1, \n",
    "print(challenge.count('th')) # 2`"
   ]
  },
  {
   "cell_type": "code",
   "execution_count": null,
   "id": "d94081f2",
   "metadata": {},
   "outputs": [],
   "source": []
  },
  {
   "cell_type": "markdown",
   "id": "032d7cae",
   "metadata": {},
   "source": [
    "### <span style=\"color:darkred\">Caracteres de escape</span>\n",
    "\n",
    "Para insertar caracteres que no son válidos en una cadena, utilice un carácter de escape. Un carácter de escape es una barra invertida \\seguida del carácter que desea insertar. Un ejemplo de un carácter ilegal es una comilla doble dentro de una cadena que está entre comillas dobles:"
   ]
  },
  {
   "cell_type": "code",
   "execution_count": 148,
   "id": "21752939",
   "metadata": {},
   "outputs": [
    {
     "ename": "SyntaxError",
     "evalue": "invalid syntax (315027656.py, line 1)",
     "output_type": "error",
     "traceback": [
      "\u001b[0;36m  Input \u001b[0;32mIn [148]\u001b[0;36m\u001b[0m\n\u001b[0;31m    superMercado   = 'La Despensa de don 'Isaias''\u001b[0m\n\u001b[0m                                          ^\u001b[0m\n\u001b[0;31mSyntaxError\u001b[0m\u001b[0;31m:\u001b[0m invalid syntax\n"
     ]
    }
   ],
   "source": [
    "superMercado   = 'La Despensa de don 'Isaias''"
   ]
  },
  {
   "cell_type": "markdown",
   "id": "c652ea5a",
   "metadata": {},
   "source": [
    "Para solucionar este problema, utilice el carácter de escape “\\”, el carácter de escape le permite usar comillas dobles cuando normalmente no se le permitiría:"
   ]
  },
  {
   "cell_type": "code",
   "execution_count": 150,
   "id": "4adfd06f",
   "metadata": {},
   "outputs": [
    {
     "name": "stdout",
     "output_type": "stream",
     "text": [
      "La Despensa de don 'Isaias'\n"
     ]
    }
   ],
   "source": [
    "superMercado   = 'La Despensa de don \\'Isaias\\''\n",
    "print(superMercado)"
   ]
  },
  {
   "cell_type": "markdown",
   "id": "20d73e04",
   "metadata": {},
   "source": [
    "## Ejercicios:\n",
    "\n",
    "    1. Dada la cadena \"¡Hola, mundo!\", crea una variable que contenga solo la palabra \"Hola\" utilizando el corte adecuado.\n",
    "    \n",
    "    2.Crea una cadena multilinea que represente un poema y luego imprímela.\n",
    "    \n",
    "    3. Dada la cadena \"Programación Python\", obtén la subcadena \"Python\" utilizando el corte adecuado.\n",
    "    \n",
    "    4.Dada la cadena \"Bienvenidos al mundo de Python\", obtén la subcadena \"mundo de\" utilizando el corte adecuado.\n",
    "    \n",
    "    5. Dada la cadena \"ABCDE\", utiliza indexación negativa para obtener la subcadena \"BCD\".\n",
    "    \n",
    "     6.Elimina los espacios en blanco al principio y al final de la cadena \" Hola, mundo! \".\n",
    "     \n",
    "    7.Reemplaza todas las apariciones de \"bien\" por \"muy bien\" en la cadena \"Me siento bien hoy.\".\n",
    "    \n",
    "    8.Divide la cadena \"manzana,pera,durazno\", utilizando la coma como delimitador, y almacena los elementos en una lista.\n",
    "    \n",
    "    9.Divide la cadena \"Python es un lenguaje de programación\" en palabras individuales y almacénalas en una lista.\n",
    "    \n",
    "    10.Crea una cadena en mayúsculas y luego conviértela a minúsculas.\n",
    "    \n",
    "    11.Dada la cadena \"este es un ejemplo\", convierte la primera letra en mayúscula y el resto en minúsculas.\n",
    "    \n",
    "    12.Centra la cadena \"Python\" en una longitud total de 15 caracteres con el carácter \"-\".\n",
    "    \n",
    "    13.Divide la cadena \"Uno-Dos-Tres\" en tres partes utilizando el guión como delimitador y almacénalas en una lista.\n",
    "    \n",
    "    14. Reemplaza la palabra \"rápido\" por \"veloz\" en la cadena \"El zorro es muy rápido.\".\n",
    "    \n",
    "    15.Elimina todas las letras \"a\" de la cadena \"anaranjada\"."
   ]
  },
  {
   "cell_type": "markdown",
   "id": "a5ffaee7",
   "metadata": {},
   "source": [
    "### <span style=\"color:darkblue\">Aplicando Conocimientos</span>\n",
    "\n",
    "1.\tCrear un programa de Python que permita separar todas las palabras la siguiente frase de programación: \n",
    "\n",
    "“Programación es arte y ciencia, un lenguaje que crea la realidad, una forma de dar vida a la inteligencia, y al mundo digital una identidad.”\n"
   ]
  },
  {
   "cell_type": "code",
   "execution_count": null,
   "id": "ebbcf96c",
   "metadata": {},
   "outputs": [],
   "source": []
  },
  {
   "cell_type": "markdown",
   "id": "9d21cb2b",
   "metadata": {},
   "source": [
    "Este ejercicio además nos mostrará como podemos contar los elementos de una lista. \n",
    "\n",
    "2.\tUtilizando las letras del abecedario mostrar los siguientes valores:\n",
    "\n",
    "a.\tLas primeras 10 letras \n",
    "\n",
    "b.\tLas ultimas 10 letras \n",
    "\n",
    "c.\tEl abecedario al reves\n"
   ]
  },
  {
   "cell_type": "code",
   "execution_count": 5,
   "id": "a45aa080",
   "metadata": {},
   "outputs": [
    {
     "name": "stdout",
     "output_type": "stream",
     "text": [
      "26\n",
      "zyxwvutsrqponmlkjihgfedcba\n"
     ]
    }
   ],
   "source": [
    "abecedario = 'abcdefghijklmnopqrstuvwxyz'\n",
    "print(len(abecedario))\n",
    "print(abecedario[::-1])"
   ]
  },
  {
   "cell_type": "code",
   "execution_count": null,
   "id": "e2713c7a",
   "metadata": {},
   "outputs": [],
   "source": []
  }
 ],
 "metadata": {
  "kernelspec": {
   "display_name": "Python 3 (ipykernel)",
   "language": "python",
   "name": "python3"
  },
  "language_info": {
   "codemirror_mode": {
    "name": "ipython",
    "version": 3
   },
   "file_extension": ".py",
   "mimetype": "text/x-python",
   "name": "python",
   "nbconvert_exporter": "python",
   "pygments_lexer": "ipython3",
   "version": "3.9.12"
  }
 },
 "nbformat": 4,
 "nbformat_minor": 5
}
